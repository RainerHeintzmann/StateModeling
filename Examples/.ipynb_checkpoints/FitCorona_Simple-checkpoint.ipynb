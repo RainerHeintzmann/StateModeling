{
 "cells": [
  {
   "cell_type": "code",
   "execution_count": 1,
   "metadata": {
    "scrolled": true
   },
   "outputs": [
    {
     "name": "stdout",
     "output_type": "stream",
     "text": [
      "C:\\Users\\pi96doc\\Documents\\Programming\\PythonScripts\\StateModeling\n"
     ]
    }
   ],
   "source": [
    "cd .."
   ]
  },
  {
   "cell_type": "code",
   "execution_count": 2,
   "metadata": {},
   "outputs": [
    {
     "data": {
      "text/html": [
       "\n",
       "    <div class=\"bk-root\">\n",
       "        <a href=\"https://bokeh.org\" target=\"_blank\" class=\"bk-logo bk-logo-small bk-logo-notebook\"></a>\n",
       "        <span id=\"1001\">Loading BokehJS ...</span>\n",
       "    </div>"
      ]
     },
     "metadata": {},
     "output_type": "display_data"
    },
    {
     "data": {
      "application/javascript": [
       "\n",
       "(function(root) {\n",
       "  function now() {\n",
       "    return new Date();\n",
       "  }\n",
       "\n",
       "  var force = true;\n",
       "\n",
       "  if (typeof root._bokeh_onload_callbacks === \"undefined\" || force === true) {\n",
       "    root._bokeh_onload_callbacks = [];\n",
       "    root._bokeh_is_loading = undefined;\n",
       "  }\n",
       "\n",
       "  var JS_MIME_TYPE = 'application/javascript';\n",
       "  var HTML_MIME_TYPE = 'text/html';\n",
       "  var EXEC_MIME_TYPE = 'application/vnd.bokehjs_exec.v0+json';\n",
       "  var CLASS_NAME = 'output_bokeh rendered_html';\n",
       "\n",
       "  /**\n",
       "   * Render data to the DOM node\n",
       "   */\n",
       "  function render(props, node) {\n",
       "    var script = document.createElement(\"script\");\n",
       "    node.appendChild(script);\n",
       "  }\n",
       "\n",
       "  /**\n",
       "   * Handle when an output is cleared or removed\n",
       "   */\n",
       "  function handleClearOutput(event, handle) {\n",
       "    var cell = handle.cell;\n",
       "\n",
       "    var id = cell.output_area._bokeh_element_id;\n",
       "    var server_id = cell.output_area._bokeh_server_id;\n",
       "    // Clean up Bokeh references\n",
       "    if (id != null && id in Bokeh.index) {\n",
       "      Bokeh.index[id].model.document.clear();\n",
       "      delete Bokeh.index[id];\n",
       "    }\n",
       "\n",
       "    if (server_id !== undefined) {\n",
       "      // Clean up Bokeh references\n",
       "      var cmd = \"from bokeh.io.state import curstate; print(curstate().uuid_to_server['\" + server_id + \"'].get_sessions()[0].document.roots[0]._id)\";\n",
       "      cell.notebook.kernel.execute(cmd, {\n",
       "        iopub: {\n",
       "          output: function(msg) {\n",
       "            var id = msg.content.text.trim();\n",
       "            if (id in Bokeh.index) {\n",
       "              Bokeh.index[id].model.document.clear();\n",
       "              delete Bokeh.index[id];\n",
       "            }\n",
       "          }\n",
       "        }\n",
       "      });\n",
       "      // Destroy server and session\n",
       "      var cmd = \"import bokeh.io.notebook as ion; ion.destroy_server('\" + server_id + \"')\";\n",
       "      cell.notebook.kernel.execute(cmd);\n",
       "    }\n",
       "  }\n",
       "\n",
       "  /**\n",
       "   * Handle when a new output is added\n",
       "   */\n",
       "  function handleAddOutput(event, handle) {\n",
       "    var output_area = handle.output_area;\n",
       "    var output = handle.output;\n",
       "\n",
       "    // limit handleAddOutput to display_data with EXEC_MIME_TYPE content only\n",
       "    if ((output.output_type != \"display_data\") || (!output.data.hasOwnProperty(EXEC_MIME_TYPE))) {\n",
       "      return\n",
       "    }\n",
       "\n",
       "    var toinsert = output_area.element.find(\".\" + CLASS_NAME.split(' ')[0]);\n",
       "\n",
       "    if (output.metadata[EXEC_MIME_TYPE][\"id\"] !== undefined) {\n",
       "      toinsert[toinsert.length - 1].firstChild.textContent = output.data[JS_MIME_TYPE];\n",
       "      // store reference to embed id on output_area\n",
       "      output_area._bokeh_element_id = output.metadata[EXEC_MIME_TYPE][\"id\"];\n",
       "    }\n",
       "    if (output.metadata[EXEC_MIME_TYPE][\"server_id\"] !== undefined) {\n",
       "      var bk_div = document.createElement(\"div\");\n",
       "      bk_div.innerHTML = output.data[HTML_MIME_TYPE];\n",
       "      var script_attrs = bk_div.children[0].attributes;\n",
       "      for (var i = 0; i < script_attrs.length; i++) {\n",
       "        toinsert[toinsert.length - 1].firstChild.setAttribute(script_attrs[i].name, script_attrs[i].value);\n",
       "        toinsert[toinsert.length - 1].firstChild.textContent = bk_div.children[0].textContent\n",
       "      }\n",
       "      // store reference to server id on output_area\n",
       "      output_area._bokeh_server_id = output.metadata[EXEC_MIME_TYPE][\"server_id\"];\n",
       "    }\n",
       "  }\n",
       "\n",
       "  function register_renderer(events, OutputArea) {\n",
       "\n",
       "    function append_mime(data, metadata, element) {\n",
       "      // create a DOM node to render to\n",
       "      var toinsert = this.create_output_subarea(\n",
       "        metadata,\n",
       "        CLASS_NAME,\n",
       "        EXEC_MIME_TYPE\n",
       "      );\n",
       "      this.keyboard_manager.register_events(toinsert);\n",
       "      // Render to node\n",
       "      var props = {data: data, metadata: metadata[EXEC_MIME_TYPE]};\n",
       "      render(props, toinsert[toinsert.length - 1]);\n",
       "      element.append(toinsert);\n",
       "      return toinsert\n",
       "    }\n",
       "\n",
       "    /* Handle when an output is cleared or removed */\n",
       "    events.on('clear_output.CodeCell', handleClearOutput);\n",
       "    events.on('delete.Cell', handleClearOutput);\n",
       "\n",
       "    /* Handle when a new output is added */\n",
       "    events.on('output_added.OutputArea', handleAddOutput);\n",
       "\n",
       "    /**\n",
       "     * Register the mime type and append_mime function with output_area\n",
       "     */\n",
       "    OutputArea.prototype.register_mime_type(EXEC_MIME_TYPE, append_mime, {\n",
       "      /* Is output safe? */\n",
       "      safe: true,\n",
       "      /* Index of renderer in `output_area.display_order` */\n",
       "      index: 0\n",
       "    });\n",
       "  }\n",
       "\n",
       "  // register the mime type if in Jupyter Notebook environment and previously unregistered\n",
       "  if (root.Jupyter !== undefined) {\n",
       "    var events = require('base/js/events');\n",
       "    var OutputArea = require('notebook/js/outputarea').OutputArea;\n",
       "\n",
       "    if (OutputArea.prototype.mime_types().indexOf(EXEC_MIME_TYPE) == -1) {\n",
       "      register_renderer(events, OutputArea);\n",
       "    }\n",
       "  }\n",
       "\n",
       "  \n",
       "  if (typeof (root._bokeh_timeout) === \"undefined\" || force === true) {\n",
       "    root._bokeh_timeout = Date.now() + 5000;\n",
       "    root._bokeh_failed_load = false;\n",
       "  }\n",
       "\n",
       "  var NB_LOAD_WARNING = {'data': {'text/html':\n",
       "     \"<div style='background-color: #fdd'>\\n\"+\n",
       "     \"<p>\\n\"+\n",
       "     \"BokehJS does not appear to have successfully loaded. If loading BokehJS from CDN, this \\n\"+\n",
       "     \"may be due to a slow or bad network connection. Possible fixes:\\n\"+\n",
       "     \"</p>\\n\"+\n",
       "     \"<ul>\\n\"+\n",
       "     \"<li>re-rerun `output_notebook()` to attempt to load from CDN again, or</li>\\n\"+\n",
       "     \"<li>use INLINE resources instead, as so:</li>\\n\"+\n",
       "     \"</ul>\\n\"+\n",
       "     \"<code>\\n\"+\n",
       "     \"from bokeh.resources import INLINE\\n\"+\n",
       "     \"output_notebook(resources=INLINE)\\n\"+\n",
       "     \"</code>\\n\"+\n",
       "     \"</div>\"}};\n",
       "\n",
       "  function display_loaded() {\n",
       "    var el = document.getElementById(\"1001\");\n",
       "    if (el != null) {\n",
       "      el.textContent = \"BokehJS is loading...\";\n",
       "    }\n",
       "    if (root.Bokeh !== undefined) {\n",
       "      if (el != null) {\n",
       "        el.textContent = \"BokehJS \" + root.Bokeh.version + \" successfully loaded.\";\n",
       "      }\n",
       "    } else if (Date.now() < root._bokeh_timeout) {\n",
       "      setTimeout(display_loaded, 100)\n",
       "    }\n",
       "  }\n",
       "\n",
       "\n",
       "  function run_callbacks() {\n",
       "    try {\n",
       "      root._bokeh_onload_callbacks.forEach(function(callback) {\n",
       "        if (callback != null)\n",
       "          callback();\n",
       "      });\n",
       "    } finally {\n",
       "      delete root._bokeh_onload_callbacks\n",
       "    }\n",
       "    console.debug(\"Bokeh: all callbacks have finished\");\n",
       "  }\n",
       "\n",
       "  function load_libs(css_urls, js_urls, callback) {\n",
       "    if (css_urls == null) css_urls = [];\n",
       "    if (js_urls == null) js_urls = [];\n",
       "\n",
       "    root._bokeh_onload_callbacks.push(callback);\n",
       "    if (root._bokeh_is_loading > 0) {\n",
       "      console.debug(\"Bokeh: BokehJS is being loaded, scheduling callback at\", now());\n",
       "      return null;\n",
       "    }\n",
       "    if (js_urls == null || js_urls.length === 0) {\n",
       "      run_callbacks();\n",
       "      return null;\n",
       "    }\n",
       "    console.debug(\"Bokeh: BokehJS not loaded, scheduling load and callback at\", now());\n",
       "    root._bokeh_is_loading = css_urls.length + js_urls.length;\n",
       "\n",
       "    function on_load() {\n",
       "      root._bokeh_is_loading--;\n",
       "      if (root._bokeh_is_loading === 0) {\n",
       "        console.debug(\"Bokeh: all BokehJS libraries/stylesheets loaded\");\n",
       "        run_callbacks()\n",
       "      }\n",
       "    }\n",
       "\n",
       "    function on_error() {\n",
       "      console.error(\"failed to load \" + url);\n",
       "    }\n",
       "\n",
       "    for (var i = 0; i < css_urls.length; i++) {\n",
       "      var url = css_urls[i];\n",
       "      const element = document.createElement(\"link\");\n",
       "      element.onload = on_load;\n",
       "      element.onerror = on_error;\n",
       "      element.rel = \"stylesheet\";\n",
       "      element.type = \"text/css\";\n",
       "      element.href = url;\n",
       "      console.debug(\"Bokeh: injecting link tag for BokehJS stylesheet: \", url);\n",
       "      document.body.appendChild(element);\n",
       "    }\n",
       "\n",
       "    const hashes = {\"https://cdn.bokeh.org/bokeh/release/bokeh-2.0.2.min.js\": \"ufR9RFnRs6lniiaFvtJziE0YeidtAgBRH6ux2oUItHw5WTvE1zuk9uzhUU/FJXDp\", \"https://cdn.bokeh.org/bokeh/release/bokeh-widgets-2.0.2.min.js\": \"8QM/PGWBT+IssZuRcDcjzwIh1mkOmJSoNMmyYDZbCfXJg3Ap1lEvdVgFuSAwhb/J\", \"https://cdn.bokeh.org/bokeh/release/bokeh-tables-2.0.2.min.js\": \"Jm8cH3Rg0P6UeZhVY5cLy1WzKajUT9KImCY+76hEqrcJt59/d8GPvFHjCkYgnSIn\", \"https://cdn.bokeh.org/bokeh/release/bokeh-gl-2.0.2.min.js\": \"Ozhzj+SI7ywm74aOI/UajcWz+C0NjsPunEVyVIrxzYkB+jA+2tUw8x5xJCbVtK5I\"};\n",
       "\n",
       "    for (var i = 0; i < js_urls.length; i++) {\n",
       "      var url = js_urls[i];\n",
       "      var element = document.createElement('script');\n",
       "      element.onload = on_load;\n",
       "      element.onerror = on_error;\n",
       "      element.async = false;\n",
       "      element.src = url;\n",
       "      if (url in hashes) {\n",
       "        element.crossOrigin = \"anonymous\";\n",
       "        element.integrity = \"sha384-\" + hashes[url];\n",
       "      }\n",
       "      console.debug(\"Bokeh: injecting script tag for BokehJS library: \", url);\n",
       "      document.head.appendChild(element);\n",
       "    }\n",
       "  };\n",
       "\n",
       "  function inject_raw_css(css) {\n",
       "    const element = document.createElement(\"style\");\n",
       "    element.appendChild(document.createTextNode(css));\n",
       "    document.body.appendChild(element);\n",
       "  }\n",
       "\n",
       "  \n",
       "  var js_urls = [\"https://cdn.bokeh.org/bokeh/release/bokeh-2.0.2.min.js\", \"https://cdn.bokeh.org/bokeh/release/bokeh-widgets-2.0.2.min.js\", \"https://cdn.bokeh.org/bokeh/release/bokeh-tables-2.0.2.min.js\", \"https://cdn.bokeh.org/bokeh/release/bokeh-gl-2.0.2.min.js\"];\n",
       "  var css_urls = [];\n",
       "  \n",
       "\n",
       "  var inline_js = [\n",
       "    function(Bokeh) {\n",
       "      Bokeh.set_log_level(\"info\");\n",
       "    },\n",
       "    function(Bokeh) {\n",
       "    \n",
       "    \n",
       "    }\n",
       "  ];\n",
       "\n",
       "  function run_inline_js() {\n",
       "    \n",
       "    if (root.Bokeh !== undefined || force === true) {\n",
       "      \n",
       "    for (var i = 0; i < inline_js.length; i++) {\n",
       "      inline_js[i].call(root, root.Bokeh);\n",
       "    }\n",
       "    if (force === true) {\n",
       "        display_loaded();\n",
       "      }} else if (Date.now() < root._bokeh_timeout) {\n",
       "      setTimeout(run_inline_js, 100);\n",
       "    } else if (!root._bokeh_failed_load) {\n",
       "      console.log(\"Bokeh: BokehJS failed to load within specified timeout.\");\n",
       "      root._bokeh_failed_load = true;\n",
       "    } else if (force !== true) {\n",
       "      var cell = $(document.getElementById(\"1001\")).parents('.cell').data().cell;\n",
       "      cell.output_area.append_execute_result(NB_LOAD_WARNING)\n",
       "    }\n",
       "\n",
       "  }\n",
       "\n",
       "  if (root._bokeh_is_loading === 0) {\n",
       "    console.debug(\"Bokeh: BokehJS loaded, going straight to plotting\");\n",
       "    run_inline_js();\n",
       "  } else {\n",
       "    load_libs(css_urls, js_urls, function() {\n",
       "      console.debug(\"Bokeh: BokehJS plotting callback run at\", now());\n",
       "      run_inline_js();\n",
       "    });\n",
       "  }\n",
       "}(window));"
      ],
      "application/vnd.bokehjs_load.v0+json": "\n(function(root) {\n  function now() {\n    return new Date();\n  }\n\n  var force = true;\n\n  if (typeof root._bokeh_onload_callbacks === \"undefined\" || force === true) {\n    root._bokeh_onload_callbacks = [];\n    root._bokeh_is_loading = undefined;\n  }\n\n  \n\n  \n  if (typeof (root._bokeh_timeout) === \"undefined\" || force === true) {\n    root._bokeh_timeout = Date.now() + 5000;\n    root._bokeh_failed_load = false;\n  }\n\n  var NB_LOAD_WARNING = {'data': {'text/html':\n     \"<div style='background-color: #fdd'>\\n\"+\n     \"<p>\\n\"+\n     \"BokehJS does not appear to have successfully loaded. If loading BokehJS from CDN, this \\n\"+\n     \"may be due to a slow or bad network connection. Possible fixes:\\n\"+\n     \"</p>\\n\"+\n     \"<ul>\\n\"+\n     \"<li>re-rerun `output_notebook()` to attempt to load from CDN again, or</li>\\n\"+\n     \"<li>use INLINE resources instead, as so:</li>\\n\"+\n     \"</ul>\\n\"+\n     \"<code>\\n\"+\n     \"from bokeh.resources import INLINE\\n\"+\n     \"output_notebook(resources=INLINE)\\n\"+\n     \"</code>\\n\"+\n     \"</div>\"}};\n\n  function display_loaded() {\n    var el = document.getElementById(\"1001\");\n    if (el != null) {\n      el.textContent = \"BokehJS is loading...\";\n    }\n    if (root.Bokeh !== undefined) {\n      if (el != null) {\n        el.textContent = \"BokehJS \" + root.Bokeh.version + \" successfully loaded.\";\n      }\n    } else if (Date.now() < root._bokeh_timeout) {\n      setTimeout(display_loaded, 100)\n    }\n  }\n\n\n  function run_callbacks() {\n    try {\n      root._bokeh_onload_callbacks.forEach(function(callback) {\n        if (callback != null)\n          callback();\n      });\n    } finally {\n      delete root._bokeh_onload_callbacks\n    }\n    console.debug(\"Bokeh: all callbacks have finished\");\n  }\n\n  function load_libs(css_urls, js_urls, callback) {\n    if (css_urls == null) css_urls = [];\n    if (js_urls == null) js_urls = [];\n\n    root._bokeh_onload_callbacks.push(callback);\n    if (root._bokeh_is_loading > 0) {\n      console.debug(\"Bokeh: BokehJS is being loaded, scheduling callback at\", now());\n      return null;\n    }\n    if (js_urls == null || js_urls.length === 0) {\n      run_callbacks();\n      return null;\n    }\n    console.debug(\"Bokeh: BokehJS not loaded, scheduling load and callback at\", now());\n    root._bokeh_is_loading = css_urls.length + js_urls.length;\n\n    function on_load() {\n      root._bokeh_is_loading--;\n      if (root._bokeh_is_loading === 0) {\n        console.debug(\"Bokeh: all BokehJS libraries/stylesheets loaded\");\n        run_callbacks()\n      }\n    }\n\n    function on_error() {\n      console.error(\"failed to load \" + url);\n    }\n\n    for (var i = 0; i < css_urls.length; i++) {\n      var url = css_urls[i];\n      const element = document.createElement(\"link\");\n      element.onload = on_load;\n      element.onerror = on_error;\n      element.rel = \"stylesheet\";\n      element.type = \"text/css\";\n      element.href = url;\n      console.debug(\"Bokeh: injecting link tag for BokehJS stylesheet: \", url);\n      document.body.appendChild(element);\n    }\n\n    const hashes = {\"https://cdn.bokeh.org/bokeh/release/bokeh-2.0.2.min.js\": \"ufR9RFnRs6lniiaFvtJziE0YeidtAgBRH6ux2oUItHw5WTvE1zuk9uzhUU/FJXDp\", \"https://cdn.bokeh.org/bokeh/release/bokeh-widgets-2.0.2.min.js\": \"8QM/PGWBT+IssZuRcDcjzwIh1mkOmJSoNMmyYDZbCfXJg3Ap1lEvdVgFuSAwhb/J\", \"https://cdn.bokeh.org/bokeh/release/bokeh-tables-2.0.2.min.js\": \"Jm8cH3Rg0P6UeZhVY5cLy1WzKajUT9KImCY+76hEqrcJt59/d8GPvFHjCkYgnSIn\", \"https://cdn.bokeh.org/bokeh/release/bokeh-gl-2.0.2.min.js\": \"Ozhzj+SI7ywm74aOI/UajcWz+C0NjsPunEVyVIrxzYkB+jA+2tUw8x5xJCbVtK5I\"};\n\n    for (var i = 0; i < js_urls.length; i++) {\n      var url = js_urls[i];\n      var element = document.createElement('script');\n      element.onload = on_load;\n      element.onerror = on_error;\n      element.async = false;\n      element.src = url;\n      if (url in hashes) {\n        element.crossOrigin = \"anonymous\";\n        element.integrity = \"sha384-\" + hashes[url];\n      }\n      console.debug(\"Bokeh: injecting script tag for BokehJS library: \", url);\n      document.head.appendChild(element);\n    }\n  };\n\n  function inject_raw_css(css) {\n    const element = document.createElement(\"style\");\n    element.appendChild(document.createTextNode(css));\n    document.body.appendChild(element);\n  }\n\n  \n  var js_urls = [\"https://cdn.bokeh.org/bokeh/release/bokeh-2.0.2.min.js\", \"https://cdn.bokeh.org/bokeh/release/bokeh-widgets-2.0.2.min.js\", \"https://cdn.bokeh.org/bokeh/release/bokeh-tables-2.0.2.min.js\", \"https://cdn.bokeh.org/bokeh/release/bokeh-gl-2.0.2.min.js\"];\n  var css_urls = [];\n  \n\n  var inline_js = [\n    function(Bokeh) {\n      Bokeh.set_log_level(\"info\");\n    },\n    function(Bokeh) {\n    \n    \n    }\n  ];\n\n  function run_inline_js() {\n    \n    if (root.Bokeh !== undefined || force === true) {\n      \n    for (var i = 0; i < inline_js.length; i++) {\n      inline_js[i].call(root, root.Bokeh);\n    }\n    if (force === true) {\n        display_loaded();\n      }} else if (Date.now() < root._bokeh_timeout) {\n      setTimeout(run_inline_js, 100);\n    } else if (!root._bokeh_failed_load) {\n      console.log(\"Bokeh: BokehJS failed to load within specified timeout.\");\n      root._bokeh_failed_load = true;\n    } else if (force !== true) {\n      var cell = $(document.getElementById(\"1001\")).parents('.cell').data().cell;\n      cell.output_area.append_execute_result(NB_LOAD_WARNING)\n    }\n\n  }\n\n  if (root._bokeh_is_loading === 0) {\n    console.debug(\"Bokeh: BokehJS loaded, going straight to plotting\");\n    run_inline_js();\n  } else {\n    load_libs(css_urls, js_urls, function() {\n      console.debug(\"Bokeh: BokehJS plotting callback run at\", now());\n      run_inline_js();\n    });\n  }\n}(window));"
     },
     "metadata": {},
     "output_type": "display_data"
    },
    {
     "name": "stdout",
     "output_type": "stream",
     "text": [
      "(182, 412, 7, 3)\n",
      "(182, 1, 1, 1)\n"
     ]
    }
   ],
   "source": [
    "# %matplotlib notebook\n",
    "# %matplotlib inline\n",
    "#import mpld3\n",
    "#mpld3.enable_notebook()\n",
    "\n",
    "import StateModeling as stm\n",
    "import numpy as np\n",
    "import matplotlib.pyplot as plt\n",
    "import tensorflow as tf\n",
    "from Corona.LoadData import loadData, preprocessData\n",
    "from Corona.CoronaModel import CoronaDelayModel, plotTotalCases\n",
    "from bokeh.io import push_notebook, show, output_notebook\n",
    "import os\n",
    "\n",
    "import ipywidgets as widgets\n",
    "from ipywidgets import interact, interact_manual\n",
    "# import cufflinks as cf\n",
    "\n",
    "output_notebook()\n",
    "\n",
    "if False: # import the RKI German data\n",
    "    if True:\n",
    "        ExampleRegions = ['SK Gera', 'LK Nordhausen', 'SK Erfurt', 'SK Suhl', 'LK Weimarer Land', 'SK Weimar','LK Greiz', \n",
    "                      'LK Schmalkalden-Meiningen', 'LK Eichsfeld', 'LK Sömmerda', 'LK Hildburghausen', \n",
    "                      'LK Saale-Orla-Kreis','LK Kyffhäuserkreis', 'LK Saalfeld-Rudolstadt', 'LK Ilm-Kreis',\n",
    "                      'LK Unstrut-Hainich-Kreis', 'LK Gotha', 'LK Sonneberg', 'SK Eisenach', 'LK Altenburger Land', \n",
    "                      'LK Wartburgkreis']\n",
    "    else:\n",
    "        ExampleRegions = None\n",
    "    # ExampleRegions = ['SK Jena', 'LK Greiz', 'LK Sonneberg', 'LK Göttingen'] # ['SK Jena','SK Gera'] # \n",
    "    # ExampleRegions = ['SK Jena','SK Gera','LK Gütersloh'] # \n",
    "    DeathData = r'C:\\Users\\pi96doc\\Documents\\Programming\\PythonScripts\\FromWeb\\CoronaData\\CSV-Dateien-mit-Covid-19-Infektionen-\\Deaths_RKI_Format_new.csv'\n",
    "    AllMeasured = loadData(useThuringia = False, pullData=False, correctDeaths=True, DeathData=DeathData)\n",
    "    print(AllMeasured['Cases'].shape)\n",
    "    # AllMeasured = preprocessData(AllMeasured, ReduceDistricts=[\"SK Jena\", \"LK Sonneberg\"], SumDistricts=False, SumAges=True, SumGender=True)\n",
    "    AllMeasured = preprocessData(AllMeasured, ReduceDistricts=ExampleRegions, SumDistricts=True, SumAges=True, SumGender=True)\n",
    "    deathPath = r\"C:\\Users\\pi96doc\\Documents\\Programming\\PythonScripts\\FromWeb\\COVID-19-DE\\time_series\\time-series_19-covid-Deaths.csv\"\n",
    "    # deaths = \n",
    "else: # import the Thuringian Data (only if the line lists are present on your system)\n",
    "    # ExampleRegions = ['SK Jena', 'LK Greiz', 'LK Sonneberg'] # ['SK Jena','SK Gera'] # \n",
    "    # ExampleRegions = ['SK Jena'] # ['SK Jena','SK Gera'] # \n",
    "    AllMeasured = loadData(r\"COVID-19 Linelist 2020_08_26.xlsx\", useThuringia = True, pullData=False) # lastDate='09.05.2020'\n",
    "    # AllMeasured = loadData(r\"COVID-19 Linelist 2020_07_15.xlsx\", useThuringia = True, pullData=False) # lastDate='09.05.2020'\n",
    "    print(AllMeasured['Cases'].shape)\n",
    "    if True:\n",
    "        AllMeasured = preprocessData(AllMeasured, ReduceDistricts=None, SumDistricts=True, SumAges=True, SumGender=True)\n",
    "    else:\n",
    "        AllMeasured = preprocessData(AllMeasured, ReduceDistricts=ExampleRegions, SumDistricts=False, SumAges=True, SumGender=True)\n",
    "AllMeasured['Cases'] = np.squeeze(AllMeasured['Cases'])\n",
    "AllMeasured['Dead'] = np.squeeze(AllMeasured['Dead'])\n",
    "if (AllMeasured['Cases'].ndim == 1):\n",
    "    AllMeasured['Cases']=AllMeasured['Cases'][:,np.newaxis,np.newaxis,np.newaxis]\n",
    "    AllMeasured['Dead']=AllMeasured['Dead'][:,np.newaxis,np.newaxis,np.newaxis]\n",
    "else:\n",
    "    AllMeasured['Cases']=AllMeasured['Cases'][:,np.newaxis,np.newaxis,:]\n",
    "    AllMeasured['Dead']=AllMeasured['Dead'][:,np.newaxis,np.newaxis,:]\n",
    "\n",
    "if 'Hospitalized'  in AllMeasured.keys():\n",
    "    AllMeasured['Hospitalized'] = np.squeeze(AllMeasured['Hospitalized'])\n",
    "    if (AllMeasured['Hospitalized'].ndim == 1):\n",
    "        AllMeasured['Hospitalized']=AllMeasured['Hospitalized'][:,np.newaxis,np.newaxis,np.newaxis]\n",
    "    else:\n",
    "        AllMeasured['Hospitalized']=AllMeasured['Hospitalized'][:,np.newaxis,np.newaxis,:]\n",
    "    \n",
    "AllMeasured['Population'] = np.squeeze(AllMeasured['Population'])\n",
    "print(AllMeasured['Cases'].shape)\n",
    "\n",
    "lossWeights = {'cases':0.1,'hospitalization':0.1,'deaths': 0.1}\n",
    "\n",
    "M = CoronaDelayModel(AllMeasured, Tmax = AllMeasured['Cases'].shape[0], lossWeight=lossWeights)\n"
   ]
  },
  {
   "cell_type": "code",
   "execution_count": 9,
   "metadata": {
    "scrolled": false
   },
   "outputs": [
    {
     "data": {
      "application/vnd.jupyter.widget-view+json": {
       "model_id": "9d2a73b4964a44ae845e49d69af6d33f",
       "version_major": 2,
       "version_minor": 0
      },
      "text/plain": [
       "HBox(children=(Box(children=(Dropdown(description='time', options=(('0', 0), ('1', 1), ('2', 2), ('3', 3), ('4…"
      ]
     },
     "metadata": {},
     "output_type": "display_data"
    },
    {
     "data": {
      "application/vnd.jupyter.widget-view+json": {
       "model_id": "8b8f87e7f618469ea6d9cf495ed1ae58",
       "version_major": 2,
       "version_minor": 0
      },
      "text/plain": [
       "HBox(children=(HBox(children=(Checkbox(value=True, description='death_rate', indent=False, layout=Layout(displ…"
      ]
     },
     "metadata": {},
     "output_type": "display_data"
    },
    {
     "data": {
      "application/vnd.jupyter.widget-view+json": {
       "model_id": "55f894e782bd456db38cf54cef81dcc7",
       "version_major": 2,
       "version_minor": 0
      },
      "text/plain": [
       "HBox(children=(HBox(children=(Checkbox(value=True, description='detect_t0', indent=False, layout=Layout(displa…"
      ]
     },
     "metadata": {},
     "output_type": "display_data"
    },
    {
     "data": {
      "application/vnd.jupyter.widget-view+json": {
       "model_id": "9b3a4a6c28a244a89c68541c477cf2ba",
       "version_major": 2,
       "version_minor": 0
      },
      "text/plain": [
       "HBox(children=(HBox(children=(Checkbox(value=True, description='infect_first', indent=False, layout=Layout(dis…"
      ]
     },
     "metadata": {},
     "output_type": "display_data"
    },
    {
     "data": {
      "application/vnd.jupyter.widget-view+json": {
       "model_id": "ec07d4350127407ea51d73fb80149a4e",
       "version_major": 2,
       "version_minor": 0
      },
      "text/plain": [
       "HBox(children=(Button(description='Plot', style=ButtonStyle()), Checkbox(value=False, description='cumul.', in…"
      ]
     },
     "metadata": {},
     "output_type": "display_data"
    },
    {
     "data": {
      "application/vnd.jupyter.widget-view+json": {
       "model_id": "67706ca327a94433848511a404b00560",
       "version_major": 2,
       "version_minor": 0
      },
      "text/plain": [
       "HBox(children=(Box(children=(Dropdown(options=(('L-BFGS', 0), ('SGD', 1), ('nesterov', 2), ('adam', 3), ('adad…"
      ]
     },
     "metadata": {},
     "output_type": "display_data"
    },
    {
     "name": "stdout",
     "output_type": "stream",
     "text": [
      "WARNING: hospitalization was defined as a weight, but no dataset with this name exists! Ignoring entry.\n",
      "\n",
      "Loss is: 1.5422343\n"
     ]
    },
    {
     "data": {
      "text/html": [
       "\n",
       "\n",
       "\n",
       "\n",
       "\n",
       "\n",
       "  <div class=\"bk-root\" id=\"78f56ba5-2697-438c-b0d2-0cb3161a007d\" data-root-id=\"12092\"></div>\n"
      ]
     },
     "metadata": {},
     "output_type": "display_data"
    },
    {
     "data": {
      "application/javascript": [
       "(function(root) {\n",
       "  function embed_document(root) {\n",
       "    \n",
       "  var docs_json = {\"045ab014-50ec-44b1-b669-208e8d7b94b1\":{\"roots\":{\"references\":[{\"attributes\":{\"background_fill_color\":\"#efefef\",\"below\":[{\"id\":\"12103\"}],\"center\":[{\"id\":\"12106\"},{\"id\":\"12110\"},{\"id\":\"12158\"}],\"left\":[{\"id\":\"12107\"}],\"name\":\"_figure_cases\",\"plot_height\":400,\"plot_width\":900,\"renderers\":[{\"id\":\"12130\"},{\"id\":\"12135\"},{\"id\":\"12164\"}],\"title\":{\"id\":\"12093\"},\"toolbar\":{\"id\":\"12119\"},\"x_range\":{\"id\":\"12095\"},\"x_scale\":{\"id\":\"12099\"},\"y_range\":{\"id\":\"12097\"},\"y_scale\":{\"id\":\"12101\"}},\"id\":\"12092\",\"subtype\":\"Figure\",\"type\":\"Plot\"},{\"attributes\":{},\"id\":\"12101\",\"type\":\"LinearScale\"},{\"attributes\":{\"days\":[1,4,7,10,13,16,19,22,25,28]},\"id\":\"12146\",\"type\":\"DaysTicker\"},{\"attributes\":{},\"id\":\"12535\",\"type\":\"UnionRenderers\"},{\"attributes\":{\"active_drag\":\"auto\",\"active_inspect\":\"auto\",\"active_multi\":null,\"active_scroll\":\"auto\",\"active_tap\":\"auto\",\"tools\":[{\"id\":\"12111\"},{\"id\":\"12112\"},{\"id\":\"12113\"},{\"id\":\"12114\"},{\"id\":\"12115\"},{\"id\":\"12116\"}]},\"id\":\"12119\",\"type\":\"Toolbar\"},{\"attributes\":{\"axis_label\":\"time\",\"formatter\":{\"id\":\"12140\"},\"major_label_orientation\":0.7853981633974483,\"ticker\":{\"id\":\"12104\"}},\"id\":\"12103\",\"type\":\"DatetimeAxis\"},{\"attributes\":{\"days\":[1,8,15,22]},\"id\":\"12147\",\"type\":\"DaysTicker\"},{\"attributes\":{},\"id\":\"12536\",\"type\":\"Selection\"},{\"attributes\":{\"num_minor_ticks\":5,\"tickers\":[{\"id\":\"12142\"},{\"id\":\"12143\"},{\"id\":\"12144\"},{\"id\":\"12145\"},{\"id\":\"12146\"},{\"id\":\"12147\"},{\"id\":\"12148\"},{\"id\":\"12149\"},{\"id\":\"12150\"},{\"id\":\"12151\"},{\"id\":\"12152\"},{\"id\":\"12153\"}]},\"id\":\"12104\",\"type\":\"DatetimeTicker\"},{\"attributes\":{\"days\":[1,15]},\"id\":\"12148\",\"type\":\"DaysTicker\"},{\"attributes\":{\"axis\":{\"id\":\"12103\"},\"ticker\":null},\"id\":\"12106\",\"type\":\"Grid\"},{\"attributes\":{\"months\":[0,1,2,3,4,5,6,7,8,9,10,11]},\"id\":\"12149\",\"type\":\"MonthsTicker\"},{\"attributes\":{\"fill_alpha\":{\"value\":0.1},\"fill_color\":{\"value\":\"#1b9e77\"},\"line_alpha\":{\"value\":0.1},\"line_color\":{\"value\":\"#1b9e77\"},\"line_width\":{\"value\":1.5},\"x\":{\"field\":\"x\"},\"y\":{\"field\":\"y\"}},\"id\":\"12129\",\"type\":\"Circle\"},{\"attributes\":{\"fill_alpha\":{\"value\":0.9},\"fill_color\":{\"value\":\"#1b9e77\"},\"line_alpha\":{\"value\":0.9},\"line_color\":{\"value\":\"#1b9e77\"},\"line_width\":{\"value\":1.5},\"x\":{\"field\":\"x\"},\"y\":{\"field\":\"y\"}},\"id\":\"12128\",\"type\":\"Circle\"},{\"attributes\":{\"axis_label\":\"Population\",\"formatter\":{\"id\":\"12138\"},\"ticker\":{\"id\":\"12108\"}},\"id\":\"12107\",\"type\":\"LinearAxis\"},{\"attributes\":{\"months\":[0,2,4,6,8,10]},\"id\":\"12150\",\"type\":\"MonthsTicker\"},{\"attributes\":{\"source\":{\"id\":\"12160\"}},\"id\":\"12165\",\"type\":\"CDSView\"},{\"attributes\":{},\"id\":\"12108\",\"type\":\"BasicTicker\"},{\"attributes\":{\"months\":[0,4,8]},\"id\":\"12151\",\"type\":\"MonthsTicker\"},{\"attributes\":{\"source\":{\"id\":\"12126\"}},\"id\":\"12131\",\"type\":\"CDSView\"},{\"attributes\":{\"axis\":{\"id\":\"12107\"},\"dimension\":1,\"ticker\":null},\"id\":\"12110\",\"type\":\"Grid\"},{\"attributes\":{\"months\":[0,6]},\"id\":\"12152\",\"type\":\"MonthsTicker\"},{\"attributes\":{\"data_source\":{\"id\":\"12126\"},\"glyph\":{\"id\":\"12128\"},\"hover_glyph\":null,\"muted_glyph\":null,\"name\":\"_measured_cases_Germany\",\"nonselection_glyph\":{\"id\":\"12129\"},\"selection_glyph\":null,\"view\":{\"id\":\"12131\"}},\"id\":\"12130\",\"type\":\"GlyphRenderer\"},{\"attributes\":{},\"id\":\"12153\",\"type\":\"YearsTicker\"},{\"attributes\":{\"data\":{\"x\":{\"__ndarray__\":\"AAAA/2f6dkIAAMBkuvp2QgAAgMoM+3ZCAABAMF/7dkIAAACWsft2QgAAwPsD/HZCAACAYVb8dkIAAEDHqPx2QgAAAC37/HZCAADAkk39dkIAAID4n/12QgAAQF7y/XZCAAAAxET+dkIAAMApl/52QgAAgI/p/nZCAABA9Tv/dkIAAABbjv92QgAAwMDg/3ZCAACAJjMAd0IAAECMhQB3QgAAAPLXAHdCAADAVyoBd0IAAIC9fAF3QgAAQCPPAXdCAAAAiSECd0IAAMDucwJ3QgAAgFTGAndCAABAuhgDd0IAAAAgawN3QgAAwIW9A3dCAACA6w8Ed0IAAEBRYgR3QgAAALe0BHdCAADAHAcFd0IAAICCWQV3QgAAQOirBXdCAAAATv4Fd0IAAMCzUAZ3QgAAgBmjBndCAABAf/UGd0IAAADlRwd3QgAAwEqaB3dCAACAsOwHd0IAAEAWPwh3QgAAAHyRCHdCAADA4eMId0IAAIBHNgl3QgAAQK2ICXdCAAAAE9sJd0IAAMB4LQp3QgAAgN5/CndCAABARNIKd0IAAACqJAt3QgAAwA93C3dCAACAdckLd0IAAEDbGwx3QgAAAEFuDHdCAADApsAMd0IAAIAMEw13QgAAQHJlDXdCAAAA2LcNd0IAAMA9Cg53QgAAgKNcDndCAABACa8Od0IAAABvAQ93QgAAwNRTD3dCAACAOqYPd0IAAECg+A93QgAAAAZLEHdCAADAa50Qd0IAAIDR7xB3QgAAQDdCEXdCAAAAnZQRd0IAAMAC5xF3QgAAgGg5EndCAABAzosSd0IAAAA03hJ3QgAAwJkwE3dCAACA/4ITd0IAAEBl1RN3QgAAAMsnFHdCAADAMHoUd0IAAICWzBR3QgAAQPweFXdCAAAAYnEVd0IAAMDHwxV3QgAAgC0WFndCAABAk2gWd0IAAAD5uhZ3QgAAwF4NF3dCAACAxF8Xd0IAAEAqshd3QgAAAJAEGHdCAADA9VYYd0IAAIBbqRh3QgAAQMH7GHdCAAAAJ04Zd0IAAMCMoBl3QgAAgPLyGXdCAABAWEUad0IAAAC+lxp3QgAAwCPqGndCAACAiTwbd0IAAEDvjht3QgAAAFXhG3dCAADAujMcd0IAAIAghhx3QgAAQIbYHHdCAAAA7Codd0IAAMBRfR13QgAAgLfPHXdCAABAHSIed0IAAACDdB53QgAAwOjGHndCAACAThkfd0IAAEC0ax93QgAAABq+H3dCAADAfxAgd0IAAIDlYiB3QgAAQEu1IHdCAAAAsQchd0IAAMAWWiF3QgAAgHysIXdCAABA4v4hd0IAAABIUSJ3QgAAwK2jIndCAACAE/Yid0IAAEB5SCN3QgAAAN+aI3dCAADARO0jd0IAAICqPyR3QgAAQBCSJHdCAAAAduQkd0IAAMDbNiV3QgAAgEGJJXdCAABAp9sld0IAAAANLiZ3QgAAwHKAJndCAACA2NImd0IAAEA+JSd3QgAAAKR3J3dCAADACcond0IAAIBvHCh3QgAAQNVuKHdCAAAAO8Eod0IAAMCgEyl3QgAAgAZmKXdCAABAbLgpd0IAAADSCip3QgAAwDddKndCAACAna8qd0IAAEADAit3QgAAAGlUK3dCAADAzqYrd0IAAIA0+St3QgAAQJpLLHdCAAAAAJ4sd0IAAMBl8Cx3QgAAgMtCLXdCAABAMZUtd0IAAACX5y13QgAAwPw5LndCAACAYowud0IAAEDI3i53QgAAAC4xL3dCAADAk4Mvd0IAAID51S93QgAAQF8oMHdCAAAAxXowd0IAAMAqzTB3QgAAgJAfMXdCAABA9nExd0IAAABcxDF3QgAAwMEWMndCAACAJ2kyd0IAAECNuzJ3QgAAAPMNM3dCAADAWGAzd0IAAIC+sjN3QgAAQCQFNHdCAAAAilc0d0IAAMDvqTR3Qg==\",\"dtype\":\"float64\",\"shape\":[182]},\"y\":{\"__ndarray__\":\"AAAAAAAAAAAAAAAAAAAAAAAAAAAAAAAAAAAAAAAAAAAAAAAAAAAAAAAAAAAAAAAAAAAAAAAAAAAAAAAAAAAAAAAAAAAAAAAAAAAAAAAAADvUaNk7AAAAAKq3IDzBCRw8+rn1PMQoPD32W0Q9yYEWPT7gHj0au2c9DQShPaWuBj5apjg+bOlZPuivtD7UmAw/xES/P4MoIz8ALy1ALeWDPxm+g0DpKhhBUOJgQYEkW0H8uCpBOJyEQaw/lEEDHMtBrLGgQVs06EEAbRxCbWhAQupuekIw+5pCqDz4Qie2DEMbhDFDyi5VQ/pTc0NL9IFDv316Q32SnEOXdotD1SKaQy8sgUMpfIdDf59sQwYTQUMqm4pDrEdbQ+ZwhkO7J19DRqtJQ0aIY0P/3jNDQeZQQ7syN0O4gENDY0FJQ/9qN0PDBDRDEP8UQ/YBWUNV5S5DdSkpQ3qmGENBnANDxDHSQt0Q5kIyttFC/lnwQguTBkN6xqNCvVfEQtZ9jEJUKWZCJiqmQiYXqkIUa41C7dVlQkNUV0KhXA1CuGIhQkhvUEJtICFCJNsgQkhIOUIt3xdCP9AEQo3JyEFr6RlCFAMPQs0V/0EZqblBMMLtQY8+5EH0Q8lByNsCQkbEs0GAQpVBaGJ/QUfrj0HBSJNBAvMsQUz0UUEybh9B9UMrQSXAeEGyM1dBJRdOQWqWFEEu3R1BQIAZQc7ztkFvD0RBXztJQaDZWkF+fmJBoMFdQS5WXEHH9DdBf/jUQJx22UAAAS9B1S4DQbx2iUHemGJBMe+uQU2nTEE47J9BauB8QZ7QhUGyfutBfVCMQcB5rUHX7o9BFNWEQVCjeEEzfYhBRfK6QcfwZkEslLpBcwR7QZY3cUFf/XdBiRh5QbtjckFbDKBB6YOeQb8lh0GPcVZBhiYxQWQ6GUHmZlhBse0qQePdVUHrrQNBgrdnQAWLhUCnQiBAAAAAAAAAAAA=\",\"dtype\":\"float32\",\"shape\":[182]}},\"selected\":{\"id\":\"12155\"},\"selection_policy\":{\"id\":\"12154\"}},\"id\":\"12126\",\"type\":\"ColumnDataSource\"},{\"attributes\":{\"fill_alpha\":{\"value\":0.1},\"fill_color\":{\"value\":\"#1b9e77\"},\"line_alpha\":{\"value\":0.1},\"line_color\":{\"value\":\"#1b9e77\"},\"top\":{\"field\":\"y\"},\"width\":{\"value\":51840000.0},\"x\":{\"field\":\"x\"}},\"id\":\"12134\",\"type\":\"VBar\"},{\"attributes\":{},\"id\":\"12154\",\"type\":\"UnionRenderers\"},{\"attributes\":{\"fill_alpha\":{\"value\":0.6},\"fill_color\":{\"value\":\"#1b9e77\"},\"line_alpha\":{\"value\":0.6},\"line_color\":{\"value\":\"#1b9e77\"},\"top\":{\"field\":\"y\"},\"width\":{\"value\":51840000.0},\"x\":{\"field\":\"x\"}},\"id\":\"12133\",\"type\":\"VBar\"},{\"attributes\":{},\"id\":\"12111\",\"type\":\"PanTool\"},{\"attributes\":{},\"id\":\"12155\",\"type\":\"Selection\"},{\"attributes\":{},\"id\":\"12138\",\"type\":\"BasicTickFormatter\"},{\"attributes\":{\"click_policy\":\"hide\",\"items\":[{\"id\":\"12159\"},{\"id\":\"12187\"}]},\"id\":\"12158\",\"type\":\"Legend\"},{\"attributes\":{},\"id\":\"12112\",\"type\":\"WheelZoomTool\"},{\"attributes\":{\"source\":{\"id\":\"12126\"}},\"id\":\"12136\",\"type\":\"CDSView\"},{\"attributes\":{\"days\":[1,2,3,4,5,6,7,8,9,10,11,12,13,14,15,16,17,18,19,20,21,22,23,24,25,26,27,28,29,30,31]},\"id\":\"12145\",\"type\":\"DaysTicker\"},{\"attributes\":{\"overlay\":{\"id\":\"12118\"}},\"id\":\"12113\",\"type\":\"BoxZoomTool\"},{\"attributes\":{\"label\":{\"value\":\"measured_cases_Germany\"},\"renderers\":[{\"id\":\"12135\"}]},\"id\":\"12159\",\"type\":\"LegendItem\"},{\"attributes\":{\"data_source\":{\"id\":\"12126\"},\"glyph\":{\"id\":\"12133\"},\"hover_glyph\":null,\"muted_glyph\":null,\"name\":\"_measured_cases_Germany\",\"nonselection_glyph\":{\"id\":\"12134\"},\"selection_glyph\":null,\"view\":{\"id\":\"12136\"}},\"id\":\"12135\",\"type\":\"GlyphRenderer\"},{\"attributes\":{\"data\":{\"x\":{\"__ndarray__\":\"AAAA/2f6dkIAAMBkuvp2QgAAgMoM+3ZCAABAMF/7dkIAAACWsft2QgAAwPsD/HZCAACAYVb8dkIAAEDHqPx2QgAAAC37/HZCAADAkk39dkIAAID4n/12QgAAQF7y/XZCAAAAxET+dkIAAMApl/52QgAAgI/p/nZCAABA9Tv/dkIAAABbjv92QgAAwMDg/3ZCAACAJjMAd0IAAECMhQB3QgAAAPLXAHdCAADAVyoBd0IAAIC9fAF3QgAAQCPPAXdCAAAAiSECd0IAAMDucwJ3QgAAgFTGAndCAABAuhgDd0IAAAAgawN3QgAAwIW9A3dCAACA6w8Ed0IAAEBRYgR3QgAAALe0BHdCAADAHAcFd0IAAICCWQV3QgAAQOirBXdCAAAATv4Fd0IAAMCzUAZ3QgAAgBmjBndCAABAf/UGd0IAAADlRwd3QgAAwEqaB3dCAACAsOwHd0IAAEAWPwh3QgAAAHyRCHdCAADA4eMId0IAAIBHNgl3QgAAQK2ICXdCAAAAE9sJd0IAAMB4LQp3QgAAgN5/CndCAABARNIKd0IAAACqJAt3QgAAwA93C3dCAACAdckLd0IAAEDbGwx3QgAAAEFuDHdCAADApsAMd0IAAIAMEw13QgAAQHJlDXdCAAAA2LcNd0IAAMA9Cg53QgAAgKNcDndCAABACa8Od0IAAABvAQ93QgAAwNRTD3dCAACAOqYPd0IAAECg+A93QgAAAAZLEHdCAADAa50Qd0IAAIDR7xB3QgAAQDdCEXdCAAAAnZQRd0IAAMAC5xF3QgAAgGg5EndCAABAzosSd0IAAAA03hJ3QgAAwJkwE3dCAACA/4ITd0IAAEBl1RN3QgAAAMsnFHdCAADAMHoUd0IAAICWzBR3QgAAQPweFXdCAAAAYnEVd0IAAMDHwxV3QgAAgC0WFndCAABAk2gWd0IAAAD5uhZ3QgAAwF4NF3dCAACAxF8Xd0IAAEAqshd3QgAAAJAEGHdCAADA9VYYd0IAAIBbqRh3QgAAQMH7GHdCAAAAJ04Zd0IAAMCMoBl3QgAAgPLyGXdCAABAWEUad0IAAAC+lxp3QgAAwCPqGndCAACAiTwbd0IAAEDvjht3QgAAAFXhG3dCAADAujMcd0IAAIAghhx3QgAAQIbYHHdCAAAA7Codd0IAAMBRfR13QgAAgLfPHXdCAABAHSIed0IAAACDdB53QgAAwOjGHndCAACAThkfd0IAAEC0ax93QgAAABq+H3dCAADAfxAgd0IAAIDlYiB3QgAAQEu1IHdCAAAAsQchd0IAAMAWWiF3QgAAgHysIXdCAABA4v4hd0IAAABIUSJ3QgAAwK2jIndCAACAE/Yid0IAAEB5SCN3QgAAAN+aI3dCAADARO0jd0IAAICqPyR3QgAAQBCSJHdCAAAAduQkd0IAAMDbNiV3QgAAgEGJJXdCAABAp9sld0IAAAANLiZ3QgAAwHKAJndCAACA2NImd0IAAEA+JSd3QgAAAKR3J3dCAADACcond0IAAIBvHCh3QgAAQNVuKHdCAAAAO8Eod0IAAMCgEyl3QgAAgAZmKXdCAABAbLgpd0IAAADSCip3QgAAwDddKndCAACAna8qd0IAAEADAit3QgAAAGlUK3dCAADAzqYrd0IAAIA0+St3QgAAQJpLLHdCAAAAAJ4sd0IAAMBl8Cx3QgAAgMtCLXdCAABAMZUtd0IAAACX5y13QgAAwPw5LndCAACAYowud0IAAEDI3i53QgAAAC4xL3dCAADAk4Mvd0IAAID51S93QgAAQF8oMHdCAAAAxXowd0IAAMAqzTB3QgAAgJAfMXdCAABA9nExd0IAAABcxDF3QgAAwMEWMndCAACAJ2kyd0IAAECNuzJ3QgAAAPMNM3dCAADAWGAzd0IAAIC+sjN3QgAAQCQFNHdCAAAAilc0d0IAAMDvqTR3Qg==\",\"dtype\":\"float64\",\"shape\":[182]},\"y\":{\"__ndarray__\":\"AAAAAAAAAAAAAAAAAAAAAAAAAAAAAAAAAAAAAAAAAAAAAAAAeJRHEaMy3RgiYrQfFX7YJRdAPysU5PgvrgjvM/9JKjctebY5222YO8q32DxtPZ099BUYPhoLdD6TabA+qd3pPke1Dz9TNyY/eEQ4P2VdRz+KdVU/SfBjPyVjcz+y84E/Zr6KP3calD8eF54/fcKoP7ontD+nUcA/50zNPwEo2z+I8uk/rbz5P7xLBUCUSg5ArOQXQH0kIkA0FS1AtMI4QK45RUCvh1JAKLtgQIvjb0CkCIBA96qIQBvikUALuJtAbzemQKRrsUDFYL1AwSPKQFrC10BIS+ZAMM71QOMtA0HsAgxBr28VQUp+H0GCOSpB1Kw1QXrkQUF+7U5BwNVcQQasa0ERgHtBUDGGQcUyj0HkzZhBxQyjQSX6rUFwoblByg7GQRpP00ETcOFBRoDwQZdHAEKW1ghC1fURQo+uG0KQCiZCMRQxQm7WPELlXElC37NWQlboZEL+B3RCqxCCQsyhikJuv5NCB3KdQnjCp0IYurJCtmK+Qo/GykJf8NdCW+vlQi/D9EIBQgJDOJ0KQ8V5E0Np3hxDGdImQ/tbMUNggzxDvU9IQ6jIVEPH9WFD095vQ3aLfkOqAYdD8iaPQzy5l0MFvKBDnTKqQxMgtEMth75DUmrJQ3vL1EMhrOBDIw3tQ7vu+UMvqANEVZgKRKTGEURsMRlEb9YgRMyyKET+wjBEyAI5RDNtQUSC/ElEKqpSRNNuW0RSQmRErRttRCLxdUQyuH5E0LKDRM32h0TeIYxEny2QRH8TlETYzJdEAVObRGqfnkSsq6FEnXGkRHPrpkTSE6lE6+WqRIVdrEQkd61EBDCuRDaGrkSmeK5EHweuRFAyrUTD+6tE5WWqRO1zqETYKaZET4yjRJ+goESVbJ1EcPaZRMJElkReXpJENUqOREcPikSKtIVEy0CBRF51eUQ=\",\"dtype\":\"float32\",\"shape\":[182]}},\"selected\":{\"id\":\"12536\"},\"selection_policy\":{\"id\":\"12535\"}},\"id\":\"12160\",\"type\":\"ColumnDataSource\"},{\"attributes\":{},\"id\":\"12114\",\"type\":\"ResetTool\"},{\"attributes\":{\"line_alpha\":0.8,\"line_color\":\"#d95f02\",\"line_width\":1.5,\"x\":{\"field\":\"x\"},\"y\":{\"field\":\"y\"}},\"id\":\"12162\",\"type\":\"Line\"},{\"attributes\":{},\"id\":\"12140\",\"type\":\"DatetimeTickFormatter\"},{\"attributes\":{},\"id\":\"12095\",\"type\":\"DataRange1d\"},{\"attributes\":{},\"id\":\"12115\",\"type\":\"SaveTool\"},{\"attributes\":{\"mantissas\":[1,2,5],\"max_interval\":500.0,\"num_minor_ticks\":0},\"id\":\"12142\",\"type\":\"AdaptiveTicker\"},{\"attributes\":{\"overlay\":{\"id\":\"12117\"}},\"id\":\"12116\",\"type\":\"BoxSelectTool\"},{\"attributes\":{\"data_source\":{\"id\":\"12160\"},\"glyph\":{\"id\":\"12162\"},\"hover_glyph\":null,\"muted_glyph\":null,\"name\":\"_Fit_cases\",\"nonselection_glyph\":{\"id\":\"12163\"},\"selection_glyph\":null,\"view\":{\"id\":\"12165\"}},\"id\":\"12164\",\"type\":\"GlyphRenderer\"},{\"attributes\":{\"text\":\"Germany_cases\"},\"id\":\"12093\",\"type\":\"Title\"},{\"attributes\":{\"label\":{\"value\":\"Fit_cases\"},\"renderers\":[{\"id\":\"12164\"}]},\"id\":\"12187\",\"type\":\"LegendItem\"},{\"attributes\":{\"base\":60,\"mantissas\":[1,2,5,10,15,20,30],\"max_interval\":1800000.0,\"min_interval\":1000.0,\"num_minor_ticks\":0},\"id\":\"12143\",\"type\":\"AdaptiveTicker\"},{\"attributes\":{},\"id\":\"12097\",\"type\":\"DataRange1d\"},{\"attributes\":{\"line_alpha\":0.1,\"line_color\":\"#d95f02\",\"line_width\":1.5,\"x\":{\"field\":\"x\"},\"y\":{\"field\":\"y\"}},\"id\":\"12163\",\"type\":\"Line\"},{\"attributes\":{\"bottom_units\":\"screen\",\"fill_alpha\":0.5,\"fill_color\":\"lightgrey\",\"left_units\":\"screen\",\"level\":\"overlay\",\"line_alpha\":1.0,\"line_color\":\"black\",\"line_dash\":[4,4],\"line_width\":2,\"render_mode\":\"css\",\"right_units\":\"screen\",\"top_units\":\"screen\"},\"id\":\"12118\",\"type\":\"BoxAnnotation\"},{\"attributes\":{\"base\":24,\"mantissas\":[1,2,4,6,8,12],\"max_interval\":43200000.0,\"min_interval\":3600000.0,\"num_minor_ticks\":0},\"id\":\"12144\",\"type\":\"AdaptiveTicker\"},{\"attributes\":{\"bottom_units\":\"screen\",\"fill_alpha\":0.5,\"fill_color\":\"lightgrey\",\"left_units\":\"screen\",\"level\":\"overlay\",\"line_alpha\":1.0,\"line_color\":\"black\",\"line_dash\":[4,4],\"line_width\":2,\"render_mode\":\"css\",\"right_units\":\"screen\",\"top_units\":\"screen\"},\"id\":\"12117\",\"type\":\"BoxAnnotation\"},{\"attributes\":{},\"id\":\"12099\",\"type\":\"LinearScale\"}],\"root_ids\":[\"12092\"]},\"title\":\"Bokeh Application\",\"version\":\"2.0.2\"}};\n",
       "  var render_items = [{\"docid\":\"045ab014-50ec-44b1-b669-208e8d7b94b1\",\"notebook_comms_target\":\"12539\",\"root_ids\":[\"12092\"],\"roots\":{\"12092\":\"78f56ba5-2697-438c-b0d2-0cb3161a007d\"}}];\n",
       "  root.Bokeh.embed.embed_items_notebook(docs_json, render_items);\n",
       "\n",
       "  }\n",
       "  if (root.Bokeh !== undefined) {\n",
       "    embed_document(root);\n",
       "  } else {\n",
       "    var attempts = 0;\n",
       "    var timer = setInterval(function(root) {\n",
       "      if (root.Bokeh !== undefined) {\n",
       "        clearInterval(timer);\n",
       "        embed_document(root);\n",
       "      } else {\n",
       "        attempts++;\n",
       "        if (attempts > 100) {\n",
       "          clearInterval(timer);\n",
       "          console.log(\"Bokeh: ERROR: Unable to run BokehJS code because BokehJS library is missing\");\n",
       "        }\n",
       "      }\n",
       "    }, 10, root)\n",
       "  }\n",
       "})(window);"
      ],
      "application/vnd.bokehjs_exec.v0+json": ""
     },
     "metadata": {
      "application/vnd.bokehjs_exec.v0+json": {
       "id": "12092"
      }
     },
     "output_type": "display_data"
    },
    {
     "data": {
      "text/html": [
       "\n",
       "\n",
       "\n",
       "\n",
       "\n",
       "\n",
       "  <div class=\"bk-root\" id=\"4a07fe09-31a1-465e-a17b-4f079446e8af\" data-root-id=\"12678\"></div>\n"
      ]
     },
     "metadata": {},
     "output_type": "display_data"
    },
    {
     "data": {
      "application/javascript": [
       "(function(root) {\n",
       "  function embed_document(root) {\n",
       "    \n",
       "  var docs_json = {\"d61e6c3d-173b-4e6e-984f-2c60074585c3\":{\"roots\":{\"references\":[{\"attributes\":{\"background_fill_color\":\"#efefef\",\"below\":[{\"id\":\"12689\"}],\"center\":[{\"id\":\"12692\"},{\"id\":\"12696\"},{\"id\":\"12744\"}],\"left\":[{\"id\":\"12693\"}],\"name\":\"_figure_deaths\",\"plot_height\":400,\"plot_width\":900,\"renderers\":[{\"id\":\"12716\"},{\"id\":\"12721\"},{\"id\":\"12750\"}],\"title\":{\"id\":\"12679\"},\"toolbar\":{\"id\":\"12705\"},\"x_range\":{\"id\":\"12681\"},\"x_scale\":{\"id\":\"12685\"},\"y_range\":{\"id\":\"12683\"},\"y_scale\":{\"id\":\"12687\"}},\"id\":\"12678\",\"subtype\":\"Figure\",\"type\":\"Plot\"},{\"attributes\":{\"click_policy\":\"hide\",\"items\":[{\"id\":\"12745\"},{\"id\":\"12773\"}]},\"id\":\"12744\",\"type\":\"Legend\"},{\"attributes\":{},\"id\":\"12683\",\"type\":\"DataRange1d\"},{\"attributes\":{\"days\":[1,2,3,4,5,6,7,8,9,10,11,12,13,14,15,16,17,18,19,20,21,22,23,24,25,26,27,28,29,30,31]},\"id\":\"12731\",\"type\":\"DaysTicker\"},{\"attributes\":{},\"id\":\"12681\",\"type\":\"DataRange1d\"},{\"attributes\":{\"label\":{\"value\":\"measured_deaths_Germany\"},\"renderers\":[{\"id\":\"12721\"}]},\"id\":\"12745\",\"type\":\"LegendItem\"},{\"attributes\":{\"fill_alpha\":{\"value\":0.1},\"fill_color\":{\"value\":\"#1b9e77\"},\"line_alpha\":{\"value\":0.1},\"line_color\":{\"value\":\"#1b9e77\"},\"top\":{\"field\":\"y\"},\"width\":{\"value\":51840000.0},\"x\":{\"field\":\"x\"}},\"id\":\"12720\",\"type\":\"VBar\"},{\"attributes\":{\"fill_alpha\":{\"value\":0.6},\"fill_color\":{\"value\":\"#1b9e77\"},\"line_alpha\":{\"value\":0.6},\"line_color\":{\"value\":\"#1b9e77\"},\"top\":{\"field\":\"y\"},\"width\":{\"value\":51840000.0},\"x\":{\"field\":\"x\"}},\"id\":\"12719\",\"type\":\"VBar\"},{\"attributes\":{\"data_source\":{\"id\":\"12712\"},\"glyph\":{\"id\":\"12714\"},\"hover_glyph\":null,\"muted_glyph\":null,\"name\":\"_measured_deaths_Germany\",\"nonselection_glyph\":{\"id\":\"12715\"},\"selection_glyph\":null,\"view\":{\"id\":\"12717\"}},\"id\":\"12716\",\"type\":\"GlyphRenderer\"},{\"attributes\":{\"source\":{\"id\":\"12712\"}},\"id\":\"12722\",\"type\":\"CDSView\"},{\"attributes\":{\"text\":\"Germany_deaths\"},\"id\":\"12679\",\"type\":\"Title\"},{\"attributes\":{\"data_source\":{\"id\":\"12712\"},\"glyph\":{\"id\":\"12719\"},\"hover_glyph\":null,\"muted_glyph\":null,\"name\":\"_measured_deaths_Germany\",\"nonselection_glyph\":{\"id\":\"12720\"},\"selection_glyph\":null,\"view\":{\"id\":\"12722\"}},\"id\":\"12721\",\"type\":\"GlyphRenderer\"},{\"attributes\":{\"label\":{\"value\":\"Fit_deaths\"},\"renderers\":[{\"id\":\"12750\"}]},\"id\":\"12773\",\"type\":\"LegendItem\"},{\"attributes\":{\"source\":{\"id\":\"12712\"}},\"id\":\"12717\",\"type\":\"CDSView\"},{\"attributes\":{\"line_alpha\":0.1,\"line_color\":\"#d95f02\",\"line_width\":1.5,\"x\":{\"field\":\"x\"},\"y\":{\"field\":\"y\"}},\"id\":\"12749\",\"type\":\"Line\"},{\"attributes\":{},\"id\":\"12697\",\"type\":\"PanTool\"},{\"attributes\":{},\"id\":\"12724\",\"type\":\"BasicTickFormatter\"},{\"attributes\":{},\"id\":\"12698\",\"type\":\"WheelZoomTool\"},{\"attributes\":{\"bottom_units\":\"screen\",\"fill_alpha\":0.5,\"fill_color\":\"lightgrey\",\"left_units\":\"screen\",\"level\":\"overlay\",\"line_alpha\":1.0,\"line_color\":\"black\",\"line_dash\":[4,4],\"line_width\":2,\"render_mode\":\"css\",\"right_units\":\"screen\",\"top_units\":\"screen\"},\"id\":\"12704\",\"type\":\"BoxAnnotation\"},{\"attributes\":{},\"id\":\"12726\",\"type\":\"DatetimeTickFormatter\"},{\"attributes\":{\"data_source\":{\"id\":\"12746\"},\"glyph\":{\"id\":\"12748\"},\"hover_glyph\":null,\"muted_glyph\":null,\"name\":\"_Fit_deaths\",\"nonselection_glyph\":{\"id\":\"12749\"},\"selection_glyph\":null,\"view\":{\"id\":\"12751\"}},\"id\":\"12750\",\"type\":\"GlyphRenderer\"},{\"attributes\":{\"line_alpha\":0.8,\"line_color\":\"#d95f02\",\"line_width\":1.5,\"x\":{\"field\":\"x\"},\"y\":{\"field\":\"y\"}},\"id\":\"12748\",\"type\":\"Line\"},{\"attributes\":{\"mantissas\":[1,2,5],\"max_interval\":500.0,\"num_minor_ticks\":0},\"id\":\"12728\",\"type\":\"AdaptiveTicker\"},{\"attributes\":{\"source\":{\"id\":\"12746\"}},\"id\":\"12751\",\"type\":\"CDSView\"},{\"attributes\":{\"base\":60,\"mantissas\":[1,2,5,10,15,20,30],\"max_interval\":1800000.0,\"min_interval\":1000.0,\"num_minor_ticks\":0},\"id\":\"12729\",\"type\":\"AdaptiveTicker\"},{\"attributes\":{\"fill_alpha\":{\"value\":0.1},\"fill_color\":{\"value\":\"#1b9e77\"},\"line_alpha\":{\"value\":0.1},\"line_color\":{\"value\":\"#1b9e77\"},\"line_width\":{\"value\":1.5},\"x\":{\"field\":\"x\"},\"y\":{\"field\":\"y\"}},\"id\":\"12715\",\"type\":\"Circle\"},{\"attributes\":{\"days\":[1,4,7,10,13,16,19,22,25,28]},\"id\":\"12732\",\"type\":\"DaysTicker\"},{\"attributes\":{},\"id\":\"12700\",\"type\":\"ResetTool\"},{\"attributes\":{},\"id\":\"12694\",\"type\":\"BasicTicker\"},{\"attributes\":{\"days\":[1,8,15,22]},\"id\":\"12733\",\"type\":\"DaysTicker\"},{\"attributes\":{},\"id\":\"12701\",\"type\":\"SaveTool\"},{\"attributes\":{},\"id\":\"13144\",\"type\":\"UnionRenderers\"},{\"attributes\":{\"days\":[1,15]},\"id\":\"12734\",\"type\":\"DaysTicker\"},{\"attributes\":{\"overlay\":{\"id\":\"12703\"}},\"id\":\"12702\",\"type\":\"BoxSelectTool\"},{\"attributes\":{\"axis\":{\"id\":\"12693\"},\"dimension\":1,\"ticker\":null},\"id\":\"12696\",\"type\":\"Grid\"},{\"attributes\":{\"fill_alpha\":{\"value\":0.9},\"fill_color\":{\"value\":\"#1b9e77\"},\"line_alpha\":{\"value\":0.9},\"line_color\":{\"value\":\"#1b9e77\"},\"line_width\":{\"value\":1.5},\"x\":{\"field\":\"x\"},\"y\":{\"field\":\"y\"}},\"id\":\"12714\",\"type\":\"Circle\"},{\"attributes\":{\"base\":24,\"mantissas\":[1,2,4,6,8,12],\"max_interval\":43200000.0,\"min_interval\":3600000.0,\"num_minor_ticks\":0},\"id\":\"12730\",\"type\":\"AdaptiveTicker\"},{\"attributes\":{\"months\":[0,1,2,3,4,5,6,7,8,9,10,11]},\"id\":\"12735\",\"type\":\"MonthsTicker\"},{\"attributes\":{\"overlay\":{\"id\":\"12704\"}},\"id\":\"12699\",\"type\":\"BoxZoomTool\"},{\"attributes\":{},\"id\":\"13145\",\"type\":\"Selection\"},{\"attributes\":{\"axis_label\":\"Population\",\"formatter\":{\"id\":\"12724\"},\"ticker\":{\"id\":\"12694\"}},\"id\":\"12693\",\"type\":\"LinearAxis\"},{\"attributes\":{\"months\":[0,2,4,6,8,10]},\"id\":\"12736\",\"type\":\"MonthsTicker\"},{\"attributes\":{},\"id\":\"12741\",\"type\":\"Selection\"},{\"attributes\":{\"num_minor_ticks\":5,\"tickers\":[{\"id\":\"12728\"},{\"id\":\"12729\"},{\"id\":\"12730\"},{\"id\":\"12731\"},{\"id\":\"12732\"},{\"id\":\"12733\"},{\"id\":\"12734\"},{\"id\":\"12735\"},{\"id\":\"12736\"},{\"id\":\"12737\"},{\"id\":\"12738\"},{\"id\":\"12739\"}]},\"id\":\"12690\",\"type\":\"DatetimeTicker\"},{\"attributes\":{\"months\":[0,4,8]},\"id\":\"12737\",\"type\":\"MonthsTicker\"},{\"attributes\":{\"bottom_units\":\"screen\",\"fill_alpha\":0.5,\"fill_color\":\"lightgrey\",\"left_units\":\"screen\",\"level\":\"overlay\",\"line_alpha\":1.0,\"line_color\":\"black\",\"line_dash\":[4,4],\"line_width\":2,\"render_mode\":\"css\",\"right_units\":\"screen\",\"top_units\":\"screen\"},\"id\":\"12703\",\"type\":\"BoxAnnotation\"},{\"attributes\":{\"axis\":{\"id\":\"12689\"},\"ticker\":null},\"id\":\"12692\",\"type\":\"Grid\"},{\"attributes\":{\"months\":[0,6]},\"id\":\"12738\",\"type\":\"MonthsTicker\"},{\"attributes\":{\"data\":{\"x\":{\"__ndarray__\":\"AAAA/2f6dkIAAMBkuvp2QgAAgMoM+3ZCAABAMF/7dkIAAACWsft2QgAAwPsD/HZCAACAYVb8dkIAAEDHqPx2QgAAAC37/HZCAADAkk39dkIAAID4n/12QgAAQF7y/XZCAAAAxET+dkIAAMApl/52QgAAgI/p/nZCAABA9Tv/dkIAAABbjv92QgAAwMDg/3ZCAACAJjMAd0IAAECMhQB3QgAAAPLXAHdCAADAVyoBd0IAAIC9fAF3QgAAQCPPAXdCAAAAiSECd0IAAMDucwJ3QgAAgFTGAndCAABAuhgDd0IAAAAgawN3QgAAwIW9A3dCAACA6w8Ed0IAAEBRYgR3QgAAALe0BHdCAADAHAcFd0IAAICCWQV3QgAAQOirBXdCAAAATv4Fd0IAAMCzUAZ3QgAAgBmjBndCAABAf/UGd0IAAADlRwd3QgAAwEqaB3dCAACAsOwHd0IAAEAWPwh3QgAAAHyRCHdCAADA4eMId0IAAIBHNgl3QgAAQK2ICXdCAAAAE9sJd0IAAMB4LQp3QgAAgN5/CndCAABARNIKd0IAAACqJAt3QgAAwA93C3dCAACAdckLd0IAAEDbGwx3QgAAAEFuDHdCAADApsAMd0IAAIAMEw13QgAAQHJlDXdCAAAA2LcNd0IAAMA9Cg53QgAAgKNcDndCAABACa8Od0IAAABvAQ93QgAAwNRTD3dCAACAOqYPd0IAAECg+A93QgAAAAZLEHdCAADAa50Qd0IAAIDR7xB3QgAAQDdCEXdCAAAAnZQRd0IAAMAC5xF3QgAAgGg5EndCAABAzosSd0IAAAA03hJ3QgAAwJkwE3dCAACA/4ITd0IAAEBl1RN3QgAAAMsnFHdCAADAMHoUd0IAAICWzBR3QgAAQPweFXdCAAAAYnEVd0IAAMDHwxV3QgAAgC0WFndCAABAk2gWd0IAAAD5uhZ3QgAAwF4NF3dCAACAxF8Xd0IAAEAqshd3QgAAAJAEGHdCAADA9VYYd0IAAIBbqRh3QgAAQMH7GHdCAAAAJ04Zd0IAAMCMoBl3QgAAgPLyGXdCAABAWEUad0IAAAC+lxp3QgAAwCPqGndCAACAiTwbd0IAAEDvjht3QgAAAFXhG3dCAADAujMcd0IAAIAghhx3QgAAQIbYHHdCAAAA7Codd0IAAMBRfR13QgAAgLfPHXdCAABAHSIed0IAAACDdB53QgAAwOjGHndCAACAThkfd0IAAEC0ax93QgAAABq+H3dCAADAfxAgd0IAAIDlYiB3QgAAQEu1IHdCAAAAsQchd0IAAMAWWiF3QgAAgHysIXdCAABA4v4hd0IAAABIUSJ3QgAAwK2jIndCAACAE/Yid0IAAEB5SCN3QgAAAN+aI3dCAADARO0jd0IAAICqPyR3QgAAQBCSJHdCAAAAduQkd0IAAMDbNiV3QgAAgEGJJXdCAABAp9sld0IAAAANLiZ3QgAAwHKAJndCAACA2NImd0IAAEA+JSd3QgAAAKR3J3dCAADACcond0IAAIBvHCh3QgAAQNVuKHdCAAAAO8Eod0IAAMCgEyl3QgAAgAZmKXdCAABAbLgpd0IAAADSCip3QgAAwDddKndCAACAna8qd0IAAEADAit3QgAAAGlUK3dCAADAzqYrd0IAAIA0+St3QgAAQJpLLHdCAAAAAJ4sd0IAAMBl8Cx3QgAAgMtCLXdCAABAMZUtd0IAAACX5y13QgAAwPw5LndCAACAYowud0IAAEDI3i53QgAAAC4xL3dCAADAk4Mvd0IAAID51S93QgAAQF8oMHdCAAAAxXowd0IAAMAqzTB3QgAAgJAfMXdCAABA9nExd0IAAABcxDF3QgAAwMEWMndCAACAJ2kyd0IAAECNuzJ3QgAAAPMNM3dCAADAWGAzd0IAAIC+sjN3QgAAQCQFNHdCAAAAilc0d0IAAMDvqTR3Qg==\",\"dtype\":\"float64\",\"shape\":[182]},\"y\":{\"__ndarray__\":\"AAAAAAAAAAAAAAAAAAAAAAAAAAAAAAAAAAAAAAAAAAAAAAAAAAAAAAAAAAAAAAAAAAAAAAAAAAAAAAAAAAAAAAAAAAAAAAAAAAAAAAAAAAAAAAAAAAAAAAAAAAAAAAAAAAAAAAAAAAAAAAAAAAAAAAAAAAAAAAAAAAAAAAAAAAAAAAAAAAAAAAAAAAAAAAAAAAAAAAAAAAAAAAAAAAAAAAAAAAAAAOBAAAAAQAAAAEAAAMBAAAAAQAAA4EAAAIBAAADgQAAAEEEAAIBAAAAAQQAAAAAAAEBAAACIQQAAgEAAAGBBAAAAQQAAoEAAAOBAAACAPwAAoEAAAIBBAABgQQAAEEEAABBBAAAQQQAAgD8AAABBAACAQAAAmEEAAABAAADgQAAAIEEAAKBAAACwQQAAAEEAAMBAAACAPwAAAEAAAAAAAADAQAAA4EAAAABAAABAQQAAoEAAAAAAAAAAQAAAAAAAAEBAAACAQAAAQEAAAMBAAACAPwAAAEAAAIA/AAAAQAAAgEAAAIA/AACAPwAAgD8AAAAAAACAPwAAgD8AAIA/AAAAQAAAAEAAAIA/AAAAAAAAAAAAAAAAAAAAQAAAAAAAAIA/AACAQAAAAAAAAAAAAAAAAAAAgD8AAAAAAAAAAAAAAAAAAIA/AAAAQAAAAEAAAABAAAAAAAAAAAAAAAAAAAAAAAAAAAAAAIA/AAAAAAAAAAAAAIA/AAAAAAAAgD8AAAAAAAAAAAAAAAAAAAAAAAAAAAAAAAAAAAAAAAAAAAAAAAAAAAAAAAAAAAAAAAAAAAAAAAAAAAAAAAAAAAAAAAAAAAAAAAAAAAAAAAAAAAAAAAAAAAAAAAAAAAAAAAAAAAAAAAAAAAAAAAAAAAAAAAAAAAAAAAAAAAAAAAAAAAAAAAAAAAAAAAAAAAAAAAAAAAAAAAAAAAAAAAAAAAAAAAAAAAAAAAAAAAAAAAAAAAAAAAA=\",\"dtype\":\"float32\",\"shape\":[182]}},\"selected\":{\"id\":\"12741\"},\"selection_policy\":{\"id\":\"12740\"}},\"id\":\"12712\",\"type\":\"ColumnDataSource\"},{\"attributes\":{\"axis_label\":\"time\",\"formatter\":{\"id\":\"12726\"},\"major_label_orientation\":0.7853981633974483,\"ticker\":{\"id\":\"12690\"}},\"id\":\"12689\",\"type\":\"DatetimeAxis\"},{\"attributes\":{},\"id\":\"12739\",\"type\":\"YearsTicker\"},{\"attributes\":{\"active_drag\":\"auto\",\"active_inspect\":\"auto\",\"active_multi\":null,\"active_scroll\":\"auto\",\"active_tap\":\"auto\",\"tools\":[{\"id\":\"12697\"},{\"id\":\"12698\"},{\"id\":\"12699\"},{\"id\":\"12700\"},{\"id\":\"12701\"},{\"id\":\"12702\"}]},\"id\":\"12705\",\"type\":\"Toolbar\"},{\"attributes\":{},\"id\":\"12687\",\"type\":\"LinearScale\"},{\"attributes\":{},\"id\":\"12740\",\"type\":\"UnionRenderers\"},{\"attributes\":{\"data\":{\"x\":{\"__ndarray__\":\"AAAA/2f6dkIAAMBkuvp2QgAAgMoM+3ZCAABAMF/7dkIAAACWsft2QgAAwPsD/HZCAACAYVb8dkIAAEDHqPx2QgAAAC37/HZCAADAkk39dkIAAID4n/12QgAAQF7y/XZCAAAAxET+dkIAAMApl/52QgAAgI/p/nZCAABA9Tv/dkIAAABbjv92QgAAwMDg/3ZCAACAJjMAd0IAAECMhQB3QgAAAPLXAHdCAADAVyoBd0IAAIC9fAF3QgAAQCPPAXdCAAAAiSECd0IAAMDucwJ3QgAAgFTGAndCAABAuhgDd0IAAAAgawN3QgAAwIW9A3dCAACA6w8Ed0IAAEBRYgR3QgAAALe0BHdCAADAHAcFd0IAAICCWQV3QgAAQOirBXdCAAAATv4Fd0IAAMCzUAZ3QgAAgBmjBndCAABAf/UGd0IAAADlRwd3QgAAwEqaB3dCAACAsOwHd0IAAEAWPwh3QgAAAHyRCHdCAADA4eMId0IAAIBHNgl3QgAAQK2ICXdCAAAAE9sJd0IAAMB4LQp3QgAAgN5/CndCAABARNIKd0IAAACqJAt3QgAAwA93C3dCAACAdckLd0IAAEDbGwx3QgAAAEFuDHdCAADApsAMd0IAAIAMEw13QgAAQHJlDXdCAAAA2LcNd0IAAMA9Cg53QgAAgKNcDndCAABACa8Od0IAAABvAQ93QgAAwNRTD3dCAACAOqYPd0IAAECg+A93QgAAAAZLEHdCAADAa50Qd0IAAIDR7xB3QgAAQDdCEXdCAAAAnZQRd0IAAMAC5xF3QgAAgGg5EndCAABAzosSd0IAAAA03hJ3QgAAwJkwE3dCAACA/4ITd0IAAEBl1RN3QgAAAMsnFHdCAADAMHoUd0IAAICWzBR3QgAAQPweFXdCAAAAYnEVd0IAAMDHwxV3QgAAgC0WFndCAABAk2gWd0IAAAD5uhZ3QgAAwF4NF3dCAACAxF8Xd0IAAEAqshd3QgAAAJAEGHdCAADA9VYYd0IAAIBbqRh3QgAAQMH7GHdCAAAAJ04Zd0IAAMCMoBl3QgAAgPLyGXdCAABAWEUad0IAAAC+lxp3QgAAwCPqGndCAACAiTwbd0IAAEDvjht3QgAAAFXhG3dCAADAujMcd0IAAIAghhx3QgAAQIbYHHdCAAAA7Codd0IAAMBRfR13QgAAgLfPHXdCAABAHSIed0IAAACDdB53QgAAwOjGHndCAACAThkfd0IAAEC0ax93QgAAABq+H3dCAADAfxAgd0IAAIDlYiB3QgAAQEu1IHdCAAAAsQchd0IAAMAWWiF3QgAAgHysIXdCAABA4v4hd0IAAABIUSJ3QgAAwK2jIndCAACAE/Yid0IAAEB5SCN3QgAAAN+aI3dCAADARO0jd0IAAICqPyR3QgAAQBCSJHdCAAAAduQkd0IAAMDbNiV3QgAAgEGJJXdCAABAp9sld0IAAAANLiZ3QgAAwHKAJndCAACA2NImd0IAAEA+JSd3QgAAAKR3J3dCAADACcond0IAAIBvHCh3QgAAQNVuKHdCAAAAO8Eod0IAAMCgEyl3QgAAgAZmKXdCAABAbLgpd0IAAADSCip3QgAAwDddKndCAACAna8qd0IAAEADAit3QgAAAGlUK3dCAADAzqYrd0IAAIA0+St3QgAAQJpLLHdCAAAAAJ4sd0IAAMBl8Cx3QgAAgMtCLXdCAABAMZUtd0IAAACX5y13QgAAwPw5LndCAACAYowud0IAAEDI3i53QgAAAC4xL3dCAADAk4Mvd0IAAID51S93QgAAQF8oMHdCAAAAxXowd0IAAMAqzTB3QgAAgJAfMXdCAABA9nExd0IAAABcxDF3QgAAwMEWMndCAACAJ2kyd0IAAECNuzJ3QgAAAPMNM3dCAADAWGAzd0IAAIC+sjN3QgAAQCQFNHdCAAAAilc0d0IAAMDvqTR3Qg==\",\"dtype\":\"float64\",\"shape\":[182]},\"y\":{\"__ndarray__\":\"AAAAAAAAAAAAAAAAAAAAAAAAAAAAAAAAAAAAAAAAAAAAAAAAAAAAAOJngAs6UA4TLRvoGc5HCyDsD3YljhMgKnClGS70kVoxgTrpM0fFwDXOzQU3hIa6N3WlLjh2GY84ls3iOHZrLzkrRoQ5p+fCOVDCDDqQxkc6zH2LOiLRvzol8QE7I4stO+SRZDvafpQ7Gmq+O74K8Tu9qRY8Sg86PI8RYzzi+og8tXOjPDf7wDyei+E8P4kCPW65FT0URCo97xRAPcEXVz1QOm89KDeEPftUkT2C5Z497DysPZ1Qtz3nr8A9aPHMPYEA3D2Uies9TEv7PcX0BT7g7g4+aJ4YPi73Ij7e9y0+BrA5PsEzRj7NklM+ndlhPrQVcT69q4A+r1iJPlSbkj6gfZw+KwqnPlBMsj5EUL4+CSPLPnjS2D5Mbec+PgP3PovSAz9Ysgw/jioWP1JFID92DSs/g442P7vUQj807U8/3eVdP4jNbD8DtHw/C9WGP9fgjz/khpk/V9GjP+/Krj8if7o/GvrGP8NI1D/deOI/+5jxP03cAEAUdAlAiZwSQOxeHEABxSZALdkxQGimPUBOOEpAJ5tXQO/bZUBWCHVAaJeCQE0vi0DeU5RAjw2eQDplqEAyZLNAOxS/QIt/y0DVsNhAQrPmQHOS9UBCrQJBAQwLQfrrE0HnUx1Bt0onQYfXMUGrAT1BktBIQdNLVUEbe2JBKGZwQbUUf0E+R4dBjG2PQQMBmEE/BaFBtH2qQahttEEe2L5Byb/JQQcn1UHAD+FBaHvtQeBq+kEw7wNCu+oKQm0nEkI3pBlCjV8hQmVXKUIaiTFCffE5QriMQkJOVktCEUlUQiRfXULvkWZCI9pvQrUveUL2RIFCr++FQv2SikKPKY9Cyq2TQt4ZmELIZ5xCY5GgQnaQpELDXqhCGParQmFQr0K+Z7JCiDa1Qn23t0K85blC4Ly7QhE5vUI=\",\"dtype\":\"float32\",\"shape\":[182]}},\"selected\":{\"id\":\"13145\"},\"selection_policy\":{\"id\":\"13144\"}},\"id\":\"12746\",\"type\":\"ColumnDataSource\"},{\"attributes\":{},\"id\":\"12685\",\"type\":\"LinearScale\"}],\"root_ids\":[\"12678\"]},\"title\":\"Bokeh Application\",\"version\":\"2.0.2\"}};\n",
       "  var render_items = [{\"docid\":\"d61e6c3d-173b-4e6e-984f-2c60074585c3\",\"notebook_comms_target\":\"13148\",\"root_ids\":[\"12678\"],\"roots\":{\"12678\":\"4a07fe09-31a1-465e-a17b-4f079446e8af\"}}];\n",
       "  root.Bokeh.embed.embed_items_notebook(docs_json, render_items);\n",
       "\n",
       "  }\n",
       "  if (root.Bokeh !== undefined) {\n",
       "    embed_document(root);\n",
       "  } else {\n",
       "    var attempts = 0;\n",
       "    var timer = setInterval(function(root) {\n",
       "      if (root.Bokeh !== undefined) {\n",
       "        clearInterval(timer);\n",
       "        embed_document(root);\n",
       "      } else {\n",
       "        attempts++;\n",
       "        if (attempts > 100) {\n",
       "          clearInterval(timer);\n",
       "          console.log(\"Bokeh: ERROR: Unable to run BokehJS code because BokehJS library is missing\");\n",
       "        }\n",
       "      }\n",
       "    }, 10, root)\n",
       "  }\n",
       "})(window);"
      ],
      "application/vnd.bokehjs_exec.v0+json": ""
     },
     "metadata": {
      "application/vnd.bokehjs_exec.v0+json": {
       "id": "12678"
      }
     },
     "output_type": "display_data"
    },
    {
     "data": {
      "text/html": [
       "\n",
       "\n",
       "\n",
       "\n",
       "\n",
       "\n",
       "  <div class=\"bk-root\" id=\"9e815397-fbfe-46ea-a2eb-d3b97a8152ea\" data-root-id=\"13287\"></div>\n"
      ]
     },
     "metadata": {},
     "output_type": "display_data"
    },
    {
     "data": {
      "application/javascript": [
       "(function(root) {\n",
       "  function embed_document(root) {\n",
       "    \n",
       "  var docs_json = {\"2c441a7c-a430-4be7-a0ed-e4b5746cd735\":{\"roots\":{\"references\":[{\"attributes\":{\"background_fill_color\":\"#efefef\",\"below\":[{\"id\":\"13298\"}],\"center\":[{\"id\":\"13301\"},{\"id\":\"13305\"},{\"id\":\"13346\"}],\"left\":[{\"id\":\"13302\"}],\"name\":\"_figure\",\"plot_height\":400,\"plot_width\":900,\"renderers\":[{\"id\":\"13325\"},{\"id\":\"13352\"},{\"id\":\"13380\"},{\"id\":\"13410\"}],\"title\":{\"id\":\"13288\"},\"toolbar\":{\"id\":\"13314\"},\"x_range\":{\"id\":\"13290\"},\"x_scale\":{\"id\":\"13294\"},\"y_range\":{\"id\":\"13292\"},\"y_scale\":{\"id\":\"13296\"}},\"id\":\"13287\",\"subtype\":\"Figure\",\"type\":\"Plot\"},{\"attributes\":{\"label\":{\"value\":\"Fit_C\"},\"renderers\":[{\"id\":\"13410\"}]},\"id\":\"13437\",\"type\":\"LegendItem\"},{\"attributes\":{},\"id\":\"13401\",\"type\":\"UnionRenderers\"},{\"attributes\":{},\"id\":\"13296\",\"type\":\"LinearScale\"},{\"attributes\":{\"active_drag\":\"auto\",\"active_inspect\":\"auto\",\"active_multi\":null,\"active_scroll\":\"auto\",\"active_tap\":\"auto\",\"tools\":[{\"id\":\"13306\"},{\"id\":\"13307\"},{\"id\":\"13308\"},{\"id\":\"13309\"},{\"id\":\"13310\"},{\"id\":\"13311\"}]},\"id\":\"13314\",\"type\":\"Toolbar\"},{\"attributes\":{\"line_alpha\":0.1,\"line_color\":\"#7570b3\",\"line_dash\":[6],\"line_width\":1.5,\"x\":{\"field\":\"x\"},\"y\":{\"field\":\"y\"}},\"id\":\"13379\",\"type\":\"Line\"},{\"attributes\":{\"months\":[0,4,8]},\"id\":\"13341\",\"type\":\"MonthsTicker\"},{\"attributes\":{\"axis_label\":\"time\",\"formatter\":{\"id\":\"13330\"},\"major_label_orientation\":0.7853981633974483,\"ticker\":{\"id\":\"13299\"}},\"id\":\"13298\",\"type\":\"DatetimeAxis\"},{\"attributes\":{\"data\":{\"x\":{\"__ndarray__\":\"AAAA/2f6dkIAAMBkuvp2QgAAgMoM+3ZCAABAMF/7dkIAAACWsft2QgAAwPsD/HZCAACAYVb8dkIAAEDHqPx2QgAAAC37/HZCAADAkk39dkIAAID4n/12QgAAQF7y/XZCAAAAxET+dkIAAMApl/52QgAAgI/p/nZCAABA9Tv/dkIAAABbjv92QgAAwMDg/3ZCAACAJjMAd0IAAECMhQB3QgAAAPLXAHdCAADAVyoBd0IAAIC9fAF3QgAAQCPPAXdCAAAAiSECd0IAAMDucwJ3QgAAgFTGAndCAABAuhgDd0IAAAAgawN3QgAAwIW9A3dCAACA6w8Ed0IAAEBRYgR3QgAAALe0BHdCAADAHAcFd0IAAICCWQV3QgAAQOirBXdCAAAATv4Fd0IAAMCzUAZ3QgAAgBmjBndCAABAf/UGd0IAAADlRwd3QgAAwEqaB3dCAACAsOwHd0IAAEAWPwh3QgAAAHyRCHdCAADA4eMId0IAAIBHNgl3QgAAQK2ICXdCAAAAE9sJd0IAAMB4LQp3QgAAgN5/CndCAABARNIKd0IAAACqJAt3QgAAwA93C3dCAACAdckLd0IAAEDbGwx3QgAAAEFuDHdCAADApsAMd0IAAIAMEw13QgAAQHJlDXdCAAAA2LcNd0IAAMA9Cg53QgAAgKNcDndCAABACa8Od0IAAABvAQ93QgAAwNRTD3dCAACAOqYPd0IAAECg+A93QgAAAAZLEHdCAADAa50Qd0IAAIDR7xB3QgAAQDdCEXdCAAAAnZQRd0IAAMAC5xF3QgAAgGg5EndCAABAzosSd0IAAAA03hJ3QgAAwJkwE3dCAACA/4ITd0IAAEBl1RN3QgAAAMsnFHdCAADAMHoUd0IAAICWzBR3QgAAQPweFXdCAAAAYnEVd0IAAMDHwxV3QgAAgC0WFndCAABAk2gWd0IAAAD5uhZ3QgAAwF4NF3dCAACAxF8Xd0IAAEAqshd3QgAAAJAEGHdCAADA9VYYd0IAAIBbqRh3QgAAQMH7GHdCAAAAJ04Zd0IAAMCMoBl3QgAAgPLyGXdCAABAWEUad0IAAAC+lxp3QgAAwCPqGndCAACAiTwbd0IAAEDvjht3QgAAAFXhG3dCAADAujMcd0IAAIAghhx3QgAAQIbYHHdCAAAA7Codd0IAAMBRfR13QgAAgLfPHXdCAABAHSIed0IAAACDdB53QgAAwOjGHndCAACAThkfd0IAAEC0ax93QgAAABq+H3dCAADAfxAgd0IAAIDlYiB3QgAAQEu1IHdCAAAAsQchd0IAAMAWWiF3QgAAgHysIXdCAABA4v4hd0IAAABIUSJ3QgAAwK2jIndCAACAE/Yid0IAAEB5SCN3QgAAAN+aI3dCAADARO0jd0IAAICqPyR3QgAAQBCSJHdCAAAAduQkd0IAAMDbNiV3QgAAgEGJJXdCAABAp9sld0IAAAANLiZ3QgAAwHKAJndCAACA2NImd0IAAEA+JSd3QgAAAKR3J3dCAADACcond0IAAIBvHCh3QgAAQNVuKHdCAAAAO8Eod0IAAMCgEyl3QgAAgAZmKXdCAABAbLgpd0IAAADSCip3QgAAwDddKndCAACAna8qd0IAAEADAit3QgAAAGlUK3dCAADAzqYrd0IAAIA0+St3QgAAQJpLLHdCAAAAAJ4sd0IAAMBl8Cx3QgAAgMtCLXdCAABAMZUtd0IAAACX5y13QgAAwPw5LndCAACAYowud0IAAEDI3i53QgAAAC4xL3dCAADAk4Mvd0IAAID51S93QgAAQF8oMHdCAAAAxXowd0IAAMAqzTB3QgAAgJAfMXdCAABA9nExd0IAAABcxDF3QgAAwMEWMndCAACAJ2kyd0IAAECNuzJ3QgAAAPMNM3dCAADAWGAzd0IAAIC+sjN3QgAAQCQFNHdCAAAAilc0d0IAAMDvqTR3Qg==\",\"dtype\":\"float64\",\"shape\":[182]},\"y\":{\"__ndarray__\":\"AAAAAAAAAAAAAAAAAAAAAAAAAAAAAAAAAAAAAAAAAAAq5rsCIoQNC/vWnBKXyn8ZiHuZH+WMByUcRrApg/SoLQdv7zDc4nwz1W9LNVvqgza7Fx43PdZkN+zHijd0xac3EhHMN3BQ9DcQ/w442o4kOLx9OzhAO1Q4oM9uOC2UhTg/qpQ4sMCkOJrvtThgSsg4gOLbOLrL8DiMjgM52ncPOeIuHDlewSk5+T04OW60RzmeNVg5g9NpOUyhfDm3WYg54A+TOcp+njnrsqo5Tbm3OfyYxTnsEtQ5EEPiOZBP8DndFAA6DfUIOolWEjo8Lxw6r6UmOpzaMTpv2z06TKxKOqxVWDp352Y6XnR2Og2HgzrlYow609aVOvTsnzpGsKo6ZSy2Op9twjr5gM86ZHTdOr1W7DrcN/w6TpQGO3idDzvyQBk76IgjOy2ALjs7Mjo7T6tGO2r4UzteJ2I71UZxOzizgDtdS4k7pXSSO2E4nDt3oKY7Z7exO0iIvTviHso7qofXO8zP5Ts2BfU7UZsCPMo5Czw7ZhQ8QykePPqLKDzzlzM8OVc/PFbUSzxbGlk82jRnPOkvdjwWDIM8ZH2LPLdylDwn8508DAaoPAGzsjzWAb48lPrJPHel1jzlCuQ8YzPyPMuTAD0WeAg97soQPaSQGT2AzSI9r4UsPTy9Nj0LeEE9v7lMPbWFWD363mQ9MshxPYtDfz1TqYY9SPuNPdWXlT3Efp09fK+lPeoorj1+6bY9I++/PTM3yT1vvtI9/YDcPVt65j1kpfA9Q/z6PT+8Aj55CQg+6GENPlbBEj5LIxg+/IIdPmfbIj5TJyg+WmEtPuyDMj5kiTc+Emw8Pj4mQT5AskU+gwpKPpMpTj40ClI+W6dVPkb8WD6HBFw+A7xePggfYT5LKmM+89pkPpsuZj5hI2c+2rdnPiPrZz7XvGc+GS1nPo48Zj5f7GQ+Nj5jPjE0YT4=\",\"dtype\":\"float32\",\"shape\":[182]}},\"selected\":{\"id\":\"13402\"},\"selection_policy\":{\"id\":\"13401\"}},\"id\":\"13348\",\"type\":\"ColumnDataSource\"},{\"attributes\":{\"months\":[0,6]},\"id\":\"13342\",\"type\":\"MonthsTicker\"},{\"attributes\":{},\"id\":\"13835\",\"type\":\"UnionRenderers\"},{\"attributes\":{\"data_source\":{\"id\":\"13376\"},\"glyph\":{\"id\":\"13378\"},\"hover_glyph\":null,\"muted_glyph\":null,\"name\":\"_Fit_D\",\"nonselection_glyph\":{\"id\":\"13379\"},\"selection_glyph\":null,\"view\":{\"id\":\"13381\"}},\"id\":\"13380\",\"type\":\"GlyphRenderer\"},{\"attributes\":{\"num_minor_ticks\":5,\"tickers\":[{\"id\":\"13332\"},{\"id\":\"13333\"},{\"id\":\"13334\"},{\"id\":\"13335\"},{\"id\":\"13336\"},{\"id\":\"13337\"},{\"id\":\"13338\"},{\"id\":\"13339\"},{\"id\":\"13340\"},{\"id\":\"13341\"},{\"id\":\"13342\"},{\"id\":\"13343\"}]},\"id\":\"13299\",\"type\":\"DatetimeTicker\"},{\"attributes\":{},\"id\":\"13294\",\"type\":\"LinearScale\"},{\"attributes\":{},\"id\":\"13328\",\"type\":\"BasicTickFormatter\"},{\"attributes\":{\"line_alpha\":0.8,\"line_color\":\"#7570b3\",\"line_dash\":[6],\"line_width\":1.5,\"x\":{\"field\":\"x\"},\"y\":{\"field\":\"y\"}},\"id\":\"13378\",\"type\":\"Line\"},{\"attributes\":{},\"id\":\"13343\",\"type\":\"YearsTicker\"},{\"attributes\":{\"line_alpha\":0.1,\"line_color\":\"#1b9e77\",\"line_dash\":[6],\"line_width\":1.5,\"x\":{\"field\":\"x\"},\"y\":{\"field\":\"y\"}},\"id\":\"13324\",\"type\":\"Line\"},{\"attributes\":{\"source\":{\"id\":\"13376\"}},\"id\":\"13381\",\"type\":\"CDSView\"},{\"attributes\":{\"click_policy\":\"hide\",\"items\":[{\"id\":\"13347\"},{\"id\":\"13375\"},{\"id\":\"13405\"},{\"id\":\"13437\"}]},\"id\":\"13346\",\"type\":\"Legend\"},{\"attributes\":{\"axis\":{\"id\":\"13298\"},\"ticker\":null},\"id\":\"13301\",\"type\":\"Grid\"},{\"attributes\":{},\"id\":\"13836\",\"type\":\"Selection\"},{\"attributes\":{\"data\":{\"x\":{\"__ndarray__\":\"AAAA/2f6dkIAAMBkuvp2QgAAgMoM+3ZCAABAMF/7dkIAAACWsft2QgAAwPsD/HZCAACAYVb8dkIAAEDHqPx2QgAAAC37/HZCAADAkk39dkIAAID4n/12QgAAQF7y/XZCAAAAxET+dkIAAMApl/52QgAAgI/p/nZCAABA9Tv/dkIAAABbjv92QgAAwMDg/3ZCAACAJjMAd0IAAECMhQB3QgAAAPLXAHdCAADAVyoBd0IAAIC9fAF3QgAAQCPPAXdCAAAAiSECd0IAAMDucwJ3QgAAgFTGAndCAABAuhgDd0IAAAAgawN3QgAAwIW9A3dCAACA6w8Ed0IAAEBRYgR3QgAAALe0BHdCAADAHAcFd0IAAICCWQV3QgAAQOirBXdCAAAATv4Fd0IAAMCzUAZ3QgAAgBmjBndCAABAf/UGd0IAAADlRwd3QgAAwEqaB3dCAACAsOwHd0IAAEAWPwh3QgAAAHyRCHdCAADA4eMId0IAAIBHNgl3QgAAQK2ICXdCAAAAE9sJd0IAAMB4LQp3QgAAgN5/CndCAABARNIKd0IAAACqJAt3QgAAwA93C3dCAACAdckLd0IAAEDbGwx3QgAAAEFuDHdCAADApsAMd0IAAIAMEw13QgAAQHJlDXdCAAAA2LcNd0IAAMA9Cg53QgAAgKNcDndCAABACa8Od0IAAABvAQ93QgAAwNRTD3dCAACAOqYPd0IAAECg+A93QgAAAAZLEHdCAADAa50Qd0IAAIDR7xB3QgAAQDdCEXdCAAAAnZQRd0IAAMAC5xF3QgAAgGg5EndCAABAzosSd0IAAAA03hJ3QgAAwJkwE3dCAACA/4ITd0IAAEBl1RN3QgAAAMsnFHdCAADAMHoUd0IAAICWzBR3QgAAQPweFXdCAAAAYnEVd0IAAMDHwxV3QgAAgC0WFndCAABAk2gWd0IAAAD5uhZ3QgAAwF4NF3dCAACAxF8Xd0IAAEAqshd3QgAAAJAEGHdCAADA9VYYd0IAAIBbqRh3QgAAQMH7GHdCAAAAJ04Zd0IAAMCMoBl3QgAAgPLyGXdCAABAWEUad0IAAAC+lxp3QgAAwCPqGndCAACAiTwbd0IAAEDvjht3QgAAAFXhG3dCAADAujMcd0IAAIAghhx3QgAAQIbYHHdCAAAA7Codd0IAAMBRfR13QgAAgLfPHXdCAABAHSIed0IAAACDdB53QgAAwOjGHndCAACAThkfd0IAAEC0ax93QgAAABq+H3dCAADAfxAgd0IAAIDlYiB3QgAAQEu1IHdCAAAAsQchd0IAAMAWWiF3QgAAgHysIXdCAABA4v4hd0IAAABIUSJ3QgAAwK2jIndCAACAE/Yid0IAAEB5SCN3QgAAAN+aI3dCAADARO0jd0IAAICqPyR3QgAAQBCSJHdCAAAAduQkd0IAAMDbNiV3QgAAgEGJJXdCAABAp9sld0IAAAANLiZ3QgAAwHKAJndCAACA2NImd0IAAEA+JSd3QgAAAKR3J3dCAADACcond0IAAIBvHCh3QgAAQNVuKHdCAAAAO8Eod0IAAMCgEyl3QgAAgAZmKXdCAABAbLgpd0IAAADSCip3QgAAwDddKndCAACAna8qd0IAAEADAit3QgAAAGlUK3dCAADAzqYrd0IAAIA0+St3QgAAQJpLLHdCAAAAAJ4sd0IAAMBl8Cx3QgAAgMtCLXdCAABAMZUtd0IAAACX5y13QgAAwPw5LndCAACAYowud0IAAEDI3i53QgAAAC4xL3dCAADAk4Mvd0IAAID51S93QgAAQF8oMHdCAAAAxXowd0IAAMAqzTB3QgAAgJAfMXdCAABA9nExd0IAAABcxDF3QgAAwMEWMndCAACAJ2kyd0IAAECNuzJ3QgAAAPMNM3dCAADAWGAzd0IAAIC+sjN3QgAAQCQFNHdCAAAAilc0d0IAAMDvqTR3Qg==\",\"dtype\":\"float64\",\"shape\":[182]},\"y\":{\"__ndarray__\":\"AAAAAAAAAAAAAAAAAAAAAAAAAAAAAAAAAAAAAAAAAAAAAAAAAAAAAAAAAAAAAAAAAAAAAAAAAAAAAAAAAAAAAAAAAAAAAIAzAABQNQAAhDYAAB43AABlNwAAizcAAKg3AIDMNwCA9DcAAA84AIAkOACAOzgAQFQ4AMBuOACAhTgAoJQ4AMCkOADgtTgAQMg4AODbOADA8DgAkAM5AIAPOQBAHDkA0Ck5AFA4OQDQRzkAUFg5APBpOQDAfDkAaIg5ACCTOQCQnjkAyKo5ANC3OQDAxTkAoNQ5AIDkOQBw9TkAwAM6AGQNOgCwFzoArCI6AGguOgDsOjoASEg6AIxWOgDEZToAAHY6AKqDOgDqjDoAypY6AFKhOgCQrDoAkLg6AF7FOgAG0zoAmuE6ACjxOgDgADsAugk7ACwTOwA/HTsA/yc7AHYzOwCxPzsAvUw7AKdaOwB+aTsAUXk7gBiFO4AXjjsAr5c7AOmhOwDQrDsAb7g7gNHEO4AE0jsAFeA7ABHvO4AH/ztABAg8ABIRPAC2GjzA+SQ8wOYvPICHOzzA5kc8QBBVPMAPYzwA8nE8QOKAPIBKiTwgOZI8oLWbPCDIpTzAeLA8INC7PEDXxzxgl9Q8ABriPABp8DyAjv88cMoHPWBDED1gNxk98KsiPZCmLD3ALDc9AERCPcDxTT1gO1o9ECZnPeC2dD1QeYE96O6IPUi+kD1Q6Zg9qHGhPaBYqj1An7M9QEa9PehNxz0YttE9QH7cPVCl5z2wKfM9SAn/PbigBT5w5ws+5FYSPuDsGD7kph8+LIImPqh7LT4MkDQ+0Ls7PjD7Qj5ASko+7KRRPvwGWT4obGA+HNBnPoQubz4Qg3Y+iMl9Pup+gj78DYY+GJCJPnYDjT5sZpA+cLeTPiD1lj48Hpo+rDGdPoAuoD7sE6M+UOGlPi6WqD4wMqs+ILWtPuoesD6Yb7I+VKe0PlzGtj4=\",\"dtype\":\"float32\",\"shape\":[182]}},\"selected\":{\"id\":\"13372\"},\"selection_policy\":{\"id\":\"13371\"}},\"id\":\"13321\",\"type\":\"ColumnDataSource\"},{\"attributes\":{\"axis_label\":\"occupancy\",\"formatter\":{\"id\":\"13328\"},\"ticker\":{\"id\":\"13303\"}},\"id\":\"13302\",\"type\":\"LinearAxis\"},{\"attributes\":{\"data_source\":{\"id\":\"13321\"},\"glyph\":{\"id\":\"13323\"},\"hover_glyph\":null,\"muted_glyph\":null,\"name\":\"_Fit_(S_0-S)\",\"nonselection_glyph\":{\"id\":\"13324\"},\"selection_glyph\":null,\"view\":{\"id\":\"13326\"}},\"id\":\"13325\",\"type\":\"GlyphRenderer\"},{\"attributes\":{\"label\":{\"value\":\"Fit_(S_0-S)\"},\"renderers\":[{\"id\":\"13325\"}]},\"id\":\"13347\",\"type\":\"LegendItem\"},{\"attributes\":{\"line_alpha\":0.8,\"line_color\":\"#1b9e77\",\"line_dash\":[6],\"line_width\":1.5,\"x\":{\"field\":\"x\"},\"y\":{\"field\":\"y\"}},\"id\":\"13323\",\"type\":\"Line\"},{\"attributes\":{},\"id\":\"13303\",\"type\":\"BasicTicker\"},{\"attributes\":{\"source\":{\"id\":\"13321\"}},\"id\":\"13326\",\"type\":\"CDSView\"},{\"attributes\":{\"source\":{\"id\":\"13348\"}},\"id\":\"13353\",\"type\":\"CDSView\"},{\"attributes\":{},\"id\":\"13402\",\"type\":\"Selection\"},{\"attributes\":{\"label\":{\"value\":\"Fit_D\"},\"renderers\":[{\"id\":\"13380\"}]},\"id\":\"13405\",\"type\":\"LegendItem\"},{\"attributes\":{},\"id\":\"13434\",\"type\":\"Selection\"},{\"attributes\":{\"axis\":{\"id\":\"13302\"},\"dimension\":1,\"ticker\":null},\"id\":\"13305\",\"type\":\"Grid\"},{\"attributes\":{},\"id\":\"13330\",\"type\":\"DatetimeTickFormatter\"},{\"attributes\":{\"data\":{\"x\":{\"__ndarray__\":\"AAAA/2f6dkIAAMBkuvp2QgAAgMoM+3ZCAABAMF/7dkIAAACWsft2QgAAwPsD/HZCAACAYVb8dkIAAEDHqPx2QgAAAC37/HZCAADAkk39dkIAAID4n/12QgAAQF7y/XZCAAAAxET+dkIAAMApl/52QgAAgI/p/nZCAABA9Tv/dkIAAABbjv92QgAAwMDg/3ZCAACAJjMAd0IAAECMhQB3QgAAAPLXAHdCAADAVyoBd0IAAIC9fAF3QgAAQCPPAXdCAAAAiSECd0IAAMDucwJ3QgAAgFTGAndCAABAuhgDd0IAAAAgawN3QgAAwIW9A3dCAACA6w8Ed0IAAEBRYgR3QgAAALe0BHdCAADAHAcFd0IAAICCWQV3QgAAQOirBXdCAAAATv4Fd0IAAMCzUAZ3QgAAgBmjBndCAABAf/UGd0IAAADlRwd3QgAAwEqaB3dCAACAsOwHd0IAAEAWPwh3QgAAAHyRCHdCAADA4eMId0IAAIBHNgl3QgAAQK2ICXdCAAAAE9sJd0IAAMB4LQp3QgAAgN5/CndCAABARNIKd0IAAACqJAt3QgAAwA93C3dCAACAdckLd0IAAEDbGwx3QgAAAEFuDHdCAADApsAMd0IAAIAMEw13QgAAQHJlDXdCAAAA2LcNd0IAAMA9Cg53QgAAgKNcDndCAABACa8Od0IAAABvAQ93QgAAwNRTD3dCAACAOqYPd0IAAECg+A93QgAAAAZLEHdCAADAa50Qd0IAAIDR7xB3QgAAQDdCEXdCAAAAnZQRd0IAAMAC5xF3QgAAgGg5EndCAABAzosSd0IAAAA03hJ3QgAAwJkwE3dCAACA/4ITd0IAAEBl1RN3QgAAAMsnFHdCAADAMHoUd0IAAICWzBR3QgAAQPweFXdCAAAAYnEVd0IAAMDHwxV3QgAAgC0WFndCAABAk2gWd0IAAAD5uhZ3QgAAwF4NF3dCAACAxF8Xd0IAAEAqshd3QgAAAJAEGHdCAADA9VYYd0IAAIBbqRh3QgAAQMH7GHdCAAAAJ04Zd0IAAMCMoBl3QgAAgPLyGXdCAABAWEUad0IAAAC+lxp3QgAAwCPqGndCAACAiTwbd0IAAEDvjht3QgAAAFXhG3dCAADAujMcd0IAAIAghhx3QgAAQIbYHHdCAAAA7Codd0IAAMBRfR13QgAAgLfPHXdCAABAHSIed0IAAACDdB53QgAAwOjGHndCAACAThkfd0IAAEC0ax93QgAAABq+H3dCAADAfxAgd0IAAIDlYiB3QgAAQEu1IHdCAAAAsQchd0IAAMAWWiF3QgAAgHysIXdCAABA4v4hd0IAAABIUSJ3QgAAwK2jIndCAACAE/Yid0IAAEB5SCN3QgAAAN+aI3dCAADARO0jd0IAAICqPyR3QgAAQBCSJHdCAAAAduQkd0IAAMDbNiV3QgAAgEGJJXdCAABAp9sld0IAAAANLiZ3QgAAwHKAJndCAACA2NImd0IAAEA+JSd3QgAAAKR3J3dCAADACcond0IAAIBvHCh3QgAAQNVuKHdCAAAAO8Eod0IAAMCgEyl3QgAAgAZmKXdCAABAbLgpd0IAAADSCip3QgAAwDddKndCAACAna8qd0IAAEADAit3QgAAAGlUK3dCAADAzqYrd0IAAIA0+St3QgAAQJpLLHdCAAAAAJ4sd0IAAMBl8Cx3QgAAgMtCLXdCAABAMZUtd0IAAACX5y13QgAAwPw5LndCAACAYowud0IAAEDI3i53QgAAAC4xL3dCAADAk4Mvd0IAAID51S93QgAAQF8oMHdCAAAAxXowd0IAAMAqzTB3QgAAgJAfMXdCAABA9nExd0IAAABcxDF3QgAAwMEWMndCAACAJ2kyd0IAAECNuzJ3QgAAAPMNM3dCAADAWGAzd0IAAIC+sjN3QgAAQCQFNHdCAAAAilc0d0IAAMDvqTR3Qg==\",\"dtype\":\"float64\",\"shape\":[182]},\"y\":{\"__ndarray__\":\"AAAAAAAAAAAAAAAAAAAAAAAAAAAAAAAAAAAAAAAAAAAAAAAAAAAAAAAAAAAAAAAAAAAAAAAAAAAAAAAAAAAAAAAAAAAAAAAAAAAAAAAAAAAAAAAAAAAAAAAAAAAAAAAAAAAAAAAAAAAAAAAAAAAAAAAAAAAAAAAAAAAAAAAAAAAAAAAAAAAAAAAAAAAAAAAAAAAAAAAAAAAAAAAAAAAAAAAAAAAAAAAAAAAAACrmuwKqjwwLB8ibErEQfhlgcpgfuqIGJZQVrymh0KctZdHtMPstezNnEEo1eQaDNqMGHTf6SmM3QNiJN8WjpjfOsMo30qryN2QIDjghcyM4sDo6OOHNUjjrNG04va6EOEqrkzippqM42Li0OCb1xjgCbdo4IDTvOLqwAjkChw45+CkbOU2nKDmbDTc5k2xGOQPVVjnWWGg5JAt7OSSAhzkBJ5I5w4WdOc2oqTlWnbY5dnHEOTo00zmv9eI598bzOSzdAjqpcQw6WasWOlWVITp0Oy06Vqo5OnPvRjopGVU6yzZkOrBYdDoiyII6D/iLOgfGlTqaPKA6CmerOllRtzpRCMQ6lpnROq4T4DoVhu86pQAAO2/LCDvELBI7mi4cO43bJjvpPjI7smQ+O7FZSzuDK1k7oOhnO2ugdzugMYQ7QSGNO1Woljuq0KA7q6SrO2QvtzuQfMM7npjQO7uQ3jvdcu07zE39O5cYBzzGFhA8MqoZPBfcIzw0ti480EI6PL6MRjxkn1M8v4ZhPGZPcDxHA4A8B12IPDI8kTxaqJo8ZamkPIxHrzxei7o8u33GPNIn0zwjk+A8dcnuPNTU/TzG3wY9EEoPPZ8uGD3ekiE9QXwrPUPwNT1Z9EA97I1MPU7CWD2vlmU9EBBzPZuZgD1OAog9McSPPR/hlz22WqA9TDKpPelosj07/7s9jvXFPcRL0D1LAds9FRXmPZKF8T2oUP092LkEPrn1Cj4=\",\"dtype\":\"float32\",\"shape\":[182]}},\"selected\":{\"id\":\"13836\"},\"selection_policy\":{\"id\":\"13835\"}},\"id\":\"13406\",\"type\":\"ColumnDataSource\"},{\"attributes\":{\"mantissas\":[1,2,5],\"max_interval\":500.0,\"num_minor_ticks\":0},\"id\":\"13332\",\"type\":\"AdaptiveTicker\"},{\"attributes\":{\"data_source\":{\"id\":\"13348\"},\"glyph\":{\"id\":\"13350\"},\"hover_glyph\":null,\"muted_glyph\":null,\"name\":\"_Fit_I\",\"nonselection_glyph\":{\"id\":\"13351\"},\"selection_glyph\":null,\"view\":{\"id\":\"13353\"}},\"id\":\"13352\",\"type\":\"GlyphRenderer\"},{\"attributes\":{\"line_alpha\":0.8,\"line_color\":\"#d95f02\",\"line_dash\":[6],\"line_width\":1.5,\"x\":{\"field\":\"x\"},\"y\":{\"field\":\"y\"}},\"id\":\"13350\",\"type\":\"Line\"},{\"attributes\":{},\"id\":\"13306\",\"type\":\"PanTool\"},{\"attributes\":{},\"id\":\"13371\",\"type\":\"UnionRenderers\"},{\"attributes\":{\"base\":60,\"mantissas\":[1,2,5,10,15,20,30],\"max_interval\":1800000.0,\"min_interval\":1000.0,\"num_minor_ticks\":0},\"id\":\"13333\",\"type\":\"AdaptiveTicker\"},{\"attributes\":{\"line_alpha\":0.1,\"line_color\":\"#d95f02\",\"line_dash\":[6],\"line_width\":1.5,\"x\":{\"field\":\"x\"},\"y\":{\"field\":\"y\"}},\"id\":\"13351\",\"type\":\"Line\"},{\"attributes\":{},\"id\":\"13307\",\"type\":\"WheelZoomTool\"},{\"attributes\":{\"base\":24,\"mantissas\":[1,2,4,6,8,12],\"max_interval\":43200000.0,\"min_interval\":3600000.0,\"num_minor_ticks\":0},\"id\":\"13334\",\"type\":\"AdaptiveTicker\"},{\"attributes\":{\"overlay\":{\"id\":\"13313\"}},\"id\":\"13308\",\"type\":\"BoxZoomTool\"},{\"attributes\":{},\"id\":\"13433\",\"type\":\"UnionRenderers\"},{\"attributes\":{\"text\":\"Germany\"},\"id\":\"13288\",\"type\":\"Title\"},{\"attributes\":{\"line_alpha\":0.1,\"line_color\":\"#e7298a\",\"line_dash\":[6],\"line_width\":1.5,\"x\":{\"field\":\"x\"},\"y\":{\"field\":\"y\"}},\"id\":\"13409\",\"type\":\"Line\"},{\"attributes\":{},\"id\":\"13309\",\"type\":\"ResetTool\"},{\"attributes\":{\"days\":[1,2,3,4,5,6,7,8,9,10,11,12,13,14,15,16,17,18,19,20,21,22,23,24,25,26,27,28,29,30,31]},\"id\":\"13335\",\"type\":\"DaysTicker\"},{\"attributes\":{},\"id\":\"13372\",\"type\":\"Selection\"},{\"attributes\":{\"label\":{\"value\":\"Fit_I\"},\"renderers\":[{\"id\":\"13352\"}]},\"id\":\"13375\",\"type\":\"LegendItem\"},{\"attributes\":{\"days\":[1,4,7,10,13,16,19,22,25,28]},\"id\":\"13336\",\"type\":\"DaysTicker\"},{\"attributes\":{},\"id\":\"13310\",\"type\":\"SaveTool\"},{\"attributes\":{\"data_source\":{\"id\":\"13406\"},\"glyph\":{\"id\":\"13408\"},\"hover_glyph\":null,\"muted_glyph\":null,\"name\":\"_Fit_C\",\"nonselection_glyph\":{\"id\":\"13409\"},\"selection_glyph\":null,\"view\":{\"id\":\"13411\"}},\"id\":\"13410\",\"type\":\"GlyphRenderer\"},{\"attributes\":{},\"id\":\"13292\",\"type\":\"DataRange1d\"},{\"attributes\":{\"line_alpha\":0.8,\"line_color\":\"#e7298a\",\"line_dash\":[6],\"line_width\":1.5,\"x\":{\"field\":\"x\"},\"y\":{\"field\":\"y\"}},\"id\":\"13408\",\"type\":\"Line\"},{\"attributes\":{},\"id\":\"13290\",\"type\":\"DataRange1d\"},{\"attributes\":{\"source\":{\"id\":\"13406\"}},\"id\":\"13411\",\"type\":\"CDSView\"},{\"attributes\":{\"overlay\":{\"id\":\"13312\"}},\"id\":\"13311\",\"type\":\"BoxSelectTool\"},{\"attributes\":{\"days\":[1,8,15,22]},\"id\":\"13337\",\"type\":\"DaysTicker\"},{\"attributes\":{\"days\":[1,15]},\"id\":\"13338\",\"type\":\"DaysTicker\"},{\"attributes\":{\"data\":{\"x\":{\"__ndarray__\":\"AAAA/2f6dkIAAMBkuvp2QgAAgMoM+3ZCAABAMF/7dkIAAACWsft2QgAAwPsD/HZCAACAYVb8dkIAAEDHqPx2QgAAAC37/HZCAADAkk39dkIAAID4n/12QgAAQF7y/XZCAAAAxET+dkIAAMApl/52QgAAgI/p/nZCAABA9Tv/dkIAAABbjv92QgAAwMDg/3ZCAACAJjMAd0IAAECMhQB3QgAAAPLXAHdCAADAVyoBd0IAAIC9fAF3QgAAQCPPAXdCAAAAiSECd0IAAMDucwJ3QgAAgFTGAndCAABAuhgDd0IAAAAgawN3QgAAwIW9A3dCAACA6w8Ed0IAAEBRYgR3QgAAALe0BHdCAADAHAcFd0IAAICCWQV3QgAAQOirBXdCAAAATv4Fd0IAAMCzUAZ3QgAAgBmjBndCAABAf/UGd0IAAADlRwd3QgAAwEqaB3dCAACAsOwHd0IAAEAWPwh3QgAAAHyRCHdCAADA4eMId0IAAIBHNgl3QgAAQK2ICXdCAAAAE9sJd0IAAMB4LQp3QgAAgN5/CndCAABARNIKd0IAAACqJAt3QgAAwA93C3dCAACAdckLd0IAAEDbGwx3QgAAAEFuDHdCAADApsAMd0IAAIAMEw13QgAAQHJlDXdCAAAA2LcNd0IAAMA9Cg53QgAAgKNcDndCAABACa8Od0IAAABvAQ93QgAAwNRTD3dCAACAOqYPd0IAAECg+A93QgAAAAZLEHdCAADAa50Qd0IAAIDR7xB3QgAAQDdCEXdCAAAAnZQRd0IAAMAC5xF3QgAAgGg5EndCAABAzosSd0IAAAA03hJ3QgAAwJkwE3dCAACA/4ITd0IAAEBl1RN3QgAAAMsnFHdCAADAMHoUd0IAAICWzBR3QgAAQPweFXdCAAAAYnEVd0IAAMDHwxV3QgAAgC0WFndCAABAk2gWd0IAAAD5uhZ3QgAAwF4NF3dCAACAxF8Xd0IAAEAqshd3QgAAAJAEGHdCAADA9VYYd0IAAIBbqRh3QgAAQMH7GHdCAAAAJ04Zd0IAAMCMoBl3QgAAgPLyGXdCAABAWEUad0IAAAC+lxp3QgAAwCPqGndCAACAiTwbd0IAAEDvjht3QgAAAFXhG3dCAADAujMcd0IAAIAghhx3QgAAQIbYHHdCAAAA7Codd0IAAMBRfR13QgAAgLfPHXdCAABAHSIed0IAAACDdB53QgAAwOjGHndCAACAThkfd0IAAEC0ax93QgAAABq+H3dCAADAfxAgd0IAAIDlYiB3QgAAQEu1IHdCAAAAsQchd0IAAMAWWiF3QgAAgHysIXdCAABA4v4hd0IAAABIUSJ3QgAAwK2jIndCAACAE/Yid0IAAEB5SCN3QgAAAN+aI3dCAADARO0jd0IAAICqPyR3QgAAQBCSJHdCAAAAduQkd0IAAMDbNiV3QgAAgEGJJXdCAABAp9sld0IAAAANLiZ3QgAAwHKAJndCAACA2NImd0IAAEA+JSd3QgAAAKR3J3dCAADACcond0IAAIBvHCh3QgAAQNVuKHdCAAAAO8Eod0IAAMCgEyl3QgAAgAZmKXdCAABAbLgpd0IAAADSCip3QgAAwDddKndCAACAna8qd0IAAEADAit3QgAAAGlUK3dCAADAzqYrd0IAAIA0+St3QgAAQJpLLHdCAAAAAJ4sd0IAAMBl8Cx3QgAAgMtCLXdCAABAMZUtd0IAAACX5y13QgAAwPw5LndCAACAYowud0IAAEDI3i53QgAAAC4xL3dCAADAk4Mvd0IAAID51S93QgAAQF8oMHdCAAAAxXowd0IAAMAqzTB3QgAAgJAfMXdCAABA9nExd0IAAABcxDF3QgAAwMEWMndCAACAJ2kyd0IAAECNuzJ3QgAAAPMNM3dCAADAWGAzd0IAAIC+sjN3QgAAQCQFNHdCAAAAilc0d0IAAMDvqTR3Qg==\",\"dtype\":\"float64\",\"shape\":[182]},\"y\":{\"__ndarray__\":\"AAAAAAAAAAAAAAAAAAAAAAAAAAAAAAAAAAAAAAAAAAAAAAAAAAAAAEwwCgH5KJkI8M55Dx/slRVKegQb6IesH6wGpiMI0e0m9DaBKe6bXyv/8qss/1qPLV6nJS7q058uPu8ML6hTay/Y1rwvsNsSMIWZXjCADKUwthvwMG+pKzEylXExlHunMY365DEMcRoyB6xNMgRDhzIUzK8yINvhMll5DzP7UzQz5U1gM9YcijMqdKgz+JLLM2Hb8zNO1RA0N6wqNJSbRzQaymc0Sa6FNDo7mTROm6401sbFNNVv3jSXW/g0tfYJNevCGDWjmig1q4E5NdmGSzUtwV41D0lzNaKahDUxTpA1jMucNWQgqjV5W7g1YozHNZ/D1zXJEuk1uIz7NciiBzZlKRI2pmUdNsNjKTbFMDY2ldpDNgtwUjb7AGI2Sp5yNv4sgjamo4s2XL2VNhCFoDZqBqw22024NqZoxTbvZNM2y1HiNk0/8jZMnwE3+bAKN2leFDf9sR43xLYpN4V4NTfOA0I3/WVPN0+tXTfu6Gw3/yh9N1k/hzcofpA3qFqaNzTfpDfPFrA3Lg28N8POyDfJaNY3TunkNz9f9Dc7bQI44jULOIGSFDiOjB44ES4pOKqBNDiakkA4ymxNONMcWzgFsGk4cjR5OHrchDiZpo042ACXOOjzoDjuiKs4h8m2OMm/wjhKds84HvjcON1Q6zijjPo4CFwFOSbwDTmBCRc5MK8gOYvoKjknvTU51jRBOaFXTTnGLVo5sb9nOfYVdjmmnII5QJmKOTgFkzn/5Js5AT2lOaERrzkuZ7k53UHEOcClzzm8lts5fhjoOXEu9TnabQE6hpEIOmwDEDqExBc6htUfOuQ2KDrI6DA6B+s5OiM9QzpA3kw6Is1WOikIYTpOjWs6H1p2OuC1gDp1X4Y69SeMOlINkjpNDZg6dCWeOilTpDqlk6o6+eOwOhZBtzo=\",\"dtype\":\"float32\",\"shape\":[182]}},\"selected\":{\"id\":\"13434\"},\"selection_policy\":{\"id\":\"13433\"}},\"id\":\"13376\",\"type\":\"ColumnDataSource\"},{\"attributes\":{\"months\":[0,1,2,3,4,5,6,7,8,9,10,11]},\"id\":\"13339\",\"type\":\"MonthsTicker\"},{\"attributes\":{\"bottom_units\":\"screen\",\"fill_alpha\":0.5,\"fill_color\":\"lightgrey\",\"left_units\":\"screen\",\"level\":\"overlay\",\"line_alpha\":1.0,\"line_color\":\"black\",\"line_dash\":[4,4],\"line_width\":2,\"render_mode\":\"css\",\"right_units\":\"screen\",\"top_units\":\"screen\"},\"id\":\"13313\",\"type\":\"BoxAnnotation\"},{\"attributes\":{\"bottom_units\":\"screen\",\"fill_alpha\":0.5,\"fill_color\":\"lightgrey\",\"left_units\":\"screen\",\"level\":\"overlay\",\"line_alpha\":1.0,\"line_color\":\"black\",\"line_dash\":[4,4],\"line_width\":2,\"render_mode\":\"css\",\"right_units\":\"screen\",\"top_units\":\"screen\"},\"id\":\"13312\",\"type\":\"BoxAnnotation\"},{\"attributes\":{\"months\":[0,2,4,6,8,10]},\"id\":\"13340\",\"type\":\"MonthsTicker\"}],\"root_ids\":[\"13287\"]},\"title\":\"Bokeh Application\",\"version\":\"2.0.2\"}};\n",
       "  var render_items = [{\"docid\":\"2c441a7c-a430-4be7-a0ed-e4b5746cd735\",\"notebook_comms_target\":\"13839\",\"root_ids\":[\"13287\"],\"roots\":{\"13287\":\"9e815397-fbfe-46ea-a2eb-d3b97a8152ea\"}}];\n",
       "  root.Bokeh.embed.embed_items_notebook(docs_json, render_items);\n",
       "\n",
       "  }\n",
       "  if (root.Bokeh !== undefined) {\n",
       "    embed_document(root);\n",
       "  } else {\n",
       "    var attempts = 0;\n",
       "    var timer = setInterval(function(root) {\n",
       "      if (root.Bokeh !== undefined) {\n",
       "        clearInterval(timer);\n",
       "        embed_document(root);\n",
       "      } else {\n",
       "        attempts++;\n",
       "        if (attempts > 100) {\n",
       "          clearInterval(timer);\n",
       "          console.log(\"Bokeh: ERROR: Unable to run BokehJS code because BokehJS library is missing\");\n",
       "        }\n",
       "      }\n",
       "    }, 10, root)\n",
       "  }\n",
       "})(window);"
      ],
      "application/vnd.bokehjs_exec.v0+json": ""
     },
     "metadata": {
      "application/vnd.bokehjs_exec.v0+json": {
       "id": "13287"
      }
     },
     "output_type": "display_data"
    },
    {
     "data": {
      "text/html": [
       "\n",
       "\n",
       "\n",
       "\n",
       "\n",
       "\n",
       "  <div class=\"bk-root\" id=\"11ebe712-f8b3-4d04-9c54-9278e69c5500\" data-root-id=\"14002\"></div>\n"
      ]
     },
     "metadata": {},
     "output_type": "display_data"
    },
    {
     "data": {
      "application/javascript": [
       "(function(root) {\n",
       "  function embed_document(root) {\n",
       "    \n",
       "  var docs_json = {\"b4835572-1173-4369-8e61-aa0e12061535\":{\"roots\":{\"references\":[{\"attributes\":{\"background_fill_color\":\"#efefef\",\"below\":[{\"id\":\"14013\"}],\"center\":[{\"id\":\"14016\"},{\"id\":\"14020\"},{\"id\":\"14061\"}],\"left\":[{\"id\":\"14017\"}],\"name\":\"_figure_R\",\"plot_height\":400,\"plot_width\":900,\"renderers\":[{\"id\":\"14040\"}],\"title\":{\"id\":\"14003\"},\"toolbar\":{\"id\":\"14029\"},\"x_range\":{\"id\":\"14005\"},\"x_scale\":{\"id\":\"14009\"},\"y_range\":{\"id\":\"14007\"},\"y_scale\":{\"id\":\"14011\"}},\"id\":\"14002\",\"subtype\":\"Figure\",\"type\":\"Plot\"},{\"attributes\":{\"axis_label\":\"time\",\"formatter\":{\"id\":\"14045\"},\"major_label_orientation\":0.7853981633974483,\"ticker\":{\"id\":\"14014\"}},\"id\":\"14013\",\"type\":\"DatetimeAxis\"},{\"attributes\":{\"base\":60,\"mantissas\":[1,2,5,10,15,20,30],\"max_interval\":1800000.0,\"min_interval\":1000.0,\"num_minor_ticks\":0},\"id\":\"14048\",\"type\":\"AdaptiveTicker\"},{\"attributes\":{},\"id\":\"14009\",\"type\":\"LinearScale\"},{\"attributes\":{\"base\":24,\"mantissas\":[1,2,4,6,8,12],\"max_interval\":43200000.0,\"min_interval\":3600000.0,\"num_minor_ticks\":0},\"id\":\"14049\",\"type\":\"AdaptiveTicker\"},{\"attributes\":{\"days\":[1,2,3,4,5,6,7,8,9,10,11,12,13,14,15,16,17,18,19,20,21,22,23,24,25,26,27,28,29,30,31]},\"id\":\"14050\",\"type\":\"DaysTicker\"},{\"attributes\":{},\"id\":\"14007\",\"type\":\"DataRange1d\"},{\"attributes\":{\"days\":[1,4,7,10,13,16,19,22,25,28]},\"id\":\"14051\",\"type\":\"DaysTicker\"},{\"attributes\":{\"days\":[1,8,15,22]},\"id\":\"14052\",\"type\":\"DaysTicker\"},{\"attributes\":{\"text\":\"Germany_R\"},\"id\":\"14003\",\"type\":\"Title\"},{\"attributes\":{\"days\":[1,15]},\"id\":\"14053\",\"type\":\"DaysTicker\"},{\"attributes\":{},\"id\":\"14481\",\"type\":\"UnionRenderers\"},{\"attributes\":{\"data\":{\"x\":{\"__ndarray__\":\"AAAA/2f6dkIAAMBkuvp2QgAAgMoM+3ZCAABAMF/7dkIAAACWsft2QgAAwPsD/HZCAACAYVb8dkIAAEDHqPx2QgAAAC37/HZCAADAkk39dkIAAID4n/12QgAAQF7y/XZCAAAAxET+dkIAAMApl/52QgAAgI/p/nZCAABA9Tv/dkIAAABbjv92QgAAwMDg/3ZCAACAJjMAd0IAAECMhQB3QgAAAPLXAHdCAADAVyoBd0IAAIC9fAF3QgAAQCPPAXdCAAAAiSECd0IAAMDucwJ3QgAAgFTGAndCAABAuhgDd0IAAAAgawN3QgAAwIW9A3dCAACA6w8Ed0IAAEBRYgR3QgAAALe0BHdCAADAHAcFd0IAAICCWQV3QgAAQOirBXdCAAAATv4Fd0IAAMCzUAZ3QgAAgBmjBndCAABAf/UGd0IAAADlRwd3QgAAwEqaB3dCAACAsOwHd0IAAEAWPwh3QgAAAHyRCHdCAADA4eMId0IAAIBHNgl3QgAAQK2ICXdCAAAAE9sJd0IAAMB4LQp3QgAAgN5/CndCAABARNIKd0IAAACqJAt3QgAAwA93C3dCAACAdckLd0IAAEDbGwx3QgAAAEFuDHdCAADApsAMd0IAAIAMEw13QgAAQHJlDXdCAAAA2LcNd0IAAMA9Cg53QgAAgKNcDndCAABACa8Od0IAAABvAQ93QgAAwNRTD3dCAACAOqYPd0IAAECg+A93QgAAAAZLEHdCAADAa50Qd0IAAIDR7xB3QgAAQDdCEXdCAAAAnZQRd0IAAMAC5xF3QgAAgGg5EndCAABAzosSd0IAAAA03hJ3QgAAwJkwE3dCAACA/4ITd0IAAEBl1RN3QgAAAMsnFHdCAADAMHoUd0IAAICWzBR3QgAAQPweFXdCAAAAYnEVd0IAAMDHwxV3QgAAgC0WFndCAABAk2gWd0IAAAD5uhZ3QgAAwF4NF3dCAACAxF8Xd0IAAEAqshd3QgAAAJAEGHdCAADA9VYYd0IAAIBbqRh3QgAAQMH7GHdCAAAAJ04Zd0IAAMCMoBl3QgAAgPLyGXdCAABAWEUad0IAAAC+lxp3QgAAwCPqGndCAACAiTwbd0IAAEDvjht3QgAAAFXhG3dCAADAujMcd0IAAIAghhx3QgAAQIbYHHdCAAAA7Codd0IAAMBRfR13QgAAgLfPHXdCAABAHSIed0IAAACDdB53QgAAwOjGHndCAACAThkfd0IAAEC0ax93QgAAABq+H3dCAADAfxAgd0IAAIDlYiB3QgAAQEu1IHdCAAAAsQchd0IAAMAWWiF3QgAAgHysIXdCAABA4v4hd0IAAABIUSJ3QgAAwK2jIndCAACAE/Yid0IAAEB5SCN3QgAAAN+aI3dCAADARO0jd0IAAICqPyR3QgAAQBCSJHdCAAAAduQkd0IAAMDbNiV3QgAAgEGJJXdCAABAp9sld0IAAAANLiZ3QgAAwHKAJndCAACA2NImd0IAAEA+JSd3QgAAAKR3J3dCAADACcond0IAAIBvHCh3QgAAQNVuKHdCAAAAO8Eod0IAAMCgEyl3QgAAgAZmKXdCAABAbLgpd0IAAADSCip3QgAAwDddKndCAACAna8qd0IAAEADAit3QgAAAGlUK3dCAADAzqYrd0IAAIA0+St3QgAAQJpLLHdCAAAAAJ4sd0IAAMBl8Cx3QgAAgMtCLXdCAABAMZUtd0IAAACX5y13QgAAwPw5LndCAACAYowud0IAAEDI3i53QgAAAC4xL3dCAADAk4Mvd0IAAID51S93QgAAQF8oMHdCAAAAxXowd0IAAMAqzTB3QgAAgJAfMXdCAABA9nExd0IAAABcxDF3QgAAwMEWMndCAACAJ2kyd0IAAECNuzJ3QgAAAPMNM3dCAADAWGAzd0IAAIC+sjN3QgAAQCQFNHdCAAAAilc0d0IAAMDvqTR3Qg==\",\"dtype\":\"float64\",\"shape\":[182]},\"y\":{\"__ndarray__\":\"ZmamP2Zmpj9mZqY/ZmamP2Zmpj9mZqY/ZmamP2Zmpj9mZqY/ZmamP2Zmpj9mZqY/ZmamP2Zmpj9mZqY/ZmamP2Zmpj9mZqY/ZmamP2Zmpj9mZqY/ZmamP2Zmpj9mZqY/ZmamP2Zmpj9mZqY/ZmamP2Zmpj9mZqY/ZmamP2Zmpj9mZqY/ZmamP2Zmpj9mZqY/ZmamP2Zmpj9mZqY/ZmamP2Zmpj9mZqY/ZmamP2Zmpj9mZqY/ZmamP2Zmpj9mZqY/ZmamP2Zmpj9mZqY/ZmamP2Zmpj9mZqY/ZmamP2Zmpj9mZqY/ZmamP2Zmpj9mZqY/ZmamP2Zmpj9mZqY/ZmamP2Zmpj9mZqY/ZmamP2Zmpj9mZqY/ZmamP2Zmpj9mZqY/ZmamP2Zmpj9mZqY/ZmamP2Zmpj9mZqY/ZmamP2Zmpj9mZqY/ZmamP2Zmpj9mZqY/ZmamP2Zmpj9mZqY/ZmamP2Zmpj9mZqY/ZmamP2Zmpj9mZqY/ZmamP2Zmpj9mZqY/ZmamP2Zmpj9mZqY/ZmamP2Zmpj9mZqY/ZmamP2Zmpj9mZqY/ZmamP2Zmpj9mZqY/ZmamP2Zmpj9mZqY/ZmamP2Zmpj9mZqY/ZmamP2Zmpj9mZqY/ZmamP2Zmpj9mZqY/ZmamP2Zmpj9mZqY/ZmamP2Zmpj9mZqY/ZmamP2Zmpj9mZqY/ZmamP2Zmpj9mZqY/ZmamP2Zmpj9mZqY/ZmamP2Zmpj9mZqY/ZmamP2Zmpj9mZqY/ZmamP2Zmpj9mZqY/ZmamP2Zmpj9mZqY/ZmamP2Zmpj9mZqY/ZmamP2Zmpj9mZqY/ZmamP2Zmpj9mZqY/ZmamP2Zmpj9mZqY/ZmamP2Zmpj9mZqY/ZmamP2Zmpj9mZqY/ZmamP2Zmpj9mZqY/ZmamP2Zmpj9mZqY/ZmamP2Zmpj9mZqY/ZmamP2Zmpj9mZqY/ZmamP2Zmpj9mZqY/ZmamP2Zmpj8=\",\"dtype\":\"float32\",\"shape\":[182]}},\"selected\":{\"id\":\"14482\"},\"selection_policy\":{\"id\":\"14481\"}},\"id\":\"14036\",\"type\":\"ColumnDataSource\"},{\"attributes\":{},\"id\":\"14005\",\"type\":\"DataRange1d\"},{\"attributes\":{},\"id\":\"14024\",\"type\":\"ResetTool\"},{\"attributes\":{\"months\":[0,1,2,3,4,5,6,7,8,9,10,11]},\"id\":\"14054\",\"type\":\"MonthsTicker\"},{\"attributes\":{\"data_source\":{\"id\":\"14036\"},\"glyph\":{\"id\":\"14038\"},\"hover_glyph\":null,\"muted_glyph\":null,\"name\":\"_Fit_R\",\"nonselection_glyph\":{\"id\":\"14039\"},\"selection_glyph\":null,\"view\":{\"id\":\"14041\"}},\"id\":\"14040\",\"type\":\"GlyphRenderer\"},{\"attributes\":{},\"id\":\"14021\",\"type\":\"PanTool\"},{\"attributes\":{\"overlay\":{\"id\":\"14028\"}},\"id\":\"14023\",\"type\":\"BoxZoomTool\"},{\"attributes\":{\"months\":[0,2,4,6,8,10]},\"id\":\"14055\",\"type\":\"MonthsTicker\"},{\"attributes\":{\"line_alpha\":0.1,\"line_color\":\"#1b9e77\",\"line_dash\":[6],\"line_width\":1.5,\"x\":{\"field\":\"x\"},\"y\":{\"field\":\"y\"}},\"id\":\"14039\",\"type\":\"Line\"},{\"attributes\":{\"mantissas\":[1,2,5],\"max_interval\":500.0,\"num_minor_ticks\":0},\"id\":\"14047\",\"type\":\"AdaptiveTicker\"},{\"attributes\":{\"months\":[0,4,8]},\"id\":\"14056\",\"type\":\"MonthsTicker\"},{\"attributes\":{},\"id\":\"14022\",\"type\":\"WheelZoomTool\"},{\"attributes\":{},\"id\":\"14482\",\"type\":\"Selection\"},{\"attributes\":{\"months\":[0,6]},\"id\":\"14057\",\"type\":\"MonthsTicker\"},{\"attributes\":{},\"id\":\"14025\",\"type\":\"SaveTool\"},{\"attributes\":{\"axis\":{\"id\":\"14017\"},\"dimension\":1,\"ticker\":null},\"id\":\"14020\",\"type\":\"Grid\"},{\"attributes\":{},\"id\":\"14058\",\"type\":\"YearsTicker\"},{\"attributes\":{\"active_drag\":\"auto\",\"active_inspect\":\"auto\",\"active_multi\":null,\"active_scroll\":\"auto\",\"active_tap\":\"auto\",\"tools\":[{\"id\":\"14021\"},{\"id\":\"14022\"},{\"id\":\"14023\"},{\"id\":\"14024\"},{\"id\":\"14025\"},{\"id\":\"14026\"}]},\"id\":\"14029\",\"type\":\"Toolbar\"},{\"attributes\":{},\"id\":\"14045\",\"type\":\"DatetimeTickFormatter\"},{\"attributes\":{\"click_policy\":\"hide\",\"items\":[{\"id\":\"14062\"}]},\"id\":\"14061\",\"type\":\"Legend\"},{\"attributes\":{\"source\":{\"id\":\"14036\"}},\"id\":\"14041\",\"type\":\"CDSView\"},{\"attributes\":{\"label\":{\"value\":\"Fit_R\"},\"renderers\":[{\"id\":\"14040\"}]},\"id\":\"14062\",\"type\":\"LegendItem\"},{\"attributes\":{\"bottom_units\":\"screen\",\"fill_alpha\":0.5,\"fill_color\":\"lightgrey\",\"left_units\":\"screen\",\"level\":\"overlay\",\"line_alpha\":1.0,\"line_color\":\"black\",\"line_dash\":[4,4],\"line_width\":2,\"render_mode\":\"css\",\"right_units\":\"screen\",\"top_units\":\"screen\"},\"id\":\"14028\",\"type\":\"BoxAnnotation\"},{\"attributes\":{},\"id\":\"14018\",\"type\":\"BasicTicker\"},{\"attributes\":{\"bottom_units\":\"screen\",\"fill_alpha\":0.5,\"fill_color\":\"lightgrey\",\"left_units\":\"screen\",\"level\":\"overlay\",\"line_alpha\":1.0,\"line_color\":\"black\",\"line_dash\":[4,4],\"line_width\":2,\"render_mode\":\"css\",\"right_units\":\"screen\",\"top_units\":\"screen\"},\"id\":\"14027\",\"type\":\"BoxAnnotation\"},{\"attributes\":{\"axis\":{\"id\":\"14013\"},\"ticker\":null},\"id\":\"14016\",\"type\":\"Grid\"},{\"attributes\":{\"line_alpha\":0.8,\"line_color\":\"#1b9e77\",\"line_dash\":[6],\"line_width\":1.5,\"x\":{\"field\":\"x\"},\"y\":{\"field\":\"y\"}},\"id\":\"14038\",\"type\":\"Line\"},{\"attributes\":{\"overlay\":{\"id\":\"14027\"}},\"id\":\"14026\",\"type\":\"BoxSelectTool\"},{\"attributes\":{\"axis_label\":\"Rate\",\"formatter\":{\"id\":\"14043\"},\"ticker\":{\"id\":\"14018\"}},\"id\":\"14017\",\"type\":\"LinearAxis\"},{\"attributes\":{},\"id\":\"14043\",\"type\":\"BasicTickFormatter\"},{\"attributes\":{\"num_minor_ticks\":5,\"tickers\":[{\"id\":\"14047\"},{\"id\":\"14048\"},{\"id\":\"14049\"},{\"id\":\"14050\"},{\"id\":\"14051\"},{\"id\":\"14052\"},{\"id\":\"14053\"},{\"id\":\"14054\"},{\"id\":\"14055\"},{\"id\":\"14056\"},{\"id\":\"14057\"},{\"id\":\"14058\"}]},\"id\":\"14014\",\"type\":\"DatetimeTicker\"},{\"attributes\":{},\"id\":\"14011\",\"type\":\"LinearScale\"}],\"root_ids\":[\"14002\"]},\"title\":\"Bokeh Application\",\"version\":\"2.0.2\"}};\n",
       "  var render_items = [{\"docid\":\"b4835572-1173-4369-8e61-aa0e12061535\",\"notebook_comms_target\":\"14485\",\"root_ids\":[\"14002\"],\"roots\":{\"14002\":\"11ebe712-f8b3-4d04-9c54-9278e69c5500\"}}];\n",
       "  root.Bokeh.embed.embed_items_notebook(docs_json, render_items);\n",
       "\n",
       "  }\n",
       "  if (root.Bokeh !== undefined) {\n",
       "    embed_document(root);\n",
       "  } else {\n",
       "    var attempts = 0;\n",
       "    var timer = setInterval(function(root) {\n",
       "      if (root.Bokeh !== undefined) {\n",
       "        clearInterval(timer);\n",
       "        embed_document(root);\n",
       "      } else {\n",
       "        attempts++;\n",
       "        if (attempts > 100) {\n",
       "          clearInterval(timer);\n",
       "          console.log(\"Bokeh: ERROR: Unable to run BokehJS code because BokehJS library is missing\");\n",
       "        }\n",
       "      }\n",
       "    }, 10, root)\n",
       "  }\n",
       "})(window);"
      ],
      "application/vnd.bokehjs_exec.v0+json": ""
     },
     "metadata": {
      "application/vnd.bokehjs_exec.v0+json": {
       "id": "14002"
      }
     },
     "output_type": "display_data"
    }
   ],
   "source": [
    "M.DataDict={}\n",
    "g = M.getGUI(showResults=M.showSimRes, doFit=M.doFit, Dates = list(AllMeasured['Dates']))"
   ]
  },
  {
   "cell_type": "code",
   "execution_count": 13,
   "metadata": {
    "scrolled": false
   },
   "outputs": [
    {
     "data": {
      "text/plain": [
       "<tf.Tensor: shape=(), dtype=float32, numpy=1e-04>"
      ]
     },
     "execution_count": 13,
     "metadata": {},
     "output_type": "execute_result"
    }
   ],
   "source": [
    "q=M.assignNewVar('lambdaTVR', 0.0001)\n",
    "M.Var['lambdaTVR']()"
   ]
  },
  {
   "cell_type": "code",
   "execution_count": 10,
   "metadata": {},
   "outputs": [
    {
     "name": "stdout",
     "output_type": "stream",
     "text": [
      "(175, 1, 1, 1)\n"
     ]
    },
    {
     "data": {
      "text/plain": [
       "(1, 175, 1, 1, 1, 1)"
      ]
     },
     "execution_count": 10,
     "metadata": {},
     "output_type": "execute_result"
    }
   ],
   "source": [
    "a=AllMeasured['Cases']\n",
    "print(a.shape)\n",
    "b=a[np.newaxis,:,np.newaxis,:,:,:]\n",
    "b.shape\n"
   ]
  },
  {
   "cell_type": "code",
   "execution_count": 4,
   "metadata": {},
   "outputs": [],
   "source": [
    "# stm.Loss_FixedGaussian(np.squeeze(M.ResultVals()['deaths']), M.FitDict['deaths'])"
   ]
  },
  {
   "cell_type": "code",
   "execution_count": 6,
   "metadata": {},
   "outputs": [],
   "source": [
    "AllMeasured = loadData(useThuringia = False, pullData=False)\n"
   ]
  },
  {
   "cell_type": "code",
   "execution_count": 9,
   "metadata": {},
   "outputs": [
    {
     "data": {
      "text/plain": [
       "(128, 412, 3)"
      ]
     },
     "execution_count": 9,
     "metadata": {},
     "output_type": "execute_result"
    }
   ],
   "source": [
    "AllMeasured['Cases'][:,:,-1,:].shape"
   ]
  },
  {
   "cell_type": "code",
   "execution_count": 7,
   "metadata": {},
   "outputs": [
    {
     "name": "stdout",
     "output_type": "stream",
     "text": [
      "Sum of states deviates by: 8.940697e-08, from the starting state:[0.36681065 0.32319126 0.3099981 ]. relative: [2.4374148e-07 2.7663796e-07 2.8841134e-07]\n"
     ]
    },
    {
     "data": {
      "image/png": "[encoded data removed]",
      "text/plain": [
       "<Figure size 432x288 with 1 Axes>"
      ]
     },
     "metadata": {
      "needs_background": "light"
     },
     "output_type": "display_data"
    },
    {
     "data": {
      "image/png": "[encoded data removed]",
      "text/plain": [
       "<Figure size 432x288 with 2 Axes>"
      ]
     },
     "metadata": {
      "needs_background": "light"
     },
     "output_type": "display_data"
    },
    {
     "data": {
      "image/png": "[encoded data removed]",
      "text/plain": [
       "<Figure size 432x288 with 2 Axes>"
      ]
     },
     "metadata": {
      "needs_background": "light"
     },
     "output_type": "display_data"
    },
    {
     "data": {
      "image/png": "[encoded data removed]",
      "text/plain": [
       "<Figure size 432x288 with 2 Axes>"
      ]
     },
     "metadata": {
      "needs_background": "light"
     },
     "output_type": "display_data"
    },
    {
     "data": {
      "image/png": "[encoded data removed]",
      "text/plain": [
       "<Figure size 432x288 with 2 Axes>"
      ]
     },
     "metadata": {
      "needs_background": "light"
     },
     "output_type": "display_data"
    }
   ],
   "source": [
    "M.showStates()"
   ]
  },
  {
   "cell_type": "code",
   "execution_count": 5,
   "metadata": {},
   "outputs": [
    {
     "data": {
      "text/plain": [
       "[<matplotlib.lines.Line2D at 0x193afc27f60>]"
      ]
     },
     "execution_count": 5,
     "metadata": {},
     "output_type": "execute_result"
    },
    {
     "data": {
      "image/png": "[encoded data removed]",
      "text/plain": [
       "<Figure size 432x288 with 1 Axes>"
      ]
     },
     "metadata": {
      "needs_background": "light"
     },
     "output_type": "display_data"
    }
   ],
   "source": [
    "plt.plot(np.squeeze(M.Var['R']()))"
   ]
  },
  {
   "cell_type": "code",
   "execution_count": 17,
   "metadata": {},
   "outputs": [
    {
     "data": {
      "text/plain": [
       "TensorShape([125, 1, 1, 1])"
      ]
     },
     "execution_count": 17,
     "metadata": {},
     "output_type": "execute_result"
    }
   ],
   "source": [
    "M.Var['R']().shape"
   ]
  },
  {
   "cell_type": "code",
   "execution_count": 28,
   "metadata": {},
   "outputs": [
    {
     "name": "stdout",
     "output_type": "stream",
     "text": [
      "Simulation Control:\n"
     ]
    },
    {
     "data": {
      "application/vnd.jupyter.widget-view+json": {
       "model_id": "413200688e7540718c88b77e00ba8e05",
       "version_major": 2,
       "version_minor": 0
      },
      "text/plain": [
       "HBox(children=(FloatLogSlider(value=0.06, continuous_update=False, max=2.0, min=-10.0), FloatLogSlider(value=0…"
      ]
     },
     "metadata": {},
     "output_type": "display_data"
    },
    {
     "data": {
      "application/vnd.jupyter.widget-view+json": {
       "model_id": "07b6d7d7d3b243ba8754b3c47f9c9534",
       "version_major": 2,
       "version_minor": 0
      },
      "text/plain": [
       "Output(outputs=({'output_type': 'stream', 'text': 'd: 0.039810717055349734\\nLoss is: tf.Tensor(0.000104670384,…"
      ]
     },
     "metadata": {},
     "output_type": "display_data"
    },
    {
     "data": {
      "application/vnd.jupyter.widget-view+json": {
       "model_id": "92faa9ae4143462189b1a2cf5d500a29",
       "version_major": 2,
       "version_minor": 0
      },
      "text/plain": [
       "HBox(children=(FloatLogSlider(value=0.001, continuous_update=False, max=3.0, min=-10.0), FloatLogSlider(value=…"
      ]
     },
     "metadata": {},
     "output_type": "display_data"
    },
    {
     "data": {
      "application/vnd.jupyter.widget-view+json": {
       "model_id": "5f9b0d19a8784b5885120c7e106f101b",
       "version_major": 2,
       "version_minor": 0
      },
      "text/plain": [
       "Output()"
      ]
     },
     "metadata": {},
     "output_type": "display_data"
    },
    {
     "ename": "AttributeError",
     "evalue": "dtype",
     "output_type": "error",
     "traceback": [
      "\u001b[1;31m---------------------------------------------------------------------------\u001b[0m",
      "\u001b[1;31mKeyError\u001b[0m                                  Traceback (most recent call last)",
      "\u001b[1;32mC:\\Program Files (x86)\\Microsoft Visual Studio\\Shared\\Anaconda3_64\\envs\\StateModeling\\lib\\site-packages\\traitlets\\utils\\bunch.py\u001b[0m in \u001b[0;36m__getattr__\u001b[1;34m(self, key)\u001b[0m\n\u001b[0;32m     12\u001b[0m         \u001b[1;32mtry\u001b[0m\u001b[1;33m:\u001b[0m\u001b[1;33m\u001b[0m\u001b[0m\n\u001b[1;32m---> 13\u001b[1;33m             \u001b[1;32mreturn\u001b[0m \u001b[0mself\u001b[0m\u001b[1;33m.\u001b[0m\u001b[0m__getitem__\u001b[0m\u001b[1;33m(\u001b[0m\u001b[0mkey\u001b[0m\u001b[1;33m)\u001b[0m\u001b[1;33m\u001b[0m\u001b[0m\n\u001b[0m\u001b[0;32m     14\u001b[0m         \u001b[1;32mexcept\u001b[0m \u001b[0mKeyError\u001b[0m\u001b[1;33m:\u001b[0m\u001b[1;33m\u001b[0m\u001b[0m\n",
      "\u001b[1;31mKeyError\u001b[0m: 'dtype'",
      "\nDuring handling of the above exception, another exception occurred:\n",
      "\u001b[1;31mAttributeError\u001b[0m                            Traceback (most recent call last)",
      "\u001b[1;32mC:\\Program Files (x86)\\Microsoft Visual Studio\\Shared\\Anaconda3_64\\envs\\StateModeling\\lib\\site-packages\\ipywidgets\\widgets\\widget.py\u001b[0m in \u001b[0;36m_handle_msg\u001b[1;34m(self, msg)\u001b[0m\n\u001b[0;32m    674\u001b[0m                 \u001b[1;32mif\u001b[0m \u001b[1;34m'buffer_paths'\u001b[0m \u001b[1;32min\u001b[0m \u001b[0mdata\u001b[0m\u001b[1;33m:\u001b[0m\u001b[1;33m\u001b[0m\u001b[0m\n\u001b[0;32m    675\u001b[0m                     \u001b[0m_put_buffers\u001b[0m\u001b[1;33m(\u001b[0m\u001b[0mstate\u001b[0m\u001b[1;33m,\u001b[0m \u001b[0mdata\u001b[0m\u001b[1;33m[\u001b[0m\u001b[1;34m'buffer_paths'\u001b[0m\u001b[1;33m]\u001b[0m\u001b[1;33m,\u001b[0m \u001b[0mmsg\u001b[0m\u001b[1;33m[\u001b[0m\u001b[1;34m'buffers'\u001b[0m\u001b[1;33m]\u001b[0m\u001b[1;33m)\u001b[0m\u001b[1;33m\u001b[0m\u001b[0m\n\u001b[1;32m--> 676\u001b[1;33m                 \u001b[0mself\u001b[0m\u001b[1;33m.\u001b[0m\u001b[0mset_state\u001b[0m\u001b[1;33m(\u001b[0m\u001b[0mstate\u001b[0m\u001b[1;33m)\u001b[0m\u001b[1;33m\u001b[0m\u001b[0m\n\u001b[0m\u001b[0;32m    677\u001b[0m \u001b[1;33m\u001b[0m\u001b[0m\n\u001b[0;32m    678\u001b[0m         \u001b[1;31m# Handle a state request.\u001b[0m\u001b[1;33m\u001b[0m\u001b[1;33m\u001b[0m\u001b[0m\n",
      "\u001b[1;32mC:\\Program Files (x86)\\Microsoft Visual Studio\\Shared\\Anaconda3_64\\envs\\StateModeling\\lib\\site-packages\\ipywidgets\\widgets\\widget.py\u001b[0m in \u001b[0;36mset_state\u001b[1;34m(self, sync_data)\u001b[0m\n\u001b[0;32m    543\u001b[0m                     from_json = self.trait_metadata(name, 'from_json',\n\u001b[0;32m    544\u001b[0m                                                     self._trait_from_json)\n\u001b[1;32m--> 545\u001b[1;33m                     \u001b[0mself\u001b[0m\u001b[1;33m.\u001b[0m\u001b[0mset_trait\u001b[0m\u001b[1;33m(\u001b[0m\u001b[0mname\u001b[0m\u001b[1;33m,\u001b[0m \u001b[0mfrom_json\u001b[0m\u001b[1;33m(\u001b[0m\u001b[0msync_data\u001b[0m\u001b[1;33m[\u001b[0m\u001b[0mname\u001b[0m\u001b[1;33m]\u001b[0m\u001b[1;33m,\u001b[0m \u001b[0mself\u001b[0m\u001b[1;33m)\u001b[0m\u001b[1;33m)\u001b[0m\u001b[1;33m\u001b[0m\u001b[0m\n\u001b[0m\u001b[0;32m    546\u001b[0m \u001b[1;33m\u001b[0m\u001b[0m\n\u001b[0;32m    547\u001b[0m     \u001b[1;32mdef\u001b[0m \u001b[0msend\u001b[0m\u001b[1;33m(\u001b[0m\u001b[0mself\u001b[0m\u001b[1;33m,\u001b[0m \u001b[0mcontent\u001b[0m\u001b[1;33m,\u001b[0m \u001b[0mbuffers\u001b[0m\u001b[1;33m=\u001b[0m\u001b[1;32mNone\u001b[0m\u001b[1;33m)\u001b[0m\u001b[1;33m:\u001b[0m\u001b[1;33m\u001b[0m\u001b[0m\n",
      "\u001b[1;32mC:\\Program Files (x86)\\Microsoft Visual Studio\\Shared\\Anaconda3_64\\envs\\StateModeling\\lib\\contextlib.py\u001b[0m in \u001b[0;36m__exit__\u001b[1;34m(self, type, value, traceback)\u001b[0m\n\u001b[0;32m    117\u001b[0m         \u001b[1;32mif\u001b[0m \u001b[0mtype\u001b[0m \u001b[1;32mis\u001b[0m \u001b[1;32mNone\u001b[0m\u001b[1;33m:\u001b[0m\u001b[1;33m\u001b[0m\u001b[0m\n\u001b[0;32m    118\u001b[0m             \u001b[1;32mtry\u001b[0m\u001b[1;33m:\u001b[0m\u001b[1;33m\u001b[0m\u001b[0m\n\u001b[1;32m--> 119\u001b[1;33m                 \u001b[0mnext\u001b[0m\u001b[1;33m(\u001b[0m\u001b[0mself\u001b[0m\u001b[1;33m.\u001b[0m\u001b[0mgen\u001b[0m\u001b[1;33m)\u001b[0m\u001b[1;33m\u001b[0m\u001b[0m\n\u001b[0m\u001b[0;32m    120\u001b[0m             \u001b[1;32mexcept\u001b[0m \u001b[0mStopIteration\u001b[0m\u001b[1;33m:\u001b[0m\u001b[1;33m\u001b[0m\u001b[0m\n\u001b[0;32m    121\u001b[0m                 \u001b[1;32mreturn\u001b[0m \u001b[1;32mFalse\u001b[0m\u001b[1;33m\u001b[0m\u001b[0m\n",
      "\u001b[1;32mC:\\Program Files (x86)\\Microsoft Visual Studio\\Shared\\Anaconda3_64\\envs\\StateModeling\\lib\\site-packages\\traitlets\\traitlets.py\u001b[0m in \u001b[0;36mhold_trait_notifications\u001b[1;34m(self)\u001b[0m\n\u001b[0;32m   1129\u001b[0m                 \u001b[1;32mfor\u001b[0m \u001b[0mchanges\u001b[0m \u001b[1;32min\u001b[0m \u001b[0mcache\u001b[0m\u001b[1;33m.\u001b[0m\u001b[0mvalues\u001b[0m\u001b[1;33m(\u001b[0m\u001b[1;33m)\u001b[0m\u001b[1;33m:\u001b[0m\u001b[1;33m\u001b[0m\u001b[0m\n\u001b[0;32m   1130\u001b[0m                     \u001b[1;32mfor\u001b[0m \u001b[0mchange\u001b[0m \u001b[1;32min\u001b[0m \u001b[0mchanges\u001b[0m\u001b[1;33m:\u001b[0m\u001b[1;33m\u001b[0m\u001b[0m\n\u001b[1;32m-> 1131\u001b[1;33m                         \u001b[0mself\u001b[0m\u001b[1;33m.\u001b[0m\u001b[0mnotify_change\u001b[0m\u001b[1;33m(\u001b[0m\u001b[0mchange\u001b[0m\u001b[1;33m)\u001b[0m\u001b[1;33m\u001b[0m\u001b[0m\n\u001b[0m\u001b[0;32m   1132\u001b[0m \u001b[1;33m\u001b[0m\u001b[0m\n\u001b[0;32m   1133\u001b[0m     \u001b[1;32mdef\u001b[0m \u001b[0m_notify_trait\u001b[0m\u001b[1;33m(\u001b[0m\u001b[0mself\u001b[0m\u001b[1;33m,\u001b[0m \u001b[0mname\u001b[0m\u001b[1;33m,\u001b[0m \u001b[0mold_value\u001b[0m\u001b[1;33m,\u001b[0m \u001b[0mnew_value\u001b[0m\u001b[1;33m)\u001b[0m\u001b[1;33m:\u001b[0m\u001b[1;33m\u001b[0m\u001b[0m\n",
      "\u001b[1;32mC:\\Program Files (x86)\\Microsoft Visual Studio\\Shared\\Anaconda3_64\\envs\\StateModeling\\lib\\site-packages\\ipywidgets\\widgets\\widget.py\u001b[0m in \u001b[0;36mnotify_change\u001b[1;34m(self, change)\u001b[0m\n\u001b[0;32m    604\u001b[0m                 \u001b[1;31m# Send new state to front-end\u001b[0m\u001b[1;33m\u001b[0m\u001b[1;33m\u001b[0m\u001b[0m\n\u001b[0;32m    605\u001b[0m                 \u001b[0mself\u001b[0m\u001b[1;33m.\u001b[0m\u001b[0msend_state\u001b[0m\u001b[1;33m(\u001b[0m\u001b[0mkey\u001b[0m\u001b[1;33m=\u001b[0m\u001b[0mname\u001b[0m\u001b[1;33m)\u001b[0m\u001b[1;33m\u001b[0m\u001b[0m\n\u001b[1;32m--> 606\u001b[1;33m         \u001b[0msuper\u001b[0m\u001b[1;33m(\u001b[0m\u001b[0mWidget\u001b[0m\u001b[1;33m,\u001b[0m \u001b[0mself\u001b[0m\u001b[1;33m)\u001b[0m\u001b[1;33m.\u001b[0m\u001b[0mnotify_change\u001b[0m\u001b[1;33m(\u001b[0m\u001b[0mchange\u001b[0m\u001b[1;33m)\u001b[0m\u001b[1;33m\u001b[0m\u001b[0m\n\u001b[0m\u001b[0;32m    607\u001b[0m \u001b[1;33m\u001b[0m\u001b[0m\n\u001b[0;32m    608\u001b[0m     \u001b[1;32mdef\u001b[0m \u001b[0m__repr__\u001b[0m\u001b[1;33m(\u001b[0m\u001b[0mself\u001b[0m\u001b[1;33m)\u001b[0m\u001b[1;33m:\u001b[0m\u001b[1;33m\u001b[0m\u001b[0m\n",
      "\u001b[1;32mC:\\Program Files (x86)\\Microsoft Visual Studio\\Shared\\Anaconda3_64\\envs\\StateModeling\\lib\\site-packages\\traitlets\\traitlets.py\u001b[0m in \u001b[0;36mnotify_change\u001b[1;34m(self, change)\u001b[0m\n\u001b[0;32m   1174\u001b[0m                 \u001b[0mc\u001b[0m \u001b[1;33m=\u001b[0m \u001b[0mgetattr\u001b[0m\u001b[1;33m(\u001b[0m\u001b[0mself\u001b[0m\u001b[1;33m,\u001b[0m \u001b[0mc\u001b[0m\u001b[1;33m.\u001b[0m\u001b[0mname\u001b[0m\u001b[1;33m)\u001b[0m\u001b[1;33m\u001b[0m\u001b[0m\n\u001b[0;32m   1175\u001b[0m \u001b[1;33m\u001b[0m\u001b[0m\n\u001b[1;32m-> 1176\u001b[1;33m             \u001b[0mc\u001b[0m\u001b[1;33m(\u001b[0m\u001b[0mchange\u001b[0m\u001b[1;33m)\u001b[0m\u001b[1;33m\u001b[0m\u001b[0m\n\u001b[0m\u001b[0;32m   1177\u001b[0m \u001b[1;33m\u001b[0m\u001b[0m\n\u001b[0;32m   1178\u001b[0m     \u001b[1;32mdef\u001b[0m \u001b[0m_add_notifiers\u001b[0m\u001b[1;33m(\u001b[0m\u001b[0mself\u001b[0m\u001b[1;33m,\u001b[0m \u001b[0mhandler\u001b[0m\u001b[1;33m,\u001b[0m \u001b[0mname\u001b[0m\u001b[1;33m,\u001b[0m \u001b[0mtype\u001b[0m\u001b[1;33m)\u001b[0m\u001b[1;33m:\u001b[0m\u001b[1;33m\u001b[0m\u001b[0m\n",
      "\u001b[1;32m<ipython-input-13-086a03f4522b>\u001b[0m in \u001b[0;36massignParam\u001b[1;34m(d)\u001b[0m\n\u001b[0;32m     91\u001b[0m     \u001b[0maDict\u001b[0m \u001b[1;33m=\u001b[0m \u001b[1;33m{\u001b[0m\u001b[1;34m'd'\u001b[0m\u001b[1;33m:\u001b[0m\u001b[0md\u001b[0m\u001b[1;33m}\u001b[0m\u001b[1;33m\u001b[0m\u001b[0m\n\u001b[0;32m     92\u001b[0m     \u001b[1;32mfor\u001b[0m \u001b[0mvarN\u001b[0m\u001b[1;33m,\u001b[0m \u001b[0mnewval\u001b[0m \u001b[1;32min\u001b[0m \u001b[0maDict\u001b[0m\u001b[1;33m.\u001b[0m\u001b[0mitems\u001b[0m\u001b[1;33m(\u001b[0m\u001b[1;33m)\u001b[0m\u001b[1;33m:\u001b[0m\u001b[1;33m\u001b[0m\u001b[0m\n\u001b[1;32m---> 93\u001b[1;33m         \u001b[0mM\u001b[0m\u001b[1;33m.\u001b[0m\u001b[0massignNewVar\u001b[0m\u001b[1;33m(\u001b[0m\u001b[0mvarN\u001b[0m\u001b[1;33m,\u001b[0m \u001b[0mnewval\u001b[0m\u001b[1;33m)\u001b[0m\u001b[1;33m\u001b[0m\u001b[0m\n\u001b[0m\u001b[0;32m     94\u001b[0m         \u001b[0mprint\u001b[0m\u001b[1;33m(\u001b[0m\u001b[0mvarN\u001b[0m\u001b[1;33m+\u001b[0m\u001b[1;34m\": \"\u001b[0m\u001b[1;33m+\u001b[0m\u001b[0mstr\u001b[0m\u001b[1;33m(\u001b[0m\u001b[0mnewval\u001b[0m\u001b[1;33m)\u001b[0m\u001b[1;33m)\u001b[0m\u001b[1;33m\u001b[0m\u001b[0m\n\u001b[0;32m     95\u001b[0m     \u001b[0mdoFit\u001b[0m\u001b[1;33m(\u001b[0m\u001b[1;33m)\u001b[0m\u001b[1;33m\u001b[0m\u001b[0m\n",
      "\u001b[1;32m~\\Documents\\Programming\\PythonScripts\\StateModeling\\StateModeling.py\u001b[0m in \u001b[0;36massignNewVar\u001b[1;34m(self, varname, newval, relval)\u001b[0m\n\u001b[0;32m   1086\u001b[0m     \u001b[1;32mdef\u001b[0m \u001b[0massignNewVar\u001b[0m\u001b[1;33m(\u001b[0m\u001b[0mself\u001b[0m\u001b[1;33m,\u001b[0m \u001b[0mvarname\u001b[0m\u001b[1;33m,\u001b[0m \u001b[0mnewval\u001b[0m\u001b[1;33m=\u001b[0m\u001b[1;32mNone\u001b[0m\u001b[1;33m,\u001b[0m \u001b[0mrelval\u001b[0m\u001b[1;33m=\u001b[0m\u001b[1;32mNone\u001b[0m\u001b[1;33m)\u001b[0m\u001b[1;33m:\u001b[0m\u001b[1;33m\u001b[0m\u001b[0m\n\u001b[0;32m   1087\u001b[0m         \u001b[1;32mif\u001b[0m \u001b[0mnewval\u001b[0m \u001b[1;32mis\u001b[0m \u001b[1;32mnot\u001b[0m \u001b[1;32mNone\u001b[0m\u001b[1;33m:\u001b[0m\u001b[1;33m\u001b[0m\u001b[0m\n\u001b[1;32m-> 1088\u001b[1;33m             \u001b[0mself\u001b[0m\u001b[1;33m.\u001b[0m\u001b[0mrawVar\u001b[0m\u001b[1;33m[\u001b[0m\u001b[0mvarname\u001b[0m\u001b[1;33m]\u001b[0m\u001b[1;33m.\u001b[0m\u001b[0massign\u001b[0m\u001b[1;33m(\u001b[0m\u001b[0mself\u001b[0m\u001b[1;33m.\u001b[0m\u001b[0mtoRawVar\u001b[0m\u001b[1;33m[\u001b[0m\u001b[0mvarname\u001b[0m\u001b[1;33m]\u001b[0m\u001b[1;33m(\u001b[0m\u001b[0mnewval\u001b[0m\u001b[1;33m)\u001b[0m\u001b[1;33m)\u001b[0m\u001b[1;33m\u001b[0m\u001b[0m\n\u001b[0m\u001b[0;32m   1089\u001b[0m         \u001b[1;32melse\u001b[0m\u001b[1;33m:\u001b[0m\u001b[1;33m\u001b[0m\u001b[0m\n\u001b[0;32m   1090\u001b[0m             \u001b[0mself\u001b[0m\u001b[1;33m.\u001b[0m\u001b[0mrawVar\u001b[0m\u001b[1;33m[\u001b[0m\u001b[0mvarname\u001b[0m\u001b[1;33m]\u001b[0m\u001b[1;33m.\u001b[0m\u001b[0massign\u001b[0m\u001b[1;33m(\u001b[0m\u001b[0mself\u001b[0m\u001b[1;33m.\u001b[0m\u001b[0mtoRawVar\u001b[0m\u001b[1;33m[\u001b[0m\u001b[0mvarname\u001b[0m\u001b[1;33m]\u001b[0m\u001b[1;33m(\u001b[0m\u001b[0mself\u001b[0m\u001b[1;33m.\u001b[0m\u001b[0mVar\u001b[0m\u001b[1;33m[\u001b[0m\u001b[0mvarname\u001b[0m\u001b[1;33m]\u001b[0m\u001b[1;33m(\u001b[0m\u001b[1;33m)\u001b[0m \u001b[1;33m*\u001b[0m \u001b[0mrelval\u001b[0m\u001b[1;33m)\u001b[0m\u001b[1;33m)\u001b[0m\u001b[1;33m\u001b[0m\u001b[0m\n",
      "\u001b[1;32m~\\Documents\\Programming\\PythonScripts\\StateModeling\\StateModeling.py\u001b[0m in \u001b[0;36m<lambda>\u001b[1;34m(avar)\u001b[0m\n\u001b[0;32m   1065\u001b[0m                     \u001b[0mtoVarFkt2\u001b[0m \u001b[1;33m=\u001b[0m \u001b[0mtoVarFkt\u001b[0m\u001b[1;33m\u001b[0m\u001b[0m\n\u001b[0;32m   1066\u001b[0m                 \u001b[1;32mif\u001b[0m \u001b[0mforcePos\u001b[0m\u001b[1;33m:\u001b[0m\u001b[1;33m\u001b[0m\u001b[0m\n\u001b[1;32m-> 1067\u001b[1;33m                     \u001b[0mtoRawFkt3\u001b[0m \u001b[1;33m=\u001b[0m \u001b[1;32mlambda\u001b[0m \u001b[0mavar\u001b[0m\u001b[1;33m:\u001b[0m \u001b[0minvMonotonicPos\u001b[0m\u001b[1;33m(\u001b[0m\u001b[0mtoRawFkt2\u001b[0m\u001b[1;33m(\u001b[0m\u001b[0mavar\u001b[0m\u001b[1;33m)\u001b[0m\u001b[1;33m,\u001b[0m \u001b[0mb2\u001b[0m\u001b[1;33m)\u001b[0m\u001b[1;33m;\u001b[0m\u001b[1;33m\u001b[0m\u001b[0m\n\u001b[0m\u001b[0;32m   1068\u001b[0m                     \u001b[0mtoVarFkt3\u001b[0m \u001b[1;33m=\u001b[0m \u001b[1;32mlambda\u001b[0m \u001b[0mavar\u001b[0m\u001b[1;33m:\u001b[0m \u001b[0mtoVarFkt2\u001b[0m\u001b[1;33m(\u001b[0m\u001b[0mmonotonicPos\u001b[0m\u001b[1;33m(\u001b[0m\u001b[0mavar\u001b[0m\u001b[1;33m,\u001b[0m \u001b[0mb2\u001b[0m\u001b[1;33m)\u001b[0m\u001b[1;33m)\u001b[0m\u001b[1;33m\u001b[0m\u001b[0m\n\u001b[0;32m   1069\u001b[0m                 \u001b[1;32melse\u001b[0m\u001b[1;33m:\u001b[0m\u001b[1;33m\u001b[0m\u001b[0m\n",
      "\u001b[1;32m~\\Documents\\Programming\\PythonScripts\\StateModeling\\StateModeling.py\u001b[0m in \u001b[0;36m<lambda>\u001b[1;34m(avar)\u001b[0m\n\u001b[0;32m   1059\u001b[0m                 \u001b[0mtoRawFkt\u001b[0m \u001b[1;33m=\u001b[0m \u001b[1;32mlambda\u001b[0m \u001b[0mavar\u001b[0m\u001b[1;33m:\u001b[0m \u001b[0mtotensor\u001b[0m\u001b[1;33m(\u001b[0m\u001b[0mavar\u001b[0m\u001b[1;33m)\u001b[0m\u001b[1;33m\u001b[0m\u001b[0m\n\u001b[0;32m   1060\u001b[0m                 \u001b[1;32mif\u001b[0m \u001b[0mnormalize\u001b[0m \u001b[1;32mis\u001b[0m \u001b[1;32mnot\u001b[0m \u001b[1;32mNone\u001b[0m\u001b[1;33m:\u001b[0m\u001b[1;33m\u001b[0m\u001b[0m\n\u001b[1;32m-> 1061\u001b[1;33m                     \u001b[0mtoRawFkt2\u001b[0m \u001b[1;33m=\u001b[0m \u001b[1;32mlambda\u001b[0m \u001b[0mavar\u001b[0m\u001b[1;33m:\u001b[0m \u001b[0minvNormalize\u001b[0m\u001b[1;33m(\u001b[0m\u001b[0mtoRawFkt\u001b[0m\u001b[1;33m(\u001b[0m\u001b[0mavar\u001b[0m\u001b[1;33m)\u001b[0m\u001b[1;33m,\u001b[0m \u001b[0mnormalize\u001b[0m\u001b[1;33m,\u001b[0m \u001b[0minitVal\u001b[0m\u001b[1;33m)\u001b[0m\u001b[1;33m;\u001b[0m\u001b[1;33m\u001b[0m\u001b[0m\n\u001b[0m\u001b[0;32m   1062\u001b[0m                     \u001b[0mtoVarFkt2\u001b[0m \u001b[1;33m=\u001b[0m \u001b[1;32mlambda\u001b[0m \u001b[0mavar\u001b[0m\u001b[1;33m:\u001b[0m \u001b[0mtoVarFkt\u001b[0m\u001b[1;33m(\u001b[0m\u001b[0mdoNormalize\u001b[0m\u001b[1;33m(\u001b[0m\u001b[0mavar\u001b[0m\u001b[1;33m,\u001b[0m \u001b[0mnormalize\u001b[0m\u001b[1;33m,\u001b[0m \u001b[0minitVal\u001b[0m\u001b[1;33m)\u001b[0m\u001b[1;33m)\u001b[0m\u001b[1;33m\u001b[0m\u001b[0m\n\u001b[0;32m   1063\u001b[0m                 \u001b[1;32melse\u001b[0m\u001b[1;33m:\u001b[0m\u001b[1;33m\u001b[0m\u001b[0m\n",
      "\u001b[1;32m~\\Documents\\Programming\\PythonScripts\\StateModeling\\StateModeling.py\u001b[0m in \u001b[0;36m<lambda>\u001b[1;34m(avar)\u001b[0m\n\u001b[0;32m   1057\u001b[0m \u001b[1;33m\u001b[0m\u001b[0m\n\u001b[0;32m   1058\u001b[0m                 \u001b[0mtoVarFkt\u001b[0m \u001b[1;33m=\u001b[0m \u001b[1;32mlambda\u001b[0m \u001b[0mavar\u001b[0m\u001b[1;33m:\u001b[0m \u001b[0mtotensor\u001b[0m\u001b[1;33m(\u001b[0m\u001b[0mavar\u001b[0m\u001b[1;33m)\u001b[0m\u001b[1;33m\u001b[0m\u001b[0m\n\u001b[1;32m-> 1059\u001b[1;33m                 \u001b[0mtoRawFkt\u001b[0m \u001b[1;33m=\u001b[0m \u001b[1;32mlambda\u001b[0m \u001b[0mavar\u001b[0m\u001b[1;33m:\u001b[0m \u001b[0mtotensor\u001b[0m\u001b[1;33m(\u001b[0m\u001b[0mavar\u001b[0m\u001b[1;33m)\u001b[0m\u001b[1;33m\u001b[0m\u001b[0m\n\u001b[0m\u001b[0;32m   1060\u001b[0m                 \u001b[1;32mif\u001b[0m \u001b[0mnormalize\u001b[0m \u001b[1;32mis\u001b[0m \u001b[1;32mnot\u001b[0m \u001b[1;32mNone\u001b[0m\u001b[1;33m:\u001b[0m\u001b[1;33m\u001b[0m\u001b[0m\n\u001b[0;32m   1061\u001b[0m                     \u001b[0mtoRawFkt2\u001b[0m \u001b[1;33m=\u001b[0m \u001b[1;32mlambda\u001b[0m \u001b[0mavar\u001b[0m\u001b[1;33m:\u001b[0m \u001b[0minvNormalize\u001b[0m\u001b[1;33m(\u001b[0m\u001b[0mtoRawFkt\u001b[0m\u001b[1;33m(\u001b[0m\u001b[0mavar\u001b[0m\u001b[1;33m)\u001b[0m\u001b[1;33m,\u001b[0m \u001b[0mnormalize\u001b[0m\u001b[1;33m,\u001b[0m \u001b[0minitVal\u001b[0m\u001b[1;33m)\u001b[0m\u001b[1;33m;\u001b[0m\u001b[1;33m\u001b[0m\u001b[0m\n",
      "\u001b[1;32m~\\Documents\\Programming\\PythonScripts\\StateModeling\\StateModeling.py\u001b[0m in \u001b[0;36mtotensor\u001b[1;34m(img)\u001b[0m\n\u001b[0;32m    407\u001b[0m         \u001b[0mimg\u001b[0m \u001b[1;33m=\u001b[0m \u001b[0mnp\u001b[0m\u001b[1;33m.\u001b[0m\u001b[0marray\u001b[0m\u001b[1;33m(\u001b[0m\u001b[0mimg\u001b[0m\u001b[1;33m,\u001b[0m \u001b[0mCalcFloatStr\u001b[0m\u001b[1;33m)\u001b[0m\u001b[1;33m\u001b[0m\u001b[0m\n\u001b[0;32m    408\u001b[0m \u001b[1;33m\u001b[0m\u001b[0m\n\u001b[1;32m--> 409\u001b[1;33m     \u001b[1;32mif\u001b[0m \u001b[1;32mnot\u001b[0m \u001b[0misNumber\u001b[0m\u001b[1;33m(\u001b[0m\u001b[0mimg\u001b[0m\u001b[1;33m)\u001b[0m \u001b[1;32mand\u001b[0m \u001b[1;33m(\u001b[0m\u001b[1;33m(\u001b[0m\u001b[0mimg\u001b[0m\u001b[1;33m.\u001b[0m\u001b[0mdtype\u001b[0m \u001b[1;33m==\u001b[0m \u001b[0mdefaultTFDataType\u001b[0m\u001b[1;33m)\u001b[0m \u001b[1;32mor\u001b[0m \u001b[1;33m(\u001b[0m\u001b[0mimg\u001b[0m\u001b[1;33m.\u001b[0m\u001b[0mdtype\u001b[0m \u001b[1;33m==\u001b[0m \u001b[0mdefaultTFCpxDataType\u001b[0m\u001b[1;33m)\u001b[0m\u001b[1;33m)\u001b[0m\u001b[1;33m:\u001b[0m\u001b[1;33m\u001b[0m\u001b[0m\n\u001b[0m\u001b[0;32m    410\u001b[0m         \u001b[0mimg\u001b[0m \u001b[1;33m=\u001b[0m \u001b[0mtf\u001b[0m\u001b[1;33m.\u001b[0m\u001b[0mconstant\u001b[0m\u001b[1;33m(\u001b[0m\u001b[0mimg\u001b[0m\u001b[1;33m)\u001b[0m\u001b[1;33m\u001b[0m\u001b[0m\n\u001b[0;32m    411\u001b[0m     \u001b[1;32melse\u001b[0m\u001b[1;33m:\u001b[0m\u001b[1;33m\u001b[0m\u001b[0m\n",
      "\u001b[1;32mC:\\Program Files (x86)\\Microsoft Visual Studio\\Shared\\Anaconda3_64\\envs\\StateModeling\\lib\\site-packages\\traitlets\\utils\\bunch.py\u001b[0m in \u001b[0;36m__getattr__\u001b[1;34m(self, key)\u001b[0m\n\u001b[0;32m     13\u001b[0m             \u001b[1;32mreturn\u001b[0m \u001b[0mself\u001b[0m\u001b[1;33m.\u001b[0m\u001b[0m__getitem__\u001b[0m\u001b[1;33m(\u001b[0m\u001b[0mkey\u001b[0m\u001b[1;33m)\u001b[0m\u001b[1;33m\u001b[0m\u001b[0m\n\u001b[0;32m     14\u001b[0m         \u001b[1;32mexcept\u001b[0m \u001b[0mKeyError\u001b[0m\u001b[1;33m:\u001b[0m\u001b[1;33m\u001b[0m\u001b[0m\n\u001b[1;32m---> 15\u001b[1;33m             \u001b[1;32mraise\u001b[0m \u001b[0mAttributeError\u001b[0m\u001b[1;33m(\u001b[0m\u001b[0mkey\u001b[0m\u001b[1;33m)\u001b[0m\u001b[1;33m\u001b[0m\u001b[0m\n\u001b[0m\u001b[0;32m     16\u001b[0m \u001b[1;33m\u001b[0m\u001b[0m\n\u001b[0;32m     17\u001b[0m     \u001b[1;32mdef\u001b[0m \u001b[0m__setattr__\u001b[0m\u001b[1;33m(\u001b[0m\u001b[0mself\u001b[0m\u001b[1;33m,\u001b[0m \u001b[0mkey\u001b[0m\u001b[1;33m,\u001b[0m \u001b[0mvalue\u001b[0m\u001b[1;33m)\u001b[0m\u001b[1;33m:\u001b[0m\u001b[1;33m\u001b[0m\u001b[0m\n",
      "\u001b[1;31mAttributeError\u001b[0m: dtype"
     ]
    }
   ],
   "source": [
    "#interact_manual(showSim,\n",
    "#        ymin=ymin,\n",
    "#        ymax=ymax)\n",
    "\n",
    "d = widgets.FloatLogSlider(0.06,min=-10,max=2.0,continuous_update=False)\n",
    "r = widgets.FloatLogSlider(0.01,min=-10,max=2.0,continuous_update=False)\n",
    "uiS = widgets.HBox((d,r))\n",
    "allSimWidgets = {'d':d}\n",
    "print('Simulation Control:')\n",
    "    \n",
    "d.observe(assignParam, names='value')\n",
    "# d.observe(showSimRes, names='value')\n",
    "# outS = widgets.interactive_output(assignParam, allSimWidgets)\n",
    "display(uiS, outS)\n",
    "\n",
    "ymin = widgets.FloatLogSlider(0.001,min=-10,max=3,continuous_update=False)\n",
    "ymax = widgets.FloatLogSlider(30.0,min=-10,max=3,continuous_update=False)\n",
    "ui = widgets.HBox((ymin,ymax))\n",
    "allWidgets = {'ymin': ymin, 'ymax': ymax}\n",
    "out = widgets.interactive_output(showSimRes, allWidgets)\n",
    "\n",
    "# out.layout.width = '700px';out.layout.height = '350px'\n",
    "display(ui, out)\n",
    "\n",
    "ymin = widgets.FloatLogSlider(0.0001,min=-10,max=6.0,continuous_update=False)\n",
    "ymax = widgets.FloatLogSlider(0.01,min=-10,max=2.0,continuous_update=False)\n",
    "ui = widgets.HBox((ymin,ymax))\n",
    "allWidgets = {'ymin': ymin, 'ymax': ymax}\n",
    "out2 = widgets.interactive_output(showSimStates, allWidgets)\n",
    "#out2.layout.width = '700px';out2.layout.height = '350px'\n",
    "#display(ui, out2)\n"
   ]
  },
  {
   "cell_type": "code",
   "execution_count": 5,
   "metadata": {},
   "outputs": [
    {
     "data": {
      "text/plain": [
       "'C:\\\\Users\\\\pi96doc\\\\Documents\\\\Programming\\\\PythonScripts\\\\StateModeling'"
      ]
     },
     "execution_count": 5,
     "metadata": {},
     "output_type": "execute_result"
    }
   ],
   "source": [
    "import os\n",
    "os.getcwd()"
   ]
  },
  {
   "cell_type": "code",
   "execution_count": 8,
   "metadata": {},
   "outputs": [
    {
     "data": {
      "application/vnd.jupyter.widget-view+json": {
       "model_id": "b30ffeb43c3f4ab9ac3be09cea847353",
       "version_major": 2,
       "version_minor": 0
      },
      "text/plain": [
       "HBox(children=(Box(children=(HBox(children=(Checkbox(value=True, description='Country', indent=False, layout=L…"
      ]
     },
     "metadata": {},
     "output_type": "display_data"
    }
   ],
   "source": [
    "from ipywidgets import widgets, Layout\n",
    "from IPython.display import display\n",
    "item_layout = Layout(\n",
    "    display='flex',flex_flow='row',\n",
    "    justify_content='space-between'\n",
    ")\n",
    "box_layout=Layout(\n",
    "    display='flex',flex_flow='column',\n",
    "    border='solid 2px',align_items='stretch',width='50%')\n",
    "tickLayout = Layout(display='flex', width='30%')\n",
    "inFitWidget = widgets.Checkbox(value=True, indent=False, layout=tickLayout, description='Country')\n",
    "drop = widgets.Dropdown(options=['a','b'], indent=False, value='a')\n",
    "dropWidget = widgets.HBox((inFitWidget, drop), display='flex', layout = item_layout)\n",
    "valueWidget = widgets.FloatLogSlider(value=1.0,base=10,min=-7,max=1)\n",
    "boxWidget = widgets.HBox((Label('Hi'),valueWidget),layout=item_layout)\n",
    "# valueWidget = widgets.HBox((inFitWidget,valueWidget))\n",
    "widget = widgets.Box((dropWidget, boxWidget), layout=box_layout)\n",
    "display(widgets.HBox((widget,widget,widget, widget)))"
   ]
  },
  {
   "cell_type": "code",
   "execution_count": 15,
   "metadata": {},
   "outputs": [
    {
     "data": {
      "text/plain": [
       "''"
      ]
     },
     "execution_count": 15,
     "metadata": {},
     "output_type": "execute_result"
    }
   ],
   "source": [
    "valueWidget.description"
   ]
  },
  {
   "cell_type": "code",
   "execution_count": 10,
   "metadata": {},
   "outputs": [],
   "source": [
    "def showSimRes(ymin=0.0001,ymax=1.0):\n",
    "    doFit()\n",
    "    p=M.showResultsBokeh(title=AllMeasured['Region'], Scale=PopSum, ylabel='fraction', \n",
    "                  xlim=xlim, dims=(\"District\"), subPlot='cases',\n",
    "                  legendPlacement='upper right',figsize=[10,5], Dates=AllMeasured['Dates'])\n",
    "    p=M.showResultsBokeh(title=AllMeasured['Region'], Scale=PopSum, ylabel='fraction', \n",
    "                  xlim=xlim, dims=(\"District\"), subPlot='hospitalization',\n",
    "                  legendPlacement='upper right',figsize=[10,5], Dates=AllMeasured['Dates'])\n",
    "    p=M.showResultsBokeh(title=AllMeasured['Region'], Scale=PopSum, ylabel='fraction', \n",
    "                  xlim=xlim, dims=(\"District\"), subPlot='deaths', \n",
    "                  legendPlacement='upper right',figsize=[10,5], Dates=AllMeasured['Dates'])\n",
    "    return p\n"
   ]
  },
  {
   "cell_type": "code",
   "execution_count": 5,
   "metadata": {},
   "outputs": [
    {
     "data": {
      "text/plain": [
       "0"
      ]
     },
     "execution_count": 5,
     "metadata": {},
     "output_type": "execute_result"
    }
   ],
   "source": [
    "g['T0'].children[1].value"
   ]
  },
  {
   "cell_type": "code",
   "execution_count": 18,
   "metadata": {},
   "outputs": [
    {
     "data": {
      "text/plain": [
       "<tf.Tensor: shape=(1, 2, 1, 1), dtype=float32, numpy=\n",
       "array([[[[2.5118864e-06]],\n",
       "\n",
       "        [[7.1999998e+00]]]], dtype=float32)>"
      ]
     },
     "execution_count": 18,
     "metadata": {},
     "output_type": "execute_result"
    }
   ],
   "source": [
    "M.Var['T0']()"
   ]
  },
  {
   "cell_type": "code",
   "execution_count": 4,
   "metadata": {},
   "outputs": [
    {
     "data": {
      "text/html": [
       "\n",
       "\n",
       "\n",
       "\n",
       "\n",
       "\n",
       "  <div class=\"bk-root\" id=\"e5c03549-85b1-4023-a1a9-7d2edae9ef35\" data-root-id=\"2149\"></div>\n"
      ]
     },
     "metadata": {},
     "output_type": "display_data"
    },
    {
     "data": {
      "application/javascript": [
       "(function(root) {\n",
       "  function embed_document(root) {\n",
       "    \n",
       "  var docs_json = {\"f277e6f4-a4d0-457a-9459-d965b9208292\":{\"roots\":{\"references\":[{\"attributes\":{\"background_fill_color\":\"#efefef\",\"below\":[{\"id\":\"2160\"}],\"center\":[{\"id\":\"2163\"},{\"id\":\"2167\"}],\"left\":[{\"id\":\"2164\"}],\"name\":\"Blubb\",\"plot_height\":300,\"renderers\":[{\"id\":\"2185\"}],\"title\":{\"id\":\"2150\"},\"toolbar\":{\"id\":\"2175\"},\"x_range\":{\"id\":\"2152\"},\"x_scale\":{\"id\":\"2156\"},\"y_range\":{\"id\":\"2154\"},\"y_scale\":{\"id\":\"2158\"}},\"id\":\"2149\",\"subtype\":\"Figure\",\"type\":\"Plot\"},{\"attributes\":{\"fill_alpha\":{\"value\":0.1},\"fill_color\":{\"value\":\"#cc8800\"},\"line_alpha\":{\"value\":0.1},\"line_color\":{\"value\":\"#cc8800\"},\"top\":{\"field\":\"y\"},\"x\":{\"field\":\"x\"}},\"id\":\"2184\",\"type\":\"VBar\"},{\"attributes\":{},\"id\":\"2168\",\"type\":\"PanTool\"},{\"attributes\":{\"text\":\"simple line example\"},\"id\":\"2150\",\"type\":\"Title\"},{\"attributes\":{},\"id\":\"2169\",\"type\":\"WheelZoomTool\"},{\"attributes\":{\"overlay\":{\"id\":\"2174\"}},\"id\":\"2170\",\"type\":\"BoxZoomTool\"},{\"attributes\":{},\"id\":\"2171\",\"type\":\"SaveTool\"},{\"attributes\":{},\"id\":\"2172\",\"type\":\"ResetTool\"},{\"attributes\":{},\"id\":\"2173\",\"type\":\"HelpTool\"},{\"attributes\":{},\"id\":\"2152\",\"type\":\"DataRange1d\"},{\"attributes\":{\"data_source\":{\"id\":\"2148\"},\"glyph\":{\"id\":\"2183\"},\"hover_glyph\":null,\"muted_glyph\":null,\"name\":\"Hi there\",\"nonselection_glyph\":{\"id\":\"2184\"},\"selection_glyph\":null,\"view\":{\"id\":\"2186\"}},\"id\":\"2185\",\"type\":\"GlyphRenderer\"},{\"attributes\":{\"end\":5,\"start\":-5},\"id\":\"2154\",\"type\":\"Range1d\"},{\"attributes\":{\"active_drag\":\"auto\",\"active_inspect\":\"auto\",\"active_multi\":null,\"active_scroll\":\"auto\",\"active_tap\":\"auto\",\"tools\":[{\"id\":\"2168\"},{\"id\":\"2169\"},{\"id\":\"2170\"},{\"id\":\"2171\"},{\"id\":\"2172\"},{\"id\":\"2173\"}]},\"id\":\"2175\",\"type\":\"Toolbar\"},{\"attributes\":{\"bottom_units\":\"screen\",\"fill_alpha\":0.5,\"fill_color\":\"lightgrey\",\"left_units\":\"screen\",\"level\":\"overlay\",\"line_alpha\":1.0,\"line_color\":\"black\",\"line_dash\":[4,4],\"line_width\":2,\"render_mode\":\"css\",\"right_units\":\"screen\",\"top_units\":\"screen\"},\"id\":\"2174\",\"type\":\"BoxAnnotation\"},{\"attributes\":{},\"id\":\"2156\",\"type\":\"LinearScale\"},{\"attributes\":{},\"id\":\"2158\",\"type\":\"LinearScale\"},{\"attributes\":{\"axis_label\":\"Hi\",\"formatter\":{\"id\":\"2269\"},\"ticker\":{\"id\":\"2161\"}},\"id\":\"2160\",\"type\":\"LinearAxis\"},{\"attributes\":{\"fill_alpha\":{\"value\":0.4},\"fill_color\":{\"value\":\"#cc8800\"},\"line_alpha\":{\"value\":0.4},\"line_color\":{\"value\":\"#cc8800\"},\"top\":{\"field\":\"y\"},\"x\":{\"field\":\"x\"}},\"id\":\"2183\",\"type\":\"VBar\"},{\"attributes\":{},\"id\":\"2161\",\"type\":\"BasicTicker\"},{\"attributes\":{\"axis\":{\"id\":\"2160\"},\"ticker\":null},\"id\":\"2163\",\"type\":\"Grid\"},{\"attributes\":{},\"id\":\"2269\",\"type\":\"BasicTickFormatter\"},{\"attributes\":{\"formatter\":{\"id\":\"2271\"},\"ticker\":{\"id\":\"2165\"}},\"id\":\"2164\",\"type\":\"LinearAxis\"},{\"attributes\":{},\"id\":\"2271\",\"type\":\"BasicTickFormatter\"},{\"attributes\":{},\"id\":\"2165\",\"type\":\"BasicTicker\"},{\"attributes\":{},\"id\":\"2273\",\"type\":\"Selection\"},{\"attributes\":{\"axis\":{\"id\":\"2164\"},\"dimension\":1,\"ticker\":null},\"id\":\"2167\",\"type\":\"Grid\"},{\"attributes\":{\"data\":{\"x\":{\"__ndarray__\":\"AAAAAAAAAAAvupcDFyrVPy+6lwMXKuU/RpdjhSK/7z8vupcDFyr1P7uofcScdPo/RpdjhSK//z/pwiQj1IQCQC+6lwMXKgVAdbEK5FnPB0C7qH3EnHQKQAGg8KTfGQ1ARpdjhSK/D0BGR+uyMjIRQOnCJCPUhBJAjD5ek3XXE0AvupcDFyoVQNI10XO4fBZAdbEK5FnPF0AYLURU+yEZQA==\",\"dtype\":\"float64\",\"shape\":[20]},\"y\":{\"__ndarray__\":\"AAAAAAAAAACpz1BI4MfUPyNEOWuhp+M/5D2uWhHK6j8YLt60UwXvP6pCpSkF5O8/CQsR3QNO7T8QPufeDIvnP/B77Q3sdd4/ylgtf28RxT/BWC1/bxHFv+x77Q3sdd6/DD7n3gyL578HCxHdA07tv6pCpSkF5O+/GS7etFMF77/mPa5aEcrqvyVEOWuhp+O/rs9QSODH1L8HXBQzJqaxvA==\",\"dtype\":\"float64\",\"shape\":[20]}},\"selected\":{\"id\":\"2273\"},\"selection_policy\":{\"id\":\"2274\"}},\"id\":\"2148\",\"type\":\"ColumnDataSource\"},{\"attributes\":{},\"id\":\"2274\",\"type\":\"UnionRenderers\"},{\"attributes\":{\"source\":{\"id\":\"2148\"}},\"id\":\"2186\",\"type\":\"CDSView\"}],\"root_ids\":[\"2149\"]},\"title\":\"Bokeh Application\",\"version\":\"2.0.2\"}};\n",
       "  var render_items = [{\"docid\":\"f277e6f4-a4d0-457a-9459-d965b9208292\",\"notebook_comms_target\":\"2276\",\"root_ids\":[\"2149\"],\"roots\":{\"2149\":\"e5c03549-85b1-4023-a1a9-7d2edae9ef35\"}}];\n",
       "  root.Bokeh.embed.embed_items_notebook(docs_json, render_items);\n",
       "\n",
       "  }\n",
       "  if (root.Bokeh !== undefined) {\n",
       "    embed_document(root);\n",
       "  } else {\n",
       "    var attempts = 0;\n",
       "    var timer = setInterval(function(root) {\n",
       "      if (root.Bokeh !== undefined) {\n",
       "        clearInterval(timer);\n",
       "        embed_document(root);\n",
       "      } else {\n",
       "        attempts++;\n",
       "        if (attempts > 100) {\n",
       "          clearInterval(timer);\n",
       "          console.log(\"Bokeh: ERROR: Unable to run BokehJS code because BokehJS library is missing\");\n",
       "        }\n",
       "      }\n",
       "    }, 10, root)\n",
       "  }\n",
       "})(window);"
      ],
      "application/vnd.bokehjs_exec.v0+json": ""
     },
     "metadata": {
      "application/vnd.bokehjs_exec.v0+json": {
       "id": "2149"
      }
     },
     "output_type": "display_data"
    }
   ],
   "source": [
    "from ipywidgets import interact\n",
    "import numpy as np\n",
    "import pandas as pd\n",
    "\n",
    "from bokeh.io import push_notebook, show, output_notebook\n",
    "from bokeh.plotting import figure\n",
    "from bokeh.models import ColumnDataSource\n",
    "\n",
    "x = np.linspace(0, 2*np.pi, 20)\n",
    "y = np.sin(x)\n",
    "Dates = M.getDates(AllMeasured['Dates'],y)\n",
    "Dates = pd.to_datetime(Dates, dayfirst=True)\n",
    "\n",
    "source = ColumnDataSource(data=dict(x=x, y=y))\n",
    "\n",
    "p = figure(title=\"simple line example\", plot_height=300, plot_width=600, y_range=(-5,5),\n",
    "           background_fill_color='#efefef', name='Blubb') # , x_axis_type='datetime'\n",
    "# r = p.line(pd.to_datetime(Dates), y, color=\"#8888cc\", line_width=1.5, alpha=0.8)\n",
    "# r = p.vbar_stack([x], y=[y-0.5], color=\"#8888cc\")\n",
    "r = p.vbar('x', top='y',color=\"#cc8800\", alpha=0.4, source=source, name='Hi there')\n",
    "# r = p.vbar(x, top=y+1, width=0.15, color=\"#8888cc\", alpha=0.6)\n",
    "p.xaxis.axis_label = 'Hi'\n",
    "q=show(p, notebook_handle=True)\n",
    "# pd.date_range(start=Dates[0], periods=toPlot.shape[0]).map(lambda x: x.strftime('%d.%m.%Y'))\n"
   ]
  },
  {
   "cell_type": "code",
   "execution_count": 48,
   "metadata": {},
   "outputs": [],
   "source": [
    "# pd.to_datetime(Dates)\n",
    "Dates = pd.date_range(start='14.02.2020', periods=x.shape[0]).map(lambda x: x.strftime('%d.%m.%Y'))"
   ]
  },
  {
   "cell_type": "code",
   "execution_count": 6,
   "metadata": {},
   "outputs": [
    {
     "data": {
      "text/plain": [
       "bokeh.plotting.figure.Figure"
      ]
     },
     "execution_count": 6,
     "metadata": {},
     "output_type": "execute_result"
    }
   ],
   "source": [
    "type(p)"
   ]
  },
  {
   "cell_type": "code",
   "execution_count": 14,
   "metadata": {},
   "outputs": [
    {
     "data": {
      "text/plain": [
       "True"
      ]
     },
     "execution_count": 14,
     "metadata": {},
     "output_type": "execute_result"
    }
   ],
   "source": [
    "from bokeh.io.notebook import CommsHandle\n",
    "isinstance(q,CommsHandle)"
   ]
  },
  {
   "cell_type": "code",
   "execution_count": 44,
   "metadata": {},
   "outputs": [
    {
     "data": {
      "text/plain": [
       "bokeh.plotting.figure.Figure"
      ]
     },
     "execution_count": 44,
     "metadata": {},
     "output_type": "execute_result"
    }
   ],
   "source": [
    "type(p)"
   ]
  },
  {
   "cell_type": "code",
   "execution_count": null,
   "metadata": {},
   "outputs": [],
   "source": []
  }
 ],
 "metadata": {
  "kernelspec": {
   "display_name": "Python 3",
   "language": "python",
   "name": "python3"
  },
  "language_info": {
   "codemirror_mode": {
    "name": "ipython",
    "version": 3
   },
   "file_extension": ".py",
   "mimetype": "text/x-python",
   "name": "python",
   "nbconvert_exporter": "python",
   "pygments_lexer": "ipython3",
   "version": "3.7.0"
  }
 },
 "nbformat": 4,
 "nbformat_minor": 4
}
