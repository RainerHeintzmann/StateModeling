{
 "cells": [
  {
   "cell_type": "code",
   "execution_count": 1,
   "metadata": {
    "scrolled": true
   },
   "outputs": [
    {
     "name": "stdout",
     "output_type": "stream",
     "text": [
      "C:\\Users\\pi96doc\\Documents\\Programming\\PythonScripts\\StateModeling\n"
     ]
    }
   ],
   "source": [
    "cd .."
   ]
  },
  {
   "cell_type": "code",
   "execution_count": 2,
   "metadata": {},
   "outputs": [
    {
     "data": {
      "text/html": [
       "\n",
       "    <div class=\"bk-root\">\n",
       "        <a href=\"https://bokeh.org\" target=\"_blank\" class=\"bk-logo bk-logo-small bk-logo-notebook\"></a>\n",
       "        <span id=\"1001\">Loading BokehJS ...</span>\n",
       "    </div>"
      ]
     },
     "metadata": {},
     "output_type": "display_data"
    },
    {
     "data": {
      "application/javascript": [
       "\n",
       "(function(root) {\n",
       "  function now() {\n",
       "    return new Date();\n",
       "  }\n",
       "\n",
       "  var force = true;\n",
       "\n",
       "  if (typeof root._bokeh_onload_callbacks === \"undefined\" || force === true) {\n",
       "    root._bokeh_onload_callbacks = [];\n",
       "    root._bokeh_is_loading = undefined;\n",
       "  }\n",
       "\n",
       "  var JS_MIME_TYPE = 'application/javascript';\n",
       "  var HTML_MIME_TYPE = 'text/html';\n",
       "  var EXEC_MIME_TYPE = 'application/vnd.bokehjs_exec.v0+json';\n",
       "  var CLASS_NAME = 'output_bokeh rendered_html';\n",
       "\n",
       "  /**\n",
       "   * Render data to the DOM node\n",
       "   */\n",
       "  function render(props, node) {\n",
       "    var script = document.createElement(\"script\");\n",
       "    node.appendChild(script);\n",
       "  }\n",
       "\n",
       "  /**\n",
       "   * Handle when an output is cleared or removed\n",
       "   */\n",
       "  function handleClearOutput(event, handle) {\n",
       "    var cell = handle.cell;\n",
       "\n",
       "    var id = cell.output_area._bokeh_element_id;\n",
       "    var server_id = cell.output_area._bokeh_server_id;\n",
       "    // Clean up Bokeh references\n",
       "    if (id != null && id in Bokeh.index) {\n",
       "      Bokeh.index[id].model.document.clear();\n",
       "      delete Bokeh.index[id];\n",
       "    }\n",
       "\n",
       "    if (server_id !== undefined) {\n",
       "      // Clean up Bokeh references\n",
       "      var cmd = \"from bokeh.io.state import curstate; print(curstate().uuid_to_server['\" + server_id + \"'].get_sessions()[0].document.roots[0]._id)\";\n",
       "      cell.notebook.kernel.execute(cmd, {\n",
       "        iopub: {\n",
       "          output: function(msg) {\n",
       "            var id = msg.content.text.trim();\n",
       "            if (id in Bokeh.index) {\n",
       "              Bokeh.index[id].model.document.clear();\n",
       "              delete Bokeh.index[id];\n",
       "            }\n",
       "          }\n",
       "        }\n",
       "      });\n",
       "      // Destroy server and session\n",
       "      var cmd = \"import bokeh.io.notebook as ion; ion.destroy_server('\" + server_id + \"')\";\n",
       "      cell.notebook.kernel.execute(cmd);\n",
       "    }\n",
       "  }\n",
       "\n",
       "  /**\n",
       "   * Handle when a new output is added\n",
       "   */\n",
       "  function handleAddOutput(event, handle) {\n",
       "    var output_area = handle.output_area;\n",
       "    var output = handle.output;\n",
       "\n",
       "    // limit handleAddOutput to display_data with EXEC_MIME_TYPE content only\n",
       "    if ((output.output_type != \"display_data\") || (!output.data.hasOwnProperty(EXEC_MIME_TYPE))) {\n",
       "      return\n",
       "    }\n",
       "\n",
       "    var toinsert = output_area.element.find(\".\" + CLASS_NAME.split(' ')[0]);\n",
       "\n",
       "    if (output.metadata[EXEC_MIME_TYPE][\"id\"] !== undefined) {\n",
       "      toinsert[toinsert.length - 1].firstChild.textContent = output.data[JS_MIME_TYPE];\n",
       "      // store reference to embed id on output_area\n",
       "      output_area._bokeh_element_id = output.metadata[EXEC_MIME_TYPE][\"id\"];\n",
       "    }\n",
       "    if (output.metadata[EXEC_MIME_TYPE][\"server_id\"] !== undefined) {\n",
       "      var bk_div = document.createElement(\"div\");\n",
       "      bk_div.innerHTML = output.data[HTML_MIME_TYPE];\n",
       "      var script_attrs = bk_div.children[0].attributes;\n",
       "      for (var i = 0; i < script_attrs.length; i++) {\n",
       "        toinsert[toinsert.length - 1].firstChild.setAttribute(script_attrs[i].name, script_attrs[i].value);\n",
       "        toinsert[toinsert.length - 1].firstChild.textContent = bk_div.children[0].textContent\n",
       "      }\n",
       "      // store reference to server id on output_area\n",
       "      output_area._bokeh_server_id = output.metadata[EXEC_MIME_TYPE][\"server_id\"];\n",
       "    }\n",
       "  }\n",
       "\n",
       "  function register_renderer(events, OutputArea) {\n",
       "\n",
       "    function append_mime(data, metadata, element) {\n",
       "      // create a DOM node to render to\n",
       "      var toinsert = this.create_output_subarea(\n",
       "        metadata,\n",
       "        CLASS_NAME,\n",
       "        EXEC_MIME_TYPE\n",
       "      );\n",
       "      this.keyboard_manager.register_events(toinsert);\n",
       "      // Render to node\n",
       "      var props = {data: data, metadata: metadata[EXEC_MIME_TYPE]};\n",
       "      render(props, toinsert[toinsert.length - 1]);\n",
       "      element.append(toinsert);\n",
       "      return toinsert\n",
       "    }\n",
       "\n",
       "    /* Handle when an output is cleared or removed */\n",
       "    events.on('clear_output.CodeCell', handleClearOutput);\n",
       "    events.on('delete.Cell', handleClearOutput);\n",
       "\n",
       "    /* Handle when a new output is added */\n",
       "    events.on('output_added.OutputArea', handleAddOutput);\n",
       "\n",
       "    /**\n",
       "     * Register the mime type and append_mime function with output_area\n",
       "     */\n",
       "    OutputArea.prototype.register_mime_type(EXEC_MIME_TYPE, append_mime, {\n",
       "      /* Is output safe? */\n",
       "      safe: true,\n",
       "      /* Index of renderer in `output_area.display_order` */\n",
       "      index: 0\n",
       "    });\n",
       "  }\n",
       "\n",
       "  // register the mime type if in Jupyter Notebook environment and previously unregistered\n",
       "  if (root.Jupyter !== undefined) {\n",
       "    var events = require('base/js/events');\n",
       "    var OutputArea = require('notebook/js/outputarea').OutputArea;\n",
       "\n",
       "    if (OutputArea.prototype.mime_types().indexOf(EXEC_MIME_TYPE) == -1) {\n",
       "      register_renderer(events, OutputArea);\n",
       "    }\n",
       "  }\n",
       "\n",
       "  \n",
       "  if (typeof (root._bokeh_timeout) === \"undefined\" || force === true) {\n",
       "    root._bokeh_timeout = Date.now() + 5000;\n",
       "    root._bokeh_failed_load = false;\n",
       "  }\n",
       "\n",
       "  var NB_LOAD_WARNING = {'data': {'text/html':\n",
       "     \"<div style='background-color: #fdd'>\\n\"+\n",
       "     \"<p>\\n\"+\n",
       "     \"BokehJS does not appear to have successfully loaded. If loading BokehJS from CDN, this \\n\"+\n",
       "     \"may be due to a slow or bad network connection. Possible fixes:\\n\"+\n",
       "     \"</p>\\n\"+\n",
       "     \"<ul>\\n\"+\n",
       "     \"<li>re-rerun `output_notebook()` to attempt to load from CDN again, or</li>\\n\"+\n",
       "     \"<li>use INLINE resources instead, as so:</li>\\n\"+\n",
       "     \"</ul>\\n\"+\n",
       "     \"<code>\\n\"+\n",
       "     \"from bokeh.resources import INLINE\\n\"+\n",
       "     \"output_notebook(resources=INLINE)\\n\"+\n",
       "     \"</code>\\n\"+\n",
       "     \"</div>\"}};\n",
       "\n",
       "  function display_loaded() {\n",
       "    var el = document.getElementById(\"1001\");\n",
       "    if (el != null) {\n",
       "      el.textContent = \"BokehJS is loading...\";\n",
       "    }\n",
       "    if (root.Bokeh !== undefined) {\n",
       "      if (el != null) {\n",
       "        el.textContent = \"BokehJS \" + root.Bokeh.version + \" successfully loaded.\";\n",
       "      }\n",
       "    } else if (Date.now() < root._bokeh_timeout) {\n",
       "      setTimeout(display_loaded, 100)\n",
       "    }\n",
       "  }\n",
       "\n",
       "\n",
       "  function run_callbacks() {\n",
       "    try {\n",
       "      root._bokeh_onload_callbacks.forEach(function(callback) {\n",
       "        if (callback != null)\n",
       "          callback();\n",
       "      });\n",
       "    } finally {\n",
       "      delete root._bokeh_onload_callbacks\n",
       "    }\n",
       "    console.debug(\"Bokeh: all callbacks have finished\");\n",
       "  }\n",
       "\n",
       "  function load_libs(css_urls, js_urls, callback) {\n",
       "    if (css_urls == null) css_urls = [];\n",
       "    if (js_urls == null) js_urls = [];\n",
       "\n",
       "    root._bokeh_onload_callbacks.push(callback);\n",
       "    if (root._bokeh_is_loading > 0) {\n",
       "      console.debug(\"Bokeh: BokehJS is being loaded, scheduling callback at\", now());\n",
       "      return null;\n",
       "    }\n",
       "    if (js_urls == null || js_urls.length === 0) {\n",
       "      run_callbacks();\n",
       "      return null;\n",
       "    }\n",
       "    console.debug(\"Bokeh: BokehJS not loaded, scheduling load and callback at\", now());\n",
       "    root._bokeh_is_loading = css_urls.length + js_urls.length;\n",
       "\n",
       "    function on_load() {\n",
       "      root._bokeh_is_loading--;\n",
       "      if (root._bokeh_is_loading === 0) {\n",
       "        console.debug(\"Bokeh: all BokehJS libraries/stylesheets loaded\");\n",
       "        run_callbacks()\n",
       "      }\n",
       "    }\n",
       "\n",
       "    function on_error() {\n",
       "      console.error(\"failed to load \" + url);\n",
       "    }\n",
       "\n",
       "    for (var i = 0; i < css_urls.length; i++) {\n",
       "      var url = css_urls[i];\n",
       "      const element = document.createElement(\"link\");\n",
       "      element.onload = on_load;\n",
       "      element.onerror = on_error;\n",
       "      element.rel = \"stylesheet\";\n",
       "      element.type = \"text/css\";\n",
       "      element.href = url;\n",
       "      console.debug(\"Bokeh: injecting link tag for BokehJS stylesheet: \", url);\n",
       "      document.body.appendChild(element);\n",
       "    }\n",
       "\n",
       "    const hashes = {\"https://cdn.bokeh.org/bokeh/release/bokeh-2.0.2.min.js\": \"ufR9RFnRs6lniiaFvtJziE0YeidtAgBRH6ux2oUItHw5WTvE1zuk9uzhUU/FJXDp\", \"https://cdn.bokeh.org/bokeh/release/bokeh-widgets-2.0.2.min.js\": \"8QM/PGWBT+IssZuRcDcjzwIh1mkOmJSoNMmyYDZbCfXJg3Ap1lEvdVgFuSAwhb/J\", \"https://cdn.bokeh.org/bokeh/release/bokeh-tables-2.0.2.min.js\": \"Jm8cH3Rg0P6UeZhVY5cLy1WzKajUT9KImCY+76hEqrcJt59/d8GPvFHjCkYgnSIn\", \"https://cdn.bokeh.org/bokeh/release/bokeh-gl-2.0.2.min.js\": \"Ozhzj+SI7ywm74aOI/UajcWz+C0NjsPunEVyVIrxzYkB+jA+2tUw8x5xJCbVtK5I\"};\n",
       "\n",
       "    for (var i = 0; i < js_urls.length; i++) {\n",
       "      var url = js_urls[i];\n",
       "      var element = document.createElement('script');\n",
       "      element.onload = on_load;\n",
       "      element.onerror = on_error;\n",
       "      element.async = false;\n",
       "      element.src = url;\n",
       "      if (url in hashes) {\n",
       "        element.crossOrigin = \"anonymous\";\n",
       "        element.integrity = \"sha384-\" + hashes[url];\n",
       "      }\n",
       "      console.debug(\"Bokeh: injecting script tag for BokehJS library: \", url);\n",
       "      document.head.appendChild(element);\n",
       "    }\n",
       "  };\n",
       "\n",
       "  function inject_raw_css(css) {\n",
       "    const element = document.createElement(\"style\");\n",
       "    element.appendChild(document.createTextNode(css));\n",
       "    document.body.appendChild(element);\n",
       "  }\n",
       "\n",
       "  \n",
       "  var js_urls = [\"https://cdn.bokeh.org/bokeh/release/bokeh-2.0.2.min.js\", \"https://cdn.bokeh.org/bokeh/release/bokeh-widgets-2.0.2.min.js\", \"https://cdn.bokeh.org/bokeh/release/bokeh-tables-2.0.2.min.js\", \"https://cdn.bokeh.org/bokeh/release/bokeh-gl-2.0.2.min.js\"];\n",
       "  var css_urls = [];\n",
       "  \n",
       "\n",
       "  var inline_js = [\n",
       "    function(Bokeh) {\n",
       "      Bokeh.set_log_level(\"info\");\n",
       "    },\n",
       "    function(Bokeh) {\n",
       "    \n",
       "    \n",
       "    }\n",
       "  ];\n",
       "\n",
       "  function run_inline_js() {\n",
       "    \n",
       "    if (root.Bokeh !== undefined || force === true) {\n",
       "      \n",
       "    for (var i = 0; i < inline_js.length; i++) {\n",
       "      inline_js[i].call(root, root.Bokeh);\n",
       "    }\n",
       "    if (force === true) {\n",
       "        display_loaded();\n",
       "      }} else if (Date.now() < root._bokeh_timeout) {\n",
       "      setTimeout(run_inline_js, 100);\n",
       "    } else if (!root._bokeh_failed_load) {\n",
       "      console.log(\"Bokeh: BokehJS failed to load within specified timeout.\");\n",
       "      root._bokeh_failed_load = true;\n",
       "    } else if (force !== true) {\n",
       "      var cell = $(document.getElementById(\"1001\")).parents('.cell').data().cell;\n",
       "      cell.output_area.append_execute_result(NB_LOAD_WARNING)\n",
       "    }\n",
       "\n",
       "  }\n",
       "\n",
       "  if (root._bokeh_is_loading === 0) {\n",
       "    console.debug(\"Bokeh: BokehJS loaded, going straight to plotting\");\n",
       "    run_inline_js();\n",
       "  } else {\n",
       "    load_libs(css_urls, js_urls, function() {\n",
       "      console.debug(\"Bokeh: BokehJS plotting callback run at\", now());\n",
       "      run_inline_js();\n",
       "    });\n",
       "  }\n",
       "}(window));"
      ],
      "application/vnd.bokehjs_load.v0+json": "\n(function(root) {\n  function now() {\n    return new Date();\n  }\n\n  var force = true;\n\n  if (typeof root._bokeh_onload_callbacks === \"undefined\" || force === true) {\n    root._bokeh_onload_callbacks = [];\n    root._bokeh_is_loading = undefined;\n  }\n\n  \n\n  \n  if (typeof (root._bokeh_timeout) === \"undefined\" || force === true) {\n    root._bokeh_timeout = Date.now() + 5000;\n    root._bokeh_failed_load = false;\n  }\n\n  var NB_LOAD_WARNING = {'data': {'text/html':\n     \"<div style='background-color: #fdd'>\\n\"+\n     \"<p>\\n\"+\n     \"BokehJS does not appear to have successfully loaded. If loading BokehJS from CDN, this \\n\"+\n     \"may be due to a slow or bad network connection. Possible fixes:\\n\"+\n     \"</p>\\n\"+\n     \"<ul>\\n\"+\n     \"<li>re-rerun `output_notebook()` to attempt to load from CDN again, or</li>\\n\"+\n     \"<li>use INLINE resources instead, as so:</li>\\n\"+\n     \"</ul>\\n\"+\n     \"<code>\\n\"+\n     \"from bokeh.resources import INLINE\\n\"+\n     \"output_notebook(resources=INLINE)\\n\"+\n     \"</code>\\n\"+\n     \"</div>\"}};\n\n  function display_loaded() {\n    var el = document.getElementById(\"1001\");\n    if (el != null) {\n      el.textContent = \"BokehJS is loading...\";\n    }\n    if (root.Bokeh !== undefined) {\n      if (el != null) {\n        el.textContent = \"BokehJS \" + root.Bokeh.version + \" successfully loaded.\";\n      }\n    } else if (Date.now() < root._bokeh_timeout) {\n      setTimeout(display_loaded, 100)\n    }\n  }\n\n\n  function run_callbacks() {\n    try {\n      root._bokeh_onload_callbacks.forEach(function(callback) {\n        if (callback != null)\n          callback();\n      });\n    } finally {\n      delete root._bokeh_onload_callbacks\n    }\n    console.debug(\"Bokeh: all callbacks have finished\");\n  }\n\n  function load_libs(css_urls, js_urls, callback) {\n    if (css_urls == null) css_urls = [];\n    if (js_urls == null) js_urls = [];\n\n    root._bokeh_onload_callbacks.push(callback);\n    if (root._bokeh_is_loading > 0) {\n      console.debug(\"Bokeh: BokehJS is being loaded, scheduling callback at\", now());\n      return null;\n    }\n    if (js_urls == null || js_urls.length === 0) {\n      run_callbacks();\n      return null;\n    }\n    console.debug(\"Bokeh: BokehJS not loaded, scheduling load and callback at\", now());\n    root._bokeh_is_loading = css_urls.length + js_urls.length;\n\n    function on_load() {\n      root._bokeh_is_loading--;\n      if (root._bokeh_is_loading === 0) {\n        console.debug(\"Bokeh: all BokehJS libraries/stylesheets loaded\");\n        run_callbacks()\n      }\n    }\n\n    function on_error() {\n      console.error(\"failed to load \" + url);\n    }\n\n    for (var i = 0; i < css_urls.length; i++) {\n      var url = css_urls[i];\n      const element = document.createElement(\"link\");\n      element.onload = on_load;\n      element.onerror = on_error;\n      element.rel = \"stylesheet\";\n      element.type = \"text/css\";\n      element.href = url;\n      console.debug(\"Bokeh: injecting link tag for BokehJS stylesheet: \", url);\n      document.body.appendChild(element);\n    }\n\n    const hashes = {\"https://cdn.bokeh.org/bokeh/release/bokeh-2.0.2.min.js\": \"ufR9RFnRs6lniiaFvtJziE0YeidtAgBRH6ux2oUItHw5WTvE1zuk9uzhUU/FJXDp\", \"https://cdn.bokeh.org/bokeh/release/bokeh-widgets-2.0.2.min.js\": \"8QM/PGWBT+IssZuRcDcjzwIh1mkOmJSoNMmyYDZbCfXJg3Ap1lEvdVgFuSAwhb/J\", \"https://cdn.bokeh.org/bokeh/release/bokeh-tables-2.0.2.min.js\": \"Jm8cH3Rg0P6UeZhVY5cLy1WzKajUT9KImCY+76hEqrcJt59/d8GPvFHjCkYgnSIn\", \"https://cdn.bokeh.org/bokeh/release/bokeh-gl-2.0.2.min.js\": \"Ozhzj+SI7ywm74aOI/UajcWz+C0NjsPunEVyVIrxzYkB+jA+2tUw8x5xJCbVtK5I\"};\n\n    for (var i = 0; i < js_urls.length; i++) {\n      var url = js_urls[i];\n      var element = document.createElement('script');\n      element.onload = on_load;\n      element.onerror = on_error;\n      element.async = false;\n      element.src = url;\n      if (url in hashes) {\n        element.crossOrigin = \"anonymous\";\n        element.integrity = \"sha384-\" + hashes[url];\n      }\n      console.debug(\"Bokeh: injecting script tag for BokehJS library: \", url);\n      document.head.appendChild(element);\n    }\n  };\n\n  function inject_raw_css(css) {\n    const element = document.createElement(\"style\");\n    element.appendChild(document.createTextNode(css));\n    document.body.appendChild(element);\n  }\n\n  \n  var js_urls = [\"https://cdn.bokeh.org/bokeh/release/bokeh-2.0.2.min.js\", \"https://cdn.bokeh.org/bokeh/release/bokeh-widgets-2.0.2.min.js\", \"https://cdn.bokeh.org/bokeh/release/bokeh-tables-2.0.2.min.js\", \"https://cdn.bokeh.org/bokeh/release/bokeh-gl-2.0.2.min.js\"];\n  var css_urls = [];\n  \n\n  var inline_js = [\n    function(Bokeh) {\n      Bokeh.set_log_level(\"info\");\n    },\n    function(Bokeh) {\n    \n    \n    }\n  ];\n\n  function run_inline_js() {\n    \n    if (root.Bokeh !== undefined || force === true) {\n      \n    for (var i = 0; i < inline_js.length; i++) {\n      inline_js[i].call(root, root.Bokeh);\n    }\n    if (force === true) {\n        display_loaded();\n      }} else if (Date.now() < root._bokeh_timeout) {\n      setTimeout(run_inline_js, 100);\n    } else if (!root._bokeh_failed_load) {\n      console.log(\"Bokeh: BokehJS failed to load within specified timeout.\");\n      root._bokeh_failed_load = true;\n    } else if (force !== true) {\n      var cell = $(document.getElementById(\"1001\")).parents('.cell').data().cell;\n      cell.output_area.append_execute_result(NB_LOAD_WARNING)\n    }\n\n  }\n\n  if (root._bokeh_is_loading === 0) {\n    console.debug(\"Bokeh: BokehJS loaded, going straight to plotting\");\n    run_inline_js();\n  } else {\n    load_libs(css_urls, js_urls, function() {\n      console.debug(\"Bokeh: BokehJS plotting callback run at\", now());\n      run_inline_js();\n    });\n  }\n}(window));"
     },
     "metadata": {},
     "output_type": "display_data"
    },
    {
     "name": "stdout",
     "output_type": "stream",
     "text": [
      "(60, 1, 1, 6, 1)\n"
     ]
    }
   ],
   "source": [
    "# %matplotlib notebook\n",
    "# %matplotlib inline\n",
    "#import mpld3\n",
    "#mpld3.enable_notebook()\n",
    "\n",
    "import StateModeling as stm\n",
    "import numpy as np\n",
    "import matplotlib.pyplot as plt\n",
    "import tensorflow as tf\n",
    "from Corona.LoadData import loadData, preprocessData\n",
    "from Corona.CoronaModel import CoronaDelayModel, plotTotalCases\n",
    "from bokeh.io import push_notebook, show, output_notebook\n",
    "import os\n",
    "from os import sep\n",
    "\n",
    "import ipywidgets as widgets\n",
    "from ipywidgets import interact, interact_manual\n",
    "# import cufflinks as cf\n",
    "\n",
    "output_notebook()\n",
    "\n",
    "basePath = os.getcwd()\n",
    "DataStruct = 'Michael'\n",
    "\n",
    "usePreprocessed = True # use the specially preprocessed RKI Data\n",
    "SumAges=False\n",
    "SumGender=True\n",
    "Filename = basePath + sep + r'Data' + sep + 'PreprocessedMeasured_A'+str(SumAges)+'_G'+str(SumGender)\n",
    "if False: # reload and preprocess the data\n",
    "    if True: # import the RKI German data\n",
    "        if False:\n",
    "            ExampleRegions = ['SK Gera', 'SK Jena', 'LK Nordhausen', 'SK Erfurt', 'SK Suhl', 'LK Weimarer Land', 'SK Weimar','LK Greiz', \n",
    "                          'LK Schmalkalden-Meiningen', 'LK Eichsfeld', 'LK Sömmerda', 'LK Hildburghausen', \n",
    "                          'LK Saale-Orla-Kreis','LK Saale-Holzland-Kreis', 'LK Kyffhäuserkreis', 'LK Saalfeld-Rudolstadt', 'LK Ilm-Kreis',\n",
    "                          'LK Unstrut-Hainich-Kreis', 'LK Gotha', 'LK Sonneberg', 'SK Eisenach', 'LK Altenburger Land', \n",
    "                          'LK Wartburgkreis']\n",
    "        else:\n",
    "            ExampleRegions = None\n",
    "        # ExampleRegions = ['SK Jena', 'LK Greiz', 'LK Sonneberg', 'LK Göttingen'] # ['SK Jena','SK Gera'] # \n",
    "        # ExampleRegions = ['SK Jena','SK Gera','LK Gütersloh'] # \n",
    "        # DeathData = r'C:\\Users\\pi96doc\\Documents\\Programming\\PythonScripts\\FromWeb\\CoronaData\\CSV-Dateien-mit-Covid-19-Infektionen-\\Deaths_RKI_Format_new.csv'\n",
    "        DeathData=None\n",
    "        AllMeasured = loadData(useThuringia = False, pullData=False, correctDeaths=True, DeathData=DeathData, usePreprocessed=usePreprocessed)\n",
    "        print(AllMeasured['Cases'].shape)\n",
    "        # AllMeasured = preprocessData(AllMeasured, ReduceDistricts=[\"SK Jena\", \"LK Sonneberg\"], SumDistricts=False, SumAges=True, SumGender=True)\n",
    "        AllMeasured = preprocessData(AllMeasured, ReduceDistricts=ExampleRegions, SumDistricts=True, SumAges=SumAges, SumGender=SumGender)\n",
    "        deathPath = r\"C:\\Users\\pi96doc\\Documents\\Programming\\PythonScripts\\FromWeb\\COVID-19-DE\\time_series\\time-series_19-covid-Deaths.csv\"\n",
    "        # deaths = \n",
    "    else: # import the Thuringian Data (only if the line lists are present on your system)\n",
    "        # ExampleRegions = ['SK Jena', 'LK Greiz', 'LK Sonneberg'] # ['SK Jena','SK Gera'] # \n",
    "        # ExampleRegions = ['SK Jena'] # ['SK Jena','SK Gera'] # \n",
    "        AllMeasured = loadData(r\"COVID-19 Linelist 2020_08_26.xlsx\", useThuringia = True, pullData=False) # lastDate='09.05.2020'\n",
    "        # AllMeasured = loadData(r\"COVID-19 Linelist 2020_07_15.xlsx\", useThuringia = True, pullData=False) # lastDate='09.05.2020'\n",
    "        print(AllMeasured['Cases'].shape)\n",
    "        if True:\n",
    "            AllMeasured = preprocessData(AllMeasured, ReduceDistricts=None, SumDistricts=True, SumAges=SumAges, SumGender=SumGender)\n",
    "        else:\n",
    "            AllMeasured = preprocessData(AllMeasured, ReduceDistricts=ExampleRegions, SumDistricts=False, SumAges=SumAges, SumGender=SumGender)\n",
    "    np.save(Filename, AllMeasured)\n",
    "else:\n",
    "    AllMeasured = np.load(Filename+'.npy', allow_pickle=True).item()\n",
    "            \n",
    "AllMeasured['Cases'] = AllMeasured['Cases'][:,np.newaxis,:,:,:]  # to account for the (empty) Disease Progression axis\n",
    "AllMeasured['Dead'] = AllMeasured['Dead'][:,np.newaxis,:,:,:]\n",
    "\n",
    "if 'Hospitalized'  in AllMeasured.keys():\n",
    "    AllMeasured['Hospitalized'] = np.squeeze(AllMeasured['Hospitalized'])\n",
    "    if (AllMeasured['Hospitalized'].ndim == 1):\n",
    "        AllMeasured['Hospitalized']=AllMeasured['Hospitalized'][:,np.newaxis,np.newaxis,np.newaxis]\n",
    "    else:\n",
    "        AllMeasured['Hospitalized']=AllMeasured['Hospitalized'][:,np.newaxis,np.newaxis,:]\n",
    "\n",
    "# AllMeasured['Population'] = np.squeeze(AllMeasured['Population'])\n",
    "\n",
    "print(AllMeasured['Cases'].shape)\n",
    "\n",
    "lossWeights = {'cases':0.1,'hospitalization':0.1,'deaths': 0.1}\n",
    "\n",
    "M = CoronaDelayModel(AllMeasured, Tmax = AllMeasured['Cases'].shape[0], lossWeight=lossWeights)\n"
   ]
  },
  {
   "cell_type": "code",
   "execution_count": 3,
   "metadata": {
    "scrolled": false
   },
   "outputs": [
    {
     "data": {
      "application/vnd.jupyter.widget-view+json": {
       "model_id": "c275370f73d945f6bed17c78d958d9d7",
       "version_major": 2,
       "version_minor": 0
      },
      "text/plain": [
       "HBox(children=(Box(children=(Dropdown(description='time', options=(('0', 0), ('1', 1), ('2', 2), ('3', 3), ('4…"
      ]
     },
     "metadata": {},
     "output_type": "display_data"
    },
    {
     "data": {
      "application/vnd.jupyter.widget-view+json": {
       "model_id": "81180bc56aea4b17a322698ff9a5ea0c",
       "version_major": 2,
       "version_minor": 0
      },
      "text/plain": [
       "HBox(children=(Box(children=(Dropdown(description='Age', options=(('A15-A34', 0), ('A05-A14', 1), ('A35-A59', …"
      ]
     },
     "metadata": {},
     "output_type": "display_data"
    },
    {
     "data": {
      "application/vnd.jupyter.widget-view+json": {
       "model_id": "30ae3079ce57440fa586aa7a42cffabf",
       "version_major": 2,
       "version_minor": 0
      },
      "text/plain": [
       "HBox(children=(HBox(children=(Checkbox(value=True, description='detect_t0', indent=False, layout=Layout(displa…"
      ]
     },
     "metadata": {},
     "output_type": "display_data"
    },
    {
     "data": {
      "application/vnd.jupyter.widget-view+json": {
       "model_id": "561c0233844e4d1b963287a2454c3bdd",
       "version_major": 2,
       "version_minor": 0
      },
      "text/plain": [
       "HBox(children=(Box(children=(Dropdown(description='Age', options=(('A15-A34', 0), ('A05-A14', 1), ('A35-A59', …"
      ]
     },
     "metadata": {},
     "output_type": "display_data"
    },
    {
     "data": {
      "application/vnd.jupyter.widget-view+json": {
       "model_id": "f3d6afa15b714903b295adbca7cc0b46",
       "version_major": 2,
       "version_minor": 0
      },
      "text/plain": [
       "HBox(children=(Button(description='Plot', style=ButtonStyle()), Checkbox(value=False, description='cumul.', in…"
      ]
     },
     "metadata": {},
     "output_type": "display_data"
    },
    {
     "data": {
      "application/vnd.jupyter.widget-view+json": {
       "model_id": "b357fd2e23fe47dfbcbe527f8d941a5f",
       "version_major": 2,
       "version_minor": 0
      },
      "text/plain": [
       "HBox(children=(Box(children=(Dropdown(options=(('L-BFGS', 0), ('SGD', 1), ('nesterov', 2), ('adam', 3), ('adad…"
      ]
     },
     "metadata": {},
     "output_type": "display_data"
    },
    {
     "name": "stdout",
     "output_type": "stream",
     "text": [
      "WARNING: hospitalization was defined as a weight, but no dataset with this name exists! Ignoring entry.\n",
      "\n",
      "Loss is: 1.3003367\n"
     ]
    },
    {
     "data": {
      "text/html": [
       "\n",
       "\n",
       "\n",
       "\n",
       "\n",
       "\n",
       "  <div class=\"bk-root\" id=\"52de6244-8d88-4d95-b906-e828d7d232f1\" data-root-id=\"1002\"></div>\n"
      ]
     },
     "metadata": {},
     "output_type": "display_data"
    },
    {
     "data": {
      "application/javascript": [
       "(function(root) {\n",
       "  function embed_document(root) {\n",
       "    \n",
       "  var docs_json = {\"9f867a24-4846-4b12-9302-36ffbf2b00c7\":{\"roots\":{\"references\":[{\"attributes\":{\"background_fill_color\":\"#efefef\",\"below\":[{\"id\":\"1013\"}],\"center\":[{\"id\":\"1016\"},{\"id\":\"1020\"},{\"id\":\"1068\"}],\"left\":[{\"id\":\"1017\"}],\"name\":\"_figure_cases\",\"plot_height\":400,\"plot_width\":900,\"renderers\":[{\"id\":\"1040\"},{\"id\":\"1045\"},{\"id\":\"1074\"},{\"id\":\"1079\"},{\"id\":\"1109\"},{\"id\":\"1114\"},{\"id\":\"1146\"},{\"id\":\"1151\"},{\"id\":\"1185\"},{\"id\":\"1190\"},{\"id\":\"1226\"},{\"id\":\"1231\"},{\"id\":\"1269\"},{\"id\":\"1307\"},{\"id\":\"1347\"},{\"id\":\"1389\"},{\"id\":\"1433\"},{\"id\":\"1479\"}],\"title\":{\"id\":\"1003\"},\"toolbar\":{\"id\":\"1029\"},\"x_range\":{\"id\":\"1005\"},\"x_scale\":{\"id\":\"1009\"},\"y_range\":{\"id\":\"1007\"},\"y_scale\":{\"id\":\"1011\"}},\"id\":\"1002\",\"subtype\":\"Figure\",\"type\":\"Plot\"},{\"attributes\":{\"num_minor_ticks\":5,\"tickers\":[{\"id\":\"1052\"},{\"id\":\"1053\"},{\"id\":\"1054\"},{\"id\":\"1055\"},{\"id\":\"1056\"},{\"id\":\"1057\"},{\"id\":\"1058\"},{\"id\":\"1059\"},{\"id\":\"1060\"},{\"id\":\"1061\"},{\"id\":\"1062\"},{\"id\":\"1063\"}]},\"id\":\"1014\",\"type\":\"DatetimeTicker\"},{\"attributes\":{\"months\":[0,6]},\"id\":\"1062\",\"type\":\"MonthsTicker\"},{\"attributes\":{\"axis\":{\"id\":\"1013\"},\"ticker\":null},\"id\":\"1016\",\"type\":\"Grid\"},{\"attributes\":{\"fill_alpha\":{\"value\":0.9},\"fill_color\":{\"value\":\"#e7298a\"},\"line_alpha\":{\"value\":0.9},\"line_color\":{\"value\":\"#e7298a\"},\"line_width\":{\"value\":1.5},\"x\":{\"field\":\"x\"},\"y\":{\"field\":\"y\"}},\"id\":\"1144\",\"type\":\"Circle\"},{\"attributes\":{},\"id\":\"1063\",\"type\":\"YearsTicker\"},{\"attributes\":{},\"id\":\"1562\",\"type\":\"UnionRenderers\"},{\"attributes\":{\"axis_label\":\"Population\",\"formatter\":{\"id\":\"1049\"},\"ticker\":{\"id\":\"1018\"}},\"id\":\"1017\",\"type\":\"LinearAxis\"},{\"attributes\":{\"fill_alpha\":{\"value\":0.1},\"fill_color\":{\"value\":\"#e7298a\"},\"line_alpha\":{\"value\":0.1},\"line_color\":{\"value\":\"#e7298a\"},\"line_width\":{\"value\":1.5},\"x\":{\"field\":\"x\"},\"y\":{\"field\":\"y\"}},\"id\":\"1145\",\"type\":\"Circle\"},{\"attributes\":{\"label\":{\"value\":\"Fit_cases_A15-A34\"},\"renderers\":[{\"id\":\"1269\"}]},\"id\":\"1302\",\"type\":\"LegendItem\"},{\"attributes\":{},\"id\":\"1064\",\"type\":\"UnionRenderers\"},{\"attributes\":{\"data_source\":{\"id\":\"1142\"},\"glyph\":{\"id\":\"1144\"},\"hover_glyph\":null,\"muted_glyph\":null,\"name\":\"_measured_cases_A60-A79\",\"nonselection_glyph\":{\"id\":\"1145\"},\"selection_glyph\":null,\"view\":{\"id\":\"1147\"}},\"id\":\"1146\",\"type\":\"GlyphRenderer\"},{\"attributes\":{},\"id\":\"1018\",\"type\":\"BasicTicker\"},{\"attributes\":{},\"id\":\"1065\",\"type\":\"Selection\"},{\"attributes\":{\"axis\":{\"id\":\"1017\"},\"dimension\":1,\"ticker\":null},\"id\":\"1020\",\"type\":\"Grid\"},{\"attributes\":{\"source\":{\"id\":\"1142\"}},\"id\":\"1147\",\"type\":\"CDSView\"},{\"attributes\":{\"line_alpha\":0.1,\"line_color\":\"#1b9e77\",\"line_width\":1.5,\"x\":{\"field\":\"x\"},\"y\":{\"field\":\"y\"}},\"id\":\"1268\",\"type\":\"Line\"},{\"attributes\":{\"source\":{\"id\":\"1265\"}},\"id\":\"1270\",\"type\":\"CDSView\"},{\"attributes\":{},\"id\":\"1176\",\"type\":\"UnionRenderers\"},{\"attributes\":{\"data_source\":{\"id\":\"1265\"},\"glyph\":{\"id\":\"1267\"},\"hover_glyph\":null,\"muted_glyph\":null,\"name\":\"_Fit_cases_A15-A34\",\"nonselection_glyph\":{\"id\":\"1268\"},\"selection_glyph\":null,\"view\":{\"id\":\"1270\"}},\"id\":\"1269\",\"type\":\"GlyphRenderer\"},{\"attributes\":{\"label\":{\"value\":\"measured_cases_A15-A34\"},\"renderers\":[{\"id\":\"1045\"}]},\"id\":\"1069\",\"type\":\"LegendItem\"},{\"attributes\":{},\"id\":\"1021\",\"type\":\"PanTool\"},{\"attributes\":{\"line_alpha\":0.8,\"line_color\":\"#1b9e77\",\"line_width\":1.5,\"x\":{\"field\":\"x\"},\"y\":{\"field\":\"y\"}},\"id\":\"1267\",\"type\":\"Line\"},{\"attributes\":{\"data\":{\"x\":{\"__ndarray__\":\"AADAhb0Dd0IAAIDrDwR3QgAAQFFiBHdCAAAAt7QEd0IAAMAcBwV3QgAAgIJZBXdCAABA6KsFd0IAAABO/gV3QgAAwLNQBndCAACAGaMGd0IAAEB/9QZ3QgAAAOVHB3dCAADASpoHd0IAAICw7Ad3QgAAQBY/CHdCAAAAfJEId0IAAMDh4wh3QgAAgEc2CXdCAABArYgJd0IAAAAT2wl3QgAAwHgtCndCAACA3n8Kd0IAAEBE0gp3QgAAAKokC3dCAADAD3cLd0IAAIB1yQt3QgAAQNsbDHdCAAAAQW4Md0IAAMCmwAx3QgAAgAwTDXdCAABAcmUNd0IAAADYtw13QgAAwD0KDndCAACAo1wOd0IAAEAJrw53QgAAAG8BD3dCAADA1FMPd0IAAIA6pg93QgAAQKD4D3dCAAAABksQd0IAAMBrnRB3QgAAgNHvEHdCAABAN0IRd0IAAACdlBF3QgAAwALnEXdCAACAaDkSd0IAAEDOixJ3QgAAADTeEndCAADAmTATd0IAAID/ghN3QgAAQGXVE3dCAAAAyycUd0IAAMAwehR3QgAAgJbMFHdCAABA/B4Vd0IAAABicRV3QgAAwMfDFXdCAACALRYWd0IAAECTaBZ3QgAAAPm6FndC\",\"dtype\":\"float64\",\"shape\":[60]},\"y\":{\"__ndarray__\":\"fIMyPkBpUz5oAY0+dj+uP8BjoD6OHgU/LtmwPzTzAD/ejUk/a3OJP3G7WECIJ0tAin86QIjCcEAYncRAdS67QGXpFUHfZVdBmoAVQbLWlUHG5nZBIAO5QWTQykEI3uZBujoMQmrCIEJloy9CQ9hjQiUSnEL5eq9CgEC1Qvn3uULpk61CbsXEQmsplEIbq8dCmDqyQkMOoULSt9tCHi6bQq9+wEJbD7lCG6GQQltXqEKh7aZCe3/IQjK3qEJ9NtBCo+yiQl02kEJOY2VCHUplQkwLiEJt345CUU93QixVfUIBcWNC4epUQl+IYkLghz9C\",\"dtype\":\"float32\",\"shape\":[60]}},\"selected\":{\"id\":\"1101\"},\"selection_policy\":{\"id\":\"1100\"}},\"id\":\"1070\",\"type\":\"ColumnDataSource\"},{\"attributes\":{\"data\":{\"x\":{\"__ndarray__\":\"AADAhb0Dd0IAAIDrDwR3QgAAQFFiBHdCAAAAt7QEd0IAAMAcBwV3QgAAgIJZBXdCAABA6KsFd0IAAABO/gV3QgAAwLNQBndCAACAGaMGd0IAAEB/9QZ3QgAAAOVHB3dCAADASpoHd0IAAICw7Ad3QgAAQBY/CHdCAAAAfJEId0IAAMDh4wh3QgAAgEc2CXdCAABArYgJd0IAAAAT2wl3QgAAwHgtCndCAACA3n8Kd0IAAEBE0gp3QgAAAKokC3dCAADAD3cLd0IAAIB1yQt3QgAAQNsbDHdCAAAAQW4Md0IAAMCmwAx3QgAAgAwTDXdCAABAcmUNd0IAAADYtw13QgAAwD0KDndCAACAo1wOd0IAAEAJrw53QgAAAG8BD3dCAADA1FMPd0IAAIA6pg93QgAAQKD4D3dCAAAABksQd0IAAMBrnRB3QgAAgNHvEHdCAABAN0IRd0IAAACdlBF3QgAAwALnEXdCAACAaDkSd0IAAEDOixJ3QgAAADTeEndCAADAmTATd0IAAID/ghN3QgAAQGXVE3dCAAAAyycUd0IAAMAwehR3QgAAgJbMFHdCAABA/B4Vd0IAAABicRV3QgAAwMfDFXdCAACALRYWd0IAAECTaBZ3QgAAAPm6FndC\",\"dtype\":\"float64\",\"shape\":[60]},\"y\":{\"__ndarray__\":\"ngIyPnm3ADzYIDE8GvOKPA2ixjzL+Qg9rSA5PbhXkz2g8HI+q3OiPxGZCz+FNLA/10qGP/V7zD+o/aw/H5kFP2T1Fz8RS7pAsstiQKIjjkBd3uk/RlGZQBCZCUEWwrhAIvlOQUM4jkEiIT1BWI6pQYxu20EfohRC9cfeQd71B0IaIQFCfXz3QTc7DULWbQhCGL/qQVP7BEKexvlBOnMVQhb2F0KugwZCTqUgQmQIF0KTbBNC7+EdQgFPAUKVpx5CXGAAQubX2EEwfr9BmY2mQcNU/EFr/M5BCibbQcMLxEFR6JZBbG/LQS4010GmtupB\",\"dtype\":\"float32\",\"shape\":[60]}},\"selected\":{\"id\":\"1261\"},\"selection_policy\":{\"id\":\"1260\"}},\"id\":\"1222\",\"type\":\"ColumnDataSource\"},{\"attributes\":{},\"id\":\"1261\",\"type\":\"Selection\"},{\"attributes\":{\"click_policy\":\"hide\",\"items\":[{\"id\":\"1069\"},{\"id\":\"1104\"},{\"id\":\"1141\"},{\"id\":\"1180\"},{\"id\":\"1221\"},{\"id\":\"1264\"},{\"id\":\"1302\"},{\"id\":\"1342\"},{\"id\":\"1384\"},{\"id\":\"1428\"},{\"id\":\"1474\"},{\"id\":\"1522\"}]},\"id\":\"1068\",\"type\":\"Legend\"},{\"attributes\":{\"data_source\":{\"id\":\"1105\"},\"glyph\":{\"id\":\"1112\"},\"hover_glyph\":null,\"muted_glyph\":null,\"name\":\"_measured_cases_A35-A59\",\"nonselection_glyph\":{\"id\":\"1113\"},\"selection_glyph\":null,\"view\":{\"id\":\"1115\"}},\"id\":\"1114\",\"type\":\"GlyphRenderer\"},{\"attributes\":{\"fill_alpha\":{\"value\":0.6},\"fill_color\":{\"value\":\"#e7298a\"},\"line_alpha\":{\"value\":0.6},\"line_color\":{\"value\":\"#e7298a\"},\"top\":{\"field\":\"y\"},\"width\":{\"value\":51840000.0},\"x\":{\"field\":\"x\"}},\"id\":\"1149\",\"type\":\"VBar\"},{\"attributes\":{\"fill_alpha\":{\"value\":0.1},\"fill_color\":{\"value\":\"#1b9e77\"},\"line_alpha\":{\"value\":0.1},\"line_color\":{\"value\":\"#1b9e77\"},\"top\":{\"field\":\"y\"},\"width\":{\"value\":51840000.0},\"x\":{\"field\":\"x\"}},\"id\":\"1044\",\"type\":\"VBar\"},{\"attributes\":{\"fill_alpha\":{\"value\":0.1},\"fill_color\":{\"value\":\"#7570b3\"},\"line_alpha\":{\"value\":0.1},\"line_color\":{\"value\":\"#7570b3\"},\"top\":{\"field\":\"y\"},\"width\":{\"value\":51840000.0},\"x\":{\"field\":\"x\"}},\"id\":\"1113\",\"type\":\"VBar\"},{\"attributes\":{\"data\":{\"x\":{\"__ndarray__\":\"AADAhb0Dd0IAAIDrDwR3QgAAQFFiBHdCAAAAt7QEd0IAAMAcBwV3QgAAgIJZBXdCAABA6KsFd0IAAABO/gV3QgAAwLNQBndCAACAGaMGd0IAAEB/9QZ3QgAAAOVHB3dCAADASpoHd0IAAICw7Ad3QgAAQBY/CHdCAAAAfJEId0IAAMDh4wh3QgAAgEc2CXdCAABArYgJd0IAAAAT2wl3QgAAwHgtCndCAACA3n8Kd0IAAEBE0gp3QgAAAKokC3dCAADAD3cLd0IAAIB1yQt3QgAAQNsbDHdCAAAAQW4Md0IAAMCmwAx3QgAAgAwTDXdCAABAcmUNd0IAAADYtw13QgAAwD0KDndCAACAo1wOd0IAAEAJrw53QgAAAG8BD3dCAADA1FMPd0IAAIA6pg93QgAAQKD4D3dCAAAABksQd0IAAMBrnRB3QgAAgNHvEHdCAABAN0IRd0IAAACdlBF3QgAAwALnEXdCAACAaDkSd0IAAEDOixJ3QgAAADTeEndCAADAmTATd0IAAID/ghN3QgAAQGXVE3dCAAAAyycUd0IAAMAwehR3QgAAgJbMFHdCAABA/B4Vd0IAAABicRV3QgAAwMfDFXdCAACALRYWd0IAAECTaBZ3QgAAAPm6FndC\",\"dtype\":\"float64\",\"shape\":[60]},\"y\":{\"__ndarray__\":\"5c/vOFay0TkfYVU6gravOip/ATuaKi47eylYO6d8ezuEzIs79meXO9wjojs1I607Z+C4O5luxTu2y9I7xwThO8sx8DtrNAA8c90IPBQcEjzi+Rs894EmPD/AMTwSwT08cZFKPEU/WDyD2WY8L3B2PC6KgzwebIw8m+eVPAIHoDxm1ao8ml62PDqvwjy81M88gd3dPOLY7DxA1/w8DvUGPQ8SED2azBk9Uy8kPZVFLz2AGzs9A75HPfE6VT0LoWM9DgBzPWO0gT2Vdoo9MNCTPWrLnT0yc6g9K9OzPcj3vz1M7sw96cTaPbuK6T3sT/k9\",\"dtype\":\"float32\",\"shape\":[60]}},\"selected\":{\"id\":\"1381\"},\"selection_policy\":{\"id\":\"1380\"}},\"id\":\"1303\",\"type\":\"ColumnDataSource\"},{\"attributes\":{},\"id\":\"1022\",\"type\":\"WheelZoomTool\"},{\"attributes\":{\"fill_alpha\":{\"value\":0.1},\"fill_color\":{\"value\":\"#e7298a\"},\"line_alpha\":{\"value\":0.1},\"line_color\":{\"value\":\"#e7298a\"},\"top\":{\"field\":\"y\"},\"width\":{\"value\":51840000.0},\"x\":{\"field\":\"x\"}},\"id\":\"1150\",\"type\":\"VBar\"},{\"attributes\":{\"data_source\":{\"id\":\"1142\"},\"glyph\":{\"id\":\"1149\"},\"hover_glyph\":null,\"muted_glyph\":null,\"name\":\"_measured_cases_A60-A79\",\"nonselection_glyph\":{\"id\":\"1150\"},\"selection_glyph\":null,\"view\":{\"id\":\"1152\"}},\"id\":\"1151\",\"type\":\"GlyphRenderer\"},{\"attributes\":{\"overlay\":{\"id\":\"1028\"}},\"id\":\"1023\",\"type\":\"BoxZoomTool\"},{\"attributes\":{},\"id\":\"1005\",\"type\":\"DataRange1d\"},{\"attributes\":{\"source\":{\"id\":\"1142\"}},\"id\":\"1152\",\"type\":\"CDSView\"},{\"attributes\":{\"fill_alpha\":{\"value\":0.9},\"fill_color\":{\"value\":\"#d95f02\"},\"line_alpha\":{\"value\":0.9},\"line_color\":{\"value\":\"#d95f02\"},\"line_width\":{\"value\":1.5},\"x\":{\"field\":\"x\"},\"y\":{\"field\":\"y\"}},\"id\":\"1072\",\"type\":\"Circle\"},{\"attributes\":{},\"id\":\"1024\",\"type\":\"ResetTool\"},{\"attributes\":{\"fill_alpha\":{\"value\":0.1},\"fill_color\":{\"value\":\"#d95f02\"},\"line_alpha\":{\"value\":0.1},\"line_color\":{\"value\":\"#d95f02\"},\"line_width\":{\"value\":1.5},\"x\":{\"field\":\"x\"},\"y\":{\"field\":\"y\"}},\"id\":\"1073\",\"type\":\"Circle\"},{\"attributes\":{},\"id\":\"1338\",\"type\":\"UnionRenderers\"},{\"attributes\":{},\"id\":\"1025\",\"type\":\"SaveTool\"},{\"attributes\":{\"data_source\":{\"id\":\"1070\"},\"glyph\":{\"id\":\"1072\"},\"hover_glyph\":null,\"muted_glyph\":null,\"name\":\"_measured_cases_A05-A14\",\"nonselection_glyph\":{\"id\":\"1073\"},\"selection_glyph\":null,\"view\":{\"id\":\"1075\"}},\"id\":\"1074\",\"type\":\"GlyphRenderer\"},{\"attributes\":{\"data\":{\"x\":{\"__ndarray__\":\"AADAhb0Dd0IAAIDrDwR3QgAAQFFiBHdCAAAAt7QEd0IAAMAcBwV3QgAAgIJZBXdCAABA6KsFd0IAAABO/gV3QgAAwLNQBndCAACAGaMGd0IAAEB/9QZ3QgAAAOVHB3dCAADASpoHd0IAAICw7Ad3QgAAQBY/CHdCAAAAfJEId0IAAMDh4wh3QgAAgEc2CXdCAABArYgJd0IAAAAT2wl3QgAAwHgtCndCAACA3n8Kd0IAAEBE0gp3QgAAAKokC3dCAADAD3cLd0IAAIB1yQt3QgAAQNsbDHdCAAAAQW4Md0IAAMCmwAx3QgAAgAwTDXdCAABAcmUNd0IAAADYtw13QgAAwD0KDndCAACAo1wOd0IAAEAJrw53QgAAAG8BD3dCAADA1FMPd0IAAIA6pg93QgAAQKD4D3dCAAAABksQd0IAAMBrnRB3QgAAgNHvEHdCAABAN0IRd0IAAACdlBF3QgAAwALnEXdCAACAaDkSd0IAAEDOixJ3QgAAADTeEndCAADAmTATd0IAAID/ghN3QgAAQGXVE3dCAAAAyycUd0IAAMAwehR3QgAAgJbMFHdCAABA/B4Vd0IAAABicRV3QgAAwMfDFXdCAACALRYWd0IAAECTaBZ3QgAAAPm6FndC\",\"dtype\":\"float64\",\"shape\":[60]},\"y\":{\"__ndarray__\":\"zfTWP/iZhj9uwhhAvE48QKL3jkDZtaNAJMP8QEdH+0Dr/DtBPDquQauEr0Fv/0ZCklGDQvIEbkLjsXNCLjxeQmz/iEK8wbNCsX3TQrZABkP+7hxDkl4+Q8jShEN+hLBDPSkJRP5vK0SHYlJE/NlqRJkrjUTZwpJEloaXRC4ZwUTt4qREht+nROGtk0S7WplEKYSPRKZKakSSiJdEplR+RMVAh0RbPnVEIRJ5RO+cb0Tf/UhEBRqDRHPJT0RPjG5EjAdPRCKYWEQa9D9EGD41RLHnREQp5DFEypYoRNtwHES4ABFEuJUFRHy0BUQNQghE\",\"dtype\":\"float32\",\"shape\":[60]}},\"selected\":{\"id\":\"1065\"},\"selection_policy\":{\"id\":\"1064\"}},\"id\":\"1036\",\"type\":\"ColumnDataSource\"},{\"attributes\":{},\"id\":\"1177\",\"type\":\"Selection\"},{\"attributes\":{\"label\":{\"value\":\"measured_cases_A60-A79\"},\"renderers\":[{\"id\":\"1151\"}]},\"id\":\"1180\",\"type\":\"LegendItem\"},{\"attributes\":{\"line_alpha\":0.1,\"line_color\":\"#d95f02\",\"line_width\":1.5,\"x\":{\"field\":\"x\"},\"y\":{\"field\":\"y\"}},\"id\":\"1306\",\"type\":\"Line\"},{\"attributes\":{\"overlay\":{\"id\":\"1027\"}},\"id\":\"1026\",\"type\":\"BoxSelectTool\"},{\"attributes\":{\"source\":{\"id\":\"1070\"}},\"id\":\"1075\",\"type\":\"CDSView\"},{\"attributes\":{\"source\":{\"id\":\"1303\"}},\"id\":\"1308\",\"type\":\"CDSView\"},{\"attributes\":{\"data_source\":{\"id\":\"1303\"},\"glyph\":{\"id\":\"1305\"},\"hover_glyph\":null,\"muted_glyph\":null,\"name\":\"_Fit_cases_A05-A14\",\"nonselection_glyph\":{\"id\":\"1306\"},\"selection_glyph\":null,\"view\":{\"id\":\"1308\"}},\"id\":\"1307\",\"type\":\"GlyphRenderer\"},{\"attributes\":{\"data\":{\"x\":{\"__ndarray__\":\"AADAhb0Dd0IAAIDrDwR3QgAAQFFiBHdCAAAAt7QEd0IAAMAcBwV3QgAAgIJZBXdCAABA6KsFd0IAAABO/gV3QgAAwLNQBndCAACAGaMGd0IAAEB/9QZ3QgAAAOVHB3dCAADASpoHd0IAAICw7Ad3QgAAQBY/CHdCAAAAfJEId0IAAMDh4wh3QgAAgEc2CXdCAABArYgJd0IAAAAT2wl3QgAAwHgtCndCAACA3n8Kd0IAAEBE0gp3QgAAAKokC3dCAADAD3cLd0IAAIB1yQt3QgAAQNsbDHdCAAAAQW4Md0IAAMCmwAx3QgAAgAwTDXdCAABAcmUNd0IAAADYtw13QgAAwD0KDndCAACAo1wOd0IAAEAJrw53QgAAAG8BD3dCAADA1FMPd0IAAIA6pg93QgAAQKD4D3dCAAAABksQd0IAAMBrnRB3QgAAgNHvEHdCAABAN0IRd0IAAACdlBF3QgAAwALnEXdCAACAaDkSd0IAAEDOixJ3QgAAADTeEndCAADAmTATd0IAAID/ghN3QgAAQGXVE3dCAAAAyycUd0IAAMAwehR3QgAAgJbMFHdCAABA/B4Vd0IAAABicRV3QgAAwMfDFXdCAACALRYWd0IAAECTaBZ3QgAAAPm6FndC\",\"dtype\":\"float64\",\"shape\":[60]},\"y\":{\"__ndarray__\":\"TG9gPOHkWz1ODfk8uYibPevtvT7ekWg+1NWqP/44mj6voPk+dSzaP+wwA0BEaypA8TGaQGpXu0BgEdJA4gT+QJsutEDGA6NB1eRJQbLgiEHEJKpBZwLUQQ9GEkJH0CBCMR+GQsJ6pUII5bdCLRfVQv/8AEO2phVDJJE1QyjPZUNB13RDXpaYQ0gigUNq97hD642gQz+Vo0PZe/BDqIjzQ8DPBUSeDO9Di7cARO1sB0RjTwFEOi8uRKbyIkTaPihEAfYcRCpSHETHRwBEzJEGROWKHkTFaRVEpSkMRNOo7EObfddDL2rAQypPw0OKOLpD\",\"dtype\":\"float32\",\"shape\":[60]}},\"selected\":{\"id\":\"1218\"},\"selection_policy\":{\"id\":\"1217\"}},\"id\":\"1181\",\"type\":\"ColumnDataSource\"},{\"attributes\":{\"fill_alpha\":{\"value\":0.9},\"fill_color\":{\"value\":\"#1b9e77\"},\"line_alpha\":{\"value\":0.9},\"line_color\":{\"value\":\"#1b9e77\"},\"line_width\":{\"value\":1.5},\"x\":{\"field\":\"x\"},\"y\":{\"field\":\"y\"}},\"id\":\"1038\",\"type\":\"Circle\"},{\"attributes\":{\"line_alpha\":0.8,\"line_color\":\"#d95f02\",\"line_width\":1.5,\"x\":{\"field\":\"x\"},\"y\":{\"field\":\"y\"}},\"id\":\"1305\",\"type\":\"Line\"},{\"attributes\":{\"data\":{\"x\":{\"__ndarray__\":\"AADAhb0Dd0IAAIDrDwR3QgAAQFFiBHdCAAAAt7QEd0IAAMAcBwV3QgAAgIJZBXdCAABA6KsFd0IAAABO/gV3QgAAwLNQBndCAACAGaMGd0IAAEB/9QZ3QgAAAOVHB3dCAADASpoHd0IAAICw7Ad3QgAAQBY/CHdCAAAAfJEId0IAAMDh4wh3QgAAgEc2CXdCAABArYgJd0IAAAAT2wl3QgAAwHgtCndCAACA3n8Kd0IAAEBE0gp3QgAAAKokC3dCAADAD3cLd0IAAIB1yQt3QgAAQNsbDHdCAAAAQW4Md0IAAMCmwAx3QgAAgAwTDXdCAABAcmUNd0IAAADYtw13QgAAwD0KDndCAACAo1wOd0IAAEAJrw53QgAAAG8BD3dCAADA1FMPd0IAAIA6pg93QgAAQKD4D3dCAAAABksQd0IAAMBrnRB3QgAAgNHvEHdCAABAN0IRd0IAAACdlBF3QgAAwALnEXdCAACAaDkSd0IAAEDOixJ3QgAAADTeEndCAADAmTATd0IAAID/ghN3QgAAQGXVE3dCAAAAyycUd0IAAMAwehR3QgAAgJbMFHdCAABA/B4Vd0IAAABicRV3QgAAwMfDFXdCAACALRYWd0IAAECTaBZ3QgAAAPm6FndC\",\"dtype\":\"float64\",\"shape\":[60]},\"y\":{\"__ndarray__\":\"zuQpOQGPFDrqKpc6Tvf4OpV7NztaxnY7liOZOy4qsjtqFMY7oYbWOxm85TslUfU7l/kCPKzeCzxZVhU82WkfPCoqKjz1pjU8POxBPH8FTzxJAF08WexrPIzaezw2boY8K4KPPAUzmTxci6M8iZauPKRgujyO9sY8CmbUPMW94jxwDfI85DIBPVvsCT2jPBM96i0dPRHLJz20HzM9Nzg/PdIhTD2l6lk9wKFoPT9XeD0njoQ9n4GNPdYPlz07Q6E99SasPfDGtz3gL8Q9Vm/RPc+T3z3CrO49s8r+PZ//Bz6aLhE+VvwaPoxzJT6qnzA+\",\"dtype\":\"float32\",\"shape\":[60]}},\"selected\":{\"id\":\"1563\"},\"selection_policy\":{\"id\":\"1562\"}},\"id\":\"1475\",\"type\":\"ColumnDataSource\"},{\"attributes\":{\"bottom_units\":\"screen\",\"fill_alpha\":0.5,\"fill_color\":\"lightgrey\",\"left_units\":\"screen\",\"level\":\"overlay\",\"line_alpha\":1.0,\"line_color\":\"black\",\"line_dash\":[4,4],\"line_width\":2,\"render_mode\":\"css\",\"right_units\":\"screen\",\"top_units\":\"screen\"},\"id\":\"1028\",\"type\":\"BoxAnnotation\"},{\"attributes\":{\"fill_alpha\":{\"value\":0.6},\"fill_color\":{\"value\":\"#1b9e77\"},\"line_alpha\":{\"value\":0.6},\"line_color\":{\"value\":\"#1b9e77\"},\"top\":{\"field\":\"y\"},\"width\":{\"value\":51840000.0},\"x\":{\"field\":\"x\"}},\"id\":\"1043\",\"type\":\"VBar\"},{\"attributes\":{\"fill_alpha\":{\"value\":0.6},\"fill_color\":{\"value\":\"#d95f02\"},\"line_alpha\":{\"value\":0.6},\"line_color\":{\"value\":\"#d95f02\"},\"top\":{\"field\":\"y\"},\"width\":{\"value\":51840000.0},\"x\":{\"field\":\"x\"}},\"id\":\"1077\",\"type\":\"VBar\"},{\"attributes\":{\"active_drag\":\"auto\",\"active_inspect\":\"auto\",\"active_multi\":null,\"active_scroll\":\"auto\",\"active_tap\":\"auto\",\"tools\":[{\"id\":\"1021\"},{\"id\":\"1022\"},{\"id\":\"1023\"},{\"id\":\"1024\"},{\"id\":\"1025\"},{\"id\":\"1026\"}]},\"id\":\"1029\",\"type\":\"Toolbar\"},{\"attributes\":{},\"id\":\"1339\",\"type\":\"Selection\"},{\"attributes\":{\"fill_alpha\":{\"value\":0.9},\"fill_color\":{\"value\":\"#66a61e\"},\"line_alpha\":{\"value\":0.9},\"line_color\":{\"value\":\"#66a61e\"},\"line_width\":{\"value\":1.5},\"x\":{\"field\":\"x\"},\"y\":{\"field\":\"y\"}},\"id\":\"1183\",\"type\":\"Circle\"},{\"attributes\":{\"label\":{\"value\":\"Fit_cases_A05-A14\"},\"renderers\":[{\"id\":\"1307\"}]},\"id\":\"1342\",\"type\":\"LegendItem\"},{\"attributes\":{},\"id\":\"1381\",\"type\":\"Selection\"},{\"attributes\":{\"fill_alpha\":{\"value\":0.1},\"fill_color\":{\"value\":\"#d95f02\"},\"line_alpha\":{\"value\":0.1},\"line_color\":{\"value\":\"#d95f02\"},\"top\":{\"field\":\"y\"},\"width\":{\"value\":51840000.0},\"x\":{\"field\":\"x\"}},\"id\":\"1078\",\"type\":\"VBar\"},{\"attributes\":{\"fill_alpha\":{\"value\":0.1},\"fill_color\":{\"value\":\"#66a61e\"},\"line_alpha\":{\"value\":0.1},\"line_color\":{\"value\":\"#66a61e\"},\"line_width\":{\"value\":1.5},\"x\":{\"field\":\"x\"},\"y\":{\"field\":\"y\"}},\"id\":\"1184\",\"type\":\"Circle\"},{\"attributes\":{\"fill_alpha\":{\"value\":0.1},\"fill_color\":{\"value\":\"#1b9e77\"},\"line_alpha\":{\"value\":0.1},\"line_color\":{\"value\":\"#1b9e77\"},\"line_width\":{\"value\":1.5},\"x\":{\"field\":\"x\"},\"y\":{\"field\":\"y\"}},\"id\":\"1039\",\"type\":\"Circle\"},{\"attributes\":{\"data_source\":{\"id\":\"1070\"},\"glyph\":{\"id\":\"1077\"},\"hover_glyph\":null,\"muted_glyph\":null,\"name\":\"_measured_cases_A05-A14\",\"nonselection_glyph\":{\"id\":\"1078\"},\"selection_glyph\":null,\"view\":{\"id\":\"1080\"}},\"id\":\"1079\",\"type\":\"GlyphRenderer\"},{\"attributes\":{\"data\":{\"x\":{\"__ndarray__\":\"AADAhb0Dd0IAAIDrDwR3QgAAQFFiBHdCAAAAt7QEd0IAAMAcBwV3QgAAgIJZBXdCAABA6KsFd0IAAABO/gV3QgAAwLNQBndCAACAGaMGd0IAAEB/9QZ3QgAAAOVHB3dCAADASpoHd0IAAICw7Ad3QgAAQBY/CHdCAAAAfJEId0IAAMDh4wh3QgAAgEc2CXdCAABArYgJd0IAAAAT2wl3QgAAwHgtCndCAACA3n8Kd0IAAEBE0gp3QgAAAKokC3dCAADAD3cLd0IAAIB1yQt3QgAAQNsbDHdCAAAAQW4Md0IAAMCmwAx3QgAAgAwTDXdCAABAcmUNd0IAAADYtw13QgAAwD0KDndCAACAo1wOd0IAAEAJrw53QgAAAG8BD3dCAADA1FMPd0IAAIA6pg93QgAAQKD4D3dCAAAABksQd0IAAMBrnRB3QgAAgNHvEHdCAABAN0IRd0IAAACdlBF3QgAAwALnEXdCAACAaDkSd0IAAEDOixJ3QgAAADTeEndCAADAmTATd0IAAID/ghN3QgAAQGXVE3dCAAAAyycUd0IAAMAwehR3QgAAgJbMFHdCAABA/B4Vd0IAAABicRV3QgAAwMfDFXdCAACALRYWd0IAAECTaBZ3QgAAAPm6FndC\",\"dtype\":\"float64\",\"shape\":[60]},\"y\":{\"__ndarray__\":\"tJ7MOoTssjvyEDY8YO2VPIn83DyQmxQ9xHA4Pd6UVj0skW49+i+BPaBYij3SupM9Ab+dPYV1qD2U3LM9Uf+/PTTyzD0TyNo9bo/pPRNW+T0sFgU+mhIOPnyqFz5d6CE+U9csPj+DOD7g+EQ+6EVSPuJ4YD5RoW8+yM9/Pv2KiD5kw5E+MJubPiAdpj63VLE+NU69PrAWyj4qvNc+jE3mPr3a9T5jOgM/5hYMP5aMFT/PpR8/l20qP7nvNT/NOEI/PVZPP2NWXT+OSGw/FT18P7Sihj8Uuo8/m26ZP+bKoz9F2q4/1ai6P3tDxz/+t9Q/\",\"dtype\":\"float32\",\"shape\":[60]}},\"selected\":{\"id\":\"1425\"},\"selection_policy\":{\"id\":\"1424\"}},\"id\":\"1343\",\"type\":\"ColumnDataSource\"},{\"attributes\":{\"data_source\":{\"id\":\"1036\"},\"glyph\":{\"id\":\"1038\"},\"hover_glyph\":null,\"muted_glyph\":null,\"name\":\"_measured_cases_A15-A34\",\"nonselection_glyph\":{\"id\":\"1039\"},\"selection_glyph\":null,\"view\":{\"id\":\"1041\"}},\"id\":\"1040\",\"type\":\"GlyphRenderer\"},{\"attributes\":{\"data_source\":{\"id\":\"1181\"},\"glyph\":{\"id\":\"1183\"},\"hover_glyph\":null,\"muted_glyph\":null,\"name\":\"_measured_cases_A80+\",\"nonselection_glyph\":{\"id\":\"1184\"},\"selection_glyph\":null,\"view\":{\"id\":\"1186\"}},\"id\":\"1185\",\"type\":\"GlyphRenderer\"},{\"attributes\":{\"label\":{\"value\":\"Fit_cases_A80+\"},\"renderers\":[{\"id\":\"1433\"}]},\"id\":\"1474\",\"type\":\"LegendItem\"},{\"attributes\":{\"source\":{\"id\":\"1070\"}},\"id\":\"1080\",\"type\":\"CDSView\"},{\"attributes\":{\"data_source\":{\"id\":\"1222\"},\"glyph\":{\"id\":\"1229\"},\"hover_glyph\":null,\"muted_glyph\":null,\"name\":\"_measured_cases_A00-A04\",\"nonselection_glyph\":{\"id\":\"1230\"},\"selection_glyph\":null,\"view\":{\"id\":\"1232\"}},\"id\":\"1231\",\"type\":\"GlyphRenderer\"},{\"attributes\":{},\"id\":\"1100\",\"type\":\"UnionRenderers\"},{\"attributes\":{},\"id\":\"1563\",\"type\":\"Selection\"},{\"attributes\":{\"source\":{\"id\":\"1036\"}},\"id\":\"1041\",\"type\":\"CDSView\"},{\"attributes\":{\"source\":{\"id\":\"1181\"}},\"id\":\"1186\",\"type\":\"CDSView\"},{\"attributes\":{\"data_source\":{\"id\":\"1036\"},\"glyph\":{\"id\":\"1043\"},\"hover_glyph\":null,\"muted_glyph\":null,\"name\":\"_measured_cases_A15-A34\",\"nonselection_glyph\":{\"id\":\"1044\"},\"selection_glyph\":null,\"view\":{\"id\":\"1046\"}},\"id\":\"1045\",\"type\":\"GlyphRenderer\"},{\"attributes\":{},\"id\":\"1101\",\"type\":\"Selection\"},{\"attributes\":{},\"id\":\"1471\",\"type\":\"Selection\"},{\"attributes\":{\"label\":{\"value\":\"measured_cases_A05-A14\"},\"renderers\":[{\"id\":\"1079\"}]},\"id\":\"1104\",\"type\":\"LegendItem\"},{\"attributes\":{\"data\":{\"x\":{\"__ndarray__\":\"AADAhb0Dd0IAAIDrDwR3QgAAQFFiBHdCAAAAt7QEd0IAAMAcBwV3QgAAgIJZBXdCAABA6KsFd0IAAABO/gV3QgAAwLNQBndCAACAGaMGd0IAAEB/9QZ3QgAAAOVHB3dCAADASpoHd0IAAICw7Ad3QgAAQBY/CHdCAAAAfJEId0IAAMDh4wh3QgAAgEc2CXdCAABArYgJd0IAAAAT2wl3QgAAwHgtCndCAACA3n8Kd0IAAEBE0gp3QgAAAKokC3dCAADAD3cLd0IAAIB1yQt3QgAAQNsbDHdCAAAAQW4Md0IAAMCmwAx3QgAAgAwTDXdCAABAcmUNd0IAAADYtw13QgAAwD0KDndCAACAo1wOd0IAAEAJrw53QgAAAG8BD3dCAADA1FMPd0IAAIA6pg93QgAAQKD4D3dCAAAABksQd0IAAMBrnRB3QgAAgNHvEHdCAABAN0IRd0IAAACdlBF3QgAAwALnEXdCAACAaDkSd0IAAEDOixJ3QgAAADTeEndCAADAmTATd0IAAID/ghN3QgAAQGXVE3dCAAAAyycUd0IAAMAwehR3QgAAgJbMFHdCAABA/B4Vd0IAAABicRV3QgAAwMfDFXdCAACALRYWd0IAAECTaBZ3QgAAAPm6FndC\",\"dtype\":\"float64\",\"shape\":[60]},\"y\":{\"__ndarray__\":\"2l0aQE3kgUDFHKBAeOjSQPXz00AYOiFBe/aFQVFTaEGogZxBU6joQaZDLUIuSF9C5bmaQnKWwULtDfBCvRANQ1atIENB/T1DdwZRQ3xfk0Og06NDSMD4Q0kXGETHaUNER9KJRCUMrEQtJdZEqk7pRPi1CEWSTQdFfLAGRfYAL0UWkhRFI/cQRRTTBUX6rBZFLTD7RPqa2ETHBA5F+knVRKWg50RyMNNEIPbiRBYE2ETterREcOHbRIs0rkRLPMBEENC0RIzjsUQJ+5dEsKWFRJncnER9e4BE+0F1RFo7dkTMC1JEoo43RMuCOEQxSy5E\",\"dtype\":\"float32\",\"shape\":[60]}},\"selected\":{\"id\":\"1138\"},\"selection_policy\":{\"id\":\"1137\"}},\"id\":\"1105\",\"type\":\"ColumnDataSource\"},{\"attributes\":{\"source\":{\"id\":\"1222\"}},\"id\":\"1232\",\"type\":\"CDSView\"},{\"attributes\":{\"label\":{\"value\":\"measured_cases_A80+\"},\"renderers\":[{\"id\":\"1190\"}]},\"id\":\"1221\",\"type\":\"LegendItem\"},{\"attributes\":{\"fill_alpha\":{\"value\":0.6},\"fill_color\":{\"value\":\"#66a61e\"},\"line_alpha\":{\"value\":0.6},\"line_color\":{\"value\":\"#66a61e\"},\"top\":{\"field\":\"y\"},\"width\":{\"value\":51840000.0},\"x\":{\"field\":\"x\"}},\"id\":\"1188\",\"type\":\"VBar\"},{\"attributes\":{\"line_alpha\":0.1,\"line_color\":\"#7570b3\",\"line_width\":1.5,\"x\":{\"field\":\"x\"},\"y\":{\"field\":\"y\"}},\"id\":\"1346\",\"type\":\"Line\"},{\"attributes\":{},\"id\":\"1380\",\"type\":\"UnionRenderers\"},{\"attributes\":{\"source\":{\"id\":\"1343\"}},\"id\":\"1348\",\"type\":\"CDSView\"},{\"attributes\":{\"data_source\":{\"id\":\"1343\"},\"glyph\":{\"id\":\"1345\"},\"hover_glyph\":null,\"muted_glyph\":null,\"name\":\"_Fit_cases_A35-A59\",\"nonselection_glyph\":{\"id\":\"1346\"},\"selection_glyph\":null,\"view\":{\"id\":\"1348\"}},\"id\":\"1347\",\"type\":\"GlyphRenderer\"},{\"attributes\":{\"text\":\"Germany_cases\"},\"id\":\"1003\",\"type\":\"Title\"},{\"attributes\":{\"source\":{\"id\":\"1036\"}},\"id\":\"1046\",\"type\":\"CDSView\"},{\"attributes\":{\"data_source\":{\"id\":\"1429\"},\"glyph\":{\"id\":\"1431\"},\"hover_glyph\":null,\"muted_glyph\":null,\"name\":\"_Fit_cases_A80+\",\"nonselection_glyph\":{\"id\":\"1432\"},\"selection_glyph\":null,\"view\":{\"id\":\"1434\"}},\"id\":\"1433\",\"type\":\"GlyphRenderer\"},{\"attributes\":{\"fill_alpha\":{\"value\":0.1},\"fill_color\":{\"value\":\"#66a61e\"},\"line_alpha\":{\"value\":0.1},\"line_color\":{\"value\":\"#66a61e\"},\"top\":{\"field\":\"y\"},\"width\":{\"value\":51840000.0},\"x\":{\"field\":\"x\"}},\"id\":\"1189\",\"type\":\"VBar\"},{\"attributes\":{\"line_alpha\":0.8,\"line_color\":\"#7570b3\",\"line_width\":1.5,\"x\":{\"field\":\"x\"},\"y\":{\"field\":\"y\"}},\"id\":\"1345\",\"type\":\"Line\"},{\"attributes\":{\"data_source\":{\"id\":\"1181\"},\"glyph\":{\"id\":\"1188\"},\"hover_glyph\":null,\"muted_glyph\":null,\"name\":\"_measured_cases_A80+\",\"nonselection_glyph\":{\"id\":\"1189\"},\"selection_glyph\":null,\"view\":{\"id\":\"1191\"}},\"id\":\"1190\",\"type\":\"GlyphRenderer\"},{\"attributes\":{},\"id\":\"1049\",\"type\":\"BasicTickFormatter\"},{\"attributes\":{\"label\":{\"value\":\"Fit_cases_A35-A59\"},\"renderers\":[{\"id\":\"1347\"}]},\"id\":\"1384\",\"type\":\"LegendItem\"},{\"attributes\":{\"label\":{\"value\":\"Fit_cases_A00-A04\"},\"renderers\":[{\"id\":\"1479\"}]},\"id\":\"1522\",\"type\":\"LegendItem\"},{\"attributes\":{\"fill_alpha\":{\"value\":0.9},\"fill_color\":{\"value\":\"#7570b3\"},\"line_alpha\":{\"value\":0.9},\"line_color\":{\"value\":\"#7570b3\"},\"line_width\":{\"value\":1.5},\"x\":{\"field\":\"x\"},\"y\":{\"field\":\"y\"}},\"id\":\"1107\",\"type\":\"Circle\"},{\"attributes\":{\"source\":{\"id\":\"1181\"}},\"id\":\"1191\",\"type\":\"CDSView\"},{\"attributes\":{},\"id\":\"1051\",\"type\":\"DatetimeTickFormatter\"},{\"attributes\":{\"fill_alpha\":{\"value\":0.1},\"fill_color\":{\"value\":\"#7570b3\"},\"line_alpha\":{\"value\":0.1},\"line_color\":{\"value\":\"#7570b3\"},\"line_width\":{\"value\":1.5},\"x\":{\"field\":\"x\"},\"y\":{\"field\":\"y\"}},\"id\":\"1108\",\"type\":\"Circle\"},{\"attributes\":{\"line_alpha\":0.8,\"line_color\":\"#66a61e\",\"line_width\":1.5,\"x\":{\"field\":\"x\"},\"y\":{\"field\":\"y\"}},\"id\":\"1431\",\"type\":\"Line\"},{\"attributes\":{\"data_source\":{\"id\":\"1105\"},\"glyph\":{\"id\":\"1107\"},\"hover_glyph\":null,\"muted_glyph\":null,\"name\":\"_measured_cases_A35-A59\",\"nonselection_glyph\":{\"id\":\"1108\"},\"selection_glyph\":null,\"view\":{\"id\":\"1110\"}},\"id\":\"1109\",\"type\":\"GlyphRenderer\"},{\"attributes\":{\"mantissas\":[1,2,5],\"max_interval\":500.0,\"num_minor_ticks\":0},\"id\":\"1052\",\"type\":\"AdaptiveTicker\"},{\"attributes\":{\"data\":{\"x\":{\"__ndarray__\":\"AADAhb0Dd0IAAIDrDwR3QgAAQFFiBHdCAAAAt7QEd0IAAMAcBwV3QgAAgIJZBXdCAABA6KsFd0IAAABO/gV3QgAAwLNQBndCAACAGaMGd0IAAEB/9QZ3QgAAAOVHB3dCAADASpoHd0IAAICw7Ad3QgAAQBY/CHdCAAAAfJEId0IAAMDh4wh3QgAAgEc2CXdCAABArYgJd0IAAAAT2wl3QgAAwHgtCndCAACA3n8Kd0IAAEBE0gp3QgAAAKokC3dCAADAD3cLd0IAAIB1yQt3QgAAQNsbDHdCAAAAQW4Md0IAAMCmwAx3QgAAgAwTDXdCAABAcmUNd0IAAADYtw13QgAAwD0KDndCAACAo1wOd0IAAEAJrw53QgAAAG8BD3dCAADA1FMPd0IAAIA6pg93QgAAQKD4D3dCAAAABksQd0IAAMBrnRB3QgAAgNHvEHdCAABAN0IRd0IAAACdlBF3QgAAwALnEXdCAACAaDkSd0IAAEDOixJ3QgAAADTeEndCAADAmTATd0IAAID/ghN3QgAAQGXVE3dCAAAAyycUd0IAAMAwehR3QgAAgJbMFHdCAABA/B4Vd0IAAABicRV3QgAAwMfDFXdCAACALRYWd0IAAECTaBZ3QgAAAPm6FndC\",\"dtype\":\"float64\",\"shape\":[60]},\"y\":{\"__ndarray__\":\"EKltOK7QTzkAd9M56CIuOrhVgDqOmqw6+zjWOgM7+Tpoiwo7MQwWO2+vIDuGlSs7wjc3Ox6pQzuJ51A78f9eOxkKbjvlG347FaOHO3rMkDufk5o7hQOlO/knsDs7Dbw7LMDIO5JO1jtJx+Q7KDr0Ow1cAjyXKQs8S48UPHKXHjwDTSk8urs0PBDwQDxh90087d9bPOa4ajyKkno8F7+FPCrHjjxda5g8PLaiPAqzrTzFbbk8RfPFPDpR0zxDluE8/NHwPIWKAD2aOAk9vHwSPQxhHD1c8CY9OTYyPfQ+Pj25F0s9j85YPXtyZz18E3c9\",\"dtype\":\"float32\",\"shape\":[60]}},\"selected\":{\"id\":\"1339\"},\"selection_policy\":{\"id\":\"1338\"}},\"id\":\"1265\",\"type\":\"ColumnDataSource\"},{\"attributes\":{\"source\":{\"id\":\"1105\"}},\"id\":\"1110\",\"type\":\"CDSView\"},{\"attributes\":{\"fill_alpha\":{\"value\":0.9},\"fill_color\":{\"value\":\"#1b9e77\"},\"line_alpha\":{\"value\":0.9},\"line_color\":{\"value\":\"#1b9e77\"},\"line_width\":{\"value\":1.5},\"x\":{\"field\":\"x\"},\"y\":{\"field\":\"y\"}},\"id\":\"1224\",\"type\":\"Circle\"},{\"attributes\":{\"fill_alpha\":{\"value\":0.1},\"fill_color\":{\"value\":\"#1b9e77\"},\"line_alpha\":{\"value\":0.1},\"line_color\":{\"value\":\"#1b9e77\"},\"line_width\":{\"value\":1.5},\"x\":{\"field\":\"x\"},\"y\":{\"field\":\"y\"}},\"id\":\"1225\",\"type\":\"Circle\"},{\"attributes\":{\"base\":60,\"mantissas\":[1,2,5,10,15,20,30],\"max_interval\":1800000.0,\"min_interval\":1000.0,\"num_minor_ticks\":0},\"id\":\"1053\",\"type\":\"AdaptiveTicker\"},{\"attributes\":{},\"id\":\"1137\",\"type\":\"UnionRenderers\"},{\"attributes\":{\"data\":{\"x\":{\"__ndarray__\":\"AADAhb0Dd0IAAIDrDwR3QgAAQFFiBHdCAAAAt7QEd0IAAMAcBwV3QgAAgIJZBXdCAABA6KsFd0IAAABO/gV3QgAAwLNQBndCAACAGaMGd0IAAEB/9QZ3QgAAAOVHB3dCAADASpoHd0IAAICw7Ad3QgAAQBY/CHdCAAAAfJEId0IAAMDh4wh3QgAAgEc2CXdCAABArYgJd0IAAAAT2wl3QgAAwHgtCndCAACA3n8Kd0IAAEBE0gp3QgAAAKokC3dCAADAD3cLd0IAAIB1yQt3QgAAQNsbDHdCAAAAQW4Md0IAAMCmwAx3QgAAgAwTDXdCAABAcmUNd0IAAADYtw13QgAAwD0KDndCAACAo1wOd0IAAEAJrw53QgAAAG8BD3dCAADA1FMPd0IAAIA6pg93QgAAQKD4D3dCAAAABksQd0IAAMBrnRB3QgAAgNHvEHdCAABAN0IRd0IAAACdlBF3QgAAwALnEXdCAACAaDkSd0IAAEDOixJ3QgAAADTeEndCAADAmTATd0IAAID/ghN3QgAAQGXVE3dCAAAAyycUd0IAAMAwehR3QgAAgJbMFHdCAABA/B4Vd0IAAABicRV3QgAAwMfDFXdCAACALRYWd0IAAECTaBZ3QgAAAPm6FndC\",\"dtype\":\"float64\",\"shape\":[60]},\"y\":{\"__ndarray__\":\"nVvDOi/Tqjsz0y08DSSPPMn70jyJ4Q09ghcwPVfeTD21xGM99K12PX8VhD32Co09FJuWPXPVoD1iuKs9gE63PVWrwz3j4NA9+/zePdIM7j37H/49S6QHPgPNED41lBo+egQlPiUpMD5nDjw+TcFIPr9PVj6GyGQ+gDt0PsJcgj5RKos+DpCUPj2Ynj7XTak+k7y0PvDwwD5I+M0+2ODbPtW56j5+k/o+k78FP6XHDj/Zaxg/trYiP36zLT80bjk/q/NFP5VRUz+TlmE/OtJwP5eKgD+eOIk/sXySP+1gnD8n8KY/5jWyP38+vj8ZF8s/\",\"dtype\":\"float32\",\"shape\":[60]}},\"selected\":{\"id\":\"1471\"},\"selection_policy\":{\"id\":\"1470\"}},\"id\":\"1385\",\"type\":\"ColumnDataSource\"},{\"attributes\":{\"data_source\":{\"id\":\"1222\"},\"glyph\":{\"id\":\"1224\"},\"hover_glyph\":null,\"muted_glyph\":null,\"name\":\"_measured_cases_A00-A04\",\"nonselection_glyph\":{\"id\":\"1225\"},\"selection_glyph\":null,\"view\":{\"id\":\"1227\"}},\"id\":\"1226\",\"type\":\"GlyphRenderer\"},{\"attributes\":{\"source\":{\"id\":\"1475\"}},\"id\":\"1480\",\"type\":\"CDSView\"},{\"attributes\":{\"base\":24,\"mantissas\":[1,2,4,6,8,12],\"max_interval\":43200000.0,\"min_interval\":3600000.0,\"num_minor_ticks\":0},\"id\":\"1054\",\"type\":\"AdaptiveTicker\"},{\"attributes\":{},\"id\":\"1218\",\"type\":\"Selection\"},{\"attributes\":{},\"id\":\"1470\",\"type\":\"UnionRenderers\"},{\"attributes\":{\"fill_alpha\":{\"value\":0.6},\"fill_color\":{\"value\":\"#7570b3\"},\"line_alpha\":{\"value\":0.6},\"line_color\":{\"value\":\"#7570b3\"},\"top\":{\"field\":\"y\"},\"width\":{\"value\":51840000.0},\"x\":{\"field\":\"x\"}},\"id\":\"1112\",\"type\":\"VBar\"},{\"attributes\":{\"source\":{\"id\":\"1222\"}},\"id\":\"1227\",\"type\":\"CDSView\"},{\"attributes\":{\"line_alpha\":0.1,\"line_color\":\"#66a61e\",\"line_width\":1.5,\"x\":{\"field\":\"x\"},\"y\":{\"field\":\"y\"}},\"id\":\"1432\",\"type\":\"Line\"},{\"attributes\":{\"days\":[1,2,3,4,5,6,7,8,9,10,11,12,13,14,15,16,17,18,19,20,21,22,23,24,25,26,27,28,29,30,31]},\"id\":\"1055\",\"type\":\"DaysTicker\"},{\"attributes\":{},\"id\":\"1260\",\"type\":\"UnionRenderers\"},{\"attributes\":{\"source\":{\"id\":\"1105\"}},\"id\":\"1115\",\"type\":\"CDSView\"},{\"attributes\":{\"days\":[1,4,7,10,13,16,19,22,25,28]},\"id\":\"1056\",\"type\":\"DaysTicker\"},{\"attributes\":{\"days\":[1,8,15,22]},\"id\":\"1057\",\"type\":\"DaysTicker\"},{\"attributes\":{\"data_source\":{\"id\":\"1475\"},\"glyph\":{\"id\":\"1477\"},\"hover_glyph\":null,\"muted_glyph\":null,\"name\":\"_Fit_cases_A00-A04\",\"nonselection_glyph\":{\"id\":\"1478\"},\"selection_glyph\":null,\"view\":{\"id\":\"1480\"}},\"id\":\"1479\",\"type\":\"GlyphRenderer\"},{\"attributes\":{\"fill_alpha\":{\"value\":0.6},\"fill_color\":{\"value\":\"#1b9e77\"},\"line_alpha\":{\"value\":0.6},\"line_color\":{\"value\":\"#1b9e77\"},\"top\":{\"field\":\"y\"},\"width\":{\"value\":51840000.0},\"x\":{\"field\":\"x\"}},\"id\":\"1229\",\"type\":\"VBar\"},{\"attributes\":{\"days\":[1,15]},\"id\":\"1058\",\"type\":\"DaysTicker\"},{\"attributes\":{},\"id\":\"1138\",\"type\":\"Selection\"},{\"attributes\":{},\"id\":\"1519\",\"type\":\"Selection\"},{\"attributes\":{\"label\":{\"value\":\"measured_cases_A35-A59\"},\"renderers\":[{\"id\":\"1114\"}]},\"id\":\"1141\",\"type\":\"LegendItem\"},{\"attributes\":{\"source\":{\"id\":\"1429\"}},\"id\":\"1434\",\"type\":\"CDSView\"},{\"attributes\":{\"months\":[0,1,2,3,4,5,6,7,8,9,10,11]},\"id\":\"1059\",\"type\":\"MonthsTicker\"},{\"attributes\":{\"data\":{\"x\":{\"__ndarray__\":\"AADAhb0Dd0IAAIDrDwR3QgAAQFFiBHdCAAAAt7QEd0IAAMAcBwV3QgAAgIJZBXdCAABA6KsFd0IAAABO/gV3QgAAwLNQBndCAACAGaMGd0IAAEB/9QZ3QgAAAOVHB3dCAADASpoHd0IAAICw7Ad3QgAAQBY/CHdCAAAAfJEId0IAAMDh4wh3QgAAgEc2CXdCAABArYgJd0IAAAAT2wl3QgAAwHgtCndCAACA3n8Kd0IAAEBE0gp3QgAAAKokC3dCAADAD3cLd0IAAIB1yQt3QgAAQNsbDHdCAAAAQW4Md0IAAMCmwAx3QgAAgAwTDXdCAABAcmUNd0IAAADYtw13QgAAwD0KDndCAACAo1wOd0IAAEAJrw53QgAAAG8BD3dCAADA1FMPd0IAAIA6pg93QgAAQKD4D3dCAAAABksQd0IAAMBrnRB3QgAAgNHvEHdCAABAN0IRd0IAAACdlBF3QgAAwALnEXdCAACAaDkSd0IAAEDOixJ3QgAAADTeEndCAADAmTATd0IAAID/ghN3QgAAQGXVE3dCAAAAyycUd0IAAMAwehR3QgAAgJbMFHdCAABA/B4Vd0IAAABicRV3QgAAwMfDFXdCAACALRYWd0IAAECTaBZ3QgAAAPm6FndC\",\"dtype\":\"float64\",\"shape\":[60]},\"y\":{\"__ndarray__\":\"9qoOPyxQMT9LwIM/AtwWQN0GB0ANMjtAb+igQPxk2kAbeABBJkYcQZykX0HJlVdBse0LQnTgxkHRzRBCbZ0+Qgd8Z0KSBoxCTKiwQiitw0LaJfVCCb4fQ/uoPEOHM4BDG/m1Q9Vz0UNI3wdErBwURMi4M0RQHTxE6xVXRGhPiEQsO3lEgfuFRCpDcETSKpFEs0BqRDoNW0Qy8ZBEs8JaRH8PbkSsd15EIiJgREuRTESswitE1f9sRC2tNUSC2UZE+yw2ROYXNUSXhBFEelUCRCbWHUS1RQxEqHz9Q3Ql7UOZAdlDkaK/QzQ6rEP3uK5D\",\"dtype\":\"float32\",\"shape\":[60]}},\"selected\":{\"id\":\"1177\"},\"selection_policy\":{\"id\":\"1176\"}},\"id\":\"1142\",\"type\":\"ColumnDataSource\"},{\"attributes\":{\"fill_alpha\":{\"value\":0.1},\"fill_color\":{\"value\":\"#1b9e77\"},\"line_alpha\":{\"value\":0.1},\"line_color\":{\"value\":\"#1b9e77\"},\"top\":{\"field\":\"y\"},\"width\":{\"value\":51840000.0},\"x\":{\"field\":\"x\"}},\"id\":\"1230\",\"type\":\"VBar\"},{\"attributes\":{\"label\":{\"value\":\"measured_cases_A00-A04\"},\"renderers\":[{\"id\":\"1231\"}]},\"id\":\"1264\",\"type\":\"LegendItem\"},{\"attributes\":{\"months\":[0,2,4,6,8,10]},\"id\":\"1060\",\"type\":\"MonthsTicker\"},{\"attributes\":{},\"id\":\"1217\",\"type\":\"UnionRenderers\"},{\"attributes\":{\"months\":[0,4,8]},\"id\":\"1061\",\"type\":\"MonthsTicker\"},{\"attributes\":{},\"id\":\"1518\",\"type\":\"UnionRenderers\"},{\"attributes\":{\"line_alpha\":0.8,\"line_color\":\"#1b9e77\",\"line_width\":1.5,\"x\":{\"field\":\"x\"},\"y\":{\"field\":\"y\"}},\"id\":\"1477\",\"type\":\"Line\"},{\"attributes\":{\"line_alpha\":0.1,\"line_color\":\"#1b9e77\",\"line_width\":1.5,\"x\":{\"field\":\"x\"},\"y\":{\"field\":\"y\"}},\"id\":\"1478\",\"type\":\"Line\"},{\"attributes\":{\"bottom_units\":\"screen\",\"fill_alpha\":0.5,\"fill_color\":\"lightgrey\",\"left_units\":\"screen\",\"level\":\"overlay\",\"line_alpha\":1.0,\"line_color\":\"black\",\"line_dash\":[4,4],\"line_width\":2,\"render_mode\":\"css\",\"right_units\":\"screen\",\"top_units\":\"screen\"},\"id\":\"1027\",\"type\":\"BoxAnnotation\"},{\"attributes\":{\"line_alpha\":0.8,\"line_color\":\"#e7298a\",\"line_width\":1.5,\"x\":{\"field\":\"x\"},\"y\":{\"field\":\"y\"}},\"id\":\"1387\",\"type\":\"Line\"},{\"attributes\":{\"source\":{\"id\":\"1385\"}},\"id\":\"1390\",\"type\":\"CDSView\"},{\"attributes\":{},\"id\":\"1424\",\"type\":\"UnionRenderers\"},{\"attributes\":{\"line_alpha\":0.1,\"line_color\":\"#e7298a\",\"line_width\":1.5,\"x\":{\"field\":\"x\"},\"y\":{\"field\":\"y\"}},\"id\":\"1388\",\"type\":\"Line\"},{\"attributes\":{\"data\":{\"x\":{\"__ndarray__\":\"AADAhb0Dd0IAAIDrDwR3QgAAQFFiBHdCAAAAt7QEd0IAAMAcBwV3QgAAgIJZBXdCAABA6KsFd0IAAABO/gV3QgAAwLNQBndCAACAGaMGd0IAAEB/9QZ3QgAAAOVHB3dCAADASpoHd0IAAICw7Ad3QgAAQBY/CHdCAAAAfJEId0IAAMDh4wh3QgAAgEc2CXdCAABArYgJd0IAAAAT2wl3QgAAwHgtCndCAACA3n8Kd0IAAEBE0gp3QgAAAKokC3dCAADAD3cLd0IAAIB1yQt3QgAAQNsbDHdCAAAAQW4Md0IAAMCmwAx3QgAAgAwTDXdCAABAcmUNd0IAAADYtw13QgAAwD0KDndCAACAo1wOd0IAAEAJrw53QgAAAG8BD3dCAADA1FMPd0IAAIA6pg93QgAAQKD4D3dCAAAABksQd0IAAMBrnRB3QgAAgNHvEHdCAABAN0IRd0IAAACdlBF3QgAAwALnEXdCAACAaDkSd0IAAEDOixJ3QgAAADTeEndCAADAmTATd0IAAID/ghN3QgAAQGXVE3dCAAAAyycUd0IAAMAwehR3QgAAgJbMFHdCAABA/B4Vd0IAAABicRV3QgAAwMfDFXdCAACALRYWd0IAAECTaBZ3QgAAAPm6FndC\",\"dtype\":\"float64\",\"shape\":[60]},\"y\":{\"__ndarray__\":\"VR8kOhSDDztMCJI7MILwO+8/MTxIZG480++TPMgcrDzTWb88BT3PPDru3TzE++w8Jg39PE4eBz2lQxA9hP8ZPVhiJD07ey89zlU7PSX9Rz1cflU9pehjPU5Mcz0h3YE9JKKKPbX+kz0T/Z09NKioPcYLtD06NMA93C7NPdkJ2z1b1Ok9jJ75Pdo8BT4ePA4+7NYXPsMXIj7YCS0+Jrk4PnAyRT5dg1I+eLpgPlDnbz4/DYA+2rKIPvHtkT6XyJs+l02mPm+IsT5ohb0+nFHKPgn71z6gkOY+VSL2PpRgAz+mPww/EbgVPzLUHz8Unyo/\",\"dtype\":\"float32\",\"shape\":[60]}},\"selected\":{\"id\":\"1519\"},\"selection_policy\":{\"id\":\"1518\"}},\"id\":\"1429\",\"type\":\"ColumnDataSource\"},{\"attributes\":{\"data_source\":{\"id\":\"1385\"},\"glyph\":{\"id\":\"1387\"},\"hover_glyph\":null,\"muted_glyph\":null,\"name\":\"_Fit_cases_A60-A79\",\"nonselection_glyph\":{\"id\":\"1388\"},\"selection_glyph\":null,\"view\":{\"id\":\"1390\"}},\"id\":\"1389\",\"type\":\"GlyphRenderer\"},{\"attributes\":{},\"id\":\"1425\",\"type\":\"Selection\"},{\"attributes\":{\"label\":{\"value\":\"Fit_cases_A60-A79\"},\"renderers\":[{\"id\":\"1389\"}]},\"id\":\"1428\",\"type\":\"LegendItem\"},{\"attributes\":{},\"id\":\"1007\",\"type\":\"DataRange1d\"},{\"attributes\":{},\"id\":\"1009\",\"type\":\"LinearScale\"},{\"attributes\":{},\"id\":\"1011\",\"type\":\"LinearScale\"},{\"attributes\":{\"axis_label\":\"time\",\"formatter\":{\"id\":\"1051\"},\"major_label_orientation\":0.7853981633974483,\"ticker\":{\"id\":\"1014\"}},\"id\":\"1013\",\"type\":\"DatetimeAxis\"}],\"root_ids\":[\"1002\"]},\"title\":\"Bokeh Application\",\"version\":\"2.0.2\"}};\n",
       "  var render_items = [{\"docid\":\"9f867a24-4846-4b12-9302-36ffbf2b00c7\",\"notebook_comms_target\":\"1566\",\"root_ids\":[\"1002\"],\"roots\":{\"1002\":\"52de6244-8d88-4d95-b906-e828d7d232f1\"}}];\n",
       "  root.Bokeh.embed.embed_items_notebook(docs_json, render_items);\n",
       "\n",
       "  }\n",
       "  if (root.Bokeh !== undefined) {\n",
       "    embed_document(root);\n",
       "  } else {\n",
       "    var attempts = 0;\n",
       "    var timer = setInterval(function(root) {\n",
       "      if (root.Bokeh !== undefined) {\n",
       "        clearInterval(timer);\n",
       "        embed_document(root);\n",
       "      } else {\n",
       "        attempts++;\n",
       "        if (attempts > 100) {\n",
       "          clearInterval(timer);\n",
       "          console.log(\"Bokeh: ERROR: Unable to run BokehJS code because BokehJS library is missing\");\n",
       "        }\n",
       "      }\n",
       "    }, 10, root)\n",
       "  }\n",
       "})(window);"
      ],
      "application/vnd.bokehjs_exec.v0+json": ""
     },
     "metadata": {
      "application/vnd.bokehjs_exec.v0+json": {
       "id": "1002"
      }
     },
     "output_type": "display_data"
    },
    {
     "data": {
      "text/html": [
       "\n",
       "\n",
       "\n",
       "\n",
       "\n",
       "\n",
       "  <div class=\"bk-root\" id=\"f2a4c394-3076-4627-8508-5366c94d46e0\" data-root-id=\"1825\"></div>\n"
      ]
     },
     "metadata": {},
     "output_type": "display_data"
    },
    {
     "data": {
      "application/javascript": [
       "(function(root) {\n",
       "  function embed_document(root) {\n",
       "    \n",
       "  var docs_json = {\"9f1de948-40b1-4b35-841b-7f975990c1c0\":{\"roots\":{\"references\":[{\"attributes\":{\"background_fill_color\":\"#efefef\",\"below\":[{\"id\":\"1836\"}],\"center\":[{\"id\":\"1839\"},{\"id\":\"1843\"},{\"id\":\"1891\"}],\"left\":[{\"id\":\"1840\"}],\"name\":\"_figure_deaths\",\"plot_height\":400,\"plot_width\":900,\"renderers\":[{\"id\":\"1863\"},{\"id\":\"1868\"},{\"id\":\"1897\"},{\"id\":\"1902\"},{\"id\":\"1932\"},{\"id\":\"1937\"},{\"id\":\"1969\"},{\"id\":\"1974\"},{\"id\":\"2008\"},{\"id\":\"2013\"},{\"id\":\"2049\"},{\"id\":\"2054\"},{\"id\":\"2092\"},{\"id\":\"2130\"},{\"id\":\"2170\"},{\"id\":\"2212\"},{\"id\":\"2256\"},{\"id\":\"2302\"}],\"title\":{\"id\":\"1826\"},\"toolbar\":{\"id\":\"1852\"},\"x_range\":{\"id\":\"1828\"},\"x_scale\":{\"id\":\"1832\"},\"y_range\":{\"id\":\"1830\"},\"y_scale\":{\"id\":\"1834\"}},\"id\":\"1825\",\"subtype\":\"Figure\",\"type\":\"Plot\"},{\"attributes\":{\"data_source\":{\"id\":\"1928\"},\"glyph\":{\"id\":\"1935\"},\"hover_glyph\":null,\"muted_glyph\":null,\"name\":\"_measured_deaths_A35-A59\",\"nonselection_glyph\":{\"id\":\"1936\"},\"selection_glyph\":null,\"view\":{\"id\":\"1938\"}},\"id\":\"1937\",\"type\":\"GlyphRenderer\"},{\"attributes\":{\"data\":{\"x\":{\"__ndarray__\":\"AADAhb0Dd0IAAIDrDwR3QgAAQFFiBHdCAAAAt7QEd0IAAMAcBwV3QgAAgIJZBXdCAABA6KsFd0IAAABO/gV3QgAAwLNQBndCAACAGaMGd0IAAEB/9QZ3QgAAAOVHB3dCAADASpoHd0IAAICw7Ad3QgAAQBY/CHdCAAAAfJEId0IAAMDh4wh3QgAAgEc2CXdCAABArYgJd0IAAAAT2wl3QgAAwHgtCndCAACA3n8Kd0IAAEBE0gp3QgAAAKokC3dCAADAD3cLd0IAAIB1yQt3QgAAQNsbDHdCAAAAQW4Md0IAAMCmwAx3QgAAgAwTDXdCAABAcmUNd0IAAADYtw13QgAAwD0KDndCAACAo1wOd0IAAEAJrw53QgAAAG8BD3dCAADA1FMPd0IAAIA6pg93QgAAQKD4D3dCAAAABksQd0IAAMBrnRB3QgAAgNHvEHdCAABAN0IRd0IAAACdlBF3QgAAwALnEXdCAACAaDkSd0IAAEDOixJ3QgAAADTeEndCAADAmTATd0IAAID/ghN3QgAAQGXVE3dCAAAAyycUd0IAAMAwehR3QgAAgJbMFHdCAABA/B4Vd0IAAABicRV3QgAAwMfDFXdCAACALRYWd0IAAECTaBZ3QgAAAPm6FndC\",\"dtype\":\"float64\",\"shape\":[60]},\"y\":{\"__ndarray__\":\"AAAAAAAAAAAAAAAAAAAAAAAAAAAAAAAAAAAAAAAAAAAAAAAAAAAAAAAAAAAAAAAAAAAAAAAAAAAAAAAAAAAAAAAAAAAAAAAAAAAAAAAAAAAAAAAAAAAAAAAAAAAAAAAAAAAAAAAAAAAAAAAAAAAAAAAAAAAAAAAAAAAAAAAAAAAAAAAAAAAAAAAAAAAAAAAAAAAAAAAAAAAAAAAAAAAAAAAAAAAAAIA/AAAAAAAAAAAAAAAAAAAAAAAAgD8AAIA/AAAAAAAAAAAAAAAAAAAAAAAAAAAAAAAAAACAPwAAAAAAAAAAAAAAAAAAgD8AAAAA\",\"dtype\":\"float32\",\"shape\":[60]}},\"selected\":{\"id\":\"1888\"},\"selection_policy\":{\"id\":\"1887\"}},\"id\":\"1859\",\"type\":\"ColumnDataSource\"},{\"attributes\":{\"source\":{\"id\":\"2004\"}},\"id\":\"2014\",\"type\":\"CDSView\"},{\"attributes\":{\"text\":\"Germany_deaths\"},\"id\":\"1826\",\"type\":\"Title\"},{\"attributes\":{\"data_source\":{\"id\":\"1893\"},\"glyph\":{\"id\":\"1900\"},\"hover_glyph\":null,\"muted_glyph\":null,\"name\":\"_measured_deaths_A05-A14\",\"nonselection_glyph\":{\"id\":\"1901\"},\"selection_glyph\":null,\"view\":{\"id\":\"1903\"}},\"id\":\"1902\",\"type\":\"GlyphRenderer\"},{\"attributes\":{\"data_source\":{\"id\":\"1928\"},\"glyph\":{\"id\":\"1930\"},\"hover_glyph\":null,\"muted_glyph\":null,\"name\":\"_measured_deaths_A35-A59\",\"nonselection_glyph\":{\"id\":\"1931\"},\"selection_glyph\":null,\"view\":{\"id\":\"1933\"}},\"id\":\"1932\",\"type\":\"GlyphRenderer\"},{\"attributes\":{\"data_source\":{\"id\":\"1893\"},\"glyph\":{\"id\":\"1895\"},\"hover_glyph\":null,\"muted_glyph\":null,\"name\":\"_measured_deaths_A05-A14\",\"nonselection_glyph\":{\"id\":\"1896\"},\"selection_glyph\":null,\"view\":{\"id\":\"1898\"}},\"id\":\"1897\",\"type\":\"GlyphRenderer\"},{\"attributes\":{},\"id\":\"1844\",\"type\":\"PanTool\"},{\"attributes\":{},\"id\":\"2000\",\"type\":\"Selection\"},{\"attributes\":{\"axis_label\":\"time\",\"formatter\":{\"id\":\"1874\"},\"major_label_orientation\":0.7853981633974483,\"ticker\":{\"id\":\"1837\"}},\"id\":\"1836\",\"type\":\"DatetimeAxis\"},{\"attributes\":{\"label\":{\"value\":\"measured_deaths_A35-A59\"},\"renderers\":[{\"id\":\"1937\"}]},\"id\":\"1964\",\"type\":\"LegendItem\"},{\"attributes\":{\"data\":{\"x\":{\"__ndarray__\":\"AADAhb0Dd0IAAIDrDwR3QgAAQFFiBHdCAAAAt7QEd0IAAMAcBwV3QgAAgIJZBXdCAABA6KsFd0IAAABO/gV3QgAAwLNQBndCAACAGaMGd0IAAEB/9QZ3QgAAAOVHB3dCAADASpoHd0IAAICw7Ad3QgAAQBY/CHdCAAAAfJEId0IAAMDh4wh3QgAAgEc2CXdCAABArYgJd0IAAAAT2wl3QgAAwHgtCndCAACA3n8Kd0IAAEBE0gp3QgAAAKokC3dCAADAD3cLd0IAAIB1yQt3QgAAQNsbDHdCAAAAQW4Md0IAAMCmwAx3QgAAgAwTDXdCAABAcmUNd0IAAADYtw13QgAAwD0KDndCAACAo1wOd0IAAEAJrw53QgAAAG8BD3dCAADA1FMPd0IAAIA6pg93QgAAQKD4D3dCAAAABksQd0IAAMBrnRB3QgAAgNHvEHdCAABAN0IRd0IAAACdlBF3QgAAwALnEXdCAACAaDkSd0IAAEDOixJ3QgAAADTeEndCAADAmTATd0IAAID/ghN3QgAAQGXVE3dCAAAAyycUd0IAAMAwehR3QgAAgJbMFHdCAABA/B4Vd0IAAABicRV3QgAAwMfDFXdCAACALRYWd0IAAECTaBZ3QgAAAPm6FndC\",\"dtype\":\"float64\",\"shape\":[60]},\"y\":{\"__ndarray__\":\"AAAAAAAAAAAAAAAAAAAAAAAAAAAAAAAAAAAAAAAAAAAAAAAAAAAAAAAAAAAAAAAAAAAAAAAAAAAAAAAAAAAAAAAAAAAAAAAAAAAAAAAAAAAAAAAAAAAAAAAAAAAAAAAAAAAAAAAAAAAAAAAAAAAAAAAAAAAAAAAAAAAAAAAAAAAAAAAAAAAAAAAAAAAAAAAAAAAAAAAAAAAAAAAAAAAAAAAAAAAAAAAAAAAAAAAAAAAAAAAAAAAAAAAAAAAAAAAAAAAAAAAAAAAAAAAAAAAAAAAAAAAAAAAAAAAAAAAAAAAAAAAAAAAAAAAAAAAAAAAA\",\"dtype\":\"float32\",\"shape\":[60]}},\"selected\":{\"id\":\"1924\"},\"selection_policy\":{\"id\":\"1923\"}},\"id\":\"1893\",\"type\":\"ColumnDataSource\"},{\"attributes\":{},\"id\":\"1841\",\"type\":\"BasicTicker\"},{\"attributes\":{\"line_alpha\":0.1,\"line_color\":\"#1b9e77\",\"line_width\":1.5,\"x\":{\"field\":\"x\"},\"y\":{\"field\":\"y\"}},\"id\":\"2091\",\"type\":\"Line\"},{\"attributes\":{\"data_source\":{\"id\":\"1859\"},\"glyph\":{\"id\":\"1861\"},\"hover_glyph\":null,\"muted_glyph\":null,\"name\":\"_measured_deaths_A15-A34\",\"nonselection_glyph\":{\"id\":\"1862\"},\"selection_glyph\":null,\"view\":{\"id\":\"1864\"}},\"id\":\"1863\",\"type\":\"GlyphRenderer\"},{\"attributes\":{\"fill_alpha\":{\"value\":0.1},\"fill_color\":{\"value\":\"#d95f02\"},\"line_alpha\":{\"value\":0.1},\"line_color\":{\"value\":\"#d95f02\"},\"top\":{\"field\":\"y\"},\"width\":{\"value\":51840000.0},\"x\":{\"field\":\"x\"}},\"id\":\"1901\",\"type\":\"VBar\"},{\"attributes\":{\"data\":{\"x\":{\"__ndarray__\":\"AADAhb0Dd0IAAIDrDwR3QgAAQFFiBHdCAAAAt7QEd0IAAMAcBwV3QgAAgIJZBXdCAABA6KsFd0IAAABO/gV3QgAAwLNQBndCAACAGaMGd0IAAEB/9QZ3QgAAAOVHB3dCAADASpoHd0IAAICw7Ad3QgAAQBY/CHdCAAAAfJEId0IAAMDh4wh3QgAAgEc2CXdCAABArYgJd0IAAAAT2wl3QgAAwHgtCndCAACA3n8Kd0IAAEBE0gp3QgAAAKokC3dCAADAD3cLd0IAAIB1yQt3QgAAQNsbDHdCAAAAQW4Md0IAAMCmwAx3QgAAgAwTDXdCAABAcmUNd0IAAADYtw13QgAAwD0KDndCAACAo1wOd0IAAEAJrw53QgAAAG8BD3dCAADA1FMPd0IAAIA6pg93QgAAQKD4D3dCAAAABksQd0IAAMBrnRB3QgAAgNHvEHdCAABAN0IRd0IAAACdlBF3QgAAwALnEXdCAACAaDkSd0IAAEDOixJ3QgAAADTeEndCAADAmTATd0IAAID/ghN3QgAAQGXVE3dCAAAAyycUd0IAAMAwehR3QgAAgJbMFHdCAABA/B4Vd0IAAABicRV3QgAAwMfDFXdCAACALRYWd0IAAECTaBZ3QgAAAPm6FndC\",\"dtype\":\"float64\",\"shape\":[60]},\"y\":{\"__ndarray__\":\"AAAAAAAAAAAAAAAAAAAAAAAAAAAAAAAAAAAAAAAAAAAAAAAAAAAAAAAAAAAAAAAAAAAAAAAAAAAAAAAAAAAAAAAAAAAAAAAAAAAAAAAAgD8AAIA/AACAPwAAgD8AAAAAAABAQAAAAEAAAEBAAACgQAAAwEAAAOBAAADAQAAAAEEAAOBAAAAwQQAAIEEAAKhBAACAQAAAQEAAABBBAADAQAAA4EAAAABCAAAYQgAA+EEAAAhCAAB0QgAAnEIAAIhCAACmQgAAokIAALJCAABEQgAAxkIAAPpCAADYQgAA2EIAAIJCAACQQgAAaEIAAKxC\",\"dtype\":\"float32\",\"shape\":[60]}},\"selected\":{\"id\":\"2041\"},\"selection_policy\":{\"id\":\"2040\"}},\"id\":\"2004\",\"type\":\"ColumnDataSource\"},{\"attributes\":{\"fill_alpha\":{\"value\":0.9},\"fill_color\":{\"value\":\"#1b9e77\"},\"line_alpha\":{\"value\":0.9},\"line_color\":{\"value\":\"#1b9e77\"},\"line_width\":{\"value\":1.5},\"x\":{\"field\":\"x\"},\"y\":{\"field\":\"y\"}},\"id\":\"1861\",\"type\":\"Circle\"},{\"attributes\":{\"source\":{\"id\":\"1893\"}},\"id\":\"1898\",\"type\":\"CDSView\"},{\"attributes\":{\"fill_alpha\":{\"value\":0.1},\"fill_color\":{\"value\":\"#1b9e77\"},\"line_alpha\":{\"value\":0.1},\"line_color\":{\"value\":\"#1b9e77\"},\"line_width\":{\"value\":1.5},\"x\":{\"field\":\"x\"},\"y\":{\"field\":\"y\"}},\"id\":\"1862\",\"type\":\"Circle\"},{\"attributes\":{},\"id\":\"1999\",\"type\":\"UnionRenderers\"},{\"attributes\":{},\"id\":\"1828\",\"type\":\"DataRange1d\"},{\"attributes\":{\"fill_alpha\":{\"value\":0.6},\"fill_color\":{\"value\":\"#1b9e77\"},\"line_alpha\":{\"value\":0.6},\"line_color\":{\"value\":\"#1b9e77\"},\"top\":{\"field\":\"y\"},\"width\":{\"value\":51840000.0},\"x\":{\"field\":\"x\"}},\"id\":\"1866\",\"type\":\"VBar\"},{\"attributes\":{\"fill_alpha\":{\"value\":0.1},\"fill_color\":{\"value\":\"#66a61e\"},\"line_alpha\":{\"value\":0.1},\"line_color\":{\"value\":\"#66a61e\"},\"line_width\":{\"value\":1.5},\"x\":{\"field\":\"x\"},\"y\":{\"field\":\"y\"}},\"id\":\"2007\",\"type\":\"Circle\"},{\"attributes\":{},\"id\":\"1834\",\"type\":\"LinearScale\"},{\"attributes\":{\"label\":{\"value\":\"measured_deaths_A05-A14\"},\"renderers\":[{\"id\":\"1902\"}]},\"id\":\"1927\",\"type\":\"LegendItem\"},{\"attributes\":{\"overlay\":{\"id\":\"1850\"}},\"id\":\"1849\",\"type\":\"BoxSelectTool\"},{\"attributes\":{\"fill_alpha\":{\"value\":0.6},\"fill_color\":{\"value\":\"#d95f02\"},\"line_alpha\":{\"value\":0.6},\"line_color\":{\"value\":\"#d95f02\"},\"top\":{\"field\":\"y\"},\"width\":{\"value\":51840000.0},\"x\":{\"field\":\"x\"}},\"id\":\"1900\",\"type\":\"VBar\"},{\"attributes\":{\"fill_alpha\":{\"value\":0.9},\"fill_color\":{\"value\":\"#e7298a\"},\"line_alpha\":{\"value\":0.9},\"line_color\":{\"value\":\"#e7298a\"},\"line_width\":{\"value\":1.5},\"x\":{\"field\":\"x\"},\"y\":{\"field\":\"y\"}},\"id\":\"1967\",\"type\":\"Circle\"},{\"attributes\":{\"fill_alpha\":{\"value\":0.1},\"fill_color\":{\"value\":\"#7570b3\"},\"line_alpha\":{\"value\":0.1},\"line_color\":{\"value\":\"#7570b3\"},\"line_width\":{\"value\":1.5},\"x\":{\"field\":\"x\"},\"y\":{\"field\":\"y\"}},\"id\":\"1931\",\"type\":\"Circle\"},{\"attributes\":{\"fill_alpha\":{\"value\":0.1},\"fill_color\":{\"value\":\"#66a61e\"},\"line_alpha\":{\"value\":0.1},\"line_color\":{\"value\":\"#66a61e\"},\"top\":{\"field\":\"y\"},\"width\":{\"value\":51840000.0},\"x\":{\"field\":\"x\"}},\"id\":\"2012\",\"type\":\"VBar\"},{\"attributes\":{},\"id\":\"1924\",\"type\":\"Selection\"},{\"attributes\":{\"data_source\":{\"id\":\"2004\"},\"glyph\":{\"id\":\"2006\"},\"hover_glyph\":null,\"muted_glyph\":null,\"name\":\"_measured_deaths_A80+\",\"nonselection_glyph\":{\"id\":\"2007\"},\"selection_glyph\":null,\"view\":{\"id\":\"2009\"}},\"id\":\"2008\",\"type\":\"GlyphRenderer\"},{\"attributes\":{},\"id\":\"1887\",\"type\":\"UnionRenderers\"},{\"attributes\":{\"axis\":{\"id\":\"1836\"},\"ticker\":null},\"id\":\"1839\",\"type\":\"Grid\"},{\"attributes\":{},\"id\":\"1845\",\"type\":\"WheelZoomTool\"},{\"attributes\":{\"source\":{\"id\":\"1928\"}},\"id\":\"1938\",\"type\":\"CDSView\"},{\"attributes\":{\"click_policy\":\"hide\",\"items\":[{\"id\":\"1892\"},{\"id\":\"1927\"},{\"id\":\"1964\"},{\"id\":\"2003\"},{\"id\":\"2044\"},{\"id\":\"2087\"},{\"id\":\"2125\"},{\"id\":\"2165\"},{\"id\":\"2207\"},{\"id\":\"2251\"},{\"id\":\"2297\"},{\"id\":\"2345\"}]},\"id\":\"1891\",\"type\":\"Legend\"},{\"attributes\":{},\"id\":\"1830\",\"type\":\"DataRange1d\"},{\"attributes\":{\"data_source\":{\"id\":\"2004\"},\"glyph\":{\"id\":\"2011\"},\"hover_glyph\":null,\"muted_glyph\":null,\"name\":\"_measured_deaths_A80+\",\"nonselection_glyph\":{\"id\":\"2012\"},\"selection_glyph\":null,\"view\":{\"id\":\"2014\"}},\"id\":\"2013\",\"type\":\"GlyphRenderer\"},{\"attributes\":{\"data\":{\"x\":{\"__ndarray__\":\"AADAhb0Dd0IAAIDrDwR3QgAAQFFiBHdCAAAAt7QEd0IAAMAcBwV3QgAAgIJZBXdCAABA6KsFd0IAAABO/gV3QgAAwLNQBndCAACAGaMGd0IAAEB/9QZ3QgAAAOVHB3dCAADASpoHd0IAAICw7Ad3QgAAQBY/CHdCAAAAfJEId0IAAMDh4wh3QgAAgEc2CXdCAABArYgJd0IAAAAT2wl3QgAAwHgtCndCAACA3n8Kd0IAAEBE0gp3QgAAAKokC3dCAADAD3cLd0IAAIB1yQt3QgAAQNsbDHdCAAAAQW4Md0IAAMCmwAx3QgAAgAwTDXdCAABAcmUNd0IAAADYtw13QgAAwD0KDndCAACAo1wOd0IAAEAJrw53QgAAAG8BD3dCAADA1FMPd0IAAIA6pg93QgAAQKD4D3dCAAAABksQd0IAAMBrnRB3QgAAgNHvEHdCAABAN0IRd0IAAACdlBF3QgAAwALnEXdCAACAaDkSd0IAAEDOixJ3QgAAADTeEndCAADAmTATd0IAAID/ghN3QgAAQGXVE3dCAAAAyycUd0IAAMAwehR3QgAAgJbMFHdCAABA/B4Vd0IAAABicRV3QgAAwMfDFXdCAACALRYWd0IAAECTaBZ3QgAAAPm6FndC\",\"dtype\":\"float64\",\"shape\":[60]},\"y\":{\"__ndarray__\":\"AAAAAAAAAAAAAAAAAAAAAAAAAAAAAAAAAAAAAAAAAAAAAAAAAAAAAAAAAAAAAAAAAAAAAAAAAAAAAAAAAAAAAAAAAAAAAAAAAAAAAAAAAAAAAAAAAAAAAAAAAAAAAAAAAAAAAAAAAAAAAAAAAAAAAAAAAAAAAAAAAAAAAAAAAAAAAAAAAAAAAAAAAAAAAAAAAAAAAAAAAAAAAAAAAAAAAAAAAAAAAAAAAAAAAAAAAAAAAAAAAAAAAAAAAAAAAAAAAAAAAAAAAAAAAAAAAAAAAAAAAAAAAAAAAAAAAAAAgD8AAAAAAAAAAAAAAAAAAAAA\",\"dtype\":\"float32\",\"shape\":[60]}},\"selected\":{\"id\":\"2084\"},\"selection_policy\":{\"id\":\"2083\"}},\"id\":\"2045\",\"type\":\"ColumnDataSource\"},{\"attributes\":{\"axis\":{\"id\":\"1840\"},\"dimension\":1,\"ticker\":null},\"id\":\"1843\",\"type\":\"Grid\"},{\"attributes\":{\"fill_alpha\":{\"value\":0.6},\"fill_color\":{\"value\":\"#66a61e\"},\"line_alpha\":{\"value\":0.6},\"line_color\":{\"value\":\"#66a61e\"},\"top\":{\"field\":\"y\"},\"width\":{\"value\":51840000.0},\"x\":{\"field\":\"x\"}},\"id\":\"2011\",\"type\":\"VBar\"},{\"attributes\":{\"bottom_units\":\"screen\",\"fill_alpha\":0.5,\"fill_color\":\"lightgrey\",\"left_units\":\"screen\",\"level\":\"overlay\",\"line_alpha\":1.0,\"line_color\":\"black\",\"line_dash\":[4,4],\"line_width\":2,\"render_mode\":\"css\",\"right_units\":\"screen\",\"top_units\":\"screen\"},\"id\":\"1850\",\"type\":\"BoxAnnotation\"},{\"attributes\":{\"fill_alpha\":{\"value\":0.9},\"fill_color\":{\"value\":\"#66a61e\"},\"line_alpha\":{\"value\":0.9},\"line_color\":{\"value\":\"#66a61e\"},\"line_width\":{\"value\":1.5},\"x\":{\"field\":\"x\"},\"y\":{\"field\":\"y\"}},\"id\":\"2006\",\"type\":\"Circle\"},{\"attributes\":{},\"id\":\"1847\",\"type\":\"ResetTool\"},{\"attributes\":{},\"id\":\"1832\",\"type\":\"LinearScale\"},{\"attributes\":{},\"id\":\"1923\",\"type\":\"UnionRenderers\"},{\"attributes\":{\"label\":{\"value\":\"measured_deaths_A15-A34\"},\"renderers\":[{\"id\":\"1868\"}]},\"id\":\"1892\",\"type\":\"LegendItem\"},{\"attributes\":{\"label\":{\"value\":\"measured_deaths_A80+\"},\"renderers\":[{\"id\":\"2013\"}]},\"id\":\"2044\",\"type\":\"LegendItem\"},{\"attributes\":{\"fill_alpha\":{\"value\":0.1},\"fill_color\":{\"value\":\"#d95f02\"},\"line_alpha\":{\"value\":0.1},\"line_color\":{\"value\":\"#d95f02\"},\"line_width\":{\"value\":1.5},\"x\":{\"field\":\"x\"},\"y\":{\"field\":\"y\"}},\"id\":\"1896\",\"type\":\"Circle\"},{\"attributes\":{\"fill_alpha\":{\"value\":0.9},\"fill_color\":{\"value\":\"#7570b3\"},\"line_alpha\":{\"value\":0.9},\"line_color\":{\"value\":\"#7570b3\"},\"line_width\":{\"value\":1.5},\"x\":{\"field\":\"x\"},\"y\":{\"field\":\"y\"}},\"id\":\"1930\",\"type\":\"Circle\"},{\"attributes\":{\"bottom_units\":\"screen\",\"fill_alpha\":0.5,\"fill_color\":\"lightgrey\",\"left_units\":\"screen\",\"level\":\"overlay\",\"line_alpha\":1.0,\"line_color\":\"black\",\"line_dash\":[4,4],\"line_width\":2,\"render_mode\":\"css\",\"right_units\":\"screen\",\"top_units\":\"screen\"},\"id\":\"1851\",\"type\":\"BoxAnnotation\"},{\"attributes\":{\"data\":{\"x\":{\"__ndarray__\":\"AADAhb0Dd0IAAIDrDwR3QgAAQFFiBHdCAAAAt7QEd0IAAMAcBwV3QgAAgIJZBXdCAABA6KsFd0IAAABO/gV3QgAAwLNQBndCAACAGaMGd0IAAEB/9QZ3QgAAAOVHB3dCAADASpoHd0IAAICw7Ad3QgAAQBY/CHdCAAAAfJEId0IAAMDh4wh3QgAAgEc2CXdCAABArYgJd0IAAAAT2wl3QgAAwHgtCndCAACA3n8Kd0IAAEBE0gp3QgAAAKokC3dCAADAD3cLd0IAAIB1yQt3QgAAQNsbDHdCAAAAQW4Md0IAAMCmwAx3QgAAgAwTDXdCAABAcmUNd0IAAADYtw13QgAAwD0KDndCAACAo1wOd0IAAEAJrw53QgAAAG8BD3dCAADA1FMPd0IAAIA6pg93QgAAQKD4D3dCAAAABksQd0IAAMBrnRB3QgAAgNHvEHdCAABAN0IRd0IAAACdlBF3QgAAwALnEXdCAACAaDkSd0IAAEDOixJ3QgAAADTeEndCAADAmTATd0IAAID/ghN3QgAAQGXVE3dCAAAAyycUd0IAAMAwehR3QgAAgJbMFHdCAABA/B4Vd0IAAABicRV3QgAAwMfDFXdCAACALRYWd0IAAECTaBZ3QgAAAPm6FndC\",\"dtype\":\"float64\",\"shape\":[60]},\"y\":{\"__ndarray__\":\"AAAAAAAAAAAAAAAAAAAAAAAAAAAAAAAAAAAAAAAAAAAAAAAAAAAAAAAAAAAAAAAAAAAAAAAAAAAAAAAAAAAAAAAAAAAAAAAAAAAAAAAAAAAAAAAAAAAAAAAAAAAAAAAAAAAAAAAAAAAAAAAAAAAAAAAAAAAAAAAAAAAAAAAAAAAAAAAAAAAAQAAAQEAAAABAAAAAQAAAgD8AAABAAACAPwAAAEAAAABAAABAQAAAQEAAAKBAAABAQAAAAEEAAOBAAACAQAAAgD8AAKBAAADAQAAAQEAAAEBBAAAQQQAAIEEAAMBAAACAQAAAoEAAAMBA\",\"dtype\":\"float32\",\"shape\":[60]}},\"selected\":{\"id\":\"1961\"},\"selection_policy\":{\"id\":\"1960\"}},\"id\":\"1928\",\"type\":\"ColumnDataSource\"},{\"attributes\":{\"overlay\":{\"id\":\"1851\"}},\"id\":\"1846\",\"type\":\"BoxZoomTool\"},{\"attributes\":{\"data_source\":{\"id\":\"2088\"},\"glyph\":{\"id\":\"2090\"},\"hover_glyph\":null,\"muted_glyph\":null,\"name\":\"_Fit_deaths_A15-A34\",\"nonselection_glyph\":{\"id\":\"2091\"},\"selection_glyph\":null,\"view\":{\"id\":\"2093\"}},\"id\":\"2092\",\"type\":\"GlyphRenderer\"},{\"attributes\":{\"source\":{\"id\":\"2004\"}},\"id\":\"2009\",\"type\":\"CDSView\"},{\"attributes\":{\"line_alpha\":0.8,\"line_color\":\"#1b9e77\",\"line_width\":1.5,\"x\":{\"field\":\"x\"},\"y\":{\"field\":\"y\"}},\"id\":\"2090\",\"type\":\"Line\"},{\"attributes\":{\"data_source\":{\"id\":\"1965\"},\"glyph\":{\"id\":\"1967\"},\"hover_glyph\":null,\"muted_glyph\":null,\"name\":\"_measured_deaths_A60-A79\",\"nonselection_glyph\":{\"id\":\"1968\"},\"selection_glyph\":null,\"view\":{\"id\":\"1970\"}},\"id\":\"1969\",\"type\":\"GlyphRenderer\"},{\"attributes\":{\"num_minor_ticks\":5,\"tickers\":[{\"id\":\"1875\"},{\"id\":\"1876\"},{\"id\":\"1877\"},{\"id\":\"1878\"},{\"id\":\"1879\"},{\"id\":\"1880\"},{\"id\":\"1881\"},{\"id\":\"1882\"},{\"id\":\"1883\"},{\"id\":\"1884\"},{\"id\":\"1885\"},{\"id\":\"1886\"}]},\"id\":\"1837\",\"type\":\"DatetimeTicker\"},{\"attributes\":{\"fill_alpha\":{\"value\":0.1},\"fill_color\":{\"value\":\"#e7298a\"},\"line_alpha\":{\"value\":0.1},\"line_color\":{\"value\":\"#e7298a\"},\"line_width\":{\"value\":1.5},\"x\":{\"field\":\"x\"},\"y\":{\"field\":\"y\"}},\"id\":\"1968\",\"type\":\"Circle\"},{\"attributes\":{\"source\":{\"id\":\"1859\"}},\"id\":\"1864\",\"type\":\"CDSView\"},{\"attributes\":{},\"id\":\"1886\",\"type\":\"YearsTicker\"},{\"attributes\":{\"fill_alpha\":{\"value\":0.9},\"fill_color\":{\"value\":\"#d95f02\"},\"line_alpha\":{\"value\":0.9},\"line_color\":{\"value\":\"#d95f02\"},\"line_width\":{\"value\":1.5},\"x\":{\"field\":\"x\"},\"y\":{\"field\":\"y\"}},\"id\":\"1895\",\"type\":\"Circle\"},{\"attributes\":{\"fill_alpha\":{\"value\":0.1},\"fill_color\":{\"value\":\"#7570b3\"},\"line_alpha\":{\"value\":0.1},\"line_color\":{\"value\":\"#7570b3\"},\"top\":{\"field\":\"y\"},\"width\":{\"value\":51840000.0},\"x\":{\"field\":\"x\"}},\"id\":\"1936\",\"type\":\"VBar\"},{\"attributes\":{},\"id\":\"1888\",\"type\":\"Selection\"},{\"attributes\":{\"axis_label\":\"Population\",\"formatter\":{\"id\":\"1872\"},\"ticker\":{\"id\":\"1841\"}},\"id\":\"1840\",\"type\":\"LinearAxis\"},{\"attributes\":{},\"id\":\"1848\",\"type\":\"SaveTool\"},{\"attributes\":{\"active_drag\":\"auto\",\"active_inspect\":\"auto\",\"active_multi\":null,\"active_scroll\":\"auto\",\"active_tap\":\"auto\",\"tools\":[{\"id\":\"1844\"},{\"id\":\"1845\"},{\"id\":\"1846\"},{\"id\":\"1847\"},{\"id\":\"1848\"},{\"id\":\"1849\"}]},\"id\":\"1852\",\"type\":\"Toolbar\"},{\"attributes\":{},\"id\":\"1960\",\"type\":\"UnionRenderers\"},{\"attributes\":{\"mantissas\":[1,2,5],\"max_interval\":500.0,\"num_minor_ticks\":0},\"id\":\"1875\",\"type\":\"AdaptiveTicker\"},{\"attributes\":{},\"id\":\"1961\",\"type\":\"Selection\"},{\"attributes\":{\"source\":{\"id\":\"1893\"}},\"id\":\"1903\",\"type\":\"CDSView\"},{\"attributes\":{\"source\":{\"id\":\"1928\"}},\"id\":\"1933\",\"type\":\"CDSView\"},{\"attributes\":{\"source\":{\"id\":\"2252\"}},\"id\":\"2257\",\"type\":\"CDSView\"},{\"attributes\":{},\"id\":\"2203\",\"type\":\"UnionRenderers\"},{\"attributes\":{},\"id\":\"2294\",\"type\":\"Selection\"},{\"attributes\":{\"line_alpha\":0.1,\"line_color\":\"#1b9e77\",\"line_width\":1.5,\"x\":{\"field\":\"x\"},\"y\":{\"field\":\"y\"}},\"id\":\"2301\",\"type\":\"Line\"},{\"attributes\":{\"line_alpha\":0.1,\"line_color\":\"#7570b3\",\"line_width\":1.5,\"x\":{\"field\":\"x\"},\"y\":{\"field\":\"y\"}},\"id\":\"2169\",\"type\":\"Line\"},{\"attributes\":{\"data_source\":{\"id\":\"2252\"},\"glyph\":{\"id\":\"2254\"},\"hover_glyph\":null,\"muted_glyph\":null,\"name\":\"_Fit_deaths_A80+\",\"nonselection_glyph\":{\"id\":\"2255\"},\"selection_glyph\":null,\"view\":{\"id\":\"2257\"}},\"id\":\"2256\",\"type\":\"GlyphRenderer\"},{\"attributes\":{\"months\":[0,4,8]},\"id\":\"1884\",\"type\":\"MonthsTicker\"},{\"attributes\":{\"fill_alpha\":{\"value\":0.1},\"fill_color\":{\"value\":\"#1b9e77\"},\"line_alpha\":{\"value\":0.1},\"line_color\":{\"value\":\"#1b9e77\"},\"top\":{\"field\":\"y\"},\"width\":{\"value\":51840000.0},\"x\":{\"field\":\"x\"}},\"id\":\"2053\",\"type\":\"VBar\"},{\"attributes\":{\"days\":[1,2,3,4,5,6,7,8,9,10,11,12,13,14,15,16,17,18,19,20,21,22,23,24,25,26,27,28,29,30,31]},\"id\":\"1878\",\"type\":\"DaysTicker\"},{\"attributes\":{\"data_source\":{\"id\":\"2045\"},\"glyph\":{\"id\":\"2052\"},\"hover_glyph\":null,\"muted_glyph\":null,\"name\":\"_measured_deaths_A00-A04\",\"nonselection_glyph\":{\"id\":\"2053\"},\"selection_glyph\":null,\"view\":{\"id\":\"2055\"}},\"id\":\"2054\",\"type\":\"GlyphRenderer\"},{\"attributes\":{\"fill_alpha\":{\"value\":0.1},\"fill_color\":{\"value\":\"#e7298a\"},\"line_alpha\":{\"value\":0.1},\"line_color\":{\"value\":\"#e7298a\"},\"top\":{\"field\":\"y\"},\"width\":{\"value\":51840000.0},\"x\":{\"field\":\"x\"}},\"id\":\"1973\",\"type\":\"VBar\"},{\"attributes\":{},\"id\":\"1872\",\"type\":\"BasicTickFormatter\"},{\"attributes\":{\"data\":{\"x\":{\"__ndarray__\":\"AADAhb0Dd0IAAIDrDwR3QgAAQFFiBHdCAAAAt7QEd0IAAMAcBwV3QgAAgIJZBXdCAABA6KsFd0IAAABO/gV3QgAAwLNQBndCAACAGaMGd0IAAEB/9QZ3QgAAAOVHB3dCAADASpoHd0IAAICw7Ad3QgAAQBY/CHdCAAAAfJEId0IAAMDh4wh3QgAAgEc2CXdCAABArYgJd0IAAAAT2wl3QgAAwHgtCndCAACA3n8Kd0IAAEBE0gp3QgAAAKokC3dCAADAD3cLd0IAAIB1yQt3QgAAQNsbDHdCAAAAQW4Md0IAAMCmwAx3QgAAgAwTDXdCAABAcmUNd0IAAADYtw13QgAAwD0KDndCAACAo1wOd0IAAEAJrw53QgAAAG8BD3dCAADA1FMPd0IAAIA6pg93QgAAQKD4D3dCAAAABksQd0IAAMBrnRB3QgAAgNHvEHdCAABAN0IRd0IAAACdlBF3QgAAwALnEXdCAACAaDkSd0IAAEDOixJ3QgAAADTeEndCAADAmTATd0IAAID/ghN3QgAAQGXVE3dCAAAAyycUd0IAAMAwehR3QgAAgJbMFHdCAABA/B4Vd0IAAABicRV3QgAAwMfDFXdCAACALRYWd0IAAECTaBZ3QgAAAPm6FndC\",\"dtype\":\"float64\",\"shape\":[60]},\"y\":{\"__ndarray__\":\"AAAAAAAAAAAAAAAAAAAAAAAAAAAAAAAAAAAAAAAAAAAAAAAAAAAAAAAAAAAAAAAAAAAAAAAAAAAAAAAAAAAAAAAAAAAAAAAAAAAAAAAAAAAAAAAAAAAAAAAAgD8AAAAAAAAAAAAAAAAAAABAAACAPwAAAEAAAIA/AAAAQAAAAEAAAKBAAADAQAAAAEAAAOBAAAAAQAAAwEAAAKBAAADgQAAAwEAAAGBBAABgQQAAUEEAAHBBAAAoQgAAUEIAACBCAAA0QgAAPEIAACxCAACYQQAANEIAAIpCAABAQgAAikIAAChCAADoQQAAEEIAAABC\",\"dtype\":\"float32\",\"shape\":[60]}},\"selected\":{\"id\":\"2000\"},\"selection_policy\":{\"id\":\"1999\"}},\"id\":\"1965\",\"type\":\"ColumnDataSource\"},{\"attributes\":{\"fill_alpha\":{\"value\":0.1},\"fill_color\":{\"value\":\"#1b9e77\"},\"line_alpha\":{\"value\":0.1},\"line_color\":{\"value\":\"#1b9e77\"},\"line_width\":{\"value\":1.5},\"x\":{\"field\":\"x\"},\"y\":{\"field\":\"y\"}},\"id\":\"2048\",\"type\":\"Circle\"},{\"attributes\":{\"line_alpha\":0.8,\"line_color\":\"#66a61e\",\"line_width\":1.5,\"x\":{\"field\":\"x\"},\"y\":{\"field\":\"y\"}},\"id\":\"2254\",\"type\":\"Line\"},{\"attributes\":{\"data\":{\"x\":{\"__ndarray__\":\"AADAhb0Dd0IAAIDrDwR3QgAAQFFiBHdCAAAAt7QEd0IAAMAcBwV3QgAAgIJZBXdCAABA6KsFd0IAAABO/gV3QgAAwLNQBndCAACAGaMGd0IAAEB/9QZ3QgAAAOVHB3dCAADASpoHd0IAAICw7Ad3QgAAQBY/CHdCAAAAfJEId0IAAMDh4wh3QgAAgEc2CXdCAABArYgJd0IAAAAT2wl3QgAAwHgtCndCAACA3n8Kd0IAAEBE0gp3QgAAAKokC3dCAADAD3cLd0IAAIB1yQt3QgAAQNsbDHdCAAAAQW4Md0IAAMCmwAx3QgAAgAwTDXdCAABAcmUNd0IAAADYtw13QgAAwD0KDndCAACAo1wOd0IAAEAJrw53QgAAAG8BD3dCAADA1FMPd0IAAIA6pg93QgAAQKD4D3dCAAAABksQd0IAAMBrnRB3QgAAgNHvEHdCAABAN0IRd0IAAACdlBF3QgAAwALnEXdCAACAaDkSd0IAAEDOixJ3QgAAADTeEndCAADAmTATd0IAAID/ghN3QgAAQGXVE3dCAAAAyycUd0IAAMAwehR3QgAAgJbMFHdCAABA/B4Vd0IAAABicRV3QgAAwMfDFXdCAACALRYWd0IAAECTaBZ3QgAAAPm6FndC\",\"dtype\":\"float64\",\"shape\":[60]},\"y\":{\"__ndarray__\":\"AAAAAPmVpzNV74g0KAEENeYJWjVK9601X3IHNupqTTZgC5g2IX7cNpAKHTecDVw3MMmXNzNGzjfVJAo4R3M2OA6ybTgfyZg4guHBOA/w8jjSVxY5eN83OSxMXjnu4oQ5uy6dOVIGuDm5W9U5tRf1OSGOCzrAox06iLswOrnFRDqutVk6K4NvOscVgzo+2Y462s+XOlZJnzpAW6k6Ceq1Ol7Wwjos3886A5jdOmVw7Dq5evw6Sc8GO43rDztanxk7H/wjOzkPLzvd4jo7IIJHO7D6VDsFXGM7RrZyOxGNgTumTIo7ZaOTO5KbnTsVQKg7\",\"dtype\":\"float32\",\"shape\":[60]}},\"selected\":{\"id\":\"2294\"},\"selection_policy\":{\"id\":\"2293\"}},\"id\":\"2208\",\"type\":\"ColumnDataSource\"},{\"attributes\":{\"data_source\":{\"id\":\"1965\"},\"glyph\":{\"id\":\"1972\"},\"hover_glyph\":null,\"muted_glyph\":null,\"name\":\"_measured_deaths_A60-A79\",\"nonselection_glyph\":{\"id\":\"1973\"},\"selection_glyph\":null,\"view\":{\"id\":\"1975\"}},\"id\":\"1974\",\"type\":\"GlyphRenderer\"},{\"attributes\":{\"fill_alpha\":{\"value\":0.9},\"fill_color\":{\"value\":\"#1b9e77\"},\"line_alpha\":{\"value\":0.9},\"line_color\":{\"value\":\"#1b9e77\"},\"line_width\":{\"value\":1.5},\"x\":{\"field\":\"x\"},\"y\":{\"field\":\"y\"}},\"id\":\"2047\",\"type\":\"Circle\"},{\"attributes\":{\"source\":{\"id\":\"1859\"}},\"id\":\"1869\",\"type\":\"CDSView\"},{\"attributes\":{\"source\":{\"id\":\"2045\"}},\"id\":\"2055\",\"type\":\"CDSView\"},{\"attributes\":{\"data_source\":{\"id\":\"2208\"},\"glyph\":{\"id\":\"2210\"},\"hover_glyph\":null,\"muted_glyph\":null,\"name\":\"_Fit_deaths_A60-A79\",\"nonselection_glyph\":{\"id\":\"2211\"},\"selection_glyph\":null,\"view\":{\"id\":\"2213\"}},\"id\":\"2212\",\"type\":\"GlyphRenderer\"},{\"attributes\":{\"line_alpha\":0.1,\"line_color\":\"#d95f02\",\"line_width\":1.5,\"x\":{\"field\":\"x\"},\"y\":{\"field\":\"y\"}},\"id\":\"2129\",\"type\":\"Line\"},{\"attributes\":{\"label\":{\"value\":\"Fit_deaths_A35-A59\"},\"renderers\":[{\"id\":\"2170\"}]},\"id\":\"2207\",\"type\":\"LegendItem\"},{\"attributes\":{\"source\":{\"id\":\"2088\"}},\"id\":\"2093\",\"type\":\"CDSView\"},{\"attributes\":{\"days\":[1,4,7,10,13,16,19,22,25,28]},\"id\":\"1879\",\"type\":\"DaysTicker\"},{\"attributes\":{\"line_alpha\":0.8,\"line_color\":\"#d95f02\",\"line_width\":1.5,\"x\":{\"field\":\"x\"},\"y\":{\"field\":\"y\"}},\"id\":\"2128\",\"type\":\"Line\"},{\"attributes\":{\"line_alpha\":0.8,\"line_color\":\"#1b9e77\",\"line_width\":1.5,\"x\":{\"field\":\"x\"},\"y\":{\"field\":\"y\"}},\"id\":\"2300\",\"type\":\"Line\"},{\"attributes\":{\"months\":[0,6]},\"id\":\"1885\",\"type\":\"MonthsTicker\"},{\"attributes\":{},\"id\":\"2041\",\"type\":\"Selection\"},{\"attributes\":{},\"id\":\"2247\",\"type\":\"UnionRenderers\"},{\"attributes\":{\"label\":{\"value\":\"Fit_deaths_A00-A04\"},\"renderers\":[{\"id\":\"2302\"}]},\"id\":\"2345\",\"type\":\"LegendItem\"},{\"attributes\":{},\"id\":\"1874\",\"type\":\"DatetimeTickFormatter\"},{\"attributes\":{\"data\":{\"x\":{\"__ndarray__\":\"AADAhb0Dd0IAAIDrDwR3QgAAQFFiBHdCAAAAt7QEd0IAAMAcBwV3QgAAgIJZBXdCAABA6KsFd0IAAABO/gV3QgAAwLNQBndCAACAGaMGd0IAAEB/9QZ3QgAAAOVHB3dCAADASpoHd0IAAICw7Ad3QgAAQBY/CHdCAAAAfJEId0IAAMDh4wh3QgAAgEc2CXdCAABArYgJd0IAAAAT2wl3QgAAwHgtCndCAACA3n8Kd0IAAEBE0gp3QgAAAKokC3dCAADAD3cLd0IAAIB1yQt3QgAAQNsbDHdCAAAAQW4Md0IAAMCmwAx3QgAAgAwTDXdCAABAcmUNd0IAAADYtw13QgAAwD0KDndCAACAo1wOd0IAAEAJrw53QgAAAG8BD3dCAADA1FMPd0IAAIA6pg93QgAAQKD4D3dCAAAABksQd0IAAMBrnRB3QgAAgNHvEHdCAABAN0IRd0IAAACdlBF3QgAAwALnEXdCAACAaDkSd0IAAEDOixJ3QgAAADTeEndCAADAmTATd0IAAID/ghN3QgAAQGXVE3dCAAAAyycUd0IAAMAwehR3QgAAgJbMFHdCAABA/B4Vd0IAAABicRV3QgAAwMfDFXdCAACALRYWd0IAAECTaBZ3QgAAAPm6FndC\",\"dtype\":\"float64\",\"shape\":[60]},\"y\":{\"__ndarray__\":\"AAAAAHPKDDPJFOYzDcxdNEMttzSeJhI1sJRjNeCSrDX3d/81DT05NqXugzaG3rg2wwj/NhxLLTfTHGg3VUeZN9mwxzdkWwA4seEiOEcYTDglnHw4TXmaODrBujhqR984CQ0EOfKZGjmtPjM5u+dNOeR7ajlZb4Q5oXmUOZNPpTmJ5rY5nTfJOZhA3DmJBPA5ABT/OY3RBTpLRw46FNQYOnWvIzrBoi468Ck6OrSiRjp+HFQ6yoJiOojRcTpzD4E6FsSJOuYRkzp5AZ06HZynOlDtsjoRAr868efLOvas2Tr+X+g6BhH4OqNoBDuRWQ07\",\"dtype\":\"float32\",\"shape\":[60]}},\"selected\":{\"id\":\"2342\"},\"selection_policy\":{\"id\":\"2341\"}},\"id\":\"2252\",\"type\":\"ColumnDataSource\"},{\"attributes\":{\"line_alpha\":0.8,\"line_color\":\"#7570b3\",\"line_width\":1.5,\"x\":{\"field\":\"x\"},\"y\":{\"field\":\"y\"}},\"id\":\"2168\",\"type\":\"Line\"},{\"attributes\":{},\"id\":\"2293\",\"type\":\"UnionRenderers\"},{\"attributes\":{\"data_source\":{\"id\":\"2045\"},\"glyph\":{\"id\":\"2047\"},\"hover_glyph\":null,\"muted_glyph\":null,\"name\":\"_measured_deaths_A00-A04\",\"nonselection_glyph\":{\"id\":\"2048\"},\"selection_glyph\":null,\"view\":{\"id\":\"2050\"}},\"id\":\"2049\",\"type\":\"GlyphRenderer\"},{\"attributes\":{},\"id\":\"2204\",\"type\":\"Selection\"},{\"attributes\":{\"source\":{\"id\":\"1965\"}},\"id\":\"1970\",\"type\":\"CDSView\"},{\"attributes\":{\"fill_alpha\":{\"value\":0.6},\"fill_color\":{\"value\":\"#7570b3\"},\"line_alpha\":{\"value\":0.6},\"line_color\":{\"value\":\"#7570b3\"},\"top\":{\"field\":\"y\"},\"width\":{\"value\":51840000.0},\"x\":{\"field\":\"x\"}},\"id\":\"1935\",\"type\":\"VBar\"},{\"attributes\":{\"data\":{\"x\":{\"__ndarray__\":\"AADAhb0Dd0IAAIDrDwR3QgAAQFFiBHdCAAAAt7QEd0IAAMAcBwV3QgAAgIJZBXdCAABA6KsFd0IAAABO/gV3QgAAwLNQBndCAACAGaMGd0IAAEB/9QZ3QgAAAOVHB3dCAADASpoHd0IAAICw7Ad3QgAAQBY/CHdCAAAAfJEId0IAAMDh4wh3QgAAgEc2CXdCAABArYgJd0IAAAAT2wl3QgAAwHgtCndCAACA3n8Kd0IAAEBE0gp3QgAAAKokC3dCAADAD3cLd0IAAIB1yQt3QgAAQNsbDHdCAAAAQW4Md0IAAMCmwAx3QgAAgAwTDXdCAABAcmUNd0IAAADYtw13QgAAwD0KDndCAACAo1wOd0IAAEAJrw53QgAAAG8BD3dCAADA1FMPd0IAAIA6pg93QgAAQKD4D3dCAAAABksQd0IAAMBrnRB3QgAAgNHvEHdCAABAN0IRd0IAAACdlBF3QgAAwALnEXdCAACAaDkSd0IAAEDOixJ3QgAAADTeEndCAADAmTATd0IAAID/ghN3QgAAQGXVE3dCAAAAyycUd0IAAMAwehR3QgAAgJbMFHdCAABA/B4Vd0IAAABicRV3QgAAwMfDFXdCAACALRYWd0IAAECTaBZ3QgAAAPm6FndC\",\"dtype\":\"float64\",\"shape\":[60]},\"y\":{\"__ndarray__\":\"AAAAAHC4zTFFGKgy4woiM7XThTNrjdUznkQmNDgpfDSBpLo0TlUHNcbGQDU+EIc1QVO6NWk2/TU1lCk2p/dfNlXkkTZsjbs2wf/tNgUcFTfXjTg3ubZhN+VwiDcLIKM3L/PAN27m4TdP9AI4nm4WOLlPKzjWgkE42PJYOHKMcTgJoIU41AGTOPvpoDi3Wq84e1u6OGWIwzjx5M84R0/fOHQs7ziRLP84ZgIIOf8eETli9xo5kHwlOZCrMDmYlDw5Ck1JOU/lVjnxaWU5iOh0OfC4gjl8jIs50fiUOS4Inzlsxak5QDy1OTt5wTnKic45\",\"dtype\":\"float32\",\"shape\":[60]}},\"selected\":{\"id\":\"2204\"},\"selection_policy\":{\"id\":\"2203\"}},\"id\":\"2126\",\"type\":\"ColumnDataSource\"},{\"attributes\":{\"label\":{\"value\":\"Fit_deaths_A60-A79\"},\"renderers\":[{\"id\":\"2212\"}]},\"id\":\"2251\",\"type\":\"LegendItem\"},{\"attributes\":{\"source\":{\"id\":\"2166\"}},\"id\":\"2171\",\"type\":\"CDSView\"},{\"attributes\":{\"months\":[0,1,2,3,4,5,6,7,8,9,10,11]},\"id\":\"1882\",\"type\":\"MonthsTicker\"},{\"attributes\":{\"source\":{\"id\":\"2045\"}},\"id\":\"2050\",\"type\":\"CDSView\"},{\"attributes\":{\"days\":[1,8,15,22]},\"id\":\"1880\",\"type\":\"DaysTicker\"},{\"attributes\":{\"data\":{\"x\":{\"__ndarray__\":\"AADAhb0Dd0IAAIDrDwR3QgAAQFFiBHdCAAAAt7QEd0IAAMAcBwV3QgAAgIJZBXdCAABA6KsFd0IAAABO/gV3QgAAwLNQBndCAACAGaMGd0IAAEB/9QZ3QgAAAOVHB3dCAADASpoHd0IAAICw7Ad3QgAAQBY/CHdCAAAAfJEId0IAAMDh4wh3QgAAgEc2CXdCAABArYgJd0IAAAAT2wl3QgAAwHgtCndCAACA3n8Kd0IAAEBE0gp3QgAAAKokC3dCAADAD3cLd0IAAIB1yQt3QgAAQNsbDHdCAAAAQW4Md0IAAMCmwAx3QgAAgAwTDXdCAABAcmUNd0IAAADYtw13QgAAwD0KDndCAACAo1wOd0IAAEAJrw53QgAAAG8BD3dCAADA1FMPd0IAAIA6pg93QgAAQKD4D3dCAAAABksQd0IAAMBrnRB3QgAAgNHvEHdCAABAN0IRd0IAAACdlBF3QgAAwALnEXdCAACAaDkSd0IAAEDOixJ3QgAAADTeEndCAADAmTATd0IAAID/ghN3QgAAQGXVE3dCAAAAyycUd0IAAMAwehR3QgAAgJbMFHdCAABA/B4Vd0IAAABicRV3QgAAwMfDFXdCAACALRYWd0IAAECTaBZ3QgAAAPm6FndC\",\"dtype\":\"float64\",\"shape\":[60]},\"y\":{\"__ndarray__\":\"AAAAAOrfSzErliYysJagMlKgBDPoolMzuMakMwbm+TPN9zg0dB6GNPsLvzQE2gU1SKc4NcvwejWyDqg1OfXdNTuVEDaj3jk2F91rNofFkzbv5bY2SLDfNoE3BzdcqSE3/Tc/N47fXzeEx4E3FxWVNzzGqTdcxr83igDXN6Nh7zcdbQQ4K7AROF94Hzjyxy04cK84OEjHQThvB044XE5dOBoHbTh34nw4AMqGOKzRjzhzk5k4dQCkOMYVrzhz47o4rn7HOLr31DgCW+M4BbbyOLGMATn4Swo5qaITOeuaHTmAPyg5AJwzOeC8Pzlur0w5\",\"dtype\":\"float32\",\"shape\":[60]}},\"selected\":{\"id\":\"2162\"},\"selection_policy\":{\"id\":\"2161\"}},\"id\":\"2088\",\"type\":\"ColumnDataSource\"},{\"attributes\":{\"line_alpha\":0.8,\"line_color\":\"#e7298a\",\"line_width\":1.5,\"x\":{\"field\":\"x\"},\"y\":{\"field\":\"y\"}},\"id\":\"2210\",\"type\":\"Line\"},{\"attributes\":{\"data_source\":{\"id\":\"2166\"},\"glyph\":{\"id\":\"2168\"},\"hover_glyph\":null,\"muted_glyph\":null,\"name\":\"_Fit_deaths_A35-A59\",\"nonselection_glyph\":{\"id\":\"2169\"},\"selection_glyph\":null,\"view\":{\"id\":\"2171\"}},\"id\":\"2170\",\"type\":\"GlyphRenderer\"},{\"attributes\":{\"source\":{\"id\":\"2208\"}},\"id\":\"2213\",\"type\":\"CDSView\"},{\"attributes\":{},\"id\":\"2428\",\"type\":\"UnionRenderers\"},{\"attributes\":{\"label\":{\"value\":\"measured_deaths_A00-A04\"},\"renderers\":[{\"id\":\"2054\"}]},\"id\":\"2087\",\"type\":\"LegendItem\"},{\"attributes\":{},\"id\":\"2083\",\"type\":\"UnionRenderers\"},{\"attributes\":{\"data\":{\"x\":{\"__ndarray__\":\"AADAhb0Dd0IAAIDrDwR3QgAAQFFiBHdCAAAAt7QEd0IAAMAcBwV3QgAAgIJZBXdCAABA6KsFd0IAAABO/gV3QgAAwLNQBndCAACAGaMGd0IAAEB/9QZ3QgAAAOVHB3dCAADASpoHd0IAAICw7Ad3QgAAQBY/CHdCAAAAfJEId0IAAMDh4wh3QgAAgEc2CXdCAABArYgJd0IAAAAT2wl3QgAAwHgtCndCAACA3n8Kd0IAAEBE0gp3QgAAAKokC3dCAADAD3cLd0IAAIB1yQt3QgAAQNsbDHdCAAAAQW4Md0IAAMCmwAx3QgAAgAwTDXdCAABAcmUNd0IAAADYtw13QgAAwD0KDndCAACAo1wOd0IAAEAJrw53QgAAAG8BD3dCAADA1FMPd0IAAIA6pg93QgAAQKD4D3dCAAAABksQd0IAAMBrnRB3QgAAgNHvEHdCAABAN0IRd0IAAACdlBF3QgAAwALnEXdCAACAaDkSd0IAAEDOixJ3QgAAADTeEndCAADAmTATd0IAAID/ghN3QgAAQGXVE3dCAAAAyycUd0IAAMAwehR3QgAAgJbMFHdCAABA/B4Vd0IAAABicRV3QgAAwMfDFXdCAACALRYWd0IAAECTaBZ3QgAAAPm6FndC\",\"dtype\":\"float64\",\"shape\":[60]},\"y\":{\"__ndarray__\":\"AAAAAP+HrzNWbY80UkMKNUVgZDW+NrY1T94NNhkoVzbEQJ82SfLmNpp8JDdxfGY3cvueN8oN2DeDsRA4txk/OAP3eDiCB6A4rRLLOKN0/jiReB05LZdAOT3WaDnNL4s5faKkOd+/wDlKed85OVsAOu8rEjoNHSU6kRw5Ov4ZTjoPCGQ6LN56OshMiToFn5U6awKfOp/WpjrDYrE69om+OiYTzDolutk6iBnoOhmm9zqOOQQ7fTMNO1W+Fjvk5yA7b8IrO/NbNzsiv0M7l/dQO6YTXzuFI247Gjh+O3Kxhzs025A7TaOaO3gUpTsoOrA7\",\"dtype\":\"float32\",\"shape\":[60]}},\"selected\":{\"id\":\"2248\"},\"selection_policy\":{\"id\":\"2247\"}},\"id\":\"2166\",\"type\":\"ColumnDataSource\"},{\"attributes\":{\"source\":{\"id\":\"2298\"}},\"id\":\"2303\",\"type\":\"CDSView\"},{\"attributes\":{\"data_source\":{\"id\":\"1859\"},\"glyph\":{\"id\":\"1866\"},\"hover_glyph\":null,\"muted_glyph\":null,\"name\":\"_measured_deaths_A15-A34\",\"nonselection_glyph\":{\"id\":\"1867\"},\"selection_glyph\":null,\"view\":{\"id\":\"1869\"}},\"id\":\"1868\",\"type\":\"GlyphRenderer\"},{\"attributes\":{},\"id\":\"2248\",\"type\":\"Selection\"},{\"attributes\":{\"months\":[0,2,4,6,8,10]},\"id\":\"1883\",\"type\":\"MonthsTicker\"},{\"attributes\":{\"label\":{\"value\":\"Fit_deaths_A15-A34\"},\"renderers\":[{\"id\":\"2092\"}]},\"id\":\"2125\",\"type\":\"LegendItem\"},{\"attributes\":{},\"id\":\"2084\",\"type\":\"Selection\"},{\"attributes\":{},\"id\":\"2161\",\"type\":\"UnionRenderers\"},{\"attributes\":{\"line_alpha\":0.1,\"line_color\":\"#e7298a\",\"line_width\":1.5,\"x\":{\"field\":\"x\"},\"y\":{\"field\":\"y\"}},\"id\":\"2211\",\"type\":\"Line\"},{\"attributes\":{\"line_alpha\":0.1,\"line_color\":\"#66a61e\",\"line_width\":1.5,\"x\":{\"field\":\"x\"},\"y\":{\"field\":\"y\"}},\"id\":\"2255\",\"type\":\"Line\"},{\"attributes\":{\"days\":[1,15]},\"id\":\"1881\",\"type\":\"DaysTicker\"},{\"attributes\":{\"data_source\":{\"id\":\"2298\"},\"glyph\":{\"id\":\"2300\"},\"hover_glyph\":null,\"muted_glyph\":null,\"name\":\"_Fit_deaths_A00-A04\",\"nonselection_glyph\":{\"id\":\"2301\"},\"selection_glyph\":null,\"view\":{\"id\":\"2303\"}},\"id\":\"2302\",\"type\":\"GlyphRenderer\"},{\"attributes\":{\"fill_alpha\":{\"value\":0.1},\"fill_color\":{\"value\":\"#1b9e77\"},\"line_alpha\":{\"value\":0.1},\"line_color\":{\"value\":\"#1b9e77\"},\"top\":{\"field\":\"y\"},\"width\":{\"value\":51840000.0},\"x\":{\"field\":\"x\"}},\"id\":\"1867\",\"type\":\"VBar\"},{\"attributes\":{\"base\":24,\"mantissas\":[1,2,4,6,8,12],\"max_interval\":43200000.0,\"min_interval\":3600000.0,\"num_minor_ticks\":0},\"id\":\"1877\",\"type\":\"AdaptiveTicker\"},{\"attributes\":{},\"id\":\"2341\",\"type\":\"UnionRenderers\"},{\"attributes\":{\"label\":{\"value\":\"measured_deaths_A60-A79\"},\"renderers\":[{\"id\":\"1974\"}]},\"id\":\"2003\",\"type\":\"LegendItem\"},{\"attributes\":{},\"id\":\"2040\",\"type\":\"UnionRenderers\"},{\"attributes\":{\"label\":{\"value\":\"Fit_deaths_A05-A14\"},\"renderers\":[{\"id\":\"2130\"}]},\"id\":\"2165\",\"type\":\"LegendItem\"},{\"attributes\":{\"fill_alpha\":{\"value\":0.6},\"fill_color\":{\"value\":\"#e7298a\"},\"line_alpha\":{\"value\":0.6},\"line_color\":{\"value\":\"#e7298a\"},\"top\":{\"field\":\"y\"},\"width\":{\"value\":51840000.0},\"x\":{\"field\":\"x\"}},\"id\":\"1972\",\"type\":\"VBar\"},{\"attributes\":{\"fill_alpha\":{\"value\":0.6},\"fill_color\":{\"value\":\"#1b9e77\"},\"line_alpha\":{\"value\":0.6},\"line_color\":{\"value\":\"#1b9e77\"},\"top\":{\"field\":\"y\"},\"width\":{\"value\":51840000.0},\"x\":{\"field\":\"x\"}},\"id\":\"2052\",\"type\":\"VBar\"},{\"attributes\":{\"source\":{\"id\":\"2126\"}},\"id\":\"2131\",\"type\":\"CDSView\"},{\"attributes\":{\"label\":{\"value\":\"Fit_deaths_A80+\"},\"renderers\":[{\"id\":\"2256\"}]},\"id\":\"2297\",\"type\":\"LegendItem\"},{\"attributes\":{\"source\":{\"id\":\"1965\"}},\"id\":\"1975\",\"type\":\"CDSView\"},{\"attributes\":{\"base\":60,\"mantissas\":[1,2,5,10,15,20,30],\"max_interval\":1800000.0,\"min_interval\":1000.0,\"num_minor_ticks\":0},\"id\":\"1876\",\"type\":\"AdaptiveTicker\"},{\"attributes\":{},\"id\":\"2429\",\"type\":\"Selection\"},{\"attributes\":{\"data\":{\"x\":{\"__ndarray__\":\"AADAhb0Dd0IAAIDrDwR3QgAAQFFiBHdCAAAAt7QEd0IAAMAcBwV3QgAAgIJZBXdCAABA6KsFd0IAAABO/gV3QgAAwLNQBndCAACAGaMGd0IAAEB/9QZ3QgAAAOVHB3dCAADASpoHd0IAAICw7Ad3QgAAQBY/CHdCAAAAfJEId0IAAMDh4wh3QgAAgEc2CXdCAABArYgJd0IAAAAT2wl3QgAAwHgtCndCAACA3n8Kd0IAAEBE0gp3QgAAAKokC3dCAADAD3cLd0IAAIB1yQt3QgAAQNsbDHdCAAAAQW4Md0IAAMCmwAx3QgAAgAwTDXdCAABAcmUNd0IAAADYtw13QgAAwD0KDndCAACAo1wOd0IAAEAJrw53QgAAAG8BD3dCAADA1FMPd0IAAIA6pg93QgAAQKD4D3dCAAAABksQd0IAAMBrnRB3QgAAgNHvEHdCAABAN0IRd0IAAACdlBF3QgAAwALnEXdCAACAaDkSd0IAAEDOixJ3QgAAADTeEndCAADAmTATd0IAAID/ghN3QgAAQGXVE3dCAAAAyycUd0IAAMAwehR3QgAAgJbMFHdCAABA/B4Vd0IAAABicRV3QgAAwMfDFXdCAACALRYWd0IAAECTaBZ3QgAAAPm6FndC\",\"dtype\":\"float64\",\"shape\":[60]},\"y\":{\"__ndarray__\":\"AAAAAOG9ETIHLO4yuJhlM0SevTNMShc0a5VrNG2ksjTgOQQ1ncA/NVSSiDXEXr81UQAENiJjMzZZRnA2L6ueNoK2zjbk3gQ3/ZsoN5dFUzcZv4I36OefN29SwTdtIec3y7EIOLMJIDhIjDk4WCVVOMW6cjiPF4k4P7KZOL8fqzgPVb04B0vQOF//4zhBdfg4JQYEOTmGCjkiSBM55DMeOQRxKTnlxjQ53bVAOeieTTkEkls583lqOYRSejlTmYU5V5yOOes9mDnzhqI5EIGtOSg4uTmuucU5sBPTOa9U4TkQjPA5MWUAOr0QCTorUhI6\",\"dtype\":\"float32\",\"shape\":[60]}},\"selected\":{\"id\":\"2429\"},\"selection_policy\":{\"id\":\"2428\"}},\"id\":\"2298\",\"type\":\"ColumnDataSource\"},{\"attributes\":{},\"id\":\"2342\",\"type\":\"Selection\"},{\"attributes\":{},\"id\":\"2162\",\"type\":\"Selection\"},{\"attributes\":{\"data_source\":{\"id\":\"2126\"},\"glyph\":{\"id\":\"2128\"},\"hover_glyph\":null,\"muted_glyph\":null,\"name\":\"_Fit_deaths_A05-A14\",\"nonselection_glyph\":{\"id\":\"2129\"},\"selection_glyph\":null,\"view\":{\"id\":\"2131\"}},\"id\":\"2130\",\"type\":\"GlyphRenderer\"}],\"root_ids\":[\"1825\"]},\"title\":\"Bokeh Application\",\"version\":\"2.0.2\"}};\n",
       "  var render_items = [{\"docid\":\"9f1de948-40b1-4b35-841b-7f975990c1c0\",\"notebook_comms_target\":\"2432\",\"root_ids\":[\"1825\"],\"roots\":{\"1825\":\"f2a4c394-3076-4627-8508-5366c94d46e0\"}}];\n",
       "  root.Bokeh.embed.embed_items_notebook(docs_json, render_items);\n",
       "\n",
       "  }\n",
       "  if (root.Bokeh !== undefined) {\n",
       "    embed_document(root);\n",
       "  } else {\n",
       "    var attempts = 0;\n",
       "    var timer = setInterval(function(root) {\n",
       "      if (root.Bokeh !== undefined) {\n",
       "        clearInterval(timer);\n",
       "        embed_document(root);\n",
       "      } else {\n",
       "        attempts++;\n",
       "        if (attempts > 100) {\n",
       "          clearInterval(timer);\n",
       "          console.log(\"Bokeh: ERROR: Unable to run BokehJS code because BokehJS library is missing\");\n",
       "        }\n",
       "      }\n",
       "    }, 10, root)\n",
       "  }\n",
       "})(window);"
      ],
      "application/vnd.bokehjs_exec.v0+json": ""
     },
     "metadata": {
      "application/vnd.bokehjs_exec.v0+json": {
       "id": "1825"
      }
     },
     "output_type": "display_data"
    },
    {
     "data": {
      "text/html": [
       "\n",
       "\n",
       "\n",
       "\n",
       "\n",
       "\n",
       "  <div class=\"bk-root\" id=\"15dd32be-7e14-441f-bcb4-c38c0f421c16\" data-root-id=\"2691\"></div>\n"
      ]
     },
     "metadata": {},
     "output_type": "display_data"
    },
    {
     "data": {
      "application/javascript": [
       "(function(root) {\n",
       "  function embed_document(root) {\n",
       "    \n",
       "  var docs_json = {\"6cadb06e-2973-4ccd-9788-85071bf444f4\":{\"roots\":{\"references\":[{\"attributes\":{\"background_fill_color\":\"#efefef\",\"below\":[{\"id\":\"2702\"}],\"center\":[{\"id\":\"2705\"},{\"id\":\"2709\"},{\"id\":\"2750\"}],\"left\":[{\"id\":\"2706\"}],\"name\":\"_figure\",\"plot_height\":400,\"plot_width\":900,\"renderers\":[{\"id\":\"2729\"},{\"id\":\"2756\"},{\"id\":\"2784\"},{\"id\":\"2814\"},{\"id\":\"2846\"},{\"id\":\"2880\"},{\"id\":\"2916\"},{\"id\":\"2954\"},{\"id\":\"2994\"},{\"id\":\"3036\"},{\"id\":\"3080\"},{\"id\":\"3126\"},{\"id\":\"3174\"},{\"id\":\"3224\"},{\"id\":\"3276\"},{\"id\":\"3330\"},{\"id\":\"3386\"},{\"id\":\"3444\"},{\"id\":\"3504\"},{\"id\":\"3566\"},{\"id\":\"3630\"},{\"id\":\"3696\"},{\"id\":\"3764\"},{\"id\":\"3834\"}],\"title\":{\"id\":\"2692\"},\"toolbar\":{\"id\":\"2718\"},\"x_range\":{\"id\":\"2694\"},\"x_scale\":{\"id\":\"2698\"},\"y_range\":{\"id\":\"2696\"},\"y_scale\":{\"id\":\"2700\"}},\"id\":\"2691\",\"subtype\":\"Figure\",\"type\":\"Plot\"},{\"attributes\":{\"line_alpha\":0.1,\"line_color\":\"#1b9e77\",\"line_dash\":[6],\"line_width\":1.5,\"x\":{\"field\":\"x\"},\"y\":{\"field\":\"y\"}},\"id\":\"3173\",\"type\":\"Line\"},{\"attributes\":{\"data_source\":{\"id\":\"2725\"},\"glyph\":{\"id\":\"2727\"},\"hover_glyph\":null,\"muted_glyph\":null,\"name\":\"_Fit_(S_0-S)_A15-A34\",\"nonselection_glyph\":{\"id\":\"2728\"},\"selection_glyph\":null,\"view\":{\"id\":\"2730\"}},\"id\":\"2729\",\"type\":\"GlyphRenderer\"},{\"attributes\":{\"label\":{\"value\":\"Fit_(S_0-S)_A05-A14\"},\"renderers\":[{\"id\":\"2756\"}]},\"id\":\"2779\",\"type\":\"LegendItem\"},{\"attributes\":{},\"id\":\"3435\",\"type\":\"UnionRenderers\"},{\"attributes\":{\"click_policy\":\"hide\",\"items\":[{\"id\":\"2751\"},{\"id\":\"2779\"},{\"id\":\"2809\"},{\"id\":\"2841\"},{\"id\":\"2875\"},{\"id\":\"2911\"},{\"id\":\"2949\"},{\"id\":\"2989\"},{\"id\":\"3031\"},{\"id\":\"3075\"},{\"id\":\"3121\"},{\"id\":\"3169\"},{\"id\":\"3219\"},{\"id\":\"3271\"},{\"id\":\"3325\"},{\"id\":\"3381\"},{\"id\":\"3439\"},{\"id\":\"3499\"},{\"id\":\"3561\"},{\"id\":\"3625\"},{\"id\":\"3691\"},{\"id\":\"3759\"},{\"id\":\"3829\"},{\"id\":\"3901\"}]},\"id\":\"2750\",\"type\":\"Legend\"},{\"attributes\":{\"data\":{\"x\":{\"__ndarray__\":\"AADAhb0Dd0IAAIDrDwR3QgAAQFFiBHdCAAAAt7QEd0IAAMAcBwV3QgAAgIJZBXdCAABA6KsFd0IAAABO/gV3QgAAwLNQBndCAACAGaMGd0IAAEB/9QZ3QgAAAOVHB3dCAADASpoHd0IAAICw7Ad3QgAAQBY/CHdCAAAAfJEId0IAAMDh4wh3QgAAgEc2CXdCAABArYgJd0IAAAAT2wl3QgAAwHgtCndCAACA3n8Kd0IAAEBE0gp3QgAAAKokC3dCAADAD3cLd0IAAIB1yQt3QgAAQNsbDHdCAAAAQW4Md0IAAMCmwAx3QgAAgAwTDXdCAABAcmUNd0IAAADYtw13QgAAwD0KDndCAACAo1wOd0IAAEAJrw53QgAAAG8BD3dCAADA1FMPd0IAAIA6pg93QgAAQKD4D3dCAAAABksQd0IAAMBrnRB3QgAAgNHvEHdCAABAN0IRd0IAAACdlBF3QgAAwALnEXdCAACAaDkSd0IAAEDOixJ3QgAAADTeEndCAADAmTATd0IAAID/ghN3QgAAQGXVE3dCAAAAyycUd0IAAMAwehR3QgAAgJbMFHdCAABA/B4Vd0IAAABicRV3QgAAwMfDFXdCAACALRYWd0IAAECTaBZ3QgAAAPm6FndC\",\"dtype\":\"float64\",\"shape\":[60]},\"y\":{\"__ndarray__\":\"M/ztMXj4oTLbfe4ynGQQM5ujLjMSPFUzQSKAMzFaljNrQa0zjZnFM9bk3zOOKvwzqigNNHkzHTSKTi40YZRANNcZVDRM8Wg0qC9/NMZ2izTxIpg0XqqlNLcbtDSjhsM09vvTNLmN5TQpT/g0ZSoGNT7aEDXKQhw1iHAoNcZwNTW+UUM1mCJSNY7zYTV++nA1481/NSVUiDVw0JE1h9WbNXBVpjU4fLE1xm+9Nfg+yjVH7dc1M4PmNQkS9jUhVwM2qTUMNs2tFTZ2yR82npMqNkEYNjYSZEI2iYRPNuWHXTZ2fWw2oHV8NuzAhjZh2o82\",\"dtype\":\"float32\",\"shape\":[60]}},\"selected\":{\"id\":\"3216\"},\"selection_policy\":{\"id\":\"3215\"}},\"id\":\"3122\",\"type\":\"ColumnDataSource\"},{\"attributes\":{\"line_alpha\":0.1,\"line_color\":\"#66a61e\",\"line_dash\":[6],\"line_width\":1.5,\"x\":{\"field\":\"x\"},\"y\":{\"field\":\"y\"}},\"id\":\"3385\",\"type\":\"Line\"},{\"attributes\":{},\"id\":\"2805\",\"type\":\"UnionRenderers\"},{\"attributes\":{\"source\":{\"id\":\"3382\"}},\"id\":\"3387\",\"type\":\"CDSView\"},{\"attributes\":{\"data_source\":{\"id\":\"3382\"},\"glyph\":{\"id\":\"3384\"},\"hover_glyph\":null,\"muted_glyph\":null,\"name\":\"_Fit_D_A80+\",\"nonselection_glyph\":{\"id\":\"3385\"},\"selection_glyph\":null,\"view\":{\"id\":\"3387\"}},\"id\":\"3386\",\"type\":\"GlyphRenderer\"},{\"attributes\":{\"source\":{\"id\":\"2780\"}},\"id\":\"2785\",\"type\":\"CDSView\"},{\"attributes\":{\"line_alpha\":0.8,\"line_color\":\"#7570b3\",\"line_dash\":[6],\"line_width\":1.5,\"x\":{\"field\":\"x\"},\"y\":{\"field\":\"y\"}},\"id\":\"2782\",\"type\":\"Line\"},{\"attributes\":{\"data\":{\"x\":{\"__ndarray__\":\"AADAhb0Dd0IAAIDrDwR3QgAAQFFiBHdCAAAAt7QEd0IAAMAcBwV3QgAAgIJZBXdCAABA6KsFd0IAAABO/gV3QgAAwLNQBndCAACAGaMGd0IAAEB/9QZ3QgAAAOVHB3dCAADASpoHd0IAAICw7Ad3QgAAQBY/CHdCAAAAfJEId0IAAMDh4wh3QgAAgEc2CXdCAABArYgJd0IAAAAT2wl3QgAAwHgtCndCAACA3n8Kd0IAAEBE0gp3QgAAAKokC3dCAADAD3cLd0IAAIB1yQt3QgAAQNsbDHdCAAAAQW4Md0IAAMCmwAx3QgAAgAwTDXdCAABAcmUNd0IAAADYtw13QgAAwD0KDndCAACAo1wOd0IAAEAJrw53QgAAAG8BD3dCAADA1FMPd0IAAIA6pg93QgAAQKD4D3dCAAAABksQd0IAAMBrnRB3QgAAgNHvEHdCAABAN0IRd0IAAACdlBF3QgAAwALnEXdCAACAaDkSd0IAAEDOixJ3QgAAADTeEndCAADAmTATd0IAAID/ghN3QgAAQGXVE3dCAAAAyycUd0IAAMAwehR3QgAAgJbMFHdCAABA/B4Vd0IAAABicRV3QgAAwMfDFXdCAACALRYWd0IAAECTaBZ3QgAAAPm6FndC\",\"dtype\":\"float64\",\"shape\":[60]},\"y\":{\"__ndarray__\":\"AAAAAAAAAAAAAAAAAAAAAAAAAAAAAAAAAAAAAAAAAAAAAAAAAAAAAAAAAAAAAAAAAAAAAAAAAAAAAAAAAAAAAAAAAAAAAAAAAAAAAAAAAAAAAAAAAAAAAAAAAAAAAAAAAACAMwAAADQAAEA0AACANAAAoDQAAMA0AADgNAAAADUAABA1AAAgNQAAMDUAAEA1AABQNQAAYDUAAHA1AACANQAAiDUAAJg1AACoNQAAuDUAAMg1AADYNQAA6DUAAPg1AAAENgAAEDYAABw2AAAoNgAANDYAAEA2AABQNgAAYDYAAHA2AACANgAAijYAAJQ2\",\"dtype\":\"float32\",\"shape\":[60]}},\"selected\":{\"id\":\"2946\"},\"selection_policy\":{\"id\":\"2945\"}},\"id\":\"2876\",\"type\":\"ColumnDataSource\"},{\"attributes\":{\"source\":{\"id\":\"2950\"}},\"id\":\"2955\",\"type\":\"CDSView\"},{\"attributes\":{\"source\":{\"id\":\"3220\"}},\"id\":\"3225\",\"type\":\"CDSView\"},{\"attributes\":{\"line_alpha\":0.8,\"line_color\":\"#66a61e\",\"line_dash\":[6],\"line_width\":1.5,\"x\":{\"field\":\"x\"},\"y\":{\"field\":\"y\"}},\"id\":\"3384\",\"type\":\"Line\"},{\"attributes\":{},\"id\":\"3268\",\"type\":\"Selection\"},{\"attributes\":{\"data_source\":{\"id\":\"2780\"},\"glyph\":{\"id\":\"2782\"},\"hover_glyph\":null,\"muted_glyph\":null,\"name\":\"_Fit_(S_0-S)_A35-A59\",\"nonselection_glyph\":{\"id\":\"2783\"},\"selection_glyph\":null,\"view\":{\"id\":\"2785\"}},\"id\":\"2784\",\"type\":\"GlyphRenderer\"},{\"attributes\":{},\"id\":\"3436\",\"type\":\"Selection\"},{\"attributes\":{\"label\":{\"value\":\"Fit_D_A15-A34\"},\"renderers\":[{\"id\":\"3174\"}]},\"id\":\"3219\",\"type\":\"LegendItem\"},{\"attributes\":{\"label\":{\"value\":\"Fit_D_A80+\"},\"renderers\":[{\"id\":\"3386\"}]},\"id\":\"3439\",\"type\":\"LegendItem\"},{\"attributes\":{\"source\":{\"id\":\"3272\"}},\"id\":\"3277\",\"type\":\"CDSView\"},{\"attributes\":{\"line_alpha\":0.1,\"line_color\":\"#d95f02\",\"line_dash\":[6],\"line_width\":1.5,\"x\":{\"field\":\"x\"},\"y\":{\"field\":\"y\"}},\"id\":\"2755\",\"type\":\"Line\"},{\"attributes\":{},\"id\":\"2747\",\"type\":\"YearsTicker\"},{\"attributes\":{},\"id\":\"2698\",\"type\":\"LinearScale\"},{\"attributes\":{},\"id\":\"3321\",\"type\":\"UnionRenderers\"},{\"attributes\":{\"bottom_units\":\"screen\",\"fill_alpha\":0.5,\"fill_color\":\"lightgrey\",\"left_units\":\"screen\",\"level\":\"overlay\",\"line_alpha\":1.0,\"line_color\":\"black\",\"line_dash\":[4,4],\"line_width\":2,\"render_mode\":\"css\",\"right_units\":\"screen\",\"top_units\":\"screen\"},\"id\":\"2716\",\"type\":\"BoxAnnotation\"},{\"attributes\":{\"data\":{\"x\":{\"__ndarray__\":\"AADAhb0Dd0IAAIDrDwR3QgAAQFFiBHdCAAAAt7QEd0IAAMAcBwV3QgAAgIJZBXdCAABA6KsFd0IAAABO/gV3QgAAwLNQBndCAACAGaMGd0IAAEB/9QZ3QgAAAOVHB3dCAADASpoHd0IAAICw7Ad3QgAAQBY/CHdCAAAAfJEId0IAAMDh4wh3QgAAgEc2CXdCAABArYgJd0IAAAAT2wl3QgAAwHgtCndCAACA3n8Kd0IAAEBE0gp3QgAAAKokC3dCAADAD3cLd0IAAIB1yQt3QgAAQNsbDHdCAAAAQW4Md0IAAMCmwAx3QgAAgAwTDXdCAABAcmUNd0IAAADYtw13QgAAwD0KDndCAACAo1wOd0IAAEAJrw53QgAAAG8BD3dCAADA1FMPd0IAAIA6pg93QgAAQKD4D3dCAAAABksQd0IAAMBrnRB3QgAAgNHvEHdCAABAN0IRd0IAAACdlBF3QgAAwALnEXdCAACAaDkSd0IAAEDOixJ3QgAAADTeEndCAADAmTATd0IAAID/ghN3QgAAQGXVE3dCAAAAyycUd0IAAMAwehR3QgAAgJbMFHdCAABA/B4Vd0IAAABicRV3QgAAwMfDFXdCAACALRYWd0IAAECTaBZ3QgAAAPm6FndC\",\"dtype\":\"float64\",\"shape\":[60]},\"y\":{\"__ndarray__\":\"AAAAAAAAAAAAAAAAAAAAAAAAAAAAAAAAAAAAAAAAAAAAAAAAAAAAAAAAAAAAAAAAAAAAAAAAAAAAAAAAAAAAAAAAAAAAAAAAAAAAAAAAAAAAAAAAAAAAAAAAAAAAAAAAAAAAAAAAAAAAAAAAAAAAAAAAAAAAAAAAAAAAAAAAAAAAAIAzAAAANAAAQDQAAIA0AACgNAAAwDQAAOA0AAAANQAAEDUAACA1AAAwNQAAQDUAAFA1AABgNQAAcDUAAIA1AACINQAAmDUAAKg1AAC4NQAAyDUAANg1AADoNQAA+DUAAAQ2AAAQNgAAHDYAACg2\",\"dtype\":\"float32\",\"shape\":[60]}},\"selected\":{\"id\":\"2776\"},\"selection_policy\":{\"id\":\"2775\"}},\"id\":\"2725\",\"type\":\"ColumnDataSource\"},{\"attributes\":{\"line_alpha\":0.8,\"line_color\":\"#d95f02\",\"line_dash\":[6],\"line_width\":1.5,\"x\":{\"field\":\"x\"},\"y\":{\"field\":\"y\"}},\"id\":\"3222\",\"type\":\"Line\"},{\"attributes\":{},\"id\":\"3495\",\"type\":\"UnionRenderers\"},{\"attributes\":{\"label\":{\"value\":\"Fit_C_A15-A34\"},\"renderers\":[{\"id\":\"3504\"}]},\"id\":\"3561\",\"type\":\"LegendItem\"},{\"attributes\":{},\"id\":\"2700\",\"type\":\"LinearScale\"},{\"attributes\":{\"line_alpha\":0.1,\"line_color\":\"#1b9e77\",\"line_dash\":[6],\"line_width\":1.5,\"x\":{\"field\":\"x\"},\"y\":{\"field\":\"y\"}},\"id\":\"3443\",\"type\":\"Line\"},{\"attributes\":{},\"id\":\"2775\",\"type\":\"UnionRenderers\"},{\"attributes\":{\"source\":{\"id\":\"3440\"}},\"id\":\"3445\",\"type\":\"CDSView\"},{\"attributes\":{\"data_source\":{\"id\":\"3440\"},\"glyph\":{\"id\":\"3442\"},\"hover_glyph\":null,\"muted_glyph\":null,\"name\":\"_Fit_D_A00-A04\",\"nonselection_glyph\":{\"id\":\"3443\"},\"selection_glyph\":null,\"view\":{\"id\":\"3445\"}},\"id\":\"3444\",\"type\":\"GlyphRenderer\"},{\"attributes\":{\"line_alpha\":0.8,\"line_color\":\"#1b9e77\",\"line_dash\":[6],\"line_width\":1.5,\"x\":{\"field\":\"x\"},\"y\":{\"field\":\"y\"}},\"id\":\"3442\",\"type\":\"Line\"},{\"attributes\":{\"months\":[0,2,4,6,8,10]},\"id\":\"2744\",\"type\":\"MonthsTicker\"},{\"attributes\":{\"data_source\":{\"id\":\"3122\"},\"glyph\":{\"id\":\"3124\"},\"hover_glyph\":null,\"muted_glyph\":null,\"name\":\"_Fit_I_A00-A04\",\"nonselection_glyph\":{\"id\":\"3125\"},\"selection_glyph\":null,\"view\":{\"id\":\"3127\"}},\"id\":\"3126\",\"type\":\"GlyphRenderer\"},{\"attributes\":{},\"id\":\"2707\",\"type\":\"BasicTicker\"},{\"attributes\":{\"data\":{\"x\":{\"__ndarray__\":\"AADAhb0Dd0IAAIDrDwR3QgAAQFFiBHdCAAAAt7QEd0IAAMAcBwV3QgAAgIJZBXdCAABA6KsFd0IAAABO/gV3QgAAwLNQBndCAACAGaMGd0IAAEB/9QZ3QgAAAOVHB3dCAADASpoHd0IAAICw7Ad3QgAAQBY/CHdCAAAAfJEId0IAAMDh4wh3QgAAgEc2CXdCAABArYgJd0IAAAAT2wl3QgAAwHgtCndCAACA3n8Kd0IAAEBE0gp3QgAAAKokC3dCAADAD3cLd0IAAIB1yQt3QgAAQNsbDHdCAAAAQW4Md0IAAMCmwAx3QgAAgAwTDXdCAABAcmUNd0IAAADYtw13QgAAwD0KDndCAACAo1wOd0IAAEAJrw53QgAAAG8BD3dCAADA1FMPd0IAAIA6pg93QgAAQKD4D3dCAAAABksQd0IAAMBrnRB3QgAAgNHvEHdCAABAN0IRd0IAAACdlBF3QgAAwALnEXdCAACAaDkSd0IAAEDOixJ3QgAAADTeEndCAADAmTATd0IAAID/ghN3QgAAQGXVE3dCAAAAyycUd0IAAMAwehR3QgAAgJbMFHdCAABA/B4Vd0IAAABicRV3QgAAwMfDFXdCAACALRYWd0IAAECTaBZ3QgAAAPm6FndC\",\"dtype\":\"float64\",\"shape\":[60]},\"y\":{\"__ndarray__\":\"AAAAAIbtmibuUqUnLbJMKAgiyyjA+jUpDpmZKYeM+Cn8jUIqqTyUKqrT3Cp/RSErn25nK7pjoyuQPuMrIsobLKC5UiyGrIwsrnu5LFWh8Szdjxst5A5GLVhveS0Ibpst5cG/LeZJ6i26zA0uTR8qLjlgSi4iz24u2dOLLviQoi56ubsu+mbXLsOy9S5GWwsvVOYcL4FOLy+V4EIvKOZXLwpqbi/DN4MveQWQL8WunS9URawvatm7LwR7zC+lO94v1C7xL9G0AjAogQ0wMwgZMIBWJTCCeTIwm39AMCR4TzB7c18wGYNwMNNcgTCGFYsw\",\"dtype\":\"float32\",\"shape\":[60]}},\"selected\":{\"id\":\"3558\"},\"selection_policy\":{\"id\":\"3557\"}},\"id\":\"3440\",\"type\":\"ColumnDataSource\"},{\"attributes\":{},\"id\":\"3496\",\"type\":\"Selection\"},{\"attributes\":{\"label\":{\"value\":\"Fit_D_A00-A04\"},\"renderers\":[{\"id\":\"3444\"}]},\"id\":\"3499\",\"type\":\"LegendItem\"},{\"attributes\":{\"data\":{\"x\":{\"__ndarray__\":\"AADAhb0Dd0IAAIDrDwR3QgAAQFFiBHdCAAAAt7QEd0IAAMAcBwV3QgAAgIJZBXdCAABA6KsFd0IAAABO/gV3QgAAwLNQBndCAACAGaMGd0IAAEB/9QZ3QgAAAOVHB3dCAADASpoHd0IAAICw7Ad3QgAAQBY/CHdCAAAAfJEId0IAAMDh4wh3QgAAgEc2CXdCAABArYgJd0IAAAAT2wl3QgAAwHgtCndCAACA3n8Kd0IAAEBE0gp3QgAAAKokC3dCAADAD3cLd0IAAIB1yQt3QgAAQNsbDHdCAAAAQW4Md0IAAMCmwAx3QgAAgAwTDXdCAABAcmUNd0IAAADYtw13QgAAwD0KDndCAACAo1wOd0IAAEAJrw53QgAAAG8BD3dCAADA1FMPd0IAAIA6pg93QgAAQKD4D3dCAAAABksQd0IAAMBrnRB3QgAAgNHvEHdCAABAN0IRd0IAAACdlBF3QgAAwALnEXdCAACAaDkSd0IAAEDOixJ3QgAAADTeEndCAADAmTATd0IAAID/ghN3QgAAQGXVE3dCAAAAyycUd0IAAMAwehR3QgAAgJbMFHdCAABA/B4Vd0IAAABicRV3QgAAwMfDFXdCAACALRYWd0IAAECTaBZ3QgAAAPm6FndC\",\"dtype\":\"float64\",\"shape\":[60]},\"y\":{\"__ndarray__\":\"AAAAAAAAAAAAAAAAAAAAAAAAAAAAAAAAAAAAAAAAAAAAAAAAAAAAAAAAAAAAAAAAAAAAAAAAAAAAAAAAAAAAAAAAAAAAAAAAAAAAAAAAAAAAAAAAAAAAAAAAAAAAAAAAAAAAAAAAAAAAAAAAAAAAAAAAAAAAAAAAAAAAAAAAAAAAAAAAAAAAAAAAAAB8t+0xtcmhMgQ57jLwOhAzNnEuM43+VDOZ+n8z2S6WM38PrTOnYMUzaqTfMxPi+zMjAA00aQYdNKocLjRnXUA0cN1TNCevaDRx5340dU+LND34lzQWfKU0qumzNJxQwzS/wdM0\",\"dtype\":\"float32\",\"shape\":[60]}},\"selected\":{\"id\":\"4052\"},\"selection_policy\":{\"id\":\"4051\"}},\"id\":\"3830\",\"type\":\"ColumnDataSource\"},{\"attributes\":{\"axis_label\":\"time\",\"formatter\":{\"id\":\"2735\"},\"major_label_orientation\":0.7853981633974483,\"ticker\":{\"id\":\"2703\"}},\"id\":\"2702\",\"type\":\"DatetimeAxis\"},{\"attributes\":{\"line_alpha\":0.1,\"line_color\":\"#1b9e77\",\"line_dash\":[6],\"line_width\":1.5,\"x\":{\"field\":\"x\"},\"y\":{\"field\":\"y\"}},\"id\":\"2728\",\"type\":\"Line\"},{\"attributes\":{\"line_alpha\":0.8,\"line_color\":\"#1b9e77\",\"line_dash\":[6],\"line_width\":1.5,\"x\":{\"field\":\"x\"},\"y\":{\"field\":\"y\"}},\"id\":\"3172\",\"type\":\"Line\"},{\"attributes\":{\"data\":{\"x\":{\"__ndarray__\":\"AADAhb0Dd0IAAIDrDwR3QgAAQFFiBHdCAAAAt7QEd0IAAMAcBwV3QgAAgIJZBXdCAABA6KsFd0IAAABO/gV3QgAAwLNQBndCAACAGaMGd0IAAEB/9QZ3QgAAAOVHB3dCAADASpoHd0IAAICw7Ad3QgAAQBY/CHdCAAAAfJEId0IAAMDh4wh3QgAAgEc2CXdCAABArYgJd0IAAAAT2wl3QgAAwHgtCndCAACA3n8Kd0IAAEBE0gp3QgAAAKokC3dCAADAD3cLd0IAAIB1yQt3QgAAQNsbDHdCAAAAQW4Md0IAAMCmwAx3QgAAgAwTDXdCAABAcmUNd0IAAADYtw13QgAAwD0KDndCAACAo1wOd0IAAEAJrw53QgAAAG8BD3dCAADA1FMPd0IAAIA6pg93QgAAQKD4D3dCAAAABksQd0IAAMBrnRB3QgAAgNHvEHdCAABAN0IRd0IAAACdlBF3QgAAwALnEXdCAACAaDkSd0IAAEDOixJ3QgAAADTeEndCAADAmTATd0IAAID/ghN3QgAAQGXVE3dCAAAAyycUd0IAAMAwehR3QgAAgJbMFHdCAABA/B4Vd0IAAABicRV3QgAAwMfDFXdCAACALRYWd0IAAECTaBZ3QgAAAPm6FndC\",\"dtype\":\"float64\",\"shape\":[60]},\"y\":{\"__ndarray__\":\"AAAAAAAAAAAAAAAAAAAAAAAAAAAAAAAAAAAAAAAAAAAAAAAAAAAAAAAAAAAAAAAAAAAAAAAAAAAAAAAAAAAAAAAAAAAAAAAAAAAAAAAAAAAAAAAAAAAAAAAAAAAAAAAAAAAAAAAAAAAAAAAAAAAAAAAAAAAAAAAAAAAAAAAAAAAAAAAAAAAAAAAAAAAllIwxbFo/Mr7gjDJGlqoy7FHOMszq+zLeYBczq6AxM5GvTDNRcmkzZUGEM870lDNkxKYzUri5M+7tzTORhOMz2pT6M0OaCTQmvhY0pMQkNKa9MzTBuUM0TcpUNMoBZzQcdHo0\",\"dtype\":\"float32\",\"shape\":[60]}},\"selected\":{\"id\":\"3622\"},\"selection_policy\":{\"id\":\"3621\"}},\"id\":\"3500\",\"type\":\"ColumnDataSource\"},{\"attributes\":{\"line_alpha\":0.8,\"line_color\":\"#1b9e77\",\"line_dash\":[6],\"line_width\":1.5,\"x\":{\"field\":\"x\"},\"y\":{\"field\":\"y\"}},\"id\":\"2727\",\"type\":\"Line\"},{\"attributes\":{\"source\":{\"id\":\"2752\"}},\"id\":\"2757\",\"type\":\"CDSView\"},{\"attributes\":{},\"id\":\"3322\",\"type\":\"Selection\"},{\"attributes\":{\"data\":{\"x\":{\"__ndarray__\":\"AADAhb0Dd0IAAIDrDwR3QgAAQFFiBHdCAAAAt7QEd0IAAMAcBwV3QgAAgIJZBXdCAABA6KsFd0IAAABO/gV3QgAAwLNQBndCAACAGaMGd0IAAEB/9QZ3QgAAAOVHB3dCAADASpoHd0IAAICw7Ad3QgAAQBY/CHdCAAAAfJEId0IAAMDh4wh3QgAAgEc2CXdCAABArYgJd0IAAAAT2wl3QgAAwHgtCndCAACA3n8Kd0IAAEBE0gp3QgAAAKokC3dCAADAD3cLd0IAAIB1yQt3QgAAQNsbDHdCAAAAQW4Md0IAAMCmwAx3QgAAgAwTDXdCAABAcmUNd0IAAADYtw13QgAAwD0KDndCAACAo1wOd0IAAEAJrw53QgAAAG8BD3dCAADA1FMPd0IAAIA6pg93QgAAQKD4D3dCAAAABksQd0IAAMBrnRB3QgAAgNHvEHdCAABAN0IRd0IAAACdlBF3QgAAwALnEXdCAACAaDkSd0IAAEDOixJ3QgAAADTeEndCAADAmTATd0IAAID/ghN3QgAAQGXVE3dCAAAAyycUd0IAAMAwehR3QgAAgJbMFHdCAABA/B4Vd0IAAABicRV3QgAAwMfDFXdCAACALRYWd0IAAECTaBZ3QgAAAPm6FndC\",\"dtype\":\"float64\",\"shape\":[60]},\"y\":{\"__ndarray__\":\"AAAAAAAAAAAAAAAAAAAAAAAAAAAAAAAAAAAAAAAAAAAAAAAAAAAAAAAAAAAAAAAAAAAAAAAAAAAAAAAAAAAAAAAAAAAAAAAAAAAAAAAAAAAAAAAAAAAAAAAAAAAAAAAAAAAAAAAAAAAAAAAAAACAMwAAADQAAEA0AACANAAAoDQAAMA0AADgNAAAADUAABA1AAAgNQAAMDUAAEA1AABQNQAAYDUAAHA1AACANQAAiDUAAJg1AACoNQAAuDUAAMg1AADYNQAA6DUAAPg1AAAINgAAFDYAACA2AAAsNgAAODYAAEQ2AABUNgAAZDYAAHQ2\",\"dtype\":\"float32\",\"shape\":[60]}},\"selected\":{\"id\":\"2806\"},\"selection_policy\":{\"id\":\"2805\"}},\"id\":\"2752\",\"type\":\"ColumnDataSource\"},{\"attributes\":{\"line_alpha\":0.8,\"line_color\":\"#1b9e77\",\"line_dash\":[6],\"line_width\":1.5,\"x\":{\"field\":\"x\"},\"y\":{\"field\":\"y\"}},\"id\":\"3124\",\"type\":\"Line\"},{\"attributes\":{},\"id\":\"2776\",\"type\":\"Selection\"},{\"attributes\":{\"line_alpha\":0.1,\"line_color\":\"#7570b3\",\"line_dash\":[6],\"line_width\":1.5,\"x\":{\"field\":\"x\"},\"y\":{\"field\":\"y\"}},\"id\":\"2783\",\"type\":\"Line\"},{\"attributes\":{\"data\":{\"x\":{\"__ndarray__\":\"AADAhb0Dd0IAAIDrDwR3QgAAQFFiBHdCAAAAt7QEd0IAAMAcBwV3QgAAgIJZBXdCAABA6KsFd0IAAABO/gV3QgAAwLNQBndCAACAGaMGd0IAAEB/9QZ3QgAAAOVHB3dCAADASpoHd0IAAICw7Ad3QgAAQBY/CHdCAAAAfJEId0IAAMDh4wh3QgAAgEc2CXdCAABArYgJd0IAAAAT2wl3QgAAwHgtCndCAACA3n8Kd0IAAEBE0gp3QgAAAKokC3dCAADAD3cLd0IAAIB1yQt3QgAAQNsbDHdCAAAAQW4Md0IAAMCmwAx3QgAAgAwTDXdCAABAcmUNd0IAAADYtw13QgAAwD0KDndCAACAo1wOd0IAAEAJrw53QgAAAG8BD3dCAADA1FMPd0IAAIA6pg93QgAAQKD4D3dCAAAABksQd0IAAMBrnRB3QgAAgNHvEHdCAABAN0IRd0IAAACdlBF3QgAAwALnEXdCAACAaDkSd0IAAEDOixJ3QgAAADTeEndCAADAmTATd0IAAID/ghN3QgAAQGXVE3dCAAAAyycUd0IAAMAwehR3QgAAgJbMFHdCAABA/B4Vd0IAAABicRV3QgAAwMfDFXdCAACALRYWd0IAAECTaBZ3QgAAAPm6FndC\",\"dtype\":\"float64\",\"shape\":[60]},\"y\":{\"__ndarray__\":\"AAAAAOZzcCc+S4Ao5NgeKV+inSkIOA0qe2NuKrbgwCo0+hYrehFmK25dqytYTPorSJgzLOmVfSxaWLAsS8rxLKGGIy2KVFotEPCPLTyCuy3ab/EtN7IZLriQQS5XO3Eugc6ULsPPtS7VE9wueQQEL/gLHS/KUTkvPARZL8lOfC9SrZEvxSenL1+qvi8USdgvVIPzL2EKCDBFOhcwcoonMEwDOTBhp0sweoZfMGC6dDBBr4UwD8aRMAOunjCzdKwwRim7MBbcyjBontswfYLtMOlNADGkfwoxmGEVMa7/IDGZZi0x6KM6MRXGSDGU3Fcx\",\"dtype\":\"float32\",\"shape\":[60]}},\"selected\":{\"id\":\"3378\"},\"selection_policy\":{\"id\":\"3377\"}},\"id\":\"3272\",\"type\":\"ColumnDataSource\"},{\"attributes\":{\"line_alpha\":0.1,\"line_color\":\"#1b9e77\",\"line_dash\":[6],\"line_width\":1.5,\"x\":{\"field\":\"x\"},\"y\":{\"field\":\"y\"}},\"id\":\"3125\",\"type\":\"Line\"},{\"attributes\":{},\"id\":\"2713\",\"type\":\"ResetTool\"},{\"attributes\":{\"axis\":{\"id\":\"2702\"},\"ticker\":null},\"id\":\"2705\",\"type\":\"Grid\"},{\"attributes\":{\"data\":{\"x\":{\"__ndarray__\":\"AADAhb0Dd0IAAIDrDwR3QgAAQFFiBHdCAAAAt7QEd0IAAMAcBwV3QgAAgIJZBXdCAABA6KsFd0IAAABO/gV3QgAAwLNQBndCAACAGaMGd0IAAEB/9QZ3QgAAAOVHB3dCAADASpoHd0IAAICw7Ad3QgAAQBY/CHdCAAAAfJEId0IAAMDh4wh3QgAAgEc2CXdCAABArYgJd0IAAAAT2wl3QgAAwHgtCndCAACA3n8Kd0IAAEBE0gp3QgAAAKokC3dCAADAD3cLd0IAAIB1yQt3QgAAQNsbDHdCAAAAQW4Md0IAAMCmwAx3QgAAgAwTDXdCAABAcmUNd0IAAADYtw13QgAAwD0KDndCAACAo1wOd0IAAEAJrw53QgAAAG8BD3dCAADA1FMPd0IAAIA6pg93QgAAQKD4D3dCAAAABksQd0IAAMBrnRB3QgAAgNHvEHdCAABAN0IRd0IAAACdlBF3QgAAwALnEXdCAACAaDkSd0IAAEDOixJ3QgAAADTeEndCAADAmTATd0IAAID/ghN3QgAAQGXVE3dCAAAAyycUd0IAAMAwehR3QgAAgJbMFHdCAABA/B4Vd0IAAABicRV3QgAAwMfDFXdCAACALRYWd0IAAECTaBZ3QgAAAPm6FndC\",\"dtype\":\"float64\",\"shape\":[60]},\"y\":{\"__ndarray__\":\"AAAAAAAAAAAAAAAAAAAAAAAAAAAAAAAAAAAAAAAAAAAAAAAAAAAAAAAAAAAAAAAAAAAAAAAAAAAAAAAAAAAAAAAAAAAAAAAAAAAAAAAAAAAAAAAAAAAAAAAAAAAAAAAAAAAAAAAAAAAAAAAAAAAAAAAAAAAAAAAAAAAAAAAAAAAAAAAAAAAAAAAAAADOtMcxFuuHMpshyDIIVvIymIwSM9jvMjNdDFczhFZ8M29jkTMy0aUz1+G7M32b0zPY6OwzwOoDNJFFEjQkmyE09fwxNHZ6QzQ0JVY02xFqNAdXfzQjBos0HiWXNJgVpDSy5bE0\",\"dtype\":\"float32\",\"shape\":[60]}},\"selected\":{\"id\":\"3688\"},\"selection_policy\":{\"id\":\"3687\"}},\"id\":\"3562\",\"type\":\"ColumnDataSource\"},{\"attributes\":{\"overlay\":{\"id\":\"2717\"}},\"id\":\"2712\",\"type\":\"BoxZoomTool\"},{\"attributes\":{\"months\":[0,4,8]},\"id\":\"2745\",\"type\":\"MonthsTicker\"},{\"attributes\":{\"axis_label\":\"occupancy\",\"formatter\":{\"id\":\"2733\"},\"ticker\":{\"id\":\"2707\"}},\"id\":\"2706\",\"type\":\"LinearAxis\"},{\"attributes\":{\"source\":{\"id\":\"3122\"}},\"id\":\"3127\",\"type\":\"CDSView\"},{\"attributes\":{\"data\":{\"x\":{\"__ndarray__\":\"AADAhb0Dd0IAAIDrDwR3QgAAQFFiBHdCAAAAt7QEd0IAAMAcBwV3QgAAgIJZBXdCAABA6KsFd0IAAABO/gV3QgAAwLNQBndCAACAGaMGd0IAAEB/9QZ3QgAAAOVHB3dCAADASpoHd0IAAICw7Ad3QgAAQBY/CHdCAAAAfJEId0IAAMDh4wh3QgAAgEc2CXdCAABArYgJd0IAAAAT2wl3QgAAwHgtCndCAACA3n8Kd0IAAEBE0gp3QgAAAKokC3dCAADAD3cLd0IAAIB1yQt3QgAAQNsbDHdCAAAAQW4Md0IAAMCmwAx3QgAAgAwTDXdCAABAcmUNd0IAAADYtw13QgAAwD0KDndCAACAo1wOd0IAAEAJrw53QgAAAG8BD3dCAADA1FMPd0IAAIA6pg93QgAAQKD4D3dCAAAABksQd0IAAMBrnRB3QgAAgNHvEHdCAABAN0IRd0IAAACdlBF3QgAAwALnEXdCAACAaDkSd0IAAEDOixJ3QgAAADTeEndCAADAmTATd0IAAID/ghN3QgAAQGXVE3dCAAAAyycUd0IAAMAwehR3QgAAgJbMFHdCAABA/B4Vd0IAAABicRV3QgAAwMfDFXdCAACALRYWd0IAAECTaBZ3QgAAAPm6FndC\",\"dtype\":\"float64\",\"shape\":[60]},\"y\":{\"__ndarray__\":\"AAAAALYngiaQ44onKPcrKP6mqiic4RgpsAmBKXDO0CkYciMqeBF5KlmEuSoEfAcrMG1CK4xDiSuO6L4rDeECLNAHMSxeXGwsHtObLHL+yiwXsAItlGMmLfqMUS2rk4ItgBihLYjTxC2aQO4thesOLiwEKi65n0guTPBqLnuSiC4ptZ0us/W0Lllpzi61JeouzM8DL4FGEy97tyMvjWA1L81KSC/+eFwvN/xxLzF4hC+auZAvANCdL9LIqy/GsrovQ57KL/yc2y+jwe0v/o8AMJHmCjDW7xUw4rchMJpLLjC/uDsw/g1KMAJbWTCHsGkw\",\"dtype\":\"float32\",\"shape\":[60]}},\"selected\":{\"id\":\"3322\"},\"selection_policy\":{\"id\":\"3321\"}},\"id\":\"3220\",\"type\":\"ColumnDataSource\"},{\"attributes\":{\"line_alpha\":0.1,\"line_color\":\"#1b9e77\",\"line_dash\":[6],\"line_width\":1.5,\"x\":{\"field\":\"x\"},\"y\":{\"field\":\"y\"}},\"id\":\"3503\",\"type\":\"Line\"},{\"attributes\":{\"source\":{\"id\":\"3500\"}},\"id\":\"3505\",\"type\":\"CDSView\"},{\"attributes\":{\"data_source\":{\"id\":\"3500\"},\"glyph\":{\"id\":\"3502\"},\"hover_glyph\":null,\"muted_glyph\":null,\"name\":\"_Fit_C_A15-A34\",\"nonselection_glyph\":{\"id\":\"3503\"},\"selection_glyph\":null,\"view\":{\"id\":\"3505\"}},\"id\":\"3504\",\"type\":\"GlyphRenderer\"},{\"attributes\":{\"line_alpha\":0.8,\"line_color\":\"#1b9e77\",\"line_dash\":[6],\"line_width\":1.5,\"x\":{\"field\":\"x\"},\"y\":{\"field\":\"y\"}},\"id\":\"3502\",\"type\":\"Line\"},{\"attributes\":{\"num_minor_ticks\":5,\"tickers\":[{\"id\":\"2736\"},{\"id\":\"2737\"},{\"id\":\"2738\"},{\"id\":\"2739\"},{\"id\":\"2740\"},{\"id\":\"2741\"},{\"id\":\"2742\"},{\"id\":\"2743\"},{\"id\":\"2744\"},{\"id\":\"2745\"},{\"id\":\"2746\"},{\"id\":\"2747\"}]},\"id\":\"2703\",\"type\":\"DatetimeTicker\"},{\"attributes\":{\"months\":[0,1,2,3,4,5,6,7,8,9,10,11]},\"id\":\"2743\",\"type\":\"MonthsTicker\"},{\"attributes\":{\"axis\":{\"id\":\"2706\"},\"dimension\":1,\"ticker\":null},\"id\":\"2709\",\"type\":\"Grid\"},{\"attributes\":{\"line_alpha\":0.8,\"line_color\":\"#d95f02\",\"line_dash\":[6],\"line_width\":1.5,\"x\":{\"field\":\"x\"},\"y\":{\"field\":\"y\"}},\"id\":\"2754\",\"type\":\"Line\"},{\"attributes\":{\"days\":[1,8,15,22]},\"id\":\"2741\",\"type\":\"DaysTicker\"},{\"attributes\":{\"months\":[0,6]},\"id\":\"2746\",\"type\":\"MonthsTicker\"},{\"attributes\":{\"line_alpha\":0.8,\"line_color\":\"#1b9e77\",\"line_dash\":[6],\"line_width\":1.5,\"x\":{\"field\":\"x\"},\"y\":{\"field\":\"y\"}},\"id\":\"2878\",\"type\":\"Line\"},{\"attributes\":{\"source\":{\"id\":\"3170\"}},\"id\":\"3175\",\"type\":\"CDSView\"},{\"attributes\":{\"days\":[1,15]},\"id\":\"2742\",\"type\":\"DaysTicker\"},{\"attributes\":{\"data_source\":{\"id\":\"2752\"},\"glyph\":{\"id\":\"2754\"},\"hover_glyph\":null,\"muted_glyph\":null,\"name\":\"_Fit_(S_0-S)_A05-A14\",\"nonselection_glyph\":{\"id\":\"2755\"},\"selection_glyph\":null,\"view\":{\"id\":\"2757\"}},\"id\":\"2756\",\"type\":\"GlyphRenderer\"},{\"attributes\":{\"line_alpha\":0.8,\"line_color\":\"#1b9e77\",\"line_dash\":[6],\"line_width\":1.5,\"x\":{\"field\":\"x\"},\"y\":{\"field\":\"y\"}},\"id\":\"3832\",\"type\":\"Line\"},{\"attributes\":{\"label\":{\"value\":\"Fit_D_A05-A14\"},\"renderers\":[{\"id\":\"3224\"}]},\"id\":\"3271\",\"type\":\"LegendItem\"},{\"attributes\":{},\"id\":\"2711\",\"type\":\"WheelZoomTool\"},{\"attributes\":{},\"id\":\"3621\",\"type\":\"UnionRenderers\"},{\"attributes\":{},\"id\":\"2733\",\"type\":\"BasicTickFormatter\"},{\"attributes\":{},\"id\":\"3216\",\"type\":\"Selection\"},{\"attributes\":{\"line_alpha\":0.1,\"line_color\":\"#d95f02\",\"line_dash\":[6],\"line_width\":1.5,\"x\":{\"field\":\"x\"},\"y\":{\"field\":\"y\"}},\"id\":\"3565\",\"type\":\"Line\"},{\"attributes\":{},\"id\":\"3166\",\"type\":\"Selection\"},{\"attributes\":{\"source\":{\"id\":\"3562\"}},\"id\":\"3567\",\"type\":\"CDSView\"},{\"attributes\":{\"overlay\":{\"id\":\"2716\"}},\"id\":\"2715\",\"type\":\"BoxSelectTool\"},{\"attributes\":{},\"id\":\"3165\",\"type\":\"UnionRenderers\"},{\"attributes\":{\"data_source\":{\"id\":\"3562\"},\"glyph\":{\"id\":\"3564\"},\"hover_glyph\":null,\"muted_glyph\":null,\"name\":\"_Fit_C_A05-A14\",\"nonselection_glyph\":{\"id\":\"3565\"},\"selection_glyph\":null,\"view\":{\"id\":\"3567\"}},\"id\":\"3566\",\"type\":\"GlyphRenderer\"},{\"attributes\":{\"data\":{\"x\":{\"__ndarray__\":\"AADAhb0Dd0IAAIDrDwR3QgAAQFFiBHdCAAAAt7QEd0IAAMAcBwV3QgAAgIJZBXdCAABA6KsFd0IAAABO/gV3QgAAwLNQBndCAACAGaMGd0IAAEB/9QZ3QgAAAOVHB3dCAADASpoHd0IAAICw7Ad3QgAAQBY/CHdCAAAAfJEId0IAAMDh4wh3QgAAgEc2CXdCAABArYgJd0IAAAAT2wl3QgAAwHgtCndCAACA3n8Kd0IAAEBE0gp3QgAAAKokC3dCAADAD3cLd0IAAIB1yQt3QgAAQNsbDHdCAAAAQW4Md0IAAMCmwAx3QgAAgAwTDXdCAABAcmUNd0IAAADYtw13QgAAwD0KDndCAACAo1wOd0IAAEAJrw53QgAAAG8BD3dCAADA1FMPd0IAAIA6pg93QgAAQKD4D3dCAAAABksQd0IAAMBrnRB3QgAAgNHvEHdCAABAN0IRd0IAAACdlBF3QgAAwALnEXdCAACAaDkSd0IAAEDOixJ3QgAAADTeEndCAADAmTATd0IAAID/ghN3QgAAQGXVE3dCAAAAyycUd0IAAMAwehR3QgAAgJbMFHdCAABA/B4Vd0IAAABicRV3QgAAwMfDFXdCAACALRYWd0IAAECTaBZ3QgAAAPm6FndC\",\"dtype\":\"float64\",\"shape\":[60]},\"y\":{\"__ndarray__\":\"AAAAAAAAgDMAAIAzAACAMwAAgDMAAIAzAAAANAAAQDQAAIA0AACgNAAAwDQAAOA0AAAANQAAEDUAACA1AAAwNQAAQDUAAFA1AABgNQAAcDUAAIA1AACINQAAkDUAAJg1AACoNQAAuDUAAMg1AADYNQAA6DUAAPg1AAAENgAAEDYAABw2AAAoNgAANDYAAEA2AABMNgAAXDYAAGw2AAB8NgAAiDYAAJI2AACcNgAAqDYAALQ2AADANgAAzjYAANw2AADsNgAA/DYAAAc3AAAQNwAAGjcAACU3AAAwNwAAPDcAAEk3AABXNwAAZjcAAHY3\",\"dtype\":\"float32\",\"shape\":[60]}},\"selected\":{\"id\":\"2838\"},\"selection_policy\":{\"id\":\"2837\"}},\"id\":\"2780\",\"type\":\"ColumnDataSource\"},{\"attributes\":{\"line_alpha\":0.8,\"line_color\":\"#7570b3\",\"line_dash\":[6],\"line_width\":1.5,\"x\":{\"field\":\"x\"},\"y\":{\"field\":\"y\"}},\"id\":\"3274\",\"type\":\"Line\"},{\"attributes\":{\"line_alpha\":0.8,\"line_color\":\"#d95f02\",\"line_dash\":[6],\"line_width\":1.5,\"x\":{\"field\":\"x\"},\"y\":{\"field\":\"y\"}},\"id\":\"3564\",\"type\":\"Line\"},{\"attributes\":{\"label\":{\"value\":\"Fit_D_A35-A59\"},\"renderers\":[{\"id\":\"3276\"}]},\"id\":\"3325\",\"type\":\"LegendItem\"},{\"attributes\":{\"data\":{\"x\":{\"__ndarray__\":\"AADAhb0Dd0IAAIDrDwR3QgAAQFFiBHdCAAAAt7QEd0IAAMAcBwV3QgAAgIJZBXdCAABA6KsFd0IAAABO/gV3QgAAwLNQBndCAACAGaMGd0IAAEB/9QZ3QgAAAOVHB3dCAADASpoHd0IAAICw7Ad3QgAAQBY/CHdCAAAAfJEId0IAAMDh4wh3QgAAgEc2CXdCAABArYgJd0IAAAAT2wl3QgAAwHgtCndCAACA3n8Kd0IAAEBE0gp3QgAAAKokC3dCAADAD3cLd0IAAIB1yQt3QgAAQNsbDHdCAAAAQW4Md0IAAMCmwAx3QgAAgAwTDXdCAABAcmUNd0IAAADYtw13QgAAwD0KDndCAACAo1wOd0IAAEAJrw53QgAAAG8BD3dCAADA1FMPd0IAAIA6pg93QgAAQKD4D3dCAAAABksQd0IAAMBrnRB3QgAAgNHvEHdCAABAN0IRd0IAAACdlBF3QgAAwALnEXdCAACAaDkSd0IAAEDOixJ3QgAAADTeEndCAADAmTATd0IAAID/ghN3QgAAQGXVE3dCAAAAyycUd0IAAMAwehR3QgAAgJbMFHdCAABA/B4Vd0IAAABicRV3QgAAwMfDFXdCAACALRYWd0IAAECTaBZ3QgAAAPm6FndC\",\"dtype\":\"float64\",\"shape\":[60]},\"y\":{\"__ndarray__\":\"AAAAAFE9NyYSiUMnNhryJ/JAcCgSPNcooqo1KQv8kimXG+YpclMvKiqXgioOvr4qttwIK2E/QSu7YoYrQEK4K7g7+SuAYSYs6GBbLJzkjixT/bcsZUDqLCyCEy1P1TctpMxiLSuNii1etqct7DXJLbpb7y2GOQ0uOmElLhtGQC6PB14u3sN+LnpMkS6d0qQuX5K5LqhXzy5IfeYuS1r/Lr39DC9cMhsvC1cqL3F/Oi92wEsvVi1eL/vYcS8NbIMv5qCOL36Xmi/+XKcvUP+0L06Nwy/gFtMvCa3jL/Bh9S94JAQwWjsOMKYAGTAjgCQw\",\"dtype\":\"float32\",\"shape\":[60]}},\"selected\":{\"id\":\"3268\"},\"selection_policy\":{\"id\":\"3267\"}},\"id\":\"3170\",\"type\":\"ColumnDataSource\"},{\"attributes\":{},\"id\":\"2714\",\"type\":\"SaveTool\"},{\"attributes\":{\"label\":{\"value\":\"Fit_C_A05-A14\"},\"renderers\":[{\"id\":\"3566\"}]},\"id\":\"3625\",\"type\":\"LegendItem\"},{\"attributes\":{\"days\":[1,4,7,10,13,16,19,22,25,28]},\"id\":\"2740\",\"type\":\"DaysTicker\"},{\"attributes\":{},\"id\":\"3117\",\"type\":\"UnionRenderers\"},{\"attributes\":{},\"id\":\"3622\",\"type\":\"Selection\"},{\"attributes\":{\"data_source\":{\"id\":\"3220\"},\"glyph\":{\"id\":\"3222\"},\"hover_glyph\":null,\"muted_glyph\":null,\"name\":\"_Fit_D_A05-A14\",\"nonselection_glyph\":{\"id\":\"3223\"},\"selection_glyph\":null,\"view\":{\"id\":\"3225\"}},\"id\":\"3224\",\"type\":\"GlyphRenderer\"},{\"attributes\":{\"data\":{\"x\":{\"__ndarray__\":\"AADAhb0Dd0IAAIDrDwR3QgAAQFFiBHdCAAAAt7QEd0IAAMAcBwV3QgAAgIJZBXdCAABA6KsFd0IAAABO/gV3QgAAwLNQBndCAACAGaMGd0IAAEB/9QZ3QgAAAOVHB3dCAADASpoHd0IAAICw7Ad3QgAAQBY/CHdCAAAAfJEId0IAAMDh4wh3QgAAgEc2CXdCAABArYgJd0IAAAAT2wl3QgAAwHgtCndCAACA3n8Kd0IAAEBE0gp3QgAAAKokC3dCAADAD3cLd0IAAIB1yQt3QgAAQNsbDHdCAAAAQW4Md0IAAMCmwAx3QgAAgAwTDXdCAABAcmUNd0IAAADYtw13QgAAwD0KDndCAACAo1wOd0IAAEAJrw53QgAAAG8BD3dCAADA1FMPd0IAAIA6pg93QgAAQKD4D3dCAAAABksQd0IAAMBrnRB3QgAAgNHvEHdCAABAN0IRd0IAAACdlBF3QgAAwALnEXdCAACAaDkSd0IAAEDOixJ3QgAAADTeEndCAADAmTATd0IAAID/ghN3QgAAQGXVE3dCAAAAyycUd0IAAMAwehR3QgAAgJbMFHdCAABA/B4Vd0IAAABicRV3QgAAwMfDFXdCAACALRYWd0IAAECTaBZ3QgAAAPm6FndC\",\"dtype\":\"float64\",\"shape\":[60]},\"y\":{\"__ndarray__\":\"AAAAAAAAAAAAAAAAAAAAAAAAAAAAAAAAAAAAAAAAAAAAAAAAAAAAAAAAAAAAAAAAAAAAAAAAAAAAAAAAAAAAAAAAAAAAAAAAAAAAAAAAAAAAAAAAAAAAAAAAAAAAAAAAAAAAAAAAAAAAAAAAAAAAAAAAAAAAAAAAAAAAAAAAAAAAAAAAAAAAAAAAAADPeLgykBl7M0/duDOI2d8zrl4HNHBJJTS+pEY0rRZpNC9MhjT/Kpk0vIytNA53wzRJ1to0IrXzNAwdBzUoRxU1C2kkNfqQNDUrz0U1tzZYNX7cazUja4A1Z52LNS6RlzWGU6Q1\",\"dtype\":\"float32\",\"shape\":[60]}},\"selected\":{\"id\":\"3756\"},\"selection_policy\":{\"id\":\"3755\"}},\"id\":\"3626\",\"type\":\"ColumnDataSource\"},{\"attributes\":{\"data_source\":{\"id\":\"3170\"},\"glyph\":{\"id\":\"3172\"},\"hover_glyph\":null,\"muted_glyph\":null,\"name\":\"_Fit_D_A15-A34\",\"nonselection_glyph\":{\"id\":\"3173\"},\"selection_glyph\":null,\"view\":{\"id\":\"3175\"}},\"id\":\"3174\",\"type\":\"GlyphRenderer\"},{\"attributes\":{\"label\":{\"value\":\"Fit_(S_0-S)_A15-A34\"},\"renderers\":[{\"id\":\"2729\"}]},\"id\":\"2751\",\"type\":\"LegendItem\"},{\"attributes\":{\"line_alpha\":0.1,\"line_color\":\"#7570b3\",\"line_dash\":[6],\"line_width\":1.5,\"x\":{\"field\":\"x\"},\"y\":{\"field\":\"y\"}},\"id\":\"3275\",\"type\":\"Line\"},{\"attributes\":{\"label\":{\"value\":\"Fit_I_A00-A04\"},\"renderers\":[{\"id\":\"3126\"}]},\"id\":\"3169\",\"type\":\"LegendItem\"},{\"attributes\":{\"days\":[1,2,3,4,5,6,7,8,9,10,11,12,13,14,15,16,17,18,19,20,21,22,23,24,25,26,27,28,29,30,31]},\"id\":\"2739\",\"type\":\"DaysTicker\"},{\"attributes\":{\"active_drag\":\"auto\",\"active_inspect\":\"auto\",\"active_multi\":null,\"active_scroll\":\"auto\",\"active_tap\":\"auto\",\"tools\":[{\"id\":\"2710\"},{\"id\":\"2711\"},{\"id\":\"2712\"},{\"id\":\"2713\"},{\"id\":\"2714\"},{\"id\":\"2715\"}]},\"id\":\"2718\",\"type\":\"Toolbar\"},{\"attributes\":{},\"id\":\"3215\",\"type\":\"UnionRenderers\"},{\"attributes\":{\"line_alpha\":0.1,\"line_color\":\"#d95f02\",\"line_dash\":[6],\"line_width\":1.5,\"x\":{\"field\":\"x\"},\"y\":{\"field\":\"y\"}},\"id\":\"3223\",\"type\":\"Line\"},{\"attributes\":{},\"id\":\"2806\",\"type\":\"Selection\"},{\"attributes\":{\"label\":{\"value\":\"Fit_(S_0-S)_A35-A59\"},\"renderers\":[{\"id\":\"2784\"}]},\"id\":\"2809\",\"type\":\"LegendItem\"},{\"attributes\":{\"base\":60,\"mantissas\":[1,2,5,10,15,20,30],\"max_interval\":1800000.0,\"min_interval\":1000.0,\"num_minor_ticks\":0},\"id\":\"2737\",\"type\":\"AdaptiveTicker\"},{\"attributes\":{},\"id\":\"3267\",\"type\":\"UnionRenderers\"},{\"attributes\":{\"bottom_units\":\"screen\",\"fill_alpha\":0.5,\"fill_color\":\"lightgrey\",\"left_units\":\"screen\",\"level\":\"overlay\",\"line_alpha\":1.0,\"line_color\":\"black\",\"line_dash\":[4,4],\"line_width\":2,\"render_mode\":\"css\",\"right_units\":\"screen\",\"top_units\":\"screen\"},\"id\":\"2717\",\"type\":\"BoxAnnotation\"},{\"attributes\":{\"source\":{\"id\":\"2725\"}},\"id\":\"2730\",\"type\":\"CDSView\"},{\"attributes\":{},\"id\":\"2838\",\"type\":\"Selection\"},{\"attributes\":{},\"id\":\"3687\",\"type\":\"UnionRenderers\"},{\"attributes\":{\"line_alpha\":0.1,\"line_color\":\"#1b9e77\",\"line_dash\":[6],\"line_width\":1.5,\"x\":{\"field\":\"x\"},\"y\":{\"field\":\"y\"}},\"id\":\"2879\",\"type\":\"Line\"},{\"attributes\":{\"line_alpha\":0.1,\"line_color\":\"#7570b3\",\"line_dash\":[6],\"line_width\":1.5,\"x\":{\"field\":\"x\"},\"y\":{\"field\":\"y\"}},\"id\":\"3629\",\"type\":\"Line\"},{\"attributes\":{\"source\":{\"id\":\"3626\"}},\"id\":\"3631\",\"type\":\"CDSView\"},{\"attributes\":{\"data_source\":{\"id\":\"3272\"},\"glyph\":{\"id\":\"3274\"},\"hover_glyph\":null,\"muted_glyph\":null,\"name\":\"_Fit_D_A35-A59\",\"nonselection_glyph\":{\"id\":\"3275\"},\"selection_glyph\":null,\"view\":{\"id\":\"3277\"}},\"id\":\"3276\",\"type\":\"GlyphRenderer\"},{\"attributes\":{\"data_source\":{\"id\":\"3626\"},\"glyph\":{\"id\":\"3628\"},\"hover_glyph\":null,\"muted_glyph\":null,\"name\":\"_Fit_C_A35-A59\",\"nonselection_glyph\":{\"id\":\"3629\"},\"selection_glyph\":null,\"view\":{\"id\":\"3631\"}},\"id\":\"3630\",\"type\":\"GlyphRenderer\"},{\"attributes\":{},\"id\":\"2871\",\"type\":\"UnionRenderers\"},{\"attributes\":{\"line_alpha\":0.8,\"line_color\":\"#7570b3\",\"line_dash\":[6],\"line_width\":1.5,\"x\":{\"field\":\"x\"},\"y\":{\"field\":\"y\"}},\"id\":\"3628\",\"type\":\"Line\"},{\"attributes\":{\"label\":{\"value\":\"Fit_I_A15-A34\"},\"renderers\":[{\"id\":\"2916\"}]},\"id\":\"2949\",\"type\":\"LegendItem\"},{\"attributes\":{\"line_alpha\":0.8,\"line_color\":\"#66a61e\",\"line_dash\":[6],\"line_width\":1.5,\"x\":{\"field\":\"x\"},\"y\":{\"field\":\"y\"}},\"id\":\"2844\",\"type\":\"Line\"},{\"attributes\":{},\"id\":\"3377\",\"type\":\"UnionRenderers\"},{\"attributes\":{},\"id\":\"2696\",\"type\":\"DataRange1d\"},{\"attributes\":{\"line_alpha\":0.1,\"line_color\":\"#66a61e\",\"line_dash\":[6],\"line_width\":1.5,\"x\":{\"field\":\"x\"},\"y\":{\"field\":\"y\"}},\"id\":\"2845\",\"type\":\"Line\"},{\"attributes\":{\"data_source\":{\"id\":\"2842\"},\"glyph\":{\"id\":\"2844\"},\"hover_glyph\":null,\"muted_glyph\":null,\"name\":\"_Fit_(S_0-S)_A80+\",\"nonselection_glyph\":{\"id\":\"2845\"},\"selection_glyph\":null,\"view\":{\"id\":\"2847\"}},\"id\":\"2846\",\"type\":\"GlyphRenderer\"},{\"attributes\":{},\"id\":\"3688\",\"type\":\"Selection\"},{\"attributes\":{\"label\":{\"value\":\"Fit_C_A35-A59\"},\"renderers\":[{\"id\":\"3630\"}]},\"id\":\"3691\",\"type\":\"LegendItem\"},{\"attributes\":{\"line_alpha\":0.8,\"line_color\":\"#e7298a\",\"line_dash\":[6],\"line_width\":1.5,\"x\":{\"field\":\"x\"},\"y\":{\"field\":\"y\"}},\"id\":\"2812\",\"type\":\"Line\"},{\"attributes\":{\"data\":{\"x\":{\"__ndarray__\":\"AADAhb0Dd0IAAIDrDwR3QgAAQFFiBHdCAAAAt7QEd0IAAMAcBwV3QgAAgIJZBXdCAABA6KsFd0IAAABO/gV3QgAAwLNQBndCAACAGaMGd0IAAEB/9QZ3QgAAAOVHB3dCAADASpoHd0IAAICw7Ad3QgAAQBY/CHdCAAAAfJEId0IAAMDh4wh3QgAAgEc2CXdCAABArYgJd0IAAAAT2wl3QgAAwHgtCndCAACA3n8Kd0IAAEBE0gp3QgAAAKokC3dCAADAD3cLd0IAAIB1yQt3QgAAQNsbDHdCAAAAQW4Md0IAAMCmwAx3QgAAgAwTDXdCAABAcmUNd0IAAADYtw13QgAAwD0KDndCAACAo1wOd0IAAEAJrw53QgAAAG8BD3dCAADA1FMPd0IAAIA6pg93QgAAQKD4D3dCAAAABksQd0IAAMBrnRB3QgAAgNHvEHdCAABAN0IRd0IAAACdlBF3QgAAwALnEXdCAACAaDkSd0IAAEDOixJ3QgAAADTeEndCAADAmTATd0IAAID/ghN3QgAAQGXVE3dCAAAAyycUd0IAAMAwehR3QgAAgJbMFHdCAABA/B4Vd0IAAABicRV3QgAAwMfDFXdCAACALRYWd0IAAECTaBZ3QgAAAPm6FndC\",\"dtype\":\"float64\",\"shape\":[60]},\"y\":{\"__ndarray__\":\"AAAAAAAAAAAAAAAAAAAAAAAAAAAAAAAAAAAAAAAAAAAAAAAAAAAAAAAAAAAAAAAAAAAAAAAAAAAAAIAzAAAANAAAQDQAAIA0AACgNAAAwDQAAOA0AAAANQAAEDUAACA1AAAwNQAAQDUAAFA1AABgNQAAcDUAAIA1AACINQAAmDUAAKg1AAC4NQAAyDUAANg1AADoNQAA+DUAAAg2AAAUNgAAIDYAACw2AAA4NgAARDYAAFQ2AABkNgAAdDYAAIQ2AACONgAAmDYAAKQ2AACwNgAAvDYAAMo2AADYNgAA6DYAAPg2AAAFNwAADjcAABg3\",\"dtype\":\"float32\",\"shape\":[60]}},\"selected\":{\"id\":\"2908\"},\"selection_policy\":{\"id\":\"2907\"}},\"id\":\"2842\",\"type\":\"ColumnDataSource\"},{\"attributes\":{\"line_alpha\":0.8,\"line_color\":\"#7570b3\",\"line_dash\":[6],\"line_width\":1.5,\"x\":{\"field\":\"x\"},\"y\":{\"field\":\"y\"}},\"id\":\"2992\",\"type\":\"Line\"},{\"attributes\":{\"data_source\":{\"id\":\"2912\"},\"glyph\":{\"id\":\"2914\"},\"hover_glyph\":null,\"muted_glyph\":null,\"name\":\"_Fit_I_A15-A34\",\"nonselection_glyph\":{\"id\":\"2915\"},\"selection_glyph\":null,\"view\":{\"id\":\"2917\"}},\"id\":\"2916\",\"type\":\"GlyphRenderer\"},{\"attributes\":{\"source\":{\"id\":\"3076\"}},\"id\":\"3081\",\"type\":\"CDSView\"},{\"attributes\":{\"line_alpha\":0.1,\"line_color\":\"#e7298a\",\"line_dash\":[6],\"line_width\":1.5,\"x\":{\"field\":\"x\"},\"y\":{\"field\":\"y\"}},\"id\":\"3329\",\"type\":\"Line\"},{\"attributes\":{\"data\":{\"x\":{\"__ndarray__\":\"AADAhb0Dd0IAAIDrDwR3QgAAQFFiBHdCAAAAt7QEd0IAAMAcBwV3QgAAgIJZBXdCAABA6KsFd0IAAABO/gV3QgAAwLNQBndCAACAGaMGd0IAAEB/9QZ3QgAAAOVHB3dCAADASpoHd0IAAICw7Ad3QgAAQBY/CHdCAAAAfJEId0IAAMDh4wh3QgAAgEc2CXdCAABArYgJd0IAAAAT2wl3QgAAwHgtCndCAACA3n8Kd0IAAEBE0gp3QgAAAKokC3dCAADAD3cLd0IAAIB1yQt3QgAAQNsbDHdCAAAAQW4Md0IAAMCmwAx3QgAAgAwTDXdCAABAcmUNd0IAAADYtw13QgAAwD0KDndCAACAo1wOd0IAAEAJrw53QgAAAG8BD3dCAADA1FMPd0IAAIA6pg93QgAAQKD4D3dCAAAABksQd0IAAMBrnRB3QgAAgNHvEHdCAABAN0IRd0IAAACdlBF3QgAAwALnEXdCAACAaDkSd0IAAEDOixJ3QgAAADTeEndCAADAmTATd0IAAID/ghN3QgAAQGXVE3dCAAAAyycUd0IAAMAwehR3QgAAgJbMFHdCAABA/B4Vd0IAAABicRV3QgAAwMfDFXdCAACALRYWd0IAAECTaBZ3QgAAAPm6FndC\",\"dtype\":\"float64\",\"shape\":[60]},\"y\":{\"__ndarray__\":\"AAAAAAAAAAAAAAAAAAAAAAAAAAAAAAAAAAAAAAAAAAAAAAAAAAAAAAAAAAAAAAAAAAAAAAAAAAAAAAAAAAAAAAAAAAAAAAAAAAAAAAAAAAAAAAAAAAAAAAAAAAAAAAAAAAAAAAAAAAAAAAAAAAAAAAAAAAAAAAAAAAAAAAAAAAAAAAAAAAAAAAAAAACaP7Qy3Fl1M9ChtDOKudozRkUENLCAITR9GEI0isBjNBE5gzRIqZU0kJOpNHD9vjSv09U0xSDuNCcFBDU/3BE1cqUgNbBuMDXRR0E1f0NTNR92ZjX29Ho1IGuINdoYlDVqkKA1\",\"dtype\":\"float32\",\"shape\":[60]}},\"selected\":{\"id\":\"3826\"},\"selection_policy\":{\"id\":\"3825\"}},\"id\":\"3692\",\"type\":\"ColumnDataSource\"},{\"attributes\":{\"source\":{\"id\":\"2876\"}},\"id\":\"2881\",\"type\":\"CDSView\"},{\"attributes\":{\"data_source\":{\"id\":\"3076\"},\"glyph\":{\"id\":\"3078\"},\"hover_glyph\":null,\"muted_glyph\":null,\"name\":\"_Fit_I_A80+\",\"nonselection_glyph\":{\"id\":\"3079\"},\"selection_glyph\":null,\"view\":{\"id\":\"3081\"}},\"id\":\"3080\",\"type\":\"GlyphRenderer\"},{\"attributes\":{},\"id\":\"3755\",\"type\":\"UnionRenderers\"},{\"attributes\":{},\"id\":\"2872\",\"type\":\"Selection\"},{\"attributes\":{\"data_source\":{\"id\":\"3326\"},\"glyph\":{\"id\":\"3328\"},\"hover_glyph\":null,\"muted_glyph\":null,\"name\":\"_Fit_D_A60-A79\",\"nonselection_glyph\":{\"id\":\"3329\"},\"selection_glyph\":null,\"view\":{\"id\":\"3331\"}},\"id\":\"3330\",\"type\":\"GlyphRenderer\"},{\"attributes\":{\"label\":{\"value\":\"Fit_(S_0-S)_A60-A79\"},\"renderers\":[{\"id\":\"2814\"}]},\"id\":\"2841\",\"type\":\"LegendItem\"},{\"attributes\":{\"data_source\":{\"id\":\"2990\"},\"glyph\":{\"id\":\"2992\"},\"hover_glyph\":null,\"muted_glyph\":null,\"name\":\"_Fit_I_A35-A59\",\"nonselection_glyph\":{\"id\":\"2993\"},\"selection_glyph\":null,\"view\":{\"id\":\"2995\"}},\"id\":\"2994\",\"type\":\"GlyphRenderer\"},{\"attributes\":{\"line_alpha\":0.1,\"line_color\":\"#e7298a\",\"line_dash\":[6],\"line_width\":1.5,\"x\":{\"field\":\"x\"},\"y\":{\"field\":\"y\"}},\"id\":\"3695\",\"type\":\"Line\"},{\"attributes\":{\"source\":{\"id\":\"3326\"}},\"id\":\"3331\",\"type\":\"CDSView\"},{\"attributes\":{\"source\":{\"id\":\"3692\"}},\"id\":\"3697\",\"type\":\"CDSView\"},{\"attributes\":{},\"id\":\"2907\",\"type\":\"UnionRenderers\"},{\"attributes\":{\"data_source\":{\"id\":\"3692\"},\"glyph\":{\"id\":\"3694\"},\"hover_glyph\":null,\"muted_glyph\":null,\"name\":\"_Fit_C_A60-A79\",\"nonselection_glyph\":{\"id\":\"3695\"},\"selection_glyph\":null,\"view\":{\"id\":\"3697\"}},\"id\":\"3696\",\"type\":\"GlyphRenderer\"},{\"attributes\":{\"label\":{\"value\":\"Fit_(S_0-S)_A80+\"},\"renderers\":[{\"id\":\"2846\"}]},\"id\":\"2875\",\"type\":\"LegendItem\"},{\"attributes\":{},\"id\":\"3378\",\"type\":\"Selection\"},{\"attributes\":{\"line_alpha\":0.8,\"line_color\":\"#e7298a\",\"line_dash\":[6],\"line_width\":1.5,\"x\":{\"field\":\"x\"},\"y\":{\"field\":\"y\"}},\"id\":\"3694\",\"type\":\"Line\"},{\"attributes\":{\"source\":{\"id\":\"2990\"}},\"id\":\"2995\",\"type\":\"CDSView\"},{\"attributes\":{\"line_alpha\":0.1,\"line_color\":\"#66a61e\",\"line_dash\":[6],\"line_width\":1.5,\"x\":{\"field\":\"x\"},\"y\":{\"field\":\"y\"}},\"id\":\"3079\",\"type\":\"Line\"},{\"attributes\":{\"data\":{\"x\":{\"__ndarray__\":\"AADAhb0Dd0IAAIDrDwR3QgAAQFFiBHdCAAAAt7QEd0IAAMAcBwV3QgAAgIJZBXdCAABA6KsFd0IAAABO/gV3QgAAwLNQBndCAACAGaMGd0IAAEB/9QZ3QgAAAOVHB3dCAADASpoHd0IAAICw7Ad3QgAAQBY/CHdCAAAAfJEId0IAAMDh4wh3QgAAgEc2CXdCAABArYgJd0IAAAAT2wl3QgAAwHgtCndCAACA3n8Kd0IAAEBE0gp3QgAAAKokC3dCAADAD3cLd0IAAIB1yQt3QgAAQNsbDHdCAAAAQW4Md0IAAMCmwAx3QgAAgAwTDXdCAABAcmUNd0IAAADYtw13QgAAwD0KDndCAACAo1wOd0IAAEAJrw53QgAAAG8BD3dCAADA1FMPd0IAAIA6pg93QgAAQKD4D3dCAAAABksQd0IAAMBrnRB3QgAAgNHvEHdCAABAN0IRd0IAAACdlBF3QgAAwALnEXdCAACAaDkSd0IAAEDOixJ3QgAAADTeEndCAADAmTATd0IAAID/ghN3QgAAQGXVE3dCAAAAyycUd0IAAMAwehR3QgAAgJbMFHdCAABA/B4Vd0IAAABicRV3QgAAwMfDFXdCAACALRYWd0IAAECTaBZ3QgAAAPm6FndC\",\"dtype\":\"float64\",\"shape\":[60]},\"y\":{\"__ndarray__\":\"s3O0MsSgdTMC1rQzvPjaM3xrBDRVryE0iFBCNEYCZDTsXoM0bdSVNGnEqTRnNL80JRHWNBxl7jT4KgQ18AUSNUHTIDXZoDA1lX5BNR5/UzXktmY1JDt7NRKRiDXPQZQ1i7ygNfUOrjWiR7w1H3bLNQCr2zX59+w1/2//NZ6TCTahGRQ2ilUfNqFTKzaLuDY2YPZBNrq9TjYuIF02FlJsNj0+fDa5k4Y2maOPNv5ZmTaUuaM2xMiuNq+UujbgLMc2C6DUNiz84jY8UPI2eFYBNzMSCjf1ZBM371gdN/P4JzedUDM3VGw/N1xZTDfUJVo3\",\"dtype\":\"float32\",\"shape\":[60]}},\"selected\":{\"id\":\"3118\"},\"selection_policy\":{\"id\":\"3117\"}},\"id\":\"3032\",\"type\":\"ColumnDataSource\"},{\"attributes\":{\"label\":{\"value\":\"Fit_D_A60-A79\"},\"renderers\":[{\"id\":\"3330\"}]},\"id\":\"3381\",\"type\":\"LegendItem\"},{\"attributes\":{\"line_alpha\":0.1,\"line_color\":\"#7570b3\",\"line_dash\":[6],\"line_width\":1.5,\"x\":{\"field\":\"x\"},\"y\":{\"field\":\"y\"}},\"id\":\"2993\",\"type\":\"Line\"},{\"attributes\":{},\"id\":\"3756\",\"type\":\"Selection\"},{\"attributes\":{\"label\":{\"value\":\"Fit_C_A60-A79\"},\"renderers\":[{\"id\":\"3696\"}]},\"id\":\"3759\",\"type\":\"LegendItem\"},{\"attributes\":{\"data\":{\"x\":{\"__ndarray__\":\"AADAhb0Dd0IAAIDrDwR3QgAAQFFiBHdCAAAAt7QEd0IAAMAcBwV3QgAAgIJZBXdCAABA6KsFd0IAAABO/gV3QgAAwLNQBndCAACAGaMGd0IAAEB/9QZ3QgAAAOVHB3dCAADASpoHd0IAAICw7Ad3QgAAQBY/CHdCAAAAfJEId0IAAMDh4wh3QgAAgEc2CXdCAABArYgJd0IAAAAT2wl3QgAAwHgtCndCAACA3n8Kd0IAAEBE0gp3QgAAAKokC3dCAADAD3cLd0IAAIB1yQt3QgAAQNsbDHdCAAAAQW4Md0IAAMCmwAx3QgAAgAwTDXdCAABAcmUNd0IAAADYtw13QgAAwD0KDndCAACAo1wOd0IAAEAJrw53QgAAAG8BD3dCAADA1FMPd0IAAIA6pg93QgAAQKD4D3dCAAAABksQd0IAAMBrnRB3QgAAgNHvEHdCAABAN0IRd0IAAACdlBF3QgAAwALnEXdCAACAaDkSd0IAAEDOixJ3QgAAADTeEndCAADAmTATd0IAAID/ghN3QgAAQGXVE3dCAAAAyycUd0IAAMAwehR3QgAAgJbMFHdCAABA/B4Vd0IAAABicRV3QgAAwMfDFXdCAACALRYWd0IAAECTaBZ3QgAAAPm6FndC\",\"dtype\":\"float64\",\"shape\":[60]},\"y\":{\"__ndarray__\":\"HK64Mh9iezO6ErkzMxrgM8iFBzQseSU0GN5GNPRZaTTtcoY0KFeZNLq+rTRRr8M0LxXbNBb78zTCQwc11nEVNe6XJDVQxDQ1OQdGNcBzWDXIHmw1D4+ANT7EizUbu5c1tICkNQUjsjUAscA1jDrQNaTQ4DVlhfI1GrYCNtrMDDb6kRc2SBEjNk1XLzaQADs20YFGNs+VUzaSTmI2oNtxNqQTgTb1uok2MAGTNtrxnDamj6c2KuGyNtnzvjaW18s2bJvZNrFN6Daw/fc2Q14EN2FODTcQ2RY3vAghN3roKzcvhDc3huhDNxIjUTdQQl83\",\"dtype\":\"float32\",\"shape\":[60]}},\"selected\":{\"id\":\"3072\"},\"selection_policy\":{\"id\":\"3071\"}},\"id\":\"2990\",\"type\":\"ColumnDataSource\"},{\"attributes\":{},\"id\":\"3028\",\"type\":\"Selection\"},{\"attributes\":{\"text\":\"Germany\"},\"id\":\"2692\",\"type\":\"Title\"},{\"attributes\":{\"data\":{\"x\":{\"__ndarray__\":\"AADAhb0Dd0IAAIDrDwR3QgAAQFFiBHdCAAAAt7QEd0IAAMAcBwV3QgAAgIJZBXdCAABA6KsFd0IAAABO/gV3QgAAwLNQBndCAACAGaMGd0IAAEB/9QZ3QgAAAOVHB3dCAADASpoHd0IAAICw7Ad3QgAAQBY/CHdCAAAAfJEId0IAAMDh4wh3QgAAgEc2CXdCAABArYgJd0IAAAAT2wl3QgAAwHgtCndCAACA3n8Kd0IAAEBE0gp3QgAAAKokC3dCAADAD3cLd0IAAIB1yQt3QgAAQNsbDHdCAAAAQW4Md0IAAMCmwAx3QgAAgAwTDXdCAABAcmUNd0IAAADYtw13QgAAwD0KDndCAACAo1wOd0IAAEAJrw53QgAAAG8BD3dCAADA1FMPd0IAAIA6pg93QgAAQKD4D3dCAAAABksQd0IAAMBrnRB3QgAAgNHvEHdCAABAN0IRd0IAAACdlBF3QgAAwALnEXdCAACAaDkSd0IAAEDOixJ3QgAAADTeEndCAADAmTATd0IAAID/ghN3QgAAQGXVE3dCAAAAyycUd0IAAMAwehR3QgAAgJbMFHdCAABA/B4Vd0IAAABicRV3QgAAwMfDFXdCAACALRYWd0IAAECTaBZ3QgAAAPm6FndC\",\"dtype\":\"float64\",\"shape\":[60]},\"y\":{\"__ndarray__\":\"AAAAAAAAAAAAAAAAAAAAAAAAAAAAAAAAAAAAAAAAAAAAAAAAAAAAAAAAAAAAAAAAAAAAAAAAAAAAAAAAAAAAAAAAAAAAAAAAAAAAAAAAAAAAAAAAAAAAAAAAAAAAAAAAAAAAAAAAAAAAAAAAAAAAAAAAAAAAAAAAAAAAAAAAAAAAAAAAAAAAAAAAAADqpGkyJgQfMzokajNhwo0zJnSrM2lY0TPvl/szLZwTNH0YKjT//kE0kM9bNF2RdzS9lYo0vFWaNAwhqzS7Eb00PTzQNKSy5DR6ifo0d+wINbldFTVMpiI1mNQwNfz3PzUCIVA1\",\"dtype\":\"float32\",\"shape\":[60]}},\"selected\":{\"id\":\"3898\"},\"selection_policy\":{\"id\":\"3897\"}},\"id\":\"3760\",\"type\":\"ColumnDataSource\"},{\"attributes\":{\"label\":{\"value\":\"Fit_I_A05-A14\"},\"renderers\":[{\"id\":\"2954\"}]},\"id\":\"2989\",\"type\":\"LegendItem\"},{\"attributes\":{\"line_alpha\":0.1,\"line_color\":\"#e7298a\",\"line_dash\":[6],\"line_width\":1.5,\"x\":{\"field\":\"x\"},\"y\":{\"field\":\"y\"}},\"id\":\"2813\",\"type\":\"Line\"},{\"attributes\":{\"source\":{\"id\":\"3830\"}},\"id\":\"3835\",\"type\":\"CDSView\"},{\"attributes\":{\"label\":{\"value\":\"Fit_I_A35-A59\"},\"renderers\":[{\"id\":\"2994\"}]},\"id\":\"3031\",\"type\":\"LegendItem\"},{\"attributes\":{\"source\":{\"id\":\"2842\"}},\"id\":\"2847\",\"type\":\"CDSView\"},{\"attributes\":{\"data_source\":{\"id\":\"3032\"},\"glyph\":{\"id\":\"3034\"},\"hover_glyph\":null,\"muted_glyph\":null,\"name\":\"_Fit_I_A60-A79\",\"nonselection_glyph\":{\"id\":\"3035\"},\"selection_glyph\":null,\"view\":{\"id\":\"3037\"}},\"id\":\"3036\",\"type\":\"GlyphRenderer\"},{\"attributes\":{\"line_alpha\":0.1,\"line_color\":\"#1b9e77\",\"line_dash\":[6],\"line_width\":1.5,\"x\":{\"field\":\"x\"},\"y\":{\"field\":\"y\"}},\"id\":\"2915\",\"type\":\"Line\"},{\"attributes\":{},\"id\":\"2710\",\"type\":\"PanTool\"},{\"attributes\":{},\"id\":\"3027\",\"type\":\"UnionRenderers\"},{\"attributes\":{\"data\":{\"x\":{\"__ndarray__\":\"AADAhb0Dd0IAAIDrDwR3QgAAQFFiBHdCAAAAt7QEd0IAAMAcBwV3QgAAgIJZBXdCAABA6KsFd0IAAABO/gV3QgAAwLNQBndCAACAGaMGd0IAAEB/9QZ3QgAAAOVHB3dCAADASpoHd0IAAICw7Ad3QgAAQBY/CHdCAAAAfJEId0IAAMDh4wh3QgAAgEc2CXdCAABArYgJd0IAAAAT2wl3QgAAwHgtCndCAACA3n8Kd0IAAEBE0gp3QgAAAKokC3dCAADAD3cLd0IAAIB1yQt3QgAAQNsbDHdCAAAAQW4Md0IAAMCmwAx3QgAAgAwTDXdCAABAcmUNd0IAAADYtw13QgAAwD0KDndCAACAo1wOd0IAAEAJrw53QgAAAG8BD3dCAADA1FMPd0IAAIA6pg93QgAAQKD4D3dCAAAABksQd0IAAMBrnRB3QgAAgNHvEHdCAABAN0IRd0IAAACdlBF3QgAAwALnEXdCAACAaDkSd0IAAEDOixJ3QgAAADTeEndCAADAmTATd0IAAID/ghN3QgAAQGXVE3dCAAAAyycUd0IAAMAwehR3QgAAgJbMFHdCAABA/B4Vd0IAAABicRV3QgAAwMfDFXdCAACALRYWd0IAAECTaBZ3QgAAAPm6FndC\",\"dtype\":\"float64\",\"shape\":[60]},\"y\":{\"__ndarray__\":\"AAAAAJvyaiegtnoo4zUbKXoGmilZ/AkqSu5oKkJ2vCpUhRMrDc1gKxBxpytZkfQrrHsvLKTHdyzKTqwsKEHsLDTIHy3oVFUtcaSMLT43ty3I6OstZi0WLjsiPS56tWsuWGaRLiimsS7zCdcutv4AL4NzGS+gEzUvTAxULwGIdi+CV44vE1SjL+JMui9vVdMvGvDtLwztBDDtwxMwfrQjMPHGNDDF/UYwZmhaMAcgbzC7n4Iwr2+OMP8LmzDxgagwVOC2MCI3xjA6l9YwcxLoMNi7+jDnUwcxEvYRMRBQHTFLbikxAl42MVktRDFq61Ix\",\"dtype\":\"float32\",\"shape\":[60]}},\"selected\":{\"id\":\"3436\"},\"selection_policy\":{\"id\":\"3435\"}},\"id\":\"3326\",\"type\":\"ColumnDataSource\"},{\"attributes\":{},\"id\":\"3825\",\"type\":\"UnionRenderers\"},{\"attributes\":{\"line_alpha\":0.8,\"line_color\":\"#e7298a\",\"line_dash\":[6],\"line_width\":1.5,\"x\":{\"field\":\"x\"},\"y\":{\"field\":\"y\"}},\"id\":\"3034\",\"type\":\"Line\"},{\"attributes\":{\"line_alpha\":0.1,\"line_color\":\"#66a61e\",\"line_dash\":[6],\"line_width\":1.5,\"x\":{\"field\":\"x\"},\"y\":{\"field\":\"y\"}},\"id\":\"3763\",\"type\":\"Line\"},{\"attributes\":{\"data_source\":{\"id\":\"2810\"},\"glyph\":{\"id\":\"2812\"},\"hover_glyph\":null,\"muted_glyph\":null,\"name\":\"_Fit_(S_0-S)_A60-A79\",\"nonselection_glyph\":{\"id\":\"2813\"},\"selection_glyph\":null,\"view\":{\"id\":\"2815\"}},\"id\":\"2814\",\"type\":\"GlyphRenderer\"},{\"attributes\":{\"source\":{\"id\":\"3760\"}},\"id\":\"3765\",\"type\":\"CDSView\"},{\"attributes\":{\"data_source\":{\"id\":\"3760\"},\"glyph\":{\"id\":\"3762\"},\"hover_glyph\":null,\"muted_glyph\":null,\"name\":\"_Fit_C_A80+\",\"nonselection_glyph\":{\"id\":\"3763\"},\"selection_glyph\":null,\"view\":{\"id\":\"3765\"}},\"id\":\"3764\",\"type\":\"GlyphRenderer\"},{\"attributes\":{},\"id\":\"3071\",\"type\":\"UnionRenderers\"},{\"attributes\":{\"label\":{\"value\":\"Fit_I_A60-A79\"},\"renderers\":[{\"id\":\"3036\"}]},\"id\":\"3075\",\"type\":\"LegendItem\"},{\"attributes\":{\"line_alpha\":0.8,\"line_color\":\"#66a61e\",\"line_dash\":[6],\"line_width\":1.5,\"x\":{\"field\":\"x\"},\"y\":{\"field\":\"y\"}},\"id\":\"3762\",\"type\":\"Line\"},{\"attributes\":{},\"id\":\"3557\",\"type\":\"UnionRenderers\"},{\"attributes\":{\"data\":{\"x\":{\"__ndarray__\":\"AADAhb0Dd0IAAIDrDwR3QgAAQFFiBHdCAAAAt7QEd0IAAMAcBwV3QgAAgIJZBXdCAABA6KsFd0IAAABO/gV3QgAAwLNQBndCAACAGaMGd0IAAEB/9QZ3QgAAAOVHB3dCAADASpoHd0IAAICw7Ad3QgAAQBY/CHdCAAAAfJEId0IAAMDh4wh3QgAAgEc2CXdCAABArYgJd0IAAAAT2wl3QgAAwHgtCndCAACA3n8Kd0IAAEBE0gp3QgAAAKokC3dCAADAD3cLd0IAAIB1yQt3QgAAQNsbDHdCAAAAQW4Md0IAAMCmwAx3QgAAgAwTDXdCAABAcmUNd0IAAADYtw13QgAAwD0KDndCAACAo1wOd0IAAEAJrw53QgAAAG8BD3dCAADA1FMPd0IAAIA6pg93QgAAQKD4D3dCAAAABksQd0IAAMBrnRB3QgAAgNHvEHdCAABAN0IRd0IAAACdlBF3QgAAwALnEXdCAACAaDkSd0IAAEDOixJ3QgAAADTeEndCAADAmTATd0IAAID/ghN3QgAAQGXVE3dCAAAAyycUd0IAAMAwehR3QgAAgJbMFHdCAABA/B4Vd0IAAABicRV3QgAAwMfDFXdCAACALRYWd0IAAECTaBZ3QgAAAPm6FndC\",\"dtype\":\"float64\",\"shape\":[60]},\"y\":{\"__ndarray__\":\"AAAAAAxGGCfcfSIobjDJKCSnRymi3LIpavcWKnRKdCq2OL8qhrIRKyoLWSsygp4rnXfjKySXICzuWV8s4h6ZLHEdzyyRQwotM042LZp9bS2b5ZgtQarCLWIp9S1bxBgu5Xg8Ll5GZi7UXosuMDWnLqfoxi7Gt+oumG4JL/zHHy8ngjgvQ7ZTLyx9cS8V+IgvMjaaL6RNrC/iib8vQjPUL2RU6i9C+AAw0I0NMDH7GjDEUSkwhqE4MC76SDDybFowAw1tMIt3gDCFFIswAGmWMFOBojC2aq8wSzO9MCnqyzBmn9swLWTsMNRK/jB3swgx\",\"dtype\":\"float32\",\"shape\":[60]}},\"selected\":{\"id\":\"3496\"},\"selection_policy\":{\"id\":\"3495\"}},\"id\":\"3382\",\"type\":\"ColumnDataSource\"},{\"attributes\":{},\"id\":\"2837\",\"type\":\"UnionRenderers\"},{\"attributes\":{\"label\":{\"value\":\"Fit_I_A80+\"},\"renderers\":[{\"id\":\"3080\"}]},\"id\":\"3121\",\"type\":\"LegendItem\"},{\"attributes\":{\"data\":{\"x\":{\"__ndarray__\":\"AADAhb0Dd0IAAIDrDwR3QgAAQFFiBHdCAAAAt7QEd0IAAMAcBwV3QgAAgIJZBXdCAABA6KsFd0IAAABO/gV3QgAAwLNQBndCAACAGaMGd0IAAEB/9QZ3QgAAAOVHB3dCAADASpoHd0IAAICw7Ad3QgAAQBY/CHdCAAAAfJEId0IAAMDh4wh3QgAAgEc2CXdCAABArYgJd0IAAAAT2wl3QgAAwHgtCndCAACA3n8Kd0IAAEBE0gp3QgAAAKokC3dCAADAD3cLd0IAAIB1yQt3QgAAQNsbDHdCAAAAQW4Md0IAAMCmwAx3QgAAgAwTDXdCAABAcmUNd0IAAADYtw13QgAAwD0KDndCAACAo1wOd0IAAEAJrw53QgAAAG8BD3dCAADA1FMPd0IAAIA6pg93QgAAQKD4D3dCAAAABksQd0IAAMBrnRB3QgAAgNHvEHdCAABAN0IRd0IAAACdlBF3QgAAwALnEXdCAACAaDkSd0IAAEDOixJ3QgAAADTeEndCAADAmTATd0IAAID/ghN3QgAAQGXVE3dCAAAAyycUd0IAAMAwehR3QgAAgJbMFHdCAABA/B4Vd0IAAABicRV3QgAAwMfDFXdCAACALRYWd0IAAECTaBZ3QgAAAPm6FndC\",\"dtype\":\"float64\",\"shape\":[60]},\"y\":{\"__ndarray__\":\"c+hpMhoyHzPjZ2ozVuuNM66lqzPflNEzk+D7M8jGEzSOSSo07TZCNOMOXDSc2Hc0k72KNAeCmjQTUqs0xke9NJ530DSr8+Q0eND6NB4TCTW0hxU1ytMiNcoFMTUXLUA1N1pQNe6eYTUfDnQ19d2DNe5ejjVylZk1w42lNftUsjUR+b8174jONYIU3jWJ2ew15Gv7NS7+BTbcUA82/ykZNtZ7IzavcS420TA6Ns7HRjYZOlQ2BZBiNpbacTb4FoE2kM6JNiodkzZ4DJ02QqenNlj5sjYyD782CPbLNuC72TbLb+g22CH4NppxBDcdYw03\",\"dtype\":\"float32\",\"shape\":[60]}},\"selected\":{\"id\":\"3166\"},\"selection_policy\":{\"id\":\"3165\"}},\"id\":\"3076\",\"type\":\"ColumnDataSource\"},{\"attributes\":{},\"id\":\"3826\",\"type\":\"Selection\"},{\"attributes\":{\"label\":{\"value\":\"Fit_C_A80+\"},\"renderers\":[{\"id\":\"3764\"}]},\"id\":\"3829\",\"type\":\"LegendItem\"},{\"attributes\":{\"source\":{\"id\":\"2912\"}},\"id\":\"2917\",\"type\":\"CDSView\"},{\"attributes\":{\"line_alpha\":0.8,\"line_color\":\"#1b9e77\",\"line_dash\":[6],\"line_width\":1.5,\"x\":{\"field\":\"x\"},\"y\":{\"field\":\"y\"}},\"id\":\"2914\",\"type\":\"Line\"},{\"attributes\":{\"source\":{\"id\":\"3032\"}},\"id\":\"3037\",\"type\":\"CDSView\"},{\"attributes\":{\"line_alpha\":0.8,\"line_color\":\"#66a61e\",\"line_dash\":[6],\"line_width\":1.5,\"x\":{\"field\":\"x\"},\"y\":{\"field\":\"y\"}},\"id\":\"3078\",\"type\":\"Line\"},{\"attributes\":{\"line_alpha\":0.1,\"line_color\":\"#1b9e77\",\"line_dash\":[6],\"line_width\":1.5,\"x\":{\"field\":\"x\"},\"y\":{\"field\":\"y\"}},\"id\":\"3833\",\"type\":\"Line\"},{\"attributes\":{\"source\":{\"id\":\"2810\"}},\"id\":\"2815\",\"type\":\"CDSView\"},{\"attributes\":{},\"id\":\"2946\",\"type\":\"Selection\"},{\"attributes\":{},\"id\":\"3072\",\"type\":\"Selection\"},{\"attributes\":{\"line_alpha\":0.1,\"line_color\":\"#e7298a\",\"line_dash\":[6],\"line_width\":1.5,\"x\":{\"field\":\"x\"},\"y\":{\"field\":\"y\"}},\"id\":\"3035\",\"type\":\"Line\"},{\"attributes\":{\"line_alpha\":0.8,\"line_color\":\"#d95f02\",\"line_dash\":[6],\"line_width\":1.5,\"x\":{\"field\":\"x\"},\"y\":{\"field\":\"y\"}},\"id\":\"2952\",\"type\":\"Line\"},{\"attributes\":{},\"id\":\"2945\",\"type\":\"UnionRenderers\"},{\"attributes\":{},\"id\":\"3118\",\"type\":\"Selection\"},{\"attributes\":{\"data\":{\"x\":{\"__ndarray__\":\"AADAhb0Dd0IAAIDrDwR3QgAAQFFiBHdCAAAAt7QEd0IAAMAcBwV3QgAAgIJZBXdCAABA6KsFd0IAAABO/gV3QgAAwLNQBndCAACAGaMGd0IAAEB/9QZ3QgAAAOVHB3dCAADASpoHd0IAAICw7Ad3QgAAQBY/CHdCAAAAfJEId0IAAMDh4wh3QgAAgEc2CXdCAABArYgJd0IAAAAT2wl3QgAAwHgtCndCAACA3n8Kd0IAAEBE0gp3QgAAAKokC3dCAADAD3cLd0IAAIB1yQt3QgAAQNsbDHdCAAAAQW4Md0IAAMCmwAx3QgAAgAwTDXdCAABAcmUNd0IAAADYtw13QgAAwD0KDndCAACAo1wOd0IAAEAJrw53QgAAAG8BD3dCAADA1FMPd0IAAIA6pg93QgAAQKD4D3dCAAAABksQd0IAAMBrnRB3QgAAgNHvEHdCAABAN0IRd0IAAACdlBF3QgAAwALnEXdCAACAaDkSd0IAAEDOixJ3QgAAADTeEndCAADAmTATd0IAAID/ghN3QgAAQGXVE3dCAAAAyycUd0IAAMAwehR3QgAAgJbMFHdCAABA/B4Vd0IAAABicRV3QgAAwMfDFXdCAACALRYWd0IAAECTaBZ3QgAAAPm6FndC\",\"dtype\":\"float64\",\"shape\":[60]},\"y\":{\"__ndarray__\":\"AAAAAAAAgDMAAIAzAACAMwAAgDMAAIAzAAAANAAAQDQAAIA0AACgNAAAwDQAAOA0AAAANQAAEDUAACA1AAAwNQAAQDUAAFA1AABgNQAAcDUAAIA1AACINQAAkDUAAJg1AACoNQAAuDUAAMg1AADYNQAA6DUAAPg1AAAENgAADDYAABg2AAAkNgAAMDYAADw2AABINgAAWDYAAGg2AAB4NgAAhDYAAI42AACYNgAAojYAAK42AAC6NgAAyDYAANY2AADkNgAA9DYAAAM3AAAMNwAAFjcAACA3AAArNwAANzcAAEQ3AABRNwAAXzcAAG43\",\"dtype\":\"float32\",\"shape\":[60]}},\"selected\":{\"id\":\"2872\"},\"selection_policy\":{\"id\":\"2871\"}},\"id\":\"2810\",\"type\":\"ColumnDataSource\"},{\"attributes\":{\"data\":{\"x\":{\"__ndarray__\":\"AADAhb0Dd0IAAIDrDwR3QgAAQFFiBHdCAAAAt7QEd0IAAMAcBwV3QgAAgIJZBXdCAABA6KsFd0IAAABO/gV3QgAAwLNQBndCAACAGaMGd0IAAEB/9QZ3QgAAAOVHB3dCAADASpoHd0IAAICw7Ad3QgAAQBY/CHdCAAAAfJEId0IAAMDh4wh3QgAAgEc2CXdCAABArYgJd0IAAAAT2wl3QgAAwHgtCndCAACA3n8Kd0IAAEBE0gp3QgAAAKokC3dCAADAD3cLd0IAAIB1yQt3QgAAQNsbDHdCAAAAQW4Md0IAAMCmwAx3QgAAgAwTDXdCAABAcmUNd0IAAADYtw13QgAAwD0KDndCAACAo1wOd0IAAEAJrw53QgAAAG8BD3dCAADA1FMPd0IAAIA6pg93QgAAQKD4D3dCAAAABksQd0IAAMBrnRB3QgAAgNHvEHdCAABAN0IRd0IAAACdlBF3QgAAwALnEXdCAACAaDkSd0IAAEDOixJ3QgAAADTeEndCAADAmTATd0IAAID/ghN3QgAAQGXVE3dCAAAAyycUd0IAAMAwehR3QgAAgJbMFHdCAABA/B4Vd0IAAABicRV3QgAAwMfDFXdCAACALRYWd0IAAECTaBZ3QgAAAPm6FndC\",\"dtype\":\"float64\",\"shape\":[60]},\"y\":{\"__ndarray__\":\"he7HMV4SiDJyW8gyD5zyMu62EjOHIzMzdUpXM1iffDNhjZEzAgGmM/gXvDNj2NMz8iztM5sQBDR4bxI0VckhNLUvMjQIskM03GFWNOtTajTInn80BC2LNCtPlzT6QqQ0mhayNC7ZwDTimtA07WzhNLZh8zRsRgM1o4ENNbJtGDWKFiQ174gwNXfSPTVLcko10eZWNVsPZTVi/3Q1ouqCNb+8izUPG5U1ZSWfNUToqTWOZrU1b6fBNWy5zjW9rdw1rpTrNcF9+zXFPAY2Rk0PNm36GDbuTiM2DlYuNs8bOjYLrUY2ihdUNu9pYjbqs3E2\",\"dtype\":\"float32\",\"shape\":[60]}},\"selected\":{\"id\":\"3028\"},\"selection_policy\":{\"id\":\"3027\"}},\"id\":\"2950\",\"type\":\"ColumnDataSource\"},{\"attributes\":{},\"id\":\"2694\",\"type\":\"DataRange1d\"},{\"attributes\":{\"base\":24,\"mantissas\":[1,2,4,6,8,12],\"max_interval\":43200000.0,\"min_interval\":3600000.0,\"num_minor_ticks\":0},\"id\":\"2738\",\"type\":\"AdaptiveTicker\"},{\"attributes\":{},\"id\":\"3897\",\"type\":\"UnionRenderers\"},{\"attributes\":{\"data_source\":{\"id\":\"3830\"},\"glyph\":{\"id\":\"3832\"},\"hover_glyph\":null,\"muted_glyph\":null,\"name\":\"_Fit_C_A00-A04\",\"nonselection_glyph\":{\"id\":\"3833\"},\"selection_glyph\":null,\"view\":{\"id\":\"3835\"}},\"id\":\"3834\",\"type\":\"GlyphRenderer\"},{\"attributes\":{\"line_alpha\":0.8,\"line_color\":\"#e7298a\",\"line_dash\":[6],\"line_width\":1.5,\"x\":{\"field\":\"x\"},\"y\":{\"field\":\"y\"}},\"id\":\"3328\",\"type\":\"Line\"},{\"attributes\":{},\"id\":\"3898\",\"type\":\"Selection\"},{\"attributes\":{\"label\":{\"value\":\"Fit_C_A00-A04\"},\"renderers\":[{\"id\":\"3834\"}]},\"id\":\"3901\",\"type\":\"LegendItem\"},{\"attributes\":{},\"id\":\"2986\",\"type\":\"Selection\"},{\"attributes\":{},\"id\":\"2735\",\"type\":\"DatetimeTickFormatter\"},{\"attributes\":{\"line_alpha\":0.1,\"line_color\":\"#d95f02\",\"line_dash\":[6],\"line_width\":1.5,\"x\":{\"field\":\"x\"},\"y\":{\"field\":\"y\"}},\"id\":\"2953\",\"type\":\"Line\"},{\"attributes\":{},\"id\":\"2908\",\"type\":\"Selection\"},{\"attributes\":{\"mantissas\":[1,2,5],\"max_interval\":500.0,\"num_minor_ticks\":0},\"id\":\"2736\",\"type\":\"AdaptiveTicker\"},{\"attributes\":{},\"id\":\"3558\",\"type\":\"Selection\"},{\"attributes\":{},\"id\":\"4051\",\"type\":\"UnionRenderers\"},{\"attributes\":{\"data_source\":{\"id\":\"2876\"},\"glyph\":{\"id\":\"2878\"},\"hover_glyph\":null,\"muted_glyph\":null,\"name\":\"_Fit_(S_0-S)_A00-A04\",\"nonselection_glyph\":{\"id\":\"2879\"},\"selection_glyph\":null,\"view\":{\"id\":\"2881\"}},\"id\":\"2880\",\"type\":\"GlyphRenderer\"},{\"attributes\":{\"data_source\":{\"id\":\"2950\"},\"glyph\":{\"id\":\"2952\"},\"hover_glyph\":null,\"muted_glyph\":null,\"name\":\"_Fit_I_A05-A14\",\"nonselection_glyph\":{\"id\":\"2953\"},\"selection_glyph\":null,\"view\":{\"id\":\"2955\"}},\"id\":\"2954\",\"type\":\"GlyphRenderer\"},{\"attributes\":{},\"id\":\"2985\",\"type\":\"UnionRenderers\"},{\"attributes\":{},\"id\":\"4052\",\"type\":\"Selection\"},{\"attributes\":{\"data\":{\"x\":{\"__ndarray__\":\"AADAhb0Dd0IAAIDrDwR3QgAAQFFiBHdCAAAAt7QEd0IAAMAcBwV3QgAAgIJZBXdCAABA6KsFd0IAAABO/gV3QgAAwLNQBndCAACAGaMGd0IAAEB/9QZ3QgAAAOVHB3dCAADASpoHd0IAAICw7Ad3QgAAQBY/CHdCAAAAfJEId0IAAMDh4wh3QgAAgEc2CXdCAABArYgJd0IAAAAT2wl3QgAAwHgtCndCAACA3n8Kd0IAAEBE0gp3QgAAAKokC3dCAADAD3cLd0IAAIB1yQt3QgAAQNsbDHdCAAAAQW4Md0IAAMCmwAx3QgAAgAwTDXdCAABAcmUNd0IAAADYtw13QgAAwD0KDndCAACAo1wOd0IAAEAJrw53QgAAAG8BD3dCAADA1FMPd0IAAIA6pg93QgAAQKD4D3dCAAAABksQd0IAAMBrnRB3QgAAgNHvEHdCAABAN0IRd0IAAACdlBF3QgAAwALnEXdCAACAaDkSd0IAAEDOixJ3QgAAADTeEndCAADAmTATd0IAAID/ghN3QgAAQGXVE3dCAAAAyycUd0IAAMAwehR3QgAAgJbMFHdCAABA/B4Vd0IAAABicRV3QgAAwMfDFXdCAACALRYWd0IAAECTaBZ3QgAAAPm6FndC\",\"dtype\":\"float64\",\"shape\":[60]},\"y\":{\"__ndarray__\":\"x7yMMbyRPzJ0CY0ykceqMoeNzjKPM/wylIwXM+/TMTOe6kwzn7VpM31nhDOqH5UzUfSmM5ztuTPrKM4zmcXjM0zc+jNiwQk02+gWNCPzJDQm8DM0fvBDNIAFVTSwQWc087h6NFPAhzTC15I06K6eNLJSqzT10Lg0cjjHNOaY1jQkA+c0Gon4NP6eBTX0gQ41ckYXNd89ITXrdSw1wk84Ndu6RDVU61E1AA5gNXM0bzXKYn81i1GINd+EkTWKV5s1+dSlNSEIsTWu/Lw1mL/JNRhf1zUu6uU1vHD1NdgBAzaO2gs2MkwVNhZhHzZCJCo2\",\"dtype\":\"float32\",\"shape\":[60]}},\"selected\":{\"id\":\"2986\"},\"selection_policy\":{\"id\":\"2985\"}},\"id\":\"2912\",\"type\":\"ColumnDataSource\"},{\"attributes\":{\"label\":{\"value\":\"Fit_(S_0-S)_A00-A04\"},\"renderers\":[{\"id\":\"2880\"}]},\"id\":\"2911\",\"type\":\"LegendItem\"}],\"root_ids\":[\"2691\"]},\"title\":\"Bokeh Application\",\"version\":\"2.0.2\"}};\n",
       "  var render_items = [{\"docid\":\"6cadb06e-2973-4ccd-9788-85071bf444f4\",\"notebook_comms_target\":\"4055\",\"root_ids\":[\"2691\"],\"roots\":{\"2691\":\"15dd32be-7e14-441f-bcb4-c38c0f421c16\"}}];\n",
       "  root.Bokeh.embed.embed_items_notebook(docs_json, render_items);\n",
       "\n",
       "  }\n",
       "  if (root.Bokeh !== undefined) {\n",
       "    embed_document(root);\n",
       "  } else {\n",
       "    var attempts = 0;\n",
       "    var timer = setInterval(function(root) {\n",
       "      if (root.Bokeh !== undefined) {\n",
       "        clearInterval(timer);\n",
       "        embed_document(root);\n",
       "      } else {\n",
       "        attempts++;\n",
       "        if (attempts > 100) {\n",
       "          clearInterval(timer);\n",
       "          console.log(\"Bokeh: ERROR: Unable to run BokehJS code because BokehJS library is missing\");\n",
       "        }\n",
       "      }\n",
       "    }, 10, root)\n",
       "  }\n",
       "})(window);"
      ],
      "application/vnd.bokehjs_exec.v0+json": ""
     },
     "metadata": {
      "application/vnd.bokehjs_exec.v0+json": {
       "id": "2691"
      }
     },
     "output_type": "display_data"
    },
    {
     "data": {
      "text/html": [
       "\n",
       "\n",
       "\n",
       "\n",
       "\n",
       "\n",
       "  <div class=\"bk-root\" id=\"ff655c22-0d97-411e-baab-7012a88c648c\" data-root-id=\"4458\"></div>\n"
      ]
     },
     "metadata": {},
     "output_type": "display_data"
    },
    {
     "data": {
      "application/javascript": [
       "(function(root) {\n",
       "  function embed_document(root) {\n",
       "    \n",
       "  var docs_json = {\"2622e414-71d4-40d2-a7d1-d6719dc8744a\":{\"roots\":{\"references\":[{\"attributes\":{\"background_fill_color\":\"#efefef\",\"below\":[{\"id\":\"4469\"}],\"center\":[{\"id\":\"4472\"},{\"id\":\"4476\"},{\"id\":\"4517\"}],\"left\":[{\"id\":\"4473\"}],\"name\":\"_figure_R\",\"plot_height\":400,\"plot_width\":900,\"renderers\":[{\"id\":\"4496\"},{\"id\":\"4523\"},{\"id\":\"4551\"},{\"id\":\"4581\"},{\"id\":\"4613\"},{\"id\":\"4647\"}],\"title\":{\"id\":\"4459\"},\"toolbar\":{\"id\":\"4485\"},\"x_range\":{\"id\":\"4461\"},\"x_scale\":{\"id\":\"4465\"},\"y_range\":{\"id\":\"4463\"},\"y_scale\":{\"id\":\"4467\"}},\"id\":\"4458\",\"subtype\":\"Figure\",\"type\":\"Plot\"},{\"attributes\":{\"data_source\":{\"id\":\"4547\"},\"glyph\":{\"id\":\"4549\"},\"hover_glyph\":null,\"muted_glyph\":null,\"name\":\"_Fit_R_A35-A59\",\"nonselection_glyph\":{\"id\":\"4550\"},\"selection_glyph\":null,\"view\":{\"id\":\"4552\"}},\"id\":\"4551\",\"type\":\"GlyphRenderer\"},{\"attributes\":{\"bottom_units\":\"screen\",\"fill_alpha\":0.5,\"fill_color\":\"lightgrey\",\"left_units\":\"screen\",\"level\":\"overlay\",\"line_alpha\":1.0,\"line_color\":\"black\",\"line_dash\":[4,4],\"line_width\":2,\"render_mode\":\"css\",\"right_units\":\"screen\",\"top_units\":\"screen\"},\"id\":\"4484\",\"type\":\"BoxAnnotation\"},{\"attributes\":{\"bottom_units\":\"screen\",\"fill_alpha\":0.5,\"fill_color\":\"lightgrey\",\"left_units\":\"screen\",\"level\":\"overlay\",\"line_alpha\":1.0,\"line_color\":\"black\",\"line_dash\":[4,4],\"line_width\":2,\"render_mode\":\"css\",\"right_units\":\"screen\",\"top_units\":\"screen\"},\"id\":\"4483\",\"type\":\"BoxAnnotation\"},{\"attributes\":{\"source\":{\"id\":\"4547\"}},\"id\":\"4552\",\"type\":\"CDSView\"},{\"attributes\":{},\"id\":\"4573\",\"type\":\"Selection\"},{\"attributes\":{\"label\":{\"value\":\"Fit_R_A35-A59\"},\"renderers\":[{\"id\":\"4551\"}]},\"id\":\"4576\",\"type\":\"LegendItem\"},{\"attributes\":{\"overlay\":{\"id\":\"4483\"}},\"id\":\"4482\",\"type\":\"BoxSelectTool\"},{\"attributes\":{\"data\":{\"x\":{\"__ndarray__\":\"AADAhb0Dd0IAAIDrDwR3QgAAQFFiBHdCAAAAt7QEd0IAAMAcBwV3QgAAgIJZBXdCAABA6KsFd0IAAABO/gV3QgAAwLNQBndCAACAGaMGd0IAAEB/9QZ3QgAAAOVHB3dCAADASpoHd0IAAICw7Ad3QgAAQBY/CHdCAAAAfJEId0IAAMDh4wh3QgAAgEc2CXdCAABArYgJd0IAAAAT2wl3QgAAwHgtCndCAACA3n8Kd0IAAEBE0gp3QgAAAKokC3dCAADAD3cLd0IAAIB1yQt3QgAAQNsbDHdCAAAAQW4Md0IAAMCmwAx3QgAAgAwTDXdCAABAcmUNd0IAAADYtw13QgAAwD0KDndCAACAo1wOd0IAAEAJrw53QgAAAG8BD3dCAADA1FMPd0IAAIA6pg93QgAAQKD4D3dCAAAABksQd0IAAMBrnRB3QgAAgNHvEHdCAABAN0IRd0IAAACdlBF3QgAAwALnEXdCAACAaDkSd0IAAEDOixJ3QgAAADTeEndCAADAmTATd0IAAID/ghN3QgAAQGXVE3dCAAAAyycUd0IAAMAwehR3QgAAgJbMFHdCAABA/B4Vd0IAAABicRV3QgAAwMfDFXdCAACALRYWd0IAAECTaBZ3QgAAAPm6FndC\",\"dtype\":\"float64\",\"shape\":[60]},\"y\":{\"__ndarray__\":\"ZmamP2Zmpj9mZqY/ZmamP2Zmpj9mZqY/ZmamP2Zmpj9mZqY/ZmamP2Zmpj9mZqY/ZmamP2Zmpj9mZqY/ZmamP2Zmpj9mZqY/ZmamP2Zmpj9mZqY/ZmamP2Zmpj9mZqY/ZmamP2Zmpj9mZqY/ZmamP2Zmpj9mZqY/ZmamP2Zmpj9mZqY/ZmamP2Zmpj9mZqY/ZmamP2Zmpj9mZqY/ZmamP2Zmpj9mZqY/ZmamP2Zmpj9mZqY/ZmamP2Zmpj9mZqY/ZmamP2Zmpj9mZqY/ZmamP2Zmpj9mZqY/ZmamP2Zmpj9mZqY/ZmamP2Zmpj9mZqY/\",\"dtype\":\"float32\",\"shape\":[60]}},\"selected\":{\"id\":\"4639\"},\"selection_policy\":{\"id\":\"4638\"}},\"id\":\"4577\",\"type\":\"ColumnDataSource\"},{\"attributes\":{},\"id\":\"4481\",\"type\":\"SaveTool\"},{\"attributes\":{},\"id\":\"4480\",\"type\":\"ResetTool\"},{\"attributes\":{},\"id\":\"4467\",\"type\":\"LinearScale\"},{\"attributes\":{\"axis_label\":\"time\",\"formatter\":{\"id\":\"4502\"},\"major_label_orientation\":0.7853981633974483,\"ticker\":{\"id\":\"4470\"}},\"id\":\"4469\",\"type\":\"DatetimeAxis\"},{\"attributes\":{},\"id\":\"4604\",\"type\":\"UnionRenderers\"},{\"attributes\":{\"num_minor_ticks\":5,\"tickers\":[{\"id\":\"4503\"},{\"id\":\"4504\"},{\"id\":\"4505\"},{\"id\":\"4506\"},{\"id\":\"4507\"},{\"id\":\"4508\"},{\"id\":\"4509\"},{\"id\":\"4510\"},{\"id\":\"4511\"},{\"id\":\"4512\"},{\"id\":\"4513\"},{\"id\":\"4514\"}]},\"id\":\"4470\",\"type\":\"DatetimeTicker\"},{\"attributes\":{\"line_alpha\":0.1,\"line_color\":\"#e7298a\",\"line_dash\":[6],\"line_width\":1.5,\"x\":{\"field\":\"x\"},\"y\":{\"field\":\"y\"}},\"id\":\"4580\",\"type\":\"Line\"},{\"attributes\":{\"axis\":{\"id\":\"4469\"},\"ticker\":null},\"id\":\"4472\",\"type\":\"Grid\"},{\"attributes\":{\"source\":{\"id\":\"4577\"}},\"id\":\"4582\",\"type\":\"CDSView\"},{\"attributes\":{\"data_source\":{\"id\":\"4577\"},\"glyph\":{\"id\":\"4579\"},\"hover_glyph\":null,\"muted_glyph\":null,\"name\":\"_Fit_R_A60-A79\",\"nonselection_glyph\":{\"id\":\"4580\"},\"selection_glyph\":null,\"view\":{\"id\":\"4582\"}},\"id\":\"4581\",\"type\":\"GlyphRenderer\"},{\"attributes\":{\"axis_label\":\"Rate\",\"formatter\":{\"id\":\"4500\"},\"ticker\":{\"id\":\"4474\"}},\"id\":\"4473\",\"type\":\"LinearAxis\"},{\"attributes\":{\"line_alpha\":0.8,\"line_color\":\"#e7298a\",\"line_dash\":[6],\"line_width\":1.5,\"x\":{\"field\":\"x\"},\"y\":{\"field\":\"y\"}},\"id\":\"4579\",\"type\":\"Line\"},{\"attributes\":{},\"id\":\"4474\",\"type\":\"BasicTicker\"},{\"attributes\":{\"axis\":{\"id\":\"4473\"},\"dimension\":1,\"ticker\":null},\"id\":\"4476\",\"type\":\"Grid\"},{\"attributes\":{},\"id\":\"4605\",\"type\":\"Selection\"},{\"attributes\":{\"label\":{\"value\":\"Fit_R_A60-A79\"},\"renderers\":[{\"id\":\"4581\"}]},\"id\":\"4608\",\"type\":\"LegendItem\"},{\"attributes\":{\"data\":{\"x\":{\"__ndarray__\":\"AADAhb0Dd0IAAIDrDwR3QgAAQFFiBHdCAAAAt7QEd0IAAMAcBwV3QgAAgIJZBXdCAABA6KsFd0IAAABO/gV3QgAAwLNQBndCAACAGaMGd0IAAEB/9QZ3QgAAAOVHB3dCAADASpoHd0IAAICw7Ad3QgAAQBY/CHdCAAAAfJEId0IAAMDh4wh3QgAAgEc2CXdCAABArYgJd0IAAAAT2wl3QgAAwHgtCndCAACA3n8Kd0IAAEBE0gp3QgAAAKokC3dCAADAD3cLd0IAAIB1yQt3QgAAQNsbDHdCAAAAQW4Md0IAAMCmwAx3QgAAgAwTDXdCAABAcmUNd0IAAADYtw13QgAAwD0KDndCAACAo1wOd0IAAEAJrw53QgAAAG8BD3dCAADA1FMPd0IAAIA6pg93QgAAQKD4D3dCAAAABksQd0IAAMBrnRB3QgAAgNHvEHdCAABAN0IRd0IAAACdlBF3QgAAwALnEXdCAACAaDkSd0IAAEDOixJ3QgAAADTeEndCAADAmTATd0IAAID/ghN3QgAAQGXVE3dCAAAAyycUd0IAAMAwehR3QgAAgJbMFHdCAABA/B4Vd0IAAABicRV3QgAAwMfDFXdCAACALRYWd0IAAECTaBZ3QgAAAPm6FndC\",\"dtype\":\"float64\",\"shape\":[60]},\"y\":{\"__ndarray__\":\"ZmamP2Zmpj9mZqY/ZmamP2Zmpj9mZqY/ZmamP2Zmpj9mZqY/ZmamP2Zmpj9mZqY/ZmamP2Zmpj9mZqY/ZmamP2Zmpj9mZqY/ZmamP2Zmpj9mZqY/ZmamP2Zmpj9mZqY/ZmamP2Zmpj9mZqY/ZmamP2Zmpj9mZqY/ZmamP2Zmpj9mZqY/ZmamP2Zmpj9mZqY/ZmamP2Zmpj9mZqY/ZmamP2Zmpj9mZqY/ZmamP2Zmpj9mZqY/ZmamP2Zmpj9mZqY/ZmamP2Zmpj9mZqY/ZmamP2Zmpj9mZqY/ZmamP2Zmpj9mZqY/ZmamP2Zmpj9mZqY/\",\"dtype\":\"float32\",\"shape\":[60]}},\"selected\":{\"id\":\"4675\"},\"selection_policy\":{\"id\":\"4674\"}},\"id\":\"4609\",\"type\":\"ColumnDataSource\"},{\"attributes\":{\"source\":{\"id\":\"4643\"}},\"id\":\"4648\",\"type\":\"CDSView\"},{\"attributes\":{\"data\":{\"x\":{\"__ndarray__\":\"AADAhb0Dd0IAAIDrDwR3QgAAQFFiBHdCAAAAt7QEd0IAAMAcBwV3QgAAgIJZBXdCAABA6KsFd0IAAABO/gV3QgAAwLNQBndCAACAGaMGd0IAAEB/9QZ3QgAAAOVHB3dCAADASpoHd0IAAICw7Ad3QgAAQBY/CHdCAAAAfJEId0IAAMDh4wh3QgAAgEc2CXdCAABArYgJd0IAAAAT2wl3QgAAwHgtCndCAACA3n8Kd0IAAEBE0gp3QgAAAKokC3dCAADAD3cLd0IAAIB1yQt3QgAAQNsbDHdCAAAAQW4Md0IAAMCmwAx3QgAAgAwTDXdCAABAcmUNd0IAAADYtw13QgAAwD0KDndCAACAo1wOd0IAAEAJrw53QgAAAG8BD3dCAADA1FMPd0IAAIA6pg93QgAAQKD4D3dCAAAABksQd0IAAMBrnRB3QgAAgNHvEHdCAABAN0IRd0IAAACdlBF3QgAAwALnEXdCAACAaDkSd0IAAEDOixJ3QgAAADTeEndCAADAmTATd0IAAID/ghN3QgAAQGXVE3dCAAAAyycUd0IAAMAwehR3QgAAgJbMFHdCAABA/B4Vd0IAAABicRV3QgAAwMfDFXdCAACALRYWd0IAAECTaBZ3QgAAAPm6FndC\",\"dtype\":\"float64\",\"shape\":[60]},\"y\":{\"__ndarray__\":\"ZmamP2Zmpj9mZqY/ZmamP2Zmpj9mZqY/ZmamP2Zmpj9mZqY/ZmamP2Zmpj9mZqY/ZmamP2Zmpj9mZqY/ZmamP2Zmpj9mZqY/ZmamP2Zmpj9mZqY/ZmamP2Zmpj9mZqY/ZmamP2Zmpj9mZqY/ZmamP2Zmpj9mZqY/ZmamP2Zmpj9mZqY/ZmamP2Zmpj9mZqY/ZmamP2Zmpj9mZqY/ZmamP2Zmpj9mZqY/ZmamP2Zmpj9mZqY/ZmamP2Zmpj9mZqY/ZmamP2Zmpj9mZqY/ZmamP2Zmpj9mZqY/ZmamP2Zmpj9mZqY/ZmamP2Zmpj9mZqY/\",\"dtype\":\"float32\",\"shape\":[60]}},\"selected\":{\"id\":\"4860\"},\"selection_policy\":{\"id\":\"4859\"}},\"id\":\"4643\",\"type\":\"ColumnDataSource\"},{\"attributes\":{\"mantissas\":[1,2,5],\"max_interval\":500.0,\"num_minor_ticks\":0},\"id\":\"4503\",\"type\":\"AdaptiveTicker\"},{\"attributes\":{},\"id\":\"4638\",\"type\":\"UnionRenderers\"},{\"attributes\":{\"line_alpha\":0.1,\"line_color\":\"#66a61e\",\"line_dash\":[6],\"line_width\":1.5,\"x\":{\"field\":\"x\"},\"y\":{\"field\":\"y\"}},\"id\":\"4612\",\"type\":\"Line\"},{\"attributes\":{\"source\":{\"id\":\"4609\"}},\"id\":\"4614\",\"type\":\"CDSView\"},{\"attributes\":{\"data_source\":{\"id\":\"4609\"},\"glyph\":{\"id\":\"4611\"},\"hover_glyph\":null,\"muted_glyph\":null,\"name\":\"_Fit_R_A80+\",\"nonselection_glyph\":{\"id\":\"4612\"},\"selection_glyph\":null,\"view\":{\"id\":\"4614\"}},\"id\":\"4613\",\"type\":\"GlyphRenderer\"},{\"attributes\":{\"line_alpha\":0.8,\"line_color\":\"#66a61e\",\"line_dash\":[6],\"line_width\":1.5,\"x\":{\"field\":\"x\"},\"y\":{\"field\":\"y\"}},\"id\":\"4611\",\"type\":\"Line\"},{\"attributes\":{},\"id\":\"4477\",\"type\":\"PanTool\"},{\"attributes\":{},\"id\":\"4478\",\"type\":\"WheelZoomTool\"},{\"attributes\":{},\"id\":\"4639\",\"type\":\"Selection\"},{\"attributes\":{\"label\":{\"value\":\"Fit_R_A80+\"},\"renderers\":[{\"id\":\"4613\"}]},\"id\":\"4642\",\"type\":\"LegendItem\"},{\"attributes\":{\"line_alpha\":0.1,\"line_color\":\"#1b9e77\",\"line_dash\":[6],\"line_width\":1.5,\"x\":{\"field\":\"x\"},\"y\":{\"field\":\"y\"}},\"id\":\"4646\",\"type\":\"Line\"},{\"attributes\":{\"overlay\":{\"id\":\"4484\"}},\"id\":\"4479\",\"type\":\"BoxZoomTool\"},{\"attributes\":{},\"id\":\"4465\",\"type\":\"LinearScale\"},{\"attributes\":{},\"id\":\"4674\",\"type\":\"UnionRenderers\"},{\"attributes\":{\"data_source\":{\"id\":\"4643\"},\"glyph\":{\"id\":\"4645\"},\"hover_glyph\":null,\"muted_glyph\":null,\"name\":\"_Fit_R_A00-A04\",\"nonselection_glyph\":{\"id\":\"4646\"},\"selection_glyph\":null,\"view\":{\"id\":\"4648\"}},\"id\":\"4647\",\"type\":\"GlyphRenderer\"},{\"attributes\":{},\"id\":\"4463\",\"type\":\"DataRange1d\"},{\"attributes\":{},\"id\":\"4675\",\"type\":\"Selection\"},{\"attributes\":{\"label\":{\"value\":\"Fit_R_A00-A04\"},\"renderers\":[{\"id\":\"4647\"}]},\"id\":\"4678\",\"type\":\"LegendItem\"},{\"attributes\":{\"data\":{\"x\":{\"__ndarray__\":\"AADAhb0Dd0IAAIDrDwR3QgAAQFFiBHdCAAAAt7QEd0IAAMAcBwV3QgAAgIJZBXdCAABA6KsFd0IAAABO/gV3QgAAwLNQBndCAACAGaMGd0IAAEB/9QZ3QgAAAOVHB3dCAADASpoHd0IAAICw7Ad3QgAAQBY/CHdCAAAAfJEId0IAAMDh4wh3QgAAgEc2CXdCAABArYgJd0IAAAAT2wl3QgAAwHgtCndCAACA3n8Kd0IAAEBE0gp3QgAAAKokC3dCAADAD3cLd0IAAIB1yQt3QgAAQNsbDHdCAAAAQW4Md0IAAMCmwAx3QgAAgAwTDXdCAABAcmUNd0IAAADYtw13QgAAwD0KDndCAACAo1wOd0IAAEAJrw53QgAAAG8BD3dCAADA1FMPd0IAAIA6pg93QgAAQKD4D3dCAAAABksQd0IAAMBrnRB3QgAAgNHvEHdCAABAN0IRd0IAAACdlBF3QgAAwALnEXdCAACAaDkSd0IAAEDOixJ3QgAAADTeEndCAADAmTATd0IAAID/ghN3QgAAQGXVE3dCAAAAyycUd0IAAMAwehR3QgAAgJbMFHdCAABA/B4Vd0IAAABicRV3QgAAwMfDFXdCAACALRYWd0IAAECTaBZ3QgAAAPm6FndC\",\"dtype\":\"float64\",\"shape\":[60]},\"y\":{\"__ndarray__\":\"ZmamP2Zmpj9mZqY/ZmamP2Zmpj9mZqY/ZmamP2Zmpj9mZqY/ZmamP2Zmpj9mZqY/ZmamP2Zmpj9mZqY/ZmamP2Zmpj9mZqY/ZmamP2Zmpj9mZqY/ZmamP2Zmpj9mZqY/ZmamP2Zmpj9mZqY/ZmamP2Zmpj9mZqY/ZmamP2Zmpj9mZqY/ZmamP2Zmpj9mZqY/ZmamP2Zmpj9mZqY/ZmamP2Zmpj9mZqY/ZmamP2Zmpj9mZqY/ZmamP2Zmpj9mZqY/ZmamP2Zmpj9mZqY/ZmamP2Zmpj9mZqY/ZmamP2Zmpj9mZqY/ZmamP2Zmpj9mZqY/\",\"dtype\":\"float32\",\"shape\":[60]}},\"selected\":{\"id\":\"4573\"},\"selection_policy\":{\"id\":\"4572\"}},\"id\":\"4519\",\"type\":\"ColumnDataSource\"},{\"attributes\":{},\"id\":\"4859\",\"type\":\"UnionRenderers\"},{\"attributes\":{},\"id\":\"4860\",\"type\":\"Selection\"},{\"attributes\":{},\"id\":\"4461\",\"type\":\"DataRange1d\"},{\"attributes\":{\"text\":\"Germany_R\"},\"id\":\"4459\",\"type\":\"Title\"},{\"attributes\":{\"active_drag\":\"auto\",\"active_inspect\":\"auto\",\"active_multi\":null,\"active_scroll\":\"auto\",\"active_tap\":\"auto\",\"tools\":[{\"id\":\"4477\"},{\"id\":\"4478\"},{\"id\":\"4479\"},{\"id\":\"4480\"},{\"id\":\"4481\"},{\"id\":\"4482\"}]},\"id\":\"4485\",\"type\":\"Toolbar\"},{\"attributes\":{},\"id\":\"4500\",\"type\":\"BasicTickFormatter\"},{\"attributes\":{\"line_alpha\":0.1,\"line_color\":\"#1b9e77\",\"line_dash\":[6],\"line_width\":1.5,\"x\":{\"field\":\"x\"},\"y\":{\"field\":\"y\"}},\"id\":\"4495\",\"type\":\"Line\"},{\"attributes\":{\"source\":{\"id\":\"4492\"}},\"id\":\"4497\",\"type\":\"CDSView\"},{\"attributes\":{\"data_source\":{\"id\":\"4492\"},\"glyph\":{\"id\":\"4494\"},\"hover_glyph\":null,\"muted_glyph\":null,\"name\":\"_Fit_R_A15-A34\",\"nonselection_glyph\":{\"id\":\"4495\"},\"selection_glyph\":null,\"view\":{\"id\":\"4497\"}},\"id\":\"4496\",\"type\":\"GlyphRenderer\"},{\"attributes\":{\"line_alpha\":0.8,\"line_color\":\"#1b9e77\",\"line_dash\":[6],\"line_width\":1.5,\"x\":{\"field\":\"x\"},\"y\":{\"field\":\"y\"}},\"id\":\"4494\",\"type\":\"Line\"},{\"attributes\":{},\"id\":\"4502\",\"type\":\"DatetimeTickFormatter\"},{\"attributes\":{\"base\":60,\"mantissas\":[1,2,5,10,15,20,30],\"max_interval\":1800000.0,\"min_interval\":1000.0,\"num_minor_ticks\":0},\"id\":\"4504\",\"type\":\"AdaptiveTicker\"},{\"attributes\":{\"base\":24,\"mantissas\":[1,2,4,6,8,12],\"max_interval\":43200000.0,\"min_interval\":3600000.0,\"num_minor_ticks\":0},\"id\":\"4505\",\"type\":\"AdaptiveTicker\"},{\"attributes\":{\"days\":[1,2,3,4,5,6,7,8,9,10,11,12,13,14,15,16,17,18,19,20,21,22,23,24,25,26,27,28,29,30,31]},\"id\":\"4506\",\"type\":\"DaysTicker\"},{\"attributes\":{\"days\":[1,4,7,10,13,16,19,22,25,28]},\"id\":\"4507\",\"type\":\"DaysTicker\"},{\"attributes\":{\"days\":[1,8,15,22]},\"id\":\"4508\",\"type\":\"DaysTicker\"},{\"attributes\":{\"days\":[1,15]},\"id\":\"4509\",\"type\":\"DaysTicker\"},{\"attributes\":{\"months\":[0,1,2,3,4,5,6,7,8,9,10,11]},\"id\":\"4510\",\"type\":\"MonthsTicker\"},{\"attributes\":{\"months\":[0,2,4,6,8,10]},\"id\":\"4511\",\"type\":\"MonthsTicker\"},{\"attributes\":{\"months\":[0,4,8]},\"id\":\"4512\",\"type\":\"MonthsTicker\"},{\"attributes\":{\"months\":[0,6]},\"id\":\"4513\",\"type\":\"MonthsTicker\"},{\"attributes\":{},\"id\":\"4514\",\"type\":\"YearsTicker\"},{\"attributes\":{\"click_policy\":\"hide\",\"items\":[{\"id\":\"4518\"},{\"id\":\"4546\"},{\"id\":\"4576\"},{\"id\":\"4608\"},{\"id\":\"4642\"},{\"id\":\"4678\"}]},\"id\":\"4517\",\"type\":\"Legend\"},{\"attributes\":{\"label\":{\"value\":\"Fit_R_A15-A34\"},\"renderers\":[{\"id\":\"4496\"}]},\"id\":\"4518\",\"type\":\"LegendItem\"},{\"attributes\":{},\"id\":\"4542\",\"type\":\"UnionRenderers\"},{\"attributes\":{\"line_alpha\":0.1,\"line_color\":\"#d95f02\",\"line_dash\":[6],\"line_width\":1.5,\"x\":{\"field\":\"x\"},\"y\":{\"field\":\"y\"}},\"id\":\"4522\",\"type\":\"Line\"},{\"attributes\":{\"source\":{\"id\":\"4519\"}},\"id\":\"4524\",\"type\":\"CDSView\"},{\"attributes\":{\"data_source\":{\"id\":\"4519\"},\"glyph\":{\"id\":\"4521\"},\"hover_glyph\":null,\"muted_glyph\":null,\"name\":\"_Fit_R_A05-A14\",\"nonselection_glyph\":{\"id\":\"4522\"},\"selection_glyph\":null,\"view\":{\"id\":\"4524\"}},\"id\":\"4523\",\"type\":\"GlyphRenderer\"},{\"attributes\":{\"line_alpha\":0.8,\"line_color\":\"#d95f02\",\"line_dash\":[6],\"line_width\":1.5,\"x\":{\"field\":\"x\"},\"y\":{\"field\":\"y\"}},\"id\":\"4521\",\"type\":\"Line\"},{\"attributes\":{},\"id\":\"4543\",\"type\":\"Selection\"},{\"attributes\":{\"label\":{\"value\":\"Fit_R_A05-A14\"},\"renderers\":[{\"id\":\"4523\"}]},\"id\":\"4546\",\"type\":\"LegendItem\"},{\"attributes\":{\"data\":{\"x\":{\"__ndarray__\":\"AADAhb0Dd0IAAIDrDwR3QgAAQFFiBHdCAAAAt7QEd0IAAMAcBwV3QgAAgIJZBXdCAABA6KsFd0IAAABO/gV3QgAAwLNQBndCAACAGaMGd0IAAEB/9QZ3QgAAAOVHB3dCAADASpoHd0IAAICw7Ad3QgAAQBY/CHdCAAAAfJEId0IAAMDh4wh3QgAAgEc2CXdCAABArYgJd0IAAAAT2wl3QgAAwHgtCndCAACA3n8Kd0IAAEBE0gp3QgAAAKokC3dCAADAD3cLd0IAAIB1yQt3QgAAQNsbDHdCAAAAQW4Md0IAAMCmwAx3QgAAgAwTDXdCAABAcmUNd0IAAADYtw13QgAAwD0KDndCAACAo1wOd0IAAEAJrw53QgAAAG8BD3dCAADA1FMPd0IAAIA6pg93QgAAQKD4D3dCAAAABksQd0IAAMBrnRB3QgAAgNHvEHdCAABAN0IRd0IAAACdlBF3QgAAwALnEXdCAACAaDkSd0IAAEDOixJ3QgAAADTeEndCAADAmTATd0IAAID/ghN3QgAAQGXVE3dCAAAAyycUd0IAAMAwehR3QgAAgJbMFHdCAABA/B4Vd0IAAABicRV3QgAAwMfDFXdCAACALRYWd0IAAECTaBZ3QgAAAPm6FndC\",\"dtype\":\"float64\",\"shape\":[60]},\"y\":{\"__ndarray__\":\"ZmamP2Zmpj9mZqY/ZmamP2Zmpj9mZqY/ZmamP2Zmpj9mZqY/ZmamP2Zmpj9mZqY/ZmamP2Zmpj9mZqY/ZmamP2Zmpj9mZqY/ZmamP2Zmpj9mZqY/ZmamP2Zmpj9mZqY/ZmamP2Zmpj9mZqY/ZmamP2Zmpj9mZqY/ZmamP2Zmpj9mZqY/ZmamP2Zmpj9mZqY/ZmamP2Zmpj9mZqY/ZmamP2Zmpj9mZqY/ZmamP2Zmpj9mZqY/ZmamP2Zmpj9mZqY/ZmamP2Zmpj9mZqY/ZmamP2Zmpj9mZqY/ZmamP2Zmpj9mZqY/ZmamP2Zmpj9mZqY/\",\"dtype\":\"float32\",\"shape\":[60]}},\"selected\":{\"id\":\"4605\"},\"selection_policy\":{\"id\":\"4604\"}},\"id\":\"4547\",\"type\":\"ColumnDataSource\"},{\"attributes\":{\"line_alpha\":0.8,\"line_color\":\"#1b9e77\",\"line_dash\":[6],\"line_width\":1.5,\"x\":{\"field\":\"x\"},\"y\":{\"field\":\"y\"}},\"id\":\"4645\",\"type\":\"Line\"},{\"attributes\":{},\"id\":\"4572\",\"type\":\"UnionRenderers\"},{\"attributes\":{\"line_alpha\":0.8,\"line_color\":\"#7570b3\",\"line_dash\":[6],\"line_width\":1.5,\"x\":{\"field\":\"x\"},\"y\":{\"field\":\"y\"}},\"id\":\"4549\",\"type\":\"Line\"},{\"attributes\":{\"data\":{\"x\":{\"__ndarray__\":\"AADAhb0Dd0IAAIDrDwR3QgAAQFFiBHdCAAAAt7QEd0IAAMAcBwV3QgAAgIJZBXdCAABA6KsFd0IAAABO/gV3QgAAwLNQBndCAACAGaMGd0IAAEB/9QZ3QgAAAOVHB3dCAADASpoHd0IAAICw7Ad3QgAAQBY/CHdCAAAAfJEId0IAAMDh4wh3QgAAgEc2CXdCAABArYgJd0IAAAAT2wl3QgAAwHgtCndCAACA3n8Kd0IAAEBE0gp3QgAAAKokC3dCAADAD3cLd0IAAIB1yQt3QgAAQNsbDHdCAAAAQW4Md0IAAMCmwAx3QgAAgAwTDXdCAABAcmUNd0IAAADYtw13QgAAwD0KDndCAACAo1wOd0IAAEAJrw53QgAAAG8BD3dCAADA1FMPd0IAAIA6pg93QgAAQKD4D3dCAAAABksQd0IAAMBrnRB3QgAAgNHvEHdCAABAN0IRd0IAAACdlBF3QgAAwALnEXdCAACAaDkSd0IAAEDOixJ3QgAAADTeEndCAADAmTATd0IAAID/ghN3QgAAQGXVE3dCAAAAyycUd0IAAMAwehR3QgAAgJbMFHdCAABA/B4Vd0IAAABicRV3QgAAwMfDFXdCAACALRYWd0IAAECTaBZ3QgAAAPm6FndC\",\"dtype\":\"float64\",\"shape\":[60]},\"y\":{\"__ndarray__\":\"ZmamP2Zmpj9mZqY/ZmamP2Zmpj9mZqY/ZmamP2Zmpj9mZqY/ZmamP2Zmpj9mZqY/ZmamP2Zmpj9mZqY/ZmamP2Zmpj9mZqY/ZmamP2Zmpj9mZqY/ZmamP2Zmpj9mZqY/ZmamP2Zmpj9mZqY/ZmamP2Zmpj9mZqY/ZmamP2Zmpj9mZqY/ZmamP2Zmpj9mZqY/ZmamP2Zmpj9mZqY/ZmamP2Zmpj9mZqY/ZmamP2Zmpj9mZqY/ZmamP2Zmpj9mZqY/ZmamP2Zmpj9mZqY/ZmamP2Zmpj9mZqY/ZmamP2Zmpj9mZqY/ZmamP2Zmpj9mZqY/\",\"dtype\":\"float32\",\"shape\":[60]}},\"selected\":{\"id\":\"4543\"},\"selection_policy\":{\"id\":\"4542\"}},\"id\":\"4492\",\"type\":\"ColumnDataSource\"},{\"attributes\":{\"line_alpha\":0.1,\"line_color\":\"#7570b3\",\"line_dash\":[6],\"line_width\":1.5,\"x\":{\"field\":\"x\"},\"y\":{\"field\":\"y\"}},\"id\":\"4550\",\"type\":\"Line\"}],\"root_ids\":[\"4458\"]},\"title\":\"Bokeh Application\",\"version\":\"2.0.2\"}};\n",
       "  var render_items = [{\"docid\":\"2622e414-71d4-40d2-a7d1-d6719dc8744a\",\"notebook_comms_target\":\"4863\",\"root_ids\":[\"4458\"],\"roots\":{\"4458\":\"ff655c22-0d97-411e-baab-7012a88c648c\"}}];\n",
       "  root.Bokeh.embed.embed_items_notebook(docs_json, render_items);\n",
       "\n",
       "  }\n",
       "  if (root.Bokeh !== undefined) {\n",
       "    embed_document(root);\n",
       "  } else {\n",
       "    var attempts = 0;\n",
       "    var timer = setInterval(function(root) {\n",
       "      if (root.Bokeh !== undefined) {\n",
       "        clearInterval(timer);\n",
       "        embed_document(root);\n",
       "      } else {\n",
       "        attempts++;\n",
       "        if (attempts > 100) {\n",
       "          clearInterval(timer);\n",
       "          console.log(\"Bokeh: ERROR: Unable to run BokehJS code because BokehJS library is missing\");\n",
       "        }\n",
       "      }\n",
       "    }, 10, root)\n",
       "  }\n",
       "})(window);"
      ],
      "application/vnd.bokehjs_exec.v0+json": ""
     },
     "metadata": {
      "application/vnd.bokehjs_exec.v0+json": {
       "id": "4458"
      }
     },
     "output_type": "display_data"
    }
   ],
   "source": [
    "M.DataDict={}\n",
    "# M.plotMatplotlib=True\n",
    "g = M.getGUI(showResults=M.showSimRes, doFit=M.doFit, Dates = list(AllMeasured['Dates']))"
   ]
  },
  {
   "cell_type": "code",
   "execution_count": 13,
   "metadata": {
    "scrolled": false
   },
   "outputs": [
    {
     "data": {
      "text/plain": [
       "<tf.Tensor: shape=(), dtype=float32, numpy=1e-04>"
      ]
     },
     "execution_count": 13,
     "metadata": {},
     "output_type": "execute_result"
    }
   ],
   "source": [
    "q=M.assignNewVar('lambdaTVR', 0.0001)\n",
    "M.Var['lambdaTVR']()"
   ]
  },
  {
   "cell_type": "code",
   "execution_count": 20,
   "metadata": {},
   "outputs": [
    {
     "data": {
      "text/plain": [
       "array([[[ 4666637.06595626],\n",
       "        [ 6629428.9206422 ],\n",
       "        [24494838.06906302],\n",
       "        [23934041.36957717],\n",
       "        [15512062.18400967],\n",
       "        [ 7891223.35256835]]])"
      ]
     },
     "execution_count": 20,
     "metadata": {},
     "output_type": "execute_result"
    }
   ],
   "source": [
    "AllMeasured['Population']"
   ]
  },
  {
   "cell_type": "code",
   "execution_count": 28,
   "metadata": {},
   "outputs": [
    {
     "name": "stdout",
     "output_type": "stream",
     "text": [
      "tf.Tensor(1230.7891, shape=(), dtype=float32)\n",
      "369.93292945344\n"
     ]
    }
   ],
   "source": [
    "res=M.ResultVals()\n",
    "res.keys()\n",
    "print(res['cases'][65,0,0,4,0])\n",
    "print(AllMeasured['Cases'][65,0,0,4,0])"
   ]
  },
  {
   "cell_type": "code",
   "execution_count": 4,
   "metadata": {},
   "outputs": [],
   "source": [
    "# stm.Loss_FixedGaussian(np.squeeze(M.ResultVals()['deaths']), M.FitDict['deaths'])"
   ]
  },
  {
   "cell_type": "code",
   "execution_count": 11,
   "metadata": {},
   "outputs": [
    {
     "name": "stdout",
     "output_type": "stream",
     "text": [
      "loading preprocessed data ...\n",
      ".done\n",
      "\n",
      "using timestamp_death\n",
      "Using measured date for deaths. No imputation\n",
      "Unassigned Deaths: 424\n",
      "\n",
      "Discarded : 3218 cases and 0 deaths as the start of desease was outside limits.\n",
      "(230, 412, 7, 3)\n"
     ]
    },
    {
     "data": {
      "image/png": "[encoded data removed]",
      "text/plain": [
       "<Figure size 432x288 with 1 Axes>"
      ]
     },
     "metadata": {
      "needs_background": "light"
     },
     "output_type": "display_data"
    }
   ],
   "source": [
    "AllMeasured = loadData(useThuringia = False, pullData=False, correctDeaths=True, DeathData=DeathData, usePreprocessed=usePreprocessed)\n",
    "print(AllMeasured['Cases'].shape)\n",
    "# AllMeasured = preprocessData(AllMeasured, ReduceDistricts=[\"SK Jena\", \"LK Sonneberg\"], SumDistricts=False, SumAges=True, SumGender=True)\n"
   ]
  },
  {
   "cell_type": "code",
   "execution_count": 15,
   "metadata": {},
   "outputs": [],
   "source": [
    "AllMeasured = preprocessData(AllMeasured, ReduceDistricts=ExampleRegions, SumDistricts=True, SumAges=True, SumGender=True)\n"
   ]
  },
  {
   "cell_type": "code",
   "execution_count": 16,
   "metadata": {},
   "outputs": [
    {
     "name": "stdout",
     "output_type": "stream",
     "text": [
      "(232, 1, 1, 1, 1)\n",
      "(232, 1, 1, 1, 1)\n",
      "['summed Ages']\n",
      "(1, 1, 1)\n"
     ]
    }
   ],
   "source": [
    "print(AllMeasured['Cases'].shape)\n",
    "print(AllMeasured['Dead'].shape)\n",
    "print(AllMeasured['Ages'])\n",
    "print(AllMeasured['Population'].shape)\n"
   ]
  },
  {
   "cell_type": "code",
   "execution_count": 17,
   "metadata": {},
   "outputs": [
    {
     "data": {
      "text/plain": [
       "['SK Gera',\n",
       " 'LK Nordhausen',\n",
       " 'SK Erfurt',\n",
       " 'SK Suhl',\n",
       " 'LK Weimarer Land',\n",
       " 'SK Weimar',\n",
       " 'LK Greiz',\n",
       " 'LK Schmalkalden-Meiningen',\n",
       " 'LK Eichsfeld',\n",
       " 'LK Sömmerda',\n",
       " 'LK Hildburghausen',\n",
       " 'LK Saale-Orla-Kreis',\n",
       " 'LK Kyffhäuserkreis',\n",
       " 'LK Saalfeld-Rudolstadt',\n",
       " 'LK Ilm-Kreis',\n",
       " 'LK Unstrut-Hainich-Kreis',\n",
       " 'LK Gotha',\n",
       " 'LK Sonneberg',\n",
       " 'SK Eisenach',\n",
       " 'LK Altenburger Land',\n",
       " 'LK Wartburgkreis']"
      ]
     },
     "execution_count": 17,
     "metadata": {},
     "output_type": "execute_result"
    }
   ],
   "source": [
    "ExampleRegions"
   ]
  },
  {
   "cell_type": "code",
   "execution_count": 17,
   "metadata": {},
   "outputs": [
    {
     "data": {
      "text/plain": [
       "TensorShape([125, 1, 1, 1])"
      ]
     },
     "execution_count": 17,
     "metadata": {},
     "output_type": "execute_result"
    }
   ],
   "source": [
    "M.Var['R']().shape"
   ]
  },
  {
   "cell_type": "code",
   "execution_count": 28,
   "metadata": {},
   "outputs": [
    {
     "name": "stdout",
     "output_type": "stream",
     "text": [
      "Simulation Control:\n"
     ]
    },
    {
     "data": {
      "application/vnd.jupyter.widget-view+json": {
       "model_id": "413200688e7540718c88b77e00ba8e05",
       "version_major": 2,
       "version_minor": 0
      },
      "text/plain": [
       "HBox(children=(FloatLogSlider(value=0.06, continuous_update=False, max=2.0, min=-10.0), FloatLogSlider(value=0…"
      ]
     },
     "metadata": {},
     "output_type": "display_data"
    },
    {
     "data": {
      "application/vnd.jupyter.widget-view+json": {
       "model_id": "07b6d7d7d3b243ba8754b3c47f9c9534",
       "version_major": 2,
       "version_minor": 0
      },
      "text/plain": [
       "Output(outputs=({'output_type': 'stream', 'text': 'd: 0.039810717055349734\\nLoss is: tf.Tensor(0.000104670384,…"
      ]
     },
     "metadata": {},
     "output_type": "display_data"
    },
    {
     "data": {
      "application/vnd.jupyter.widget-view+json": {
       "model_id": "92faa9ae4143462189b1a2cf5d500a29",
       "version_major": 2,
       "version_minor": 0
      },
      "text/plain": [
       "HBox(children=(FloatLogSlider(value=0.001, continuous_update=False, max=3.0, min=-10.0), FloatLogSlider(value=…"
      ]
     },
     "metadata": {},
     "output_type": "display_data"
    },
    {
     "data": {
      "application/vnd.jupyter.widget-view+json": {
       "model_id": "5f9b0d19a8784b5885120c7e106f101b",
       "version_major": 2,
       "version_minor": 0
      },
      "text/plain": [
       "Output()"
      ]
     },
     "metadata": {},
     "output_type": "display_data"
    },
    {
     "ename": "AttributeError",
     "evalue": "dtype",
     "output_type": "error",
     "traceback": [
      "\u001b[1;31m---------------------------------------------------------------------------\u001b[0m",
      "\u001b[1;31mKeyError\u001b[0m                                  Traceback (most recent call last)",
      "\u001b[1;32mC:\\Program Files (x86)\\Microsoft Visual Studio\\Shared\\Anaconda3_64\\envs\\StateModeling\\lib\\site-packages\\traitlets\\utils\\bunch.py\u001b[0m in \u001b[0;36m__getattr__\u001b[1;34m(self, key)\u001b[0m\n\u001b[0;32m     12\u001b[0m         \u001b[1;32mtry\u001b[0m\u001b[1;33m:\u001b[0m\u001b[1;33m\u001b[0m\u001b[0m\n\u001b[1;32m---> 13\u001b[1;33m             \u001b[1;32mreturn\u001b[0m \u001b[0mself\u001b[0m\u001b[1;33m.\u001b[0m\u001b[0m__getitem__\u001b[0m\u001b[1;33m(\u001b[0m\u001b[0mkey\u001b[0m\u001b[1;33m)\u001b[0m\u001b[1;33m\u001b[0m\u001b[0m\n\u001b[0m\u001b[0;32m     14\u001b[0m         \u001b[1;32mexcept\u001b[0m \u001b[0mKeyError\u001b[0m\u001b[1;33m:\u001b[0m\u001b[1;33m\u001b[0m\u001b[0m\n",
      "\u001b[1;31mKeyError\u001b[0m: 'dtype'",
      "\nDuring handling of the above exception, another exception occurred:\n",
      "\u001b[1;31mAttributeError\u001b[0m                            Traceback (most recent call last)",
      "\u001b[1;32mC:\\Program Files (x86)\\Microsoft Visual Studio\\Shared\\Anaconda3_64\\envs\\StateModeling\\lib\\site-packages\\ipywidgets\\widgets\\widget.py\u001b[0m in \u001b[0;36m_handle_msg\u001b[1;34m(self, msg)\u001b[0m\n\u001b[0;32m    674\u001b[0m                 \u001b[1;32mif\u001b[0m \u001b[1;34m'buffer_paths'\u001b[0m \u001b[1;32min\u001b[0m \u001b[0mdata\u001b[0m\u001b[1;33m:\u001b[0m\u001b[1;33m\u001b[0m\u001b[0m\n\u001b[0;32m    675\u001b[0m                     \u001b[0m_put_buffers\u001b[0m\u001b[1;33m(\u001b[0m\u001b[0mstate\u001b[0m\u001b[1;33m,\u001b[0m \u001b[0mdata\u001b[0m\u001b[1;33m[\u001b[0m\u001b[1;34m'buffer_paths'\u001b[0m\u001b[1;33m]\u001b[0m\u001b[1;33m,\u001b[0m \u001b[0mmsg\u001b[0m\u001b[1;33m[\u001b[0m\u001b[1;34m'buffers'\u001b[0m\u001b[1;33m]\u001b[0m\u001b[1;33m)\u001b[0m\u001b[1;33m\u001b[0m\u001b[0m\n\u001b[1;32m--> 676\u001b[1;33m                 \u001b[0mself\u001b[0m\u001b[1;33m.\u001b[0m\u001b[0mset_state\u001b[0m\u001b[1;33m(\u001b[0m\u001b[0mstate\u001b[0m\u001b[1;33m)\u001b[0m\u001b[1;33m\u001b[0m\u001b[0m\n\u001b[0m\u001b[0;32m    677\u001b[0m \u001b[1;33m\u001b[0m\u001b[0m\n\u001b[0;32m    678\u001b[0m         \u001b[1;31m# Handle a state request.\u001b[0m\u001b[1;33m\u001b[0m\u001b[1;33m\u001b[0m\u001b[0m\n",
      "\u001b[1;32mC:\\Program Files (x86)\\Microsoft Visual Studio\\Shared\\Anaconda3_64\\envs\\StateModeling\\lib\\site-packages\\ipywidgets\\widgets\\widget.py\u001b[0m in \u001b[0;36mset_state\u001b[1;34m(self, sync_data)\u001b[0m\n\u001b[0;32m    543\u001b[0m                     from_json = self.trait_metadata(name, 'from_json',\n\u001b[0;32m    544\u001b[0m                                                     self._trait_from_json)\n\u001b[1;32m--> 545\u001b[1;33m                     \u001b[0mself\u001b[0m\u001b[1;33m.\u001b[0m\u001b[0mset_trait\u001b[0m\u001b[1;33m(\u001b[0m\u001b[0mname\u001b[0m\u001b[1;33m,\u001b[0m \u001b[0mfrom_json\u001b[0m\u001b[1;33m(\u001b[0m\u001b[0msync_data\u001b[0m\u001b[1;33m[\u001b[0m\u001b[0mname\u001b[0m\u001b[1;33m]\u001b[0m\u001b[1;33m,\u001b[0m \u001b[0mself\u001b[0m\u001b[1;33m)\u001b[0m\u001b[1;33m)\u001b[0m\u001b[1;33m\u001b[0m\u001b[0m\n\u001b[0m\u001b[0;32m    546\u001b[0m \u001b[1;33m\u001b[0m\u001b[0m\n\u001b[0;32m    547\u001b[0m     \u001b[1;32mdef\u001b[0m \u001b[0msend\u001b[0m\u001b[1;33m(\u001b[0m\u001b[0mself\u001b[0m\u001b[1;33m,\u001b[0m \u001b[0mcontent\u001b[0m\u001b[1;33m,\u001b[0m \u001b[0mbuffers\u001b[0m\u001b[1;33m=\u001b[0m\u001b[1;32mNone\u001b[0m\u001b[1;33m)\u001b[0m\u001b[1;33m:\u001b[0m\u001b[1;33m\u001b[0m\u001b[0m\n",
      "\u001b[1;32mC:\\Program Files (x86)\\Microsoft Visual Studio\\Shared\\Anaconda3_64\\envs\\StateModeling\\lib\\contextlib.py\u001b[0m in \u001b[0;36m__exit__\u001b[1;34m(self, type, value, traceback)\u001b[0m\n\u001b[0;32m    117\u001b[0m         \u001b[1;32mif\u001b[0m \u001b[0mtype\u001b[0m \u001b[1;32mis\u001b[0m \u001b[1;32mNone\u001b[0m\u001b[1;33m:\u001b[0m\u001b[1;33m\u001b[0m\u001b[0m\n\u001b[0;32m    118\u001b[0m             \u001b[1;32mtry\u001b[0m\u001b[1;33m:\u001b[0m\u001b[1;33m\u001b[0m\u001b[0m\n\u001b[1;32m--> 119\u001b[1;33m                 \u001b[0mnext\u001b[0m\u001b[1;33m(\u001b[0m\u001b[0mself\u001b[0m\u001b[1;33m.\u001b[0m\u001b[0mgen\u001b[0m\u001b[1;33m)\u001b[0m\u001b[1;33m\u001b[0m\u001b[0m\n\u001b[0m\u001b[0;32m    120\u001b[0m             \u001b[1;32mexcept\u001b[0m \u001b[0mStopIteration\u001b[0m\u001b[1;33m:\u001b[0m\u001b[1;33m\u001b[0m\u001b[0m\n\u001b[0;32m    121\u001b[0m                 \u001b[1;32mreturn\u001b[0m \u001b[1;32mFalse\u001b[0m\u001b[1;33m\u001b[0m\u001b[0m\n",
      "\u001b[1;32mC:\\Program Files (x86)\\Microsoft Visual Studio\\Shared\\Anaconda3_64\\envs\\StateModeling\\lib\\site-packages\\traitlets\\traitlets.py\u001b[0m in \u001b[0;36mhold_trait_notifications\u001b[1;34m(self)\u001b[0m\n\u001b[0;32m   1129\u001b[0m                 \u001b[1;32mfor\u001b[0m \u001b[0mchanges\u001b[0m \u001b[1;32min\u001b[0m \u001b[0mcache\u001b[0m\u001b[1;33m.\u001b[0m\u001b[0mvalues\u001b[0m\u001b[1;33m(\u001b[0m\u001b[1;33m)\u001b[0m\u001b[1;33m:\u001b[0m\u001b[1;33m\u001b[0m\u001b[0m\n\u001b[0;32m   1130\u001b[0m                     \u001b[1;32mfor\u001b[0m \u001b[0mchange\u001b[0m \u001b[1;32min\u001b[0m \u001b[0mchanges\u001b[0m\u001b[1;33m:\u001b[0m\u001b[1;33m\u001b[0m\u001b[0m\n\u001b[1;32m-> 1131\u001b[1;33m                         \u001b[0mself\u001b[0m\u001b[1;33m.\u001b[0m\u001b[0mnotify_change\u001b[0m\u001b[1;33m(\u001b[0m\u001b[0mchange\u001b[0m\u001b[1;33m)\u001b[0m\u001b[1;33m\u001b[0m\u001b[0m\n\u001b[0m\u001b[0;32m   1132\u001b[0m \u001b[1;33m\u001b[0m\u001b[0m\n\u001b[0;32m   1133\u001b[0m     \u001b[1;32mdef\u001b[0m \u001b[0m_notify_trait\u001b[0m\u001b[1;33m(\u001b[0m\u001b[0mself\u001b[0m\u001b[1;33m,\u001b[0m \u001b[0mname\u001b[0m\u001b[1;33m,\u001b[0m \u001b[0mold_value\u001b[0m\u001b[1;33m,\u001b[0m \u001b[0mnew_value\u001b[0m\u001b[1;33m)\u001b[0m\u001b[1;33m:\u001b[0m\u001b[1;33m\u001b[0m\u001b[0m\n",
      "\u001b[1;32mC:\\Program Files (x86)\\Microsoft Visual Studio\\Shared\\Anaconda3_64\\envs\\StateModeling\\lib\\site-packages\\ipywidgets\\widgets\\widget.py\u001b[0m in \u001b[0;36mnotify_change\u001b[1;34m(self, change)\u001b[0m\n\u001b[0;32m    604\u001b[0m                 \u001b[1;31m# Send new state to front-end\u001b[0m\u001b[1;33m\u001b[0m\u001b[1;33m\u001b[0m\u001b[0m\n\u001b[0;32m    605\u001b[0m                 \u001b[0mself\u001b[0m\u001b[1;33m.\u001b[0m\u001b[0msend_state\u001b[0m\u001b[1;33m(\u001b[0m\u001b[0mkey\u001b[0m\u001b[1;33m=\u001b[0m\u001b[0mname\u001b[0m\u001b[1;33m)\u001b[0m\u001b[1;33m\u001b[0m\u001b[0m\n\u001b[1;32m--> 606\u001b[1;33m         \u001b[0msuper\u001b[0m\u001b[1;33m(\u001b[0m\u001b[0mWidget\u001b[0m\u001b[1;33m,\u001b[0m \u001b[0mself\u001b[0m\u001b[1;33m)\u001b[0m\u001b[1;33m.\u001b[0m\u001b[0mnotify_change\u001b[0m\u001b[1;33m(\u001b[0m\u001b[0mchange\u001b[0m\u001b[1;33m)\u001b[0m\u001b[1;33m\u001b[0m\u001b[0m\n\u001b[0m\u001b[0;32m    607\u001b[0m \u001b[1;33m\u001b[0m\u001b[0m\n\u001b[0;32m    608\u001b[0m     \u001b[1;32mdef\u001b[0m \u001b[0m__repr__\u001b[0m\u001b[1;33m(\u001b[0m\u001b[0mself\u001b[0m\u001b[1;33m)\u001b[0m\u001b[1;33m:\u001b[0m\u001b[1;33m\u001b[0m\u001b[0m\n",
      "\u001b[1;32mC:\\Program Files (x86)\\Microsoft Visual Studio\\Shared\\Anaconda3_64\\envs\\StateModeling\\lib\\site-packages\\traitlets\\traitlets.py\u001b[0m in \u001b[0;36mnotify_change\u001b[1;34m(self, change)\u001b[0m\n\u001b[0;32m   1174\u001b[0m                 \u001b[0mc\u001b[0m \u001b[1;33m=\u001b[0m \u001b[0mgetattr\u001b[0m\u001b[1;33m(\u001b[0m\u001b[0mself\u001b[0m\u001b[1;33m,\u001b[0m \u001b[0mc\u001b[0m\u001b[1;33m.\u001b[0m\u001b[0mname\u001b[0m\u001b[1;33m)\u001b[0m\u001b[1;33m\u001b[0m\u001b[0m\n\u001b[0;32m   1175\u001b[0m \u001b[1;33m\u001b[0m\u001b[0m\n\u001b[1;32m-> 1176\u001b[1;33m             \u001b[0mc\u001b[0m\u001b[1;33m(\u001b[0m\u001b[0mchange\u001b[0m\u001b[1;33m)\u001b[0m\u001b[1;33m\u001b[0m\u001b[0m\n\u001b[0m\u001b[0;32m   1177\u001b[0m \u001b[1;33m\u001b[0m\u001b[0m\n\u001b[0;32m   1178\u001b[0m     \u001b[1;32mdef\u001b[0m \u001b[0m_add_notifiers\u001b[0m\u001b[1;33m(\u001b[0m\u001b[0mself\u001b[0m\u001b[1;33m,\u001b[0m \u001b[0mhandler\u001b[0m\u001b[1;33m,\u001b[0m \u001b[0mname\u001b[0m\u001b[1;33m,\u001b[0m \u001b[0mtype\u001b[0m\u001b[1;33m)\u001b[0m\u001b[1;33m:\u001b[0m\u001b[1;33m\u001b[0m\u001b[0m\n",
      "\u001b[1;32m<ipython-input-13-086a03f4522b>\u001b[0m in \u001b[0;36massignParam\u001b[1;34m(d)\u001b[0m\n\u001b[0;32m     91\u001b[0m     \u001b[0maDict\u001b[0m \u001b[1;33m=\u001b[0m \u001b[1;33m{\u001b[0m\u001b[1;34m'd'\u001b[0m\u001b[1;33m:\u001b[0m\u001b[0md\u001b[0m\u001b[1;33m}\u001b[0m\u001b[1;33m\u001b[0m\u001b[0m\n\u001b[0;32m     92\u001b[0m     \u001b[1;32mfor\u001b[0m \u001b[0mvarN\u001b[0m\u001b[1;33m,\u001b[0m \u001b[0mnewval\u001b[0m \u001b[1;32min\u001b[0m \u001b[0maDict\u001b[0m\u001b[1;33m.\u001b[0m\u001b[0mitems\u001b[0m\u001b[1;33m(\u001b[0m\u001b[1;33m)\u001b[0m\u001b[1;33m:\u001b[0m\u001b[1;33m\u001b[0m\u001b[0m\n\u001b[1;32m---> 93\u001b[1;33m         \u001b[0mM\u001b[0m\u001b[1;33m.\u001b[0m\u001b[0massignNewVar\u001b[0m\u001b[1;33m(\u001b[0m\u001b[0mvarN\u001b[0m\u001b[1;33m,\u001b[0m \u001b[0mnewval\u001b[0m\u001b[1;33m)\u001b[0m\u001b[1;33m\u001b[0m\u001b[0m\n\u001b[0m\u001b[0;32m     94\u001b[0m         \u001b[0mprint\u001b[0m\u001b[1;33m(\u001b[0m\u001b[0mvarN\u001b[0m\u001b[1;33m+\u001b[0m\u001b[1;34m\": \"\u001b[0m\u001b[1;33m+\u001b[0m\u001b[0mstr\u001b[0m\u001b[1;33m(\u001b[0m\u001b[0mnewval\u001b[0m\u001b[1;33m)\u001b[0m\u001b[1;33m)\u001b[0m\u001b[1;33m\u001b[0m\u001b[0m\n\u001b[0;32m     95\u001b[0m     \u001b[0mdoFit\u001b[0m\u001b[1;33m(\u001b[0m\u001b[1;33m)\u001b[0m\u001b[1;33m\u001b[0m\u001b[0m\n",
      "\u001b[1;32m~\\Documents\\Programming\\PythonScripts\\StateModeling\\StateModeling.py\u001b[0m in \u001b[0;36massignNewVar\u001b[1;34m(self, varname, newval, relval)\u001b[0m\n\u001b[0;32m   1086\u001b[0m     \u001b[1;32mdef\u001b[0m \u001b[0massignNewVar\u001b[0m\u001b[1;33m(\u001b[0m\u001b[0mself\u001b[0m\u001b[1;33m,\u001b[0m \u001b[0mvarname\u001b[0m\u001b[1;33m,\u001b[0m \u001b[0mnewval\u001b[0m\u001b[1;33m=\u001b[0m\u001b[1;32mNone\u001b[0m\u001b[1;33m,\u001b[0m \u001b[0mrelval\u001b[0m\u001b[1;33m=\u001b[0m\u001b[1;32mNone\u001b[0m\u001b[1;33m)\u001b[0m\u001b[1;33m:\u001b[0m\u001b[1;33m\u001b[0m\u001b[0m\n\u001b[0;32m   1087\u001b[0m         \u001b[1;32mif\u001b[0m \u001b[0mnewval\u001b[0m \u001b[1;32mis\u001b[0m \u001b[1;32mnot\u001b[0m \u001b[1;32mNone\u001b[0m\u001b[1;33m:\u001b[0m\u001b[1;33m\u001b[0m\u001b[0m\n\u001b[1;32m-> 1088\u001b[1;33m             \u001b[0mself\u001b[0m\u001b[1;33m.\u001b[0m\u001b[0mrawVar\u001b[0m\u001b[1;33m[\u001b[0m\u001b[0mvarname\u001b[0m\u001b[1;33m]\u001b[0m\u001b[1;33m.\u001b[0m\u001b[0massign\u001b[0m\u001b[1;33m(\u001b[0m\u001b[0mself\u001b[0m\u001b[1;33m.\u001b[0m\u001b[0mtoRawVar\u001b[0m\u001b[1;33m[\u001b[0m\u001b[0mvarname\u001b[0m\u001b[1;33m]\u001b[0m\u001b[1;33m(\u001b[0m\u001b[0mnewval\u001b[0m\u001b[1;33m)\u001b[0m\u001b[1;33m)\u001b[0m\u001b[1;33m\u001b[0m\u001b[0m\n\u001b[0m\u001b[0;32m   1089\u001b[0m         \u001b[1;32melse\u001b[0m\u001b[1;33m:\u001b[0m\u001b[1;33m\u001b[0m\u001b[0m\n\u001b[0;32m   1090\u001b[0m             \u001b[0mself\u001b[0m\u001b[1;33m.\u001b[0m\u001b[0mrawVar\u001b[0m\u001b[1;33m[\u001b[0m\u001b[0mvarname\u001b[0m\u001b[1;33m]\u001b[0m\u001b[1;33m.\u001b[0m\u001b[0massign\u001b[0m\u001b[1;33m(\u001b[0m\u001b[0mself\u001b[0m\u001b[1;33m.\u001b[0m\u001b[0mtoRawVar\u001b[0m\u001b[1;33m[\u001b[0m\u001b[0mvarname\u001b[0m\u001b[1;33m]\u001b[0m\u001b[1;33m(\u001b[0m\u001b[0mself\u001b[0m\u001b[1;33m.\u001b[0m\u001b[0mVar\u001b[0m\u001b[1;33m[\u001b[0m\u001b[0mvarname\u001b[0m\u001b[1;33m]\u001b[0m\u001b[1;33m(\u001b[0m\u001b[1;33m)\u001b[0m \u001b[1;33m*\u001b[0m \u001b[0mrelval\u001b[0m\u001b[1;33m)\u001b[0m\u001b[1;33m)\u001b[0m\u001b[1;33m\u001b[0m\u001b[0m\n",
      "\u001b[1;32m~\\Documents\\Programming\\PythonScripts\\StateModeling\\StateModeling.py\u001b[0m in \u001b[0;36m<lambda>\u001b[1;34m(avar)\u001b[0m\n\u001b[0;32m   1065\u001b[0m                     \u001b[0mtoVarFkt2\u001b[0m \u001b[1;33m=\u001b[0m \u001b[0mtoVarFkt\u001b[0m\u001b[1;33m\u001b[0m\u001b[0m\n\u001b[0;32m   1066\u001b[0m                 \u001b[1;32mif\u001b[0m \u001b[0mforcePos\u001b[0m\u001b[1;33m:\u001b[0m\u001b[1;33m\u001b[0m\u001b[0m\n\u001b[1;32m-> 1067\u001b[1;33m                     \u001b[0mtoRawFkt3\u001b[0m \u001b[1;33m=\u001b[0m \u001b[1;32mlambda\u001b[0m \u001b[0mavar\u001b[0m\u001b[1;33m:\u001b[0m \u001b[0minvMonotonicPos\u001b[0m\u001b[1;33m(\u001b[0m\u001b[0mtoRawFkt2\u001b[0m\u001b[1;33m(\u001b[0m\u001b[0mavar\u001b[0m\u001b[1;33m)\u001b[0m\u001b[1;33m,\u001b[0m \u001b[0mb2\u001b[0m\u001b[1;33m)\u001b[0m\u001b[1;33m;\u001b[0m\u001b[1;33m\u001b[0m\u001b[0m\n\u001b[0m\u001b[0;32m   1068\u001b[0m                     \u001b[0mtoVarFkt3\u001b[0m \u001b[1;33m=\u001b[0m \u001b[1;32mlambda\u001b[0m \u001b[0mavar\u001b[0m\u001b[1;33m:\u001b[0m \u001b[0mtoVarFkt2\u001b[0m\u001b[1;33m(\u001b[0m\u001b[0mmonotonicPos\u001b[0m\u001b[1;33m(\u001b[0m\u001b[0mavar\u001b[0m\u001b[1;33m,\u001b[0m \u001b[0mb2\u001b[0m\u001b[1;33m)\u001b[0m\u001b[1;33m)\u001b[0m\u001b[1;33m\u001b[0m\u001b[0m\n\u001b[0;32m   1069\u001b[0m                 \u001b[1;32melse\u001b[0m\u001b[1;33m:\u001b[0m\u001b[1;33m\u001b[0m\u001b[0m\n",
      "\u001b[1;32m~\\Documents\\Programming\\PythonScripts\\StateModeling\\StateModeling.py\u001b[0m in \u001b[0;36m<lambda>\u001b[1;34m(avar)\u001b[0m\n\u001b[0;32m   1059\u001b[0m                 \u001b[0mtoRawFkt\u001b[0m \u001b[1;33m=\u001b[0m \u001b[1;32mlambda\u001b[0m \u001b[0mavar\u001b[0m\u001b[1;33m:\u001b[0m \u001b[0mtotensor\u001b[0m\u001b[1;33m(\u001b[0m\u001b[0mavar\u001b[0m\u001b[1;33m)\u001b[0m\u001b[1;33m\u001b[0m\u001b[0m\n\u001b[0;32m   1060\u001b[0m                 \u001b[1;32mif\u001b[0m \u001b[0mnormalize\u001b[0m \u001b[1;32mis\u001b[0m \u001b[1;32mnot\u001b[0m \u001b[1;32mNone\u001b[0m\u001b[1;33m:\u001b[0m\u001b[1;33m\u001b[0m\u001b[0m\n\u001b[1;32m-> 1061\u001b[1;33m                     \u001b[0mtoRawFkt2\u001b[0m \u001b[1;33m=\u001b[0m \u001b[1;32mlambda\u001b[0m \u001b[0mavar\u001b[0m\u001b[1;33m:\u001b[0m \u001b[0minvNormalize\u001b[0m\u001b[1;33m(\u001b[0m\u001b[0mtoRawFkt\u001b[0m\u001b[1;33m(\u001b[0m\u001b[0mavar\u001b[0m\u001b[1;33m)\u001b[0m\u001b[1;33m,\u001b[0m \u001b[0mnormalize\u001b[0m\u001b[1;33m,\u001b[0m \u001b[0minitVal\u001b[0m\u001b[1;33m)\u001b[0m\u001b[1;33m;\u001b[0m\u001b[1;33m\u001b[0m\u001b[0m\n\u001b[0m\u001b[0;32m   1062\u001b[0m                     \u001b[0mtoVarFkt2\u001b[0m \u001b[1;33m=\u001b[0m \u001b[1;32mlambda\u001b[0m \u001b[0mavar\u001b[0m\u001b[1;33m:\u001b[0m \u001b[0mtoVarFkt\u001b[0m\u001b[1;33m(\u001b[0m\u001b[0mdoNormalize\u001b[0m\u001b[1;33m(\u001b[0m\u001b[0mavar\u001b[0m\u001b[1;33m,\u001b[0m \u001b[0mnormalize\u001b[0m\u001b[1;33m,\u001b[0m \u001b[0minitVal\u001b[0m\u001b[1;33m)\u001b[0m\u001b[1;33m)\u001b[0m\u001b[1;33m\u001b[0m\u001b[0m\n\u001b[0;32m   1063\u001b[0m                 \u001b[1;32melse\u001b[0m\u001b[1;33m:\u001b[0m\u001b[1;33m\u001b[0m\u001b[0m\n",
      "\u001b[1;32m~\\Documents\\Programming\\PythonScripts\\StateModeling\\StateModeling.py\u001b[0m in \u001b[0;36m<lambda>\u001b[1;34m(avar)\u001b[0m\n\u001b[0;32m   1057\u001b[0m \u001b[1;33m\u001b[0m\u001b[0m\n\u001b[0;32m   1058\u001b[0m                 \u001b[0mtoVarFkt\u001b[0m \u001b[1;33m=\u001b[0m \u001b[1;32mlambda\u001b[0m \u001b[0mavar\u001b[0m\u001b[1;33m:\u001b[0m \u001b[0mtotensor\u001b[0m\u001b[1;33m(\u001b[0m\u001b[0mavar\u001b[0m\u001b[1;33m)\u001b[0m\u001b[1;33m\u001b[0m\u001b[0m\n\u001b[1;32m-> 1059\u001b[1;33m                 \u001b[0mtoRawFkt\u001b[0m \u001b[1;33m=\u001b[0m \u001b[1;32mlambda\u001b[0m \u001b[0mavar\u001b[0m\u001b[1;33m:\u001b[0m \u001b[0mtotensor\u001b[0m\u001b[1;33m(\u001b[0m\u001b[0mavar\u001b[0m\u001b[1;33m)\u001b[0m\u001b[1;33m\u001b[0m\u001b[0m\n\u001b[0m\u001b[0;32m   1060\u001b[0m                 \u001b[1;32mif\u001b[0m \u001b[0mnormalize\u001b[0m \u001b[1;32mis\u001b[0m \u001b[1;32mnot\u001b[0m \u001b[1;32mNone\u001b[0m\u001b[1;33m:\u001b[0m\u001b[1;33m\u001b[0m\u001b[0m\n\u001b[0;32m   1061\u001b[0m                     \u001b[0mtoRawFkt2\u001b[0m \u001b[1;33m=\u001b[0m \u001b[1;32mlambda\u001b[0m \u001b[0mavar\u001b[0m\u001b[1;33m:\u001b[0m \u001b[0minvNormalize\u001b[0m\u001b[1;33m(\u001b[0m\u001b[0mtoRawFkt\u001b[0m\u001b[1;33m(\u001b[0m\u001b[0mavar\u001b[0m\u001b[1;33m)\u001b[0m\u001b[1;33m,\u001b[0m \u001b[0mnormalize\u001b[0m\u001b[1;33m,\u001b[0m \u001b[0minitVal\u001b[0m\u001b[1;33m)\u001b[0m\u001b[1;33m;\u001b[0m\u001b[1;33m\u001b[0m\u001b[0m\n",
      "\u001b[1;32m~\\Documents\\Programming\\PythonScripts\\StateModeling\\StateModeling.py\u001b[0m in \u001b[0;36mtotensor\u001b[1;34m(img)\u001b[0m\n\u001b[0;32m    407\u001b[0m         \u001b[0mimg\u001b[0m \u001b[1;33m=\u001b[0m \u001b[0mnp\u001b[0m\u001b[1;33m.\u001b[0m\u001b[0marray\u001b[0m\u001b[1;33m(\u001b[0m\u001b[0mimg\u001b[0m\u001b[1;33m,\u001b[0m \u001b[0mCalcFloatStr\u001b[0m\u001b[1;33m)\u001b[0m\u001b[1;33m\u001b[0m\u001b[0m\n\u001b[0;32m    408\u001b[0m \u001b[1;33m\u001b[0m\u001b[0m\n\u001b[1;32m--> 409\u001b[1;33m     \u001b[1;32mif\u001b[0m \u001b[1;32mnot\u001b[0m \u001b[0misNumber\u001b[0m\u001b[1;33m(\u001b[0m\u001b[0mimg\u001b[0m\u001b[1;33m)\u001b[0m \u001b[1;32mand\u001b[0m \u001b[1;33m(\u001b[0m\u001b[1;33m(\u001b[0m\u001b[0mimg\u001b[0m\u001b[1;33m.\u001b[0m\u001b[0mdtype\u001b[0m \u001b[1;33m==\u001b[0m \u001b[0mdefaultTFDataType\u001b[0m\u001b[1;33m)\u001b[0m \u001b[1;32mor\u001b[0m \u001b[1;33m(\u001b[0m\u001b[0mimg\u001b[0m\u001b[1;33m.\u001b[0m\u001b[0mdtype\u001b[0m \u001b[1;33m==\u001b[0m \u001b[0mdefaultTFCpxDataType\u001b[0m\u001b[1;33m)\u001b[0m\u001b[1;33m)\u001b[0m\u001b[1;33m:\u001b[0m\u001b[1;33m\u001b[0m\u001b[0m\n\u001b[0m\u001b[0;32m    410\u001b[0m         \u001b[0mimg\u001b[0m \u001b[1;33m=\u001b[0m \u001b[0mtf\u001b[0m\u001b[1;33m.\u001b[0m\u001b[0mconstant\u001b[0m\u001b[1;33m(\u001b[0m\u001b[0mimg\u001b[0m\u001b[1;33m)\u001b[0m\u001b[1;33m\u001b[0m\u001b[0m\n\u001b[0;32m    411\u001b[0m     \u001b[1;32melse\u001b[0m\u001b[1;33m:\u001b[0m\u001b[1;33m\u001b[0m\u001b[0m\n",
      "\u001b[1;32mC:\\Program Files (x86)\\Microsoft Visual Studio\\Shared\\Anaconda3_64\\envs\\StateModeling\\lib\\site-packages\\traitlets\\utils\\bunch.py\u001b[0m in \u001b[0;36m__getattr__\u001b[1;34m(self, key)\u001b[0m\n\u001b[0;32m     13\u001b[0m             \u001b[1;32mreturn\u001b[0m \u001b[0mself\u001b[0m\u001b[1;33m.\u001b[0m\u001b[0m__getitem__\u001b[0m\u001b[1;33m(\u001b[0m\u001b[0mkey\u001b[0m\u001b[1;33m)\u001b[0m\u001b[1;33m\u001b[0m\u001b[0m\n\u001b[0;32m     14\u001b[0m         \u001b[1;32mexcept\u001b[0m \u001b[0mKeyError\u001b[0m\u001b[1;33m:\u001b[0m\u001b[1;33m\u001b[0m\u001b[0m\n\u001b[1;32m---> 15\u001b[1;33m             \u001b[1;32mraise\u001b[0m \u001b[0mAttributeError\u001b[0m\u001b[1;33m(\u001b[0m\u001b[0mkey\u001b[0m\u001b[1;33m)\u001b[0m\u001b[1;33m\u001b[0m\u001b[0m\n\u001b[0m\u001b[0;32m     16\u001b[0m \u001b[1;33m\u001b[0m\u001b[0m\n\u001b[0;32m     17\u001b[0m     \u001b[1;32mdef\u001b[0m \u001b[0m__setattr__\u001b[0m\u001b[1;33m(\u001b[0m\u001b[0mself\u001b[0m\u001b[1;33m,\u001b[0m \u001b[0mkey\u001b[0m\u001b[1;33m,\u001b[0m \u001b[0mvalue\u001b[0m\u001b[1;33m)\u001b[0m\u001b[1;33m:\u001b[0m\u001b[1;33m\u001b[0m\u001b[0m\n",
      "\u001b[1;31mAttributeError\u001b[0m: dtype"
     ]
    }
   ],
   "source": [
    "#interact_manual(showSim,\n",
    "#        ymin=ymin,\n",
    "#        ymax=ymax)\n",
    "\n",
    "d = widgets.FloatLogSlider(0.06,min=-10,max=2.0,continuous_update=False)\n",
    "r = widgets.FloatLogSlider(0.01,min=-10,max=2.0,continuous_update=False)\n",
    "uiS = widgets.HBox((d,r))\n",
    "allSimWidgets = {'d':d}\n",
    "print('Simulation Control:')\n",
    "    \n",
    "d.observe(assignParam, names='value')\n",
    "# d.observe(showSimRes, names='value')\n",
    "# outS = widgets.interactive_output(assignParam, allSimWidgets)\n",
    "display(uiS, outS)\n",
    "\n",
    "ymin = widgets.FloatLogSlider(0.001,min=-10,max=3,continuous_update=False)\n",
    "ymax = widgets.FloatLogSlider(30.0,min=-10,max=3,continuous_update=False)\n",
    "ui = widgets.HBox((ymin,ymax))\n",
    "allWidgets = {'ymin': ymin, 'ymax': ymax}\n",
    "out = widgets.interactive_output(showSimRes, allWidgets)\n",
    "\n",
    "# out.layout.width = '700px';out.layout.height = '350px'\n",
    "display(ui, out)\n",
    "\n",
    "ymin = widgets.FloatLogSlider(0.0001,min=-10,max=6.0,continuous_update=False)\n",
    "ymax = widgets.FloatLogSlider(0.01,min=-10,max=2.0,continuous_update=False)\n",
    "ui = widgets.HBox((ymin,ymax))\n",
    "allWidgets = {'ymin': ymin, 'ymax': ymax}\n",
    "out2 = widgets.interactive_output(showSimStates, allWidgets)\n",
    "#out2.layout.width = '700px';out2.layout.height = '350px'\n",
    "#display(ui, out2)\n"
   ]
  },
  {
   "cell_type": "code",
   "execution_count": 5,
   "metadata": {},
   "outputs": [
    {
     "data": {
      "text/plain": [
       "'C:\\\\Users\\\\pi96doc\\\\Documents\\\\Programming\\\\PythonScripts\\\\StateModeling'"
      ]
     },
     "execution_count": 5,
     "metadata": {},
     "output_type": "execute_result"
    }
   ],
   "source": [
    "import os\n",
    "os.getcwd()"
   ]
  },
  {
   "cell_type": "code",
   "execution_count": 8,
   "metadata": {},
   "outputs": [
    {
     "data": {
      "application/vnd.jupyter.widget-view+json": {
       "model_id": "b30ffeb43c3f4ab9ac3be09cea847353",
       "version_major": 2,
       "version_minor": 0
      },
      "text/plain": [
       "HBox(children=(Box(children=(HBox(children=(Checkbox(value=True, description='Country', indent=False, layout=L…"
      ]
     },
     "metadata": {},
     "output_type": "display_data"
    }
   ],
   "source": [
    "from ipywidgets import widgets, Layout\n",
    "from IPython.display import display\n",
    "item_layout = Layout(\n",
    "    display='flex',flex_flow='row',\n",
    "    justify_content='space-between'\n",
    ")\n",
    "box_layout=Layout(\n",
    "    display='flex',flex_flow='column',\n",
    "    border='solid 2px',align_items='stretch',width='50%')\n",
    "tickLayout = Layout(display='flex', width='30%')\n",
    "inFitWidget = widgets.Checkbox(value=True, indent=False, layout=tickLayout, description='Country')\n",
    "drop = widgets.Dropdown(options=['a','b'], indent=False, value='a')\n",
    "dropWidget = widgets.HBox((inFitWidget, drop), display='flex', layout = item_layout)\n",
    "valueWidget = widgets.FloatLogSlider(value=1.0,base=10,min=-7,max=1)\n",
    "boxWidget = widgets.HBox((Label('Hi'),valueWidget),layout=item_layout)\n",
    "# valueWidget = widgets.HBox((inFitWidget,valueWidget))\n",
    "widget = widgets.Box((dropWidget, boxWidget), layout=box_layout)\n",
    "display(widgets.HBox((widget,widget,widget, widget)))"
   ]
  },
  {
   "cell_type": "code",
   "execution_count": 15,
   "metadata": {},
   "outputs": [
    {
     "data": {
      "text/plain": [
       "''"
      ]
     },
     "execution_count": 15,
     "metadata": {},
     "output_type": "execute_result"
    }
   ],
   "source": [
    "valueWidget.description"
   ]
  },
  {
   "cell_type": "code",
   "execution_count": 10,
   "metadata": {},
   "outputs": [],
   "source": [
    "def showSimRes(ymin=0.0001,ymax=1.0):\n",
    "    doFit()\n",
    "    p=M.showResultsBokeh(title=AllMeasured['Region'], Scale=PopSum, ylabel='fraction', \n",
    "                  xlim=xlim, dims=(\"District\"), subPlot='cases',\n",
    "                  legendPlacement='upper right',figsize=[10,5], Dates=AllMeasured['Dates'])\n",
    "    p=M.showResultsBokeh(title=AllMeasured['Region'], Scale=PopSum, ylabel='fraction', \n",
    "                  xlim=xlim, dims=(\"District\"), subPlot='hospitalization',\n",
    "                  legendPlacement='upper right',figsize=[10,5], Dates=AllMeasured['Dates'])\n",
    "    p=M.showResultsBokeh(title=AllMeasured['Region'], Scale=PopSum, ylabel='fraction', \n",
    "                  xlim=xlim, dims=(\"District\"), subPlot='deaths', \n",
    "                  legendPlacement='upper right',figsize=[10,5], Dates=AllMeasured['Dates'])\n",
    "    return p\n"
   ]
  },
  {
   "cell_type": "code",
   "execution_count": 5,
   "metadata": {},
   "outputs": [
    {
     "data": {
      "text/plain": [
       "0"
      ]
     },
     "execution_count": 5,
     "metadata": {},
     "output_type": "execute_result"
    }
   ],
   "source": [
    "g['T0'].children[1].value"
   ]
  },
  {
   "cell_type": "code",
   "execution_count": 18,
   "metadata": {},
   "outputs": [
    {
     "data": {
      "text/plain": [
       "<tf.Tensor: shape=(1, 2, 1, 1), dtype=float32, numpy=\n",
       "array([[[[2.5118864e-06]],\n",
       "\n",
       "        [[7.1999998e+00]]]], dtype=float32)>"
      ]
     },
     "execution_count": 18,
     "metadata": {},
     "output_type": "execute_result"
    }
   ],
   "source": [
    "M.Var['T0']()"
   ]
  },
  {
   "cell_type": "code",
   "execution_count": 7,
   "metadata": {},
   "outputs": [
    {
     "ename": "ModuleNotFoundError",
     "evalue": "No module named 'bokeh.js'",
     "output_type": "error",
     "traceback": [
      "\u001b[1;31m---------------------------------------------------------------------------\u001b[0m",
      "\u001b[1;31mModuleNotFoundError\u001b[0m                       Traceback (most recent call last)",
      "\u001b[1;32m<ipython-input-7-c76b9822d85e>\u001b[0m in \u001b[0;36m<module>\u001b[1;34m\u001b[0m\n\u001b[0;32m      2\u001b[0m \u001b[1;32mimport\u001b[0m \u001b[0mnumpy\u001b[0m \u001b[1;32mas\u001b[0m \u001b[0mnp\u001b[0m\u001b[1;33m\u001b[0m\u001b[0m\n\u001b[0;32m      3\u001b[0m \u001b[1;32mimport\u001b[0m \u001b[0mpandas\u001b[0m \u001b[1;32mas\u001b[0m \u001b[0mpd\u001b[0m\u001b[1;33m\u001b[0m\u001b[0m\n\u001b[1;32m----> 4\u001b[1;33m \u001b[1;32mimport\u001b[0m \u001b[0mbokeh\u001b[0m\u001b[1;33m.\u001b[0m\u001b[0mjs\u001b[0m\u001b[1;33m\u001b[0m\u001b[0m\n\u001b[0m\u001b[0;32m      5\u001b[0m \u001b[1;32mfrom\u001b[0m \u001b[0mbokeh\u001b[0m\u001b[1;33m.\u001b[0m\u001b[0mio\u001b[0m \u001b[1;32mimport\u001b[0m \u001b[0mpush_notebook\u001b[0m\u001b[1;33m,\u001b[0m \u001b[0mshow\u001b[0m\u001b[1;33m,\u001b[0m \u001b[0moutput_notebook\u001b[0m\u001b[1;33m\u001b[0m\u001b[0m\n\u001b[0;32m      6\u001b[0m \u001b[1;32mfrom\u001b[0m \u001b[0mbokeh\u001b[0m\u001b[1;33m.\u001b[0m\u001b[0mplotting\u001b[0m \u001b[1;32mimport\u001b[0m \u001b[0mfigure\u001b[0m\u001b[1;33m\u001b[0m\u001b[0m\n",
      "\u001b[1;31mModuleNotFoundError\u001b[0m: No module named 'bokeh.js'"
     ]
    }
   ],
   "source": [
    "from ipywidgets import interact\n",
    "import numpy as np\n",
    "import pandas as pd\n",
    "\n",
    "from bokeh.io import push_notebook, show, output_notebook\n",
    "from bokeh.plotting import figure\n",
    "from bokeh.models import ColumnDataSource\n",
    "\n",
    "x = np.linspace(0, 2*np.pi, 20)\n",
    "y = np.sin(x)\n",
    "#Dates = M.getDates(AllMeasured['Dates'],y)\n",
    "#Dates = pd.to_datetime(Dates, dayfirst=True)\n",
    "\n",
    "source = ColumnDataSource(data=dict(x=x, y=y))\n",
    "\n",
    "p = figure(title=\"simple line example\", plot_height=300, plot_width=600, y_range=(-5,5),\n",
    "           background_fill_color='#efefef', name='Blubb') # , x_axis_type='datetime'\n",
    "# r = p.line(pd.to_datetime(Dates), y, color=\"#8888cc\", line_width=1.5, alpha=0.8)\n",
    "# r = p.vbar_stack([x], y=[y-0.5], color=\"#8888cc\")\n",
    "r = p.vbar('x', top='y',color=\"#cc8800\", alpha=0.4, source=source, name='Hi there')\n",
    "# r = p.vbar(x, top=y+1, width=0.15, color=\"#8888cc\", alpha=0.6)\n",
    "p.xaxis.axis_label = 'Hi'\n",
    "q=show(p, notebook_handle=True)\n",
    "# pd.date_range(start=Dates[0], periods=toPlot.shape[0]).map(lambda x: x.strftime('%d.%m.%Y'))\n"
   ]
  },
  {
   "cell_type": "code",
   "execution_count": 48,
   "metadata": {},
   "outputs": [],
   "source": [
    "# pd.to_datetime(Dates)\n",
    "Dates = pd.date_range(start='14.02.2020', periods=x.shape[0]).map(lambda x: x.strftime('%d.%m.%Y'))"
   ]
  },
  {
   "cell_type": "code",
   "execution_count": 7,
   "metadata": {},
   "outputs": [
    {
     "data": {
      "text/plain": [
       "bokeh.plotting.figure.Figure"
      ]
     },
     "execution_count": 7,
     "metadata": {},
     "output_type": "execute_result"
    }
   ],
   "source": [
    "type(p)"
   ]
  },
  {
   "cell_type": "code",
   "execution_count": 6,
   "metadata": {},
   "outputs": [
    {
     "data": {
      "text/plain": [
       "False"
      ]
     },
     "execution_count": 6,
     "metadata": {},
     "output_type": "execute_result"
    }
   ],
   "source": [
    "from bokeh.io.notebook import CommsHandle\n",
    "isinstance(q,CommsHandle)"
   ]
  },
  {
   "cell_type": "code",
   "execution_count": 9,
   "metadata": {},
   "outputs": [
    {
     "data": {
      "text/plain": [
       "bokeh.plotting.figure.Figure"
      ]
     },
     "execution_count": 9,
     "metadata": {},
     "output_type": "execute_result"
    }
   ],
   "source": [
    "type(p)"
   ]
  },
  {
   "cell_type": "code",
   "execution_count": 5,
   "metadata": {},
   "outputs": [
    {
     "data": {
      "text/html": [
       "\n",
       "    <div class=\"bk-root\">\n",
       "        <a href=\"https://bokeh.org\" target=\"_blank\" class=\"bk-logo bk-logo-small bk-logo-notebook\"></a>\n",
       "        <span id=\"1264\">Loading BokehJS ...</span>\n",
       "    </div>"
      ]
     },
     "metadata": {},
     "output_type": "display_data"
    },
    {
     "data": {
      "application/javascript": [
       "\n",
       "(function(root) {\n",
       "  function now() {\n",
       "    return new Date();\n",
       "  }\n",
       "\n",
       "  var force = true;\n",
       "\n",
       "  if (typeof root._bokeh_onload_callbacks === \"undefined\" || force === true) {\n",
       "    root._bokeh_onload_callbacks = [];\n",
       "    root._bokeh_is_loading = undefined;\n",
       "  }\n",
       "\n",
       "  var JS_MIME_TYPE = 'application/javascript';\n",
       "  var HTML_MIME_TYPE = 'text/html';\n",
       "  var EXEC_MIME_TYPE = 'application/vnd.bokehjs_exec.v0+json';\n",
       "  var CLASS_NAME = 'output_bokeh rendered_html';\n",
       "\n",
       "  /**\n",
       "   * Render data to the DOM node\n",
       "   */\n",
       "  function render(props, node) {\n",
       "    var script = document.createElement(\"script\");\n",
       "    node.appendChild(script);\n",
       "  }\n",
       "\n",
       "  /**\n",
       "   * Handle when an output is cleared or removed\n",
       "   */\n",
       "  function handleClearOutput(event, handle) {\n",
       "    var cell = handle.cell;\n",
       "\n",
       "    var id = cell.output_area._bokeh_element_id;\n",
       "    var server_id = cell.output_area._bokeh_server_id;\n",
       "    // Clean up Bokeh references\n",
       "    if (id != null && id in Bokeh.index) {\n",
       "      Bokeh.index[id].model.document.clear();\n",
       "      delete Bokeh.index[id];\n",
       "    }\n",
       "\n",
       "    if (server_id !== undefined) {\n",
       "      // Clean up Bokeh references\n",
       "      var cmd = \"from bokeh.io.state import curstate; print(curstate().uuid_to_server['\" + server_id + \"'].get_sessions()[0].document.roots[0]._id)\";\n",
       "      cell.notebook.kernel.execute(cmd, {\n",
       "        iopub: {\n",
       "          output: function(msg) {\n",
       "            var id = msg.content.text.trim();\n",
       "            if (id in Bokeh.index) {\n",
       "              Bokeh.index[id].model.document.clear();\n",
       "              delete Bokeh.index[id];\n",
       "            }\n",
       "          }\n",
       "        }\n",
       "      });\n",
       "      // Destroy server and session\n",
       "      var cmd = \"import bokeh.io.notebook as ion; ion.destroy_server('\" + server_id + \"')\";\n",
       "      cell.notebook.kernel.execute(cmd);\n",
       "    }\n",
       "  }\n",
       "\n",
       "  /**\n",
       "   * Handle when a new output is added\n",
       "   */\n",
       "  function handleAddOutput(event, handle) {\n",
       "    var output_area = handle.output_area;\n",
       "    var output = handle.output;\n",
       "\n",
       "    // limit handleAddOutput to display_data with EXEC_MIME_TYPE content only\n",
       "    if ((output.output_type != \"display_data\") || (!output.data.hasOwnProperty(EXEC_MIME_TYPE))) {\n",
       "      return\n",
       "    }\n",
       "\n",
       "    var toinsert = output_area.element.find(\".\" + CLASS_NAME.split(' ')[0]);\n",
       "\n",
       "    if (output.metadata[EXEC_MIME_TYPE][\"id\"] !== undefined) {\n",
       "      toinsert[toinsert.length - 1].firstChild.textContent = output.data[JS_MIME_TYPE];\n",
       "      // store reference to embed id on output_area\n",
       "      output_area._bokeh_element_id = output.metadata[EXEC_MIME_TYPE][\"id\"];\n",
       "    }\n",
       "    if (output.metadata[EXEC_MIME_TYPE][\"server_id\"] !== undefined) {\n",
       "      var bk_div = document.createElement(\"div\");\n",
       "      bk_div.innerHTML = output.data[HTML_MIME_TYPE];\n",
       "      var script_attrs = bk_div.children[0].attributes;\n",
       "      for (var i = 0; i < script_attrs.length; i++) {\n",
       "        toinsert[toinsert.length - 1].firstChild.setAttribute(script_attrs[i].name, script_attrs[i].value);\n",
       "        toinsert[toinsert.length - 1].firstChild.textContent = bk_div.children[0].textContent\n",
       "      }\n",
       "      // store reference to server id on output_area\n",
       "      output_area._bokeh_server_id = output.metadata[EXEC_MIME_TYPE][\"server_id\"];\n",
       "    }\n",
       "  }\n",
       "\n",
       "  function register_renderer(events, OutputArea) {\n",
       "\n",
       "    function append_mime(data, metadata, element) {\n",
       "      // create a DOM node to render to\n",
       "      var toinsert = this.create_output_subarea(\n",
       "        metadata,\n",
       "        CLASS_NAME,\n",
       "        EXEC_MIME_TYPE\n",
       "      );\n",
       "      this.keyboard_manager.register_events(toinsert);\n",
       "      // Render to node\n",
       "      var props = {data: data, metadata: metadata[EXEC_MIME_TYPE]};\n",
       "      render(props, toinsert[toinsert.length - 1]);\n",
       "      element.append(toinsert);\n",
       "      return toinsert\n",
       "    }\n",
       "\n",
       "    /* Handle when an output is cleared or removed */\n",
       "    events.on('clear_output.CodeCell', handleClearOutput);\n",
       "    events.on('delete.Cell', handleClearOutput);\n",
       "\n",
       "    /* Handle when a new output is added */\n",
       "    events.on('output_added.OutputArea', handleAddOutput);\n",
       "\n",
       "    /**\n",
       "     * Register the mime type and append_mime function with output_area\n",
       "     */\n",
       "    OutputArea.prototype.register_mime_type(EXEC_MIME_TYPE, append_mime, {\n",
       "      /* Is output safe? */\n",
       "      safe: true,\n",
       "      /* Index of renderer in `output_area.display_order` */\n",
       "      index: 0\n",
       "    });\n",
       "  }\n",
       "\n",
       "  // register the mime type if in Jupyter Notebook environment and previously unregistered\n",
       "  if (root.Jupyter !== undefined) {\n",
       "    var events = require('base/js/events');\n",
       "    var OutputArea = require('notebook/js/outputarea').OutputArea;\n",
       "\n",
       "    if (OutputArea.prototype.mime_types().indexOf(EXEC_MIME_TYPE) == -1) {\n",
       "      register_renderer(events, OutputArea);\n",
       "    }\n",
       "  }\n",
       "\n",
       "  \n",
       "  if (typeof (root._bokeh_timeout) === \"undefined\" || force === true) {\n",
       "    root._bokeh_timeout = Date.now() + 5000;\n",
       "    root._bokeh_failed_load = false;\n",
       "  }\n",
       "\n",
       "  var NB_LOAD_WARNING = {'data': {'text/html':\n",
       "     \"<div style='background-color: #fdd'>\\n\"+\n",
       "     \"<p>\\n\"+\n",
       "     \"BokehJS does not appear to have successfully loaded. If loading BokehJS from CDN, this \\n\"+\n",
       "     \"may be due to a slow or bad network connection. Possible fixes:\\n\"+\n",
       "     \"</p>\\n\"+\n",
       "     \"<ul>\\n\"+\n",
       "     \"<li>re-rerun `output_notebook()` to attempt to load from CDN again, or</li>\\n\"+\n",
       "     \"<li>use INLINE resources instead, as so:</li>\\n\"+\n",
       "     \"</ul>\\n\"+\n",
       "     \"<code>\\n\"+\n",
       "     \"from bokeh.resources import INLINE\\n\"+\n",
       "     \"output_notebook(resources=INLINE)\\n\"+\n",
       "     \"</code>\\n\"+\n",
       "     \"</div>\"}};\n",
       "\n",
       "  function display_loaded() {\n",
       "    var el = document.getElementById(\"1264\");\n",
       "    if (el != null) {\n",
       "      el.textContent = \"BokehJS is loading...\";\n",
       "    }\n",
       "    if (root.Bokeh !== undefined) {\n",
       "      if (el != null) {\n",
       "        el.textContent = \"BokehJS \" + root.Bokeh.version + \" successfully loaded.\";\n",
       "      }\n",
       "    } else if (Date.now() < root._bokeh_timeout) {\n",
       "      setTimeout(display_loaded, 100)\n",
       "    }\n",
       "  }\n",
       "\n",
       "\n",
       "  function run_callbacks() {\n",
       "    try {\n",
       "      root._bokeh_onload_callbacks.forEach(function(callback) {\n",
       "        if (callback != null)\n",
       "          callback();\n",
       "      });\n",
       "    } finally {\n",
       "      delete root._bokeh_onload_callbacks\n",
       "    }\n",
       "    console.debug(\"Bokeh: all callbacks have finished\");\n",
       "  }\n",
       "\n",
       "  function load_libs(css_urls, js_urls, callback) {\n",
       "    if (css_urls == null) css_urls = [];\n",
       "    if (js_urls == null) js_urls = [];\n",
       "\n",
       "    root._bokeh_onload_callbacks.push(callback);\n",
       "    if (root._bokeh_is_loading > 0) {\n",
       "      console.debug(\"Bokeh: BokehJS is being loaded, scheduling callback at\", now());\n",
       "      return null;\n",
       "    }\n",
       "    if (js_urls == null || js_urls.length === 0) {\n",
       "      run_callbacks();\n",
       "      return null;\n",
       "    }\n",
       "    console.debug(\"Bokeh: BokehJS not loaded, scheduling load and callback at\", now());\n",
       "    root._bokeh_is_loading = css_urls.length + js_urls.length;\n",
       "\n",
       "    function on_load() {\n",
       "      root._bokeh_is_loading--;\n",
       "      if (root._bokeh_is_loading === 0) {\n",
       "        console.debug(\"Bokeh: all BokehJS libraries/stylesheets loaded\");\n",
       "        run_callbacks()\n",
       "      }\n",
       "    }\n",
       "\n",
       "    function on_error() {\n",
       "      console.error(\"failed to load \" + url);\n",
       "    }\n",
       "\n",
       "    for (var i = 0; i < css_urls.length; i++) {\n",
       "      var url = css_urls[i];\n",
       "      const element = document.createElement(\"link\");\n",
       "      element.onload = on_load;\n",
       "      element.onerror = on_error;\n",
       "      element.rel = \"stylesheet\";\n",
       "      element.type = \"text/css\";\n",
       "      element.href = url;\n",
       "      console.debug(\"Bokeh: injecting link tag for BokehJS stylesheet: \", url);\n",
       "      document.body.appendChild(element);\n",
       "    }\n",
       "\n",
       "    const hashes = {\"https://cdn.bokeh.org/bokeh/release/bokeh-2.0.2.min.js\": \"ufR9RFnRs6lniiaFvtJziE0YeidtAgBRH6ux2oUItHw5WTvE1zuk9uzhUU/FJXDp\", \"https://cdn.bokeh.org/bokeh/release/bokeh-widgets-2.0.2.min.js\": \"8QM/PGWBT+IssZuRcDcjzwIh1mkOmJSoNMmyYDZbCfXJg3Ap1lEvdVgFuSAwhb/J\", \"https://cdn.bokeh.org/bokeh/release/bokeh-tables-2.0.2.min.js\": \"Jm8cH3Rg0P6UeZhVY5cLy1WzKajUT9KImCY+76hEqrcJt59/d8GPvFHjCkYgnSIn\", \"https://cdn.bokeh.org/bokeh/release/bokeh-gl-2.0.2.min.js\": \"Ozhzj+SI7ywm74aOI/UajcWz+C0NjsPunEVyVIrxzYkB+jA+2tUw8x5xJCbVtK5I\"};\n",
       "\n",
       "    for (var i = 0; i < js_urls.length; i++) {\n",
       "      var url = js_urls[i];\n",
       "      var element = document.createElement('script');\n",
       "      element.onload = on_load;\n",
       "      element.onerror = on_error;\n",
       "      element.async = false;\n",
       "      element.src = url;\n",
       "      if (url in hashes) {\n",
       "        element.crossOrigin = \"anonymous\";\n",
       "        element.integrity = \"sha384-\" + hashes[url];\n",
       "      }\n",
       "      console.debug(\"Bokeh: injecting script tag for BokehJS library: \", url);\n",
       "      document.head.appendChild(element);\n",
       "    }\n",
       "  };\n",
       "\n",
       "  function inject_raw_css(css) {\n",
       "    const element = document.createElement(\"style\");\n",
       "    element.appendChild(document.createTextNode(css));\n",
       "    document.body.appendChild(element);\n",
       "  }\n",
       "\n",
       "  \n",
       "  var js_urls = [\"https://cdn.bokeh.org/bokeh/release/bokeh-2.0.2.min.js\", \"https://cdn.bokeh.org/bokeh/release/bokeh-widgets-2.0.2.min.js\", \"https://cdn.bokeh.org/bokeh/release/bokeh-tables-2.0.2.min.js\", \"https://cdn.bokeh.org/bokeh/release/bokeh-gl-2.0.2.min.js\"];\n",
       "  var css_urls = [];\n",
       "  \n",
       "\n",
       "  var inline_js = [\n",
       "    function(Bokeh) {\n",
       "      Bokeh.set_log_level(\"info\");\n",
       "    },\n",
       "    function(Bokeh) {\n",
       "    \n",
       "    \n",
       "    }\n",
       "  ];\n",
       "\n",
       "  function run_inline_js() {\n",
       "    \n",
       "    if (root.Bokeh !== undefined || force === true) {\n",
       "      \n",
       "    for (var i = 0; i < inline_js.length; i++) {\n",
       "      inline_js[i].call(root, root.Bokeh);\n",
       "    }\n",
       "    if (force === true) {\n",
       "        display_loaded();\n",
       "      }} else if (Date.now() < root._bokeh_timeout) {\n",
       "      setTimeout(run_inline_js, 100);\n",
       "    } else if (!root._bokeh_failed_load) {\n",
       "      console.log(\"Bokeh: BokehJS failed to load within specified timeout.\");\n",
       "      root._bokeh_failed_load = true;\n",
       "    } else if (force !== true) {\n",
       "      var cell = $(document.getElementById(\"1264\")).parents('.cell').data().cell;\n",
       "      cell.output_area.append_execute_result(NB_LOAD_WARNING)\n",
       "    }\n",
       "\n",
       "  }\n",
       "\n",
       "  if (root._bokeh_is_loading === 0) {\n",
       "    console.debug(\"Bokeh: BokehJS loaded, going straight to plotting\");\n",
       "    run_inline_js();\n",
       "  } else {\n",
       "    load_libs(css_urls, js_urls, function() {\n",
       "      console.debug(\"Bokeh: BokehJS plotting callback run at\", now());\n",
       "      run_inline_js();\n",
       "    });\n",
       "  }\n",
       "}(window));"
      ],
      "application/vnd.bokehjs_load.v0+json": "\n(function(root) {\n  function now() {\n    return new Date();\n  }\n\n  var force = true;\n\n  if (typeof root._bokeh_onload_callbacks === \"undefined\" || force === true) {\n    root._bokeh_onload_callbacks = [];\n    root._bokeh_is_loading = undefined;\n  }\n\n  \n\n  \n  if (typeof (root._bokeh_timeout) === \"undefined\" || force === true) {\n    root._bokeh_timeout = Date.now() + 5000;\n    root._bokeh_failed_load = false;\n  }\n\n  var NB_LOAD_WARNING = {'data': {'text/html':\n     \"<div style='background-color: #fdd'>\\n\"+\n     \"<p>\\n\"+\n     \"BokehJS does not appear to have successfully loaded. If loading BokehJS from CDN, this \\n\"+\n     \"may be due to a slow or bad network connection. Possible fixes:\\n\"+\n     \"</p>\\n\"+\n     \"<ul>\\n\"+\n     \"<li>re-rerun `output_notebook()` to attempt to load from CDN again, or</li>\\n\"+\n     \"<li>use INLINE resources instead, as so:</li>\\n\"+\n     \"</ul>\\n\"+\n     \"<code>\\n\"+\n     \"from bokeh.resources import INLINE\\n\"+\n     \"output_notebook(resources=INLINE)\\n\"+\n     \"</code>\\n\"+\n     \"</div>\"}};\n\n  function display_loaded() {\n    var el = document.getElementById(\"1264\");\n    if (el != null) {\n      el.textContent = \"BokehJS is loading...\";\n    }\n    if (root.Bokeh !== undefined) {\n      if (el != null) {\n        el.textContent = \"BokehJS \" + root.Bokeh.version + \" successfully loaded.\";\n      }\n    } else if (Date.now() < root._bokeh_timeout) {\n      setTimeout(display_loaded, 100)\n    }\n  }\n\n\n  function run_callbacks() {\n    try {\n      root._bokeh_onload_callbacks.forEach(function(callback) {\n        if (callback != null)\n          callback();\n      });\n    } finally {\n      delete root._bokeh_onload_callbacks\n    }\n    console.debug(\"Bokeh: all callbacks have finished\");\n  }\n\n  function load_libs(css_urls, js_urls, callback) {\n    if (css_urls == null) css_urls = [];\n    if (js_urls == null) js_urls = [];\n\n    root._bokeh_onload_callbacks.push(callback);\n    if (root._bokeh_is_loading > 0) {\n      console.debug(\"Bokeh: BokehJS is being loaded, scheduling callback at\", now());\n      return null;\n    }\n    if (js_urls == null || js_urls.length === 0) {\n      run_callbacks();\n      return null;\n    }\n    console.debug(\"Bokeh: BokehJS not loaded, scheduling load and callback at\", now());\n    root._bokeh_is_loading = css_urls.length + js_urls.length;\n\n    function on_load() {\n      root._bokeh_is_loading--;\n      if (root._bokeh_is_loading === 0) {\n        console.debug(\"Bokeh: all BokehJS libraries/stylesheets loaded\");\n        run_callbacks()\n      }\n    }\n\n    function on_error() {\n      console.error(\"failed to load \" + url);\n    }\n\n    for (var i = 0; i < css_urls.length; i++) {\n      var url = css_urls[i];\n      const element = document.createElement(\"link\");\n      element.onload = on_load;\n      element.onerror = on_error;\n      element.rel = \"stylesheet\";\n      element.type = \"text/css\";\n      element.href = url;\n      console.debug(\"Bokeh: injecting link tag for BokehJS stylesheet: \", url);\n      document.body.appendChild(element);\n    }\n\n    const hashes = {\"https://cdn.bokeh.org/bokeh/release/bokeh-2.0.2.min.js\": \"ufR9RFnRs6lniiaFvtJziE0YeidtAgBRH6ux2oUItHw5WTvE1zuk9uzhUU/FJXDp\", \"https://cdn.bokeh.org/bokeh/release/bokeh-widgets-2.0.2.min.js\": \"8QM/PGWBT+IssZuRcDcjzwIh1mkOmJSoNMmyYDZbCfXJg3Ap1lEvdVgFuSAwhb/J\", \"https://cdn.bokeh.org/bokeh/release/bokeh-tables-2.0.2.min.js\": \"Jm8cH3Rg0P6UeZhVY5cLy1WzKajUT9KImCY+76hEqrcJt59/d8GPvFHjCkYgnSIn\", \"https://cdn.bokeh.org/bokeh/release/bokeh-gl-2.0.2.min.js\": \"Ozhzj+SI7ywm74aOI/UajcWz+C0NjsPunEVyVIrxzYkB+jA+2tUw8x5xJCbVtK5I\"};\n\n    for (var i = 0; i < js_urls.length; i++) {\n      var url = js_urls[i];\n      var element = document.createElement('script');\n      element.onload = on_load;\n      element.onerror = on_error;\n      element.async = false;\n      element.src = url;\n      if (url in hashes) {\n        element.crossOrigin = \"anonymous\";\n        element.integrity = \"sha384-\" + hashes[url];\n      }\n      console.debug(\"Bokeh: injecting script tag for BokehJS library: \", url);\n      document.head.appendChild(element);\n    }\n  };\n\n  function inject_raw_css(css) {\n    const element = document.createElement(\"style\");\n    element.appendChild(document.createTextNode(css));\n    document.body.appendChild(element);\n  }\n\n  \n  var js_urls = [\"https://cdn.bokeh.org/bokeh/release/bokeh-2.0.2.min.js\", \"https://cdn.bokeh.org/bokeh/release/bokeh-widgets-2.0.2.min.js\", \"https://cdn.bokeh.org/bokeh/release/bokeh-tables-2.0.2.min.js\", \"https://cdn.bokeh.org/bokeh/release/bokeh-gl-2.0.2.min.js\"];\n  var css_urls = [];\n  \n\n  var inline_js = [\n    function(Bokeh) {\n      Bokeh.set_log_level(\"info\");\n    },\n    function(Bokeh) {\n    \n    \n    }\n  ];\n\n  function run_inline_js() {\n    \n    if (root.Bokeh !== undefined || force === true) {\n      \n    for (var i = 0; i < inline_js.length; i++) {\n      inline_js[i].call(root, root.Bokeh);\n    }\n    if (force === true) {\n        display_loaded();\n      }} else if (Date.now() < root._bokeh_timeout) {\n      setTimeout(run_inline_js, 100);\n    } else if (!root._bokeh_failed_load) {\n      console.log(\"Bokeh: BokehJS failed to load within specified timeout.\");\n      root._bokeh_failed_load = true;\n    } else if (force !== true) {\n      var cell = $(document.getElementById(\"1264\")).parents('.cell').data().cell;\n      cell.output_area.append_execute_result(NB_LOAD_WARNING)\n    }\n\n  }\n\n  if (root._bokeh_is_loading === 0) {\n    console.debug(\"Bokeh: BokehJS loaded, going straight to plotting\");\n    run_inline_js();\n  } else {\n    load_libs(css_urls, js_urls, function() {\n      console.debug(\"Bokeh: BokehJS plotting callback run at\", now());\n      run_inline_js();\n    });\n  }\n}(window));"
     },
     "metadata": {},
     "output_type": "display_data"
    },
    {
     "data": {
      "text/html": [
       "\n",
       "\n",
       "\n",
       "\n",
       "\n",
       "\n",
       "  <div class=\"bk-root\" id=\"0e74f14a-0019-444f-80ac-a58534fb4c02\" data-root-id=\"1265\"></div>\n"
      ]
     },
     "metadata": {},
     "output_type": "display_data"
    },
    {
     "data": {
      "application/javascript": [
       "(function(root) {\n",
       "  function embed_document(root) {\n",
       "    \n",
       "  var docs_json = {\"3611df0c-0906-401d-b37c-69ec72043155\":{\"roots\":{\"references\":[{\"attributes\":{\"below\":[{\"id\":\"1276\"}],\"center\":[{\"id\":\"1279\"},{\"id\":\"1283\"},{\"id\":\"1309\"}],\"left\":[{\"id\":\"1280\"}],\"renderers\":[{\"id\":\"1301\"}],\"title\":{\"id\":\"1266\"},\"toolbar\":{\"id\":\"1291\"},\"x_range\":{\"id\":\"1268\"},\"x_scale\":{\"id\":\"1272\"},\"y_range\":{\"id\":\"1270\"},\"y_scale\":{\"id\":\"1274\"}},\"id\":\"1265\",\"subtype\":\"Figure\",\"type\":\"Plot\"},{\"attributes\":{},\"id\":\"1305\",\"type\":\"BasicTickFormatter\"},{\"attributes\":{\"axis_label\":\"x\",\"formatter\":{\"id\":\"1305\"},\"ticker\":{\"id\":\"1277\"}},\"id\":\"1276\",\"type\":\"LinearAxis\"},{\"attributes\":{},\"id\":\"1277\",\"type\":\"BasicTicker\"},{\"attributes\":{},\"id\":\"1307\",\"type\":\"BasicTickFormatter\"},{\"attributes\":{\"axis\":{\"id\":\"1276\"},\"ticker\":null},\"id\":\"1279\",\"type\":\"Grid\"},{\"attributes\":{\"line_alpha\":0.1,\"line_color\":\"#1f77b4\",\"line_width\":2,\"x\":{\"field\":\"x\"},\"y\":{\"field\":\"y\"}},\"id\":\"1300\",\"type\":\"Line\"},{\"attributes\":{\"label\":{\"value\":\"Temp.\"},\"renderers\":[{\"id\":\"1301\"}]},\"id\":\"1310\",\"type\":\"LegendItem\"},{\"attributes\":{\"axis_label\":\"y\",\"formatter\":{\"id\":\"1307\"},\"ticker\":{\"id\":\"1281\"}},\"id\":\"1280\",\"type\":\"LinearAxis\"},{\"attributes\":{},\"id\":\"1333\",\"type\":\"UnionRenderers\"},{\"attributes\":{},\"id\":\"1281\",\"type\":\"BasicTicker\"},{\"attributes\":{\"axis\":{\"id\":\"1280\"},\"dimension\":1,\"ticker\":null},\"id\":\"1283\",\"type\":\"Grid\"},{\"attributes\":{\"data_source\":{\"id\":\"1298\"},\"glyph\":{\"id\":\"1299\"},\"hover_glyph\":null,\"muted_glyph\":null,\"nonselection_glyph\":{\"id\":\"1300\"},\"selection_glyph\":null,\"view\":{\"id\":\"1302\"}},\"id\":\"1301\",\"type\":\"GlyphRenderer\"},{\"attributes\":{},\"id\":\"1332\",\"type\":\"Selection\"},{\"attributes\":{\"data\":{\"x\":[1,2,3,4,5],\"y\":[3,7,2,4,5]},\"selected\":{\"id\":\"1332\"},\"selection_policy\":{\"id\":\"1333\"}},\"id\":\"1298\",\"type\":\"ColumnDataSource\"},{\"attributes\":{},\"id\":\"1284\",\"type\":\"PanTool\"},{\"attributes\":{},\"id\":\"1285\",\"type\":\"WheelZoomTool\"},{\"attributes\":{\"overlay\":{\"id\":\"1290\"}},\"id\":\"1286\",\"type\":\"BoxZoomTool\"},{\"attributes\":{},\"id\":\"1274\",\"type\":\"LinearScale\"},{\"attributes\":{},\"id\":\"1287\",\"type\":\"SaveTool\"},{\"attributes\":{},\"id\":\"1272\",\"type\":\"LinearScale\"},{\"attributes\":{},\"id\":\"1288\",\"type\":\"ResetTool\"},{\"attributes\":{},\"id\":\"1289\",\"type\":\"HelpTool\"},{\"attributes\":{\"text\":\"simple line example\"},\"id\":\"1266\",\"type\":\"Title\"},{\"attributes\":{},\"id\":\"1268\",\"type\":\"DataRange1d\"},{\"attributes\":{\"line_color\":\"#1f77b4\",\"line_width\":2,\"x\":{\"field\":\"x\"},\"y\":{\"field\":\"y\"}},\"id\":\"1299\",\"type\":\"Line\"},{\"attributes\":{},\"id\":\"1270\",\"type\":\"DataRange1d\"},{\"attributes\":{\"items\":[{\"id\":\"1310\"}]},\"id\":\"1309\",\"type\":\"Legend\"},{\"attributes\":{\"active_drag\":\"auto\",\"active_inspect\":\"auto\",\"active_multi\":null,\"active_scroll\":\"auto\",\"active_tap\":\"auto\",\"tools\":[{\"id\":\"1284\"},{\"id\":\"1285\"},{\"id\":\"1286\"},{\"id\":\"1287\"},{\"id\":\"1288\"},{\"id\":\"1289\"}]},\"id\":\"1291\",\"type\":\"Toolbar\"},{\"attributes\":{\"bottom_units\":\"screen\",\"fill_alpha\":0.5,\"fill_color\":\"lightgrey\",\"left_units\":\"screen\",\"level\":\"overlay\",\"line_alpha\":1.0,\"line_color\":\"black\",\"line_dash\":[4,4],\"line_width\":2,\"render_mode\":\"css\",\"right_units\":\"screen\",\"top_units\":\"screen\"},\"id\":\"1290\",\"type\":\"BoxAnnotation\"},{\"attributes\":{\"source\":{\"id\":\"1298\"}},\"id\":\"1302\",\"type\":\"CDSView\"}],\"root_ids\":[\"1265\"]},\"title\":\"Bokeh Application\",\"version\":\"2.0.2\"}};\n",
       "  var render_items = [{\"docid\":\"3611df0c-0906-401d-b37c-69ec72043155\",\"root_ids\":[\"1265\"],\"roots\":{\"1265\":\"0e74f14a-0019-444f-80ac-a58534fb4c02\"}}];\n",
       "  root.Bokeh.embed.embed_items_notebook(docs_json, render_items);\n",
       "\n",
       "  }\n",
       "  if (root.Bokeh !== undefined) {\n",
       "    embed_document(root);\n",
       "  } else {\n",
       "    var attempts = 0;\n",
       "    var timer = setInterval(function(root) {\n",
       "      if (root.Bokeh !== undefined) {\n",
       "        clearInterval(timer);\n",
       "        embed_document(root);\n",
       "      } else {\n",
       "        attempts++;\n",
       "        if (attempts > 100) {\n",
       "          clearInterval(timer);\n",
       "          console.log(\"Bokeh: ERROR: Unable to run BokehJS code because BokehJS library is missing\");\n",
       "        }\n",
       "      }\n",
       "    }, 10, root)\n",
       "  }\n",
       "})(window);"
      ],
      "application/vnd.bokehjs_exec.v0+json": ""
     },
     "metadata": {
      "application/vnd.bokehjs_exec.v0+json": {
       "id": "1265"
      }
     },
     "output_type": "display_data"
    }
   ],
   "source": [
    "from bokeh.plotting import figure, output_notebook, show # output_file, \n",
    "\n",
    "# prepare some data\n",
    "x = [1, 2, 3, 4, 5]\n",
    "y = [3, 7, 2, 4, 5]\n",
    "\n",
    "# output to static HTML file\n",
    "# output_file(\"lines.html\")\n",
    "output_notebook()\n",
    "\n",
    "# create a new plot with a title and axis labels\n",
    "p = figure(title=\"simple line example\", x_axis_label='x', y_axis_label='y')\n",
    "\n",
    "# add a line renderer with legend and line thickness\n",
    "p.line(x, y, legend_label=\"Temp.\", line_width=2)\n",
    "\n",
    "# show the results\n",
    "show(p)"
   ]
  },
  {
   "cell_type": "code",
   "execution_count": null,
   "metadata": {},
   "outputs": [],
   "source": []
  }
 ],
 "metadata": {
  "kernelspec": {
   "display_name": "Python 3",
   "language": "python",
   "name": "python3"
  },
  "language_info": {
   "codemirror_mode": {
    "name": "ipython",
    "version": 3
   },
   "file_extension": ".py",
   "mimetype": "text/x-python",
   "name": "python",
   "nbconvert_exporter": "python",
   "pygments_lexer": "ipython3",
   "version": "3.7.0"
  }
 },
 "nbformat": 4,
 "nbformat_minor": 4
}
